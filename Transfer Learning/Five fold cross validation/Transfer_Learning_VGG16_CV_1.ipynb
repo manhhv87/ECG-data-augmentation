{
 "cells": [
  {
   "cell_type": "code",
   "execution_count": 1,
   "id": "e1e32307",
   "metadata": {},
   "outputs": [
    {
     "name": "stdout",
     "output_type": "stream",
     "text": [
      "2.9.1\n"
     ]
    }
   ],
   "source": [
    "#checking tensorflow version\n",
    "\n",
    "import tensorflow as tf\n",
    "print(tf.__version__)"
   ]
  },
  {
   "cell_type": "code",
   "execution_count": 2,
   "id": "4b0746ad",
   "metadata": {},
   "outputs": [],
   "source": [
    "#importing libraries \n",
    "\n",
    "import tensorflow as tf\n",
    "from tensorflow import keras\n",
    "from keras.layers import Input, Conv2D, Dense, Flatten, BatchNormalization, Dropout, MaxPooling2D, GlobalMaxPooling2D\n",
    "from keras.models import Model\n",
    "import matplotlib.pyplot as plt\n",
    "from keras.preprocessing import image\n",
    "#from keras.preprocessing.image import load_img\n",
    "from keras.models import Sequential\n",
    "import numpy as np\n",
    "from tensorflow.keras import regularizers"
   ]
  },
  {
   "cell_type": "code",
   "execution_count": 3,
   "id": "a2880923",
   "metadata": {},
   "outputs": [],
   "source": [
    "# Cross Validation dataset links\n",
    "\n",
    "#CV-1\n",
    "train_dir=\"/home/ubuntu/From_Laptop/multi-class-NEW/12-Lead_ECG_version_2/DA_version_3/Model_Training/K-Fold Cross Validation/Fold 1/Training/\"\n",
    "val_dir=\"/home/ubuntu/From_Laptop/multi-class-NEW/12-Lead_ECG_version_2/DA_version_3/Model_Training/K-Fold Cross Validation/Fold 1/Validation/\"\n",
    "\n",
    "#CV-2\n",
    "#train_dir=\"/home/ubuntu/From_Laptop/multi-class-NEW/12-Lead_ECG_version_2/DA_version_3/Model_Training/K-Fold Cross Validation/Fold 2/Training/\"\n",
    "#val_dir=\"/home/ubuntu/From_Laptop/multi-class-NEW/12-Lead_ECG_version_2/DA_version_3/Model_Training/K-Fold Cross Validation/Fold 2/Validation/\"\n",
    "\n",
    "#CV-3\n",
    "#train_dir=\"/home/ubuntu/From_Laptop/multi-class-NEW/12-Lead_ECG_version_2/DA_version_3/Model_Training/K-Fold Cross Validation/Fold 3/Training/\"\n",
    "#val_dir=\"/home/ubuntu/From_Laptop/multi-class-NEW/12-Lead_ECG_version_2/DA_version_3/Model_Training/K-Fold Cross Validation/Fold 3/Validation/\"\n",
    "\n",
    "#CV-4\n",
    "#train_dir=\"/home/ubuntu/From_Laptop/multi-class-NEW/12-Lead_ECG_version_2/DA_version_3/Model_Training/K-Fold Cross Validation/Fold 4/Training/\"\n",
    "#val_dir=\"/home/ubuntu/From_Laptop/multi-class-NEW/12-Lead_ECG_version_2/DA_version_3/Model_Training/K-Fold Cross Validation/Fold 4/Validation/\"\n",
    "\n",
    "#CV-5\n",
    "#train_dir=\"/home/ubuntu/From_Laptop/multi-class-NEW/12-Lead_ECG_version_2/DA_version_3/Model_Training/K-Fold Cross Validation/Fold 5/Training/\"\n",
    "#val_dir=\"/home/ubuntu/From_Laptop/multi-class-NEW/12-Lead_ECG_version_2/DA_version_3/Model_Training/K-Fold Cross Validation/Fold 5/Validation/\""
   ]
  },
  {
   "cell_type": "code",
   "execution_count": 4,
   "id": "b2f80645",
   "metadata": {},
   "outputs": [
    {
     "name": "stdout",
     "output_type": "stream",
     "text": [
      "Found 31206 files belonging to 5 classes.\n"
     ]
    },
    {
     "name": "stderr",
     "output_type": "stream",
     "text": [
      "2023-01-05 16:33:33.212525: I tensorflow/stream_executor/cuda/cuda_gpu_executor.cc:975] successful NUMA node read from SysFS had negative value (-1), but there must be at least one NUMA node, so returning NUMA node zero\n",
      "2023-01-05 16:33:33.248948: I tensorflow/stream_executor/cuda/cuda_gpu_executor.cc:975] successful NUMA node read from SysFS had negative value (-1), but there must be at least one NUMA node, so returning NUMA node zero\n",
      "2023-01-05 16:33:33.249393: I tensorflow/stream_executor/cuda/cuda_gpu_executor.cc:975] successful NUMA node read from SysFS had negative value (-1), but there must be at least one NUMA node, so returning NUMA node zero\n",
      "2023-01-05 16:33:33.284726: I tensorflow/core/platform/cpu_feature_guard.cc:193] This TensorFlow binary is optimized with oneAPI Deep Neural Network Library (oneDNN) to use the following CPU instructions in performance-critical operations:  AVX2 FMA\n",
      "To enable them in other operations, rebuild TensorFlow with the appropriate compiler flags.\n",
      "2023-01-05 16:33:33.285745: I tensorflow/stream_executor/cuda/cuda_gpu_executor.cc:975] successful NUMA node read from SysFS had negative value (-1), but there must be at least one NUMA node, so returning NUMA node zero\n",
      "2023-01-05 16:33:33.286254: I tensorflow/stream_executor/cuda/cuda_gpu_executor.cc:975] successful NUMA node read from SysFS had negative value (-1), but there must be at least one NUMA node, so returning NUMA node zero\n",
      "2023-01-05 16:33:33.286645: I tensorflow/stream_executor/cuda/cuda_gpu_executor.cc:975] successful NUMA node read from SysFS had negative value (-1), but there must be at least one NUMA node, so returning NUMA node zero\n",
      "2023-01-05 16:33:33.758312: I tensorflow/stream_executor/cuda/cuda_gpu_executor.cc:975] successful NUMA node read from SysFS had negative value (-1), but there must be at least one NUMA node, so returning NUMA node zero\n",
      "2023-01-05 16:33:33.758516: I tensorflow/stream_executor/cuda/cuda_gpu_executor.cc:975] successful NUMA node read from SysFS had negative value (-1), but there must be at least one NUMA node, so returning NUMA node zero\n",
      "2023-01-05 16:33:33.758675: I tensorflow/stream_executor/cuda/cuda_gpu_executor.cc:975] successful NUMA node read from SysFS had negative value (-1), but there must be at least one NUMA node, so returning NUMA node zero\n",
      "2023-01-05 16:33:33.758800: I tensorflow/core/common_runtime/gpu/gpu_device.cc:1532] Created device /job:localhost/replica:0/task:0/device:GPU:0 with 7380 MB memory:  -> device: 0, name: NVIDIA GeForce GTX 1080, pci bus id: 0000:00:05.0, compute capability: 6.1\n"
     ]
    },
    {
     "name": "stdout",
     "output_type": "stream",
     "text": [
      "Found 7787 files belonging to 5 classes.\n"
     ]
    }
   ],
   "source": [
    "from tensorflow.keras import layers\n",
    "\n",
    "train_data = tf.keras.preprocessing.image_dataset_from_directory(directory=train_dir,\n",
    "                                                                 image_size=(256,256),\n",
    "                                                                 label_mode='categorical', batch_size=128, \n",
    "                                                                 )\n",
    "val_data = tf.keras.preprocessing.image_dataset_from_directory(directory=val_dir,\n",
    "                                                                 image_size=(256,256),\n",
    "                                                                 label_mode='categorical', batch_size=128,\n",
    "                                                                )"
   ]
  },
  {
   "cell_type": "code",
   "execution_count": 5,
   "id": "ca75c58f-bfe9-48bc-8e3a-e9ed7abe3cdf",
   "metadata": {},
   "outputs": [],
   "source": [
    "#Normalizing the data\n",
    "\n",
    "nrmzln_layer = layers.experimental.preprocessing.Rescaling(1./255)\n",
    "\n",
    "train_data = train_data.map(lambda x,\n",
    "                          y: (nrmzln_layer(x), y))\n",
    "\n",
    "val_data = val_data.map(lambda x,\n",
    "                          y: (nrmzln_layer(x), y))"
   ]
  },
  {
   "cell_type": "code",
   "execution_count": 6,
   "id": "2007b247",
   "metadata": {},
   "outputs": [],
   "source": [
    "#import tensorflow.python.keras.applications.VGG16\n",
    "base_model= tf.keras.applications.VGG16(weights= 'imagenet', input_shape=(256,256, 3), include_top=False) "
   ]
  },
  {
   "cell_type": "code",
   "execution_count": 7,
   "id": "3110cb3d",
   "metadata": {},
   "outputs": [],
   "source": [
    "# Freezing the base_model for transfer learning\n",
    "base_model.trainable= False"
   ]
  },
  {
   "cell_type": "code",
   "execution_count": 8,
   "id": "f9525074",
   "metadata": {},
   "outputs": [],
   "source": [
    "# Creating a new_model on the top\n",
    "inputs= tf.keras.Input(shape= (256, 256, 3), name=\"input_layer\")"
   ]
  },
  {
   "cell_type": "code",
   "execution_count": 9,
   "id": "f0e154d0",
   "metadata": {},
   "outputs": [],
   "source": [
    "x= base_model(inputs,training= False)"
   ]
  },
  {
   "cell_type": "code",
   "execution_count": 10,
   "id": "06eee106",
   "metadata": {},
   "outputs": [],
   "source": [
    "# Average pool the outputs of the base model\n",
    "x = tf.keras.layers.GlobalAveragePooling2D(name='Global_Average_Pooling_Layer')(x)"
   ]
  },
  {
   "cell_type": "code",
   "execution_count": 11,
   "id": "c97951c1",
   "metadata": {},
   "outputs": [],
   "source": [
    "# Output layer\n",
    "u = tf.keras.layers.Dense(1050, activation=\"relu\")(x)\n",
    "u = tf.keras.layers.Dense(512, activation=\"relu\")(u)\n",
    "u = tf.keras.layers.Dense(256, activation=\"relu\")(u)\n",
    "u = tf.keras.layers.Dense(128, activation=\"relu\")(u)\n",
    "outputs = tf.keras.layers.Dense(5, activation=\"softmax\",name=\"output_layer\")(u)"
   ]
  },
  {
   "cell_type": "code",
   "execution_count": 12,
   "id": "e15b01f3",
   "metadata": {},
   "outputs": [],
   "source": [
    "# Combine the model\n",
    "model = tf.keras.Model(inputs, outputs) "
   ]
  },
  {
   "cell_type": "code",
   "execution_count": 13,
   "id": "186a4092",
   "metadata": {},
   "outputs": [
    {
     "name": "stdout",
     "output_type": "stream",
     "text": [
      "Model: \"model\"\n",
      "_________________________________________________________________\n",
      " Layer (type)                Output Shape              Param #   \n",
      "=================================================================\n",
      " input_layer (InputLayer)    [(None, 256, 256, 3)]     0         \n",
      "                                                                 \n",
      " vgg16 (Functional)          (None, 8, 8, 512)         14714688  \n",
      "                                                                 \n",
      " Global_Average_Pooling_Laye  (None, 512)              0         \n",
      " r (GlobalAveragePooling2D)                                      \n",
      "                                                                 \n",
      " dense (Dense)               (None, 1050)              538650    \n",
      "                                                                 \n",
      " dense_1 (Dense)             (None, 512)               538112    \n",
      "                                                                 \n",
      " dense_2 (Dense)             (None, 256)               131328    \n",
      "                                                                 \n",
      " dense_3 (Dense)             (None, 128)               32896     \n",
      "                                                                 \n",
      " output_layer (Dense)        (None, 5)                 645       \n",
      "                                                                 \n",
      "=================================================================\n",
      "Total params: 15,956,319\n",
      "Trainable params: 1,241,631\n",
      "Non-trainable params: 14,714,688\n",
      "_________________________________________________________________\n"
     ]
    }
   ],
   "source": [
    "#printing model summary\n",
    "\n",
    "model.summary()"
   ]
  },
  {
   "cell_type": "code",
   "execution_count": 14,
   "id": "b07c7887",
   "metadata": {},
   "outputs": [],
   "source": [
    "# Compile the model\n",
    "\n",
    "from tensorflow.keras.metrics import SensitivityAtSpecificity,SpecificityAtSensitivity,Recall,Precision\n",
    "\n",
    "model.compile(loss= tf.losses.categorical_crossentropy, \n",
    "      optimizer = tf.keras.optimizers.Adam(learning_rate=0.001),\n",
    "              metrics=['accuracy',SensitivityAtSpecificity(0.5),SpecificityAtSensitivity(0.5),Recall(0.5),Precision(0.5)])"
   ]
  },
  {
   "cell_type": "code",
   "execution_count": 15,
   "id": "5105faca",
   "metadata": {},
   "outputs": [],
   "source": [
    "#defining callback \n",
    "class myCallback(tf.keras.callbacks.Callback):\n",
    "     def on_epoch_end(self, epoch, logs={}):\n",
    "        if(logs.get('val_accuracy')>0.99): \n",
    "          print(\"\\nReached 99% accuracy so cancelling training!\")\n",
    "          self.model.stop_training = True\n",
    "\n",
    "callbacks = myCallback()"
   ]
  },
  {
   "cell_type": "code",
   "execution_count": 16,
   "id": "673be0b8",
   "metadata": {},
   "outputs": [
    {
     "name": "stdout",
     "output_type": "stream",
     "text": [
      "WARNING:tensorflow:`period` argument is deprecated. Please use `save_freq` to specify the frequency in number of batches seen.\n",
      "Epoch 1/50\n"
     ]
    },
    {
     "name": "stderr",
     "output_type": "stream",
     "text": [
      "2023-01-05 16:33:37.563569: I tensorflow/stream_executor/cuda/cuda_dnn.cc:384] Loaded cuDNN version 8100\n",
      "2023-01-05 16:33:37.795100: I tensorflow/core/platform/default/subprocess.cc:304] Start cannot spawn child process: No such file or directory\n"
     ]
    },
    {
     "name": "stdout",
     "output_type": "stream",
     "text": [
      "244/244 [==============================] - ETA: 0s - loss: 1.1813 - accuracy: 0.5083 - sensitivity_at_specificity: 0.8949 - specificity_at_sensitivity: 0.8901 - recall: 0.2939 - precision: 0.7152\n",
      "Epoch 1: val_accuracy improved from -inf to 0.60408, saving model to ECG_Spectrogram_Model.h5\n",
      "244/244 [==============================] - 205s 792ms/step - loss: 1.1813 - accuracy: 0.5083 - sensitivity_at_specificity: 0.8949 - specificity_at_sensitivity: 0.8901 - recall: 0.2939 - precision: 0.7152 - val_loss: 0.9983 - val_accuracy: 0.6041 - val_sensitivity_at_specificity: 0.9512 - val_specificity_at_sensitivity: 0.9384 - val_recall: 0.4125 - val_precision: 0.7322\n",
      "Epoch 2/50\n",
      "244/244 [==============================] - ETA: 0s - loss: 0.8632 - accuracy: 0.6559 - sensitivity_at_specificity: 0.9772 - specificity_at_sensitivity: 0.9637 - recall: 0.5382 - precision: 0.7529\n",
      "Epoch 2: val_accuracy improved from 0.60408 to 0.61667, saving model to ECG_Spectrogram_Model.h5\n",
      "244/244 [==============================] - 184s 751ms/step - loss: 0.8632 - accuracy: 0.6559 - sensitivity_at_specificity: 0.9772 - specificity_at_sensitivity: 0.9637 - recall: 0.5382 - precision: 0.7529 - val_loss: 0.9805 - val_accuracy: 0.6167 - val_sensitivity_at_specificity: 0.9506 - val_specificity_at_sensitivity: 0.9465 - val_recall: 0.4961 - val_precision: 0.7045\n",
      "Epoch 3/50\n",
      "244/244 [==============================] - ETA: 0s - loss: 0.7897 - accuracy: 0.6912 - sensitivity_at_specificity: 0.9837 - specificity_at_sensitivity: 0.9750 - recall: 0.5999 - precision: 0.7707\n",
      "Epoch 3: val_accuracy improved from 0.61667 to 0.67176, saving model to ECG_Spectrogram_Model.h5\n",
      "244/244 [==============================] - 183s 751ms/step - loss: 0.7897 - accuracy: 0.6912 - sensitivity_at_specificity: 0.9837 - specificity_at_sensitivity: 0.9750 - recall: 0.5999 - precision: 0.7707 - val_loss: 0.8528 - val_accuracy: 0.6718 - val_sensitivity_at_specificity: 0.9733 - val_specificity_at_sensitivity: 0.9671 - val_recall: 0.5674 - val_precision: 0.7564\n",
      "Epoch 4/50\n",
      "244/244 [==============================] - ETA: 0s - loss: 0.7321 - accuracy: 0.7144 - sensitivity_at_specificity: 0.9858 - specificity_at_sensitivity: 0.9804 - recall: 0.6370 - precision: 0.7825\n",
      "Epoch 4: val_accuracy improved from 0.67176 to 0.67767, saving model to ECG_Spectrogram_Model.h5\n",
      "244/244 [==============================] - 184s 752ms/step - loss: 0.7321 - accuracy: 0.7144 - sensitivity_at_specificity: 0.9858 - specificity_at_sensitivity: 0.9804 - recall: 0.6370 - precision: 0.7825 - val_loss: 0.8611 - val_accuracy: 0.6777 - val_sensitivity_at_specificity: 0.9698 - val_specificity_at_sensitivity: 0.9696 - val_recall: 0.6099 - val_precision: 0.7391\n",
      "Epoch 5/50\n",
      "244/244 [==============================] - ETA: 0s - loss: 0.6974 - accuracy: 0.7307 - sensitivity_at_specificity: 0.9882 - specificity_at_sensitivity: 0.9841 - recall: 0.6622 - precision: 0.7936\n",
      "Epoch 5: val_accuracy improved from 0.67767 to 0.68049, saving model to ECG_Spectrogram_Model.h5\n",
      "244/244 [==============================] - 183s 749ms/step - loss: 0.6974 - accuracy: 0.7307 - sensitivity_at_specificity: 0.9882 - specificity_at_sensitivity: 0.9841 - recall: 0.6622 - precision: 0.7936 - val_loss: 0.8671 - val_accuracy: 0.6805 - val_sensitivity_at_specificity: 0.9667 - val_specificity_at_sensitivity: 0.9702 - val_recall: 0.6135 - val_precision: 0.7370\n",
      "Epoch 6/50\n",
      "244/244 [==============================] - ETA: 0s - loss: 0.6826 - accuracy: 0.7386 - sensitivity_at_specificity: 0.9911 - specificity_at_sensitivity: 0.9851 - recall: 0.6733 - precision: 0.7976\n",
      "Epoch 6: val_accuracy improved from 0.68049 to 0.70001, saving model to ECG_Spectrogram_Model.h5\n",
      "244/244 [==============================] - 183s 751ms/step - loss: 0.6826 - accuracy: 0.7386 - sensitivity_at_specificity: 0.9911 - specificity_at_sensitivity: 0.9851 - recall: 0.6733 - precision: 0.7976 - val_loss: 0.8061 - val_accuracy: 0.7000 - val_sensitivity_at_specificity: 0.9730 - val_specificity_at_sensitivity: 0.9736 - val_recall: 0.6173 - val_precision: 0.7584\n",
      "Epoch 7/50\n",
      "244/244 [==============================] - ETA: 0s - loss: 0.6314 - accuracy: 0.7614 - sensitivity_at_specificity: 0.9907 - specificity_at_sensitivity: 0.9889 - recall: 0.7028 - precision: 0.8120\n",
      "Epoch 7: val_accuracy improved from 0.70001 to 0.70207, saving model to ECG_Spectrogram_Model.h5\n",
      "244/244 [==============================] - 183s 750ms/step - loss: 0.6314 - accuracy: 0.7614 - sensitivity_at_specificity: 0.9907 - specificity_at_sensitivity: 0.9889 - recall: 0.7028 - precision: 0.8120 - val_loss: 0.8065 - val_accuracy: 0.7021 - val_sensitivity_at_specificity: 0.9761 - val_specificity_at_sensitivity: 0.9744 - val_recall: 0.6308 - val_precision: 0.7512\n",
      "Epoch 8/50\n",
      "244/244 [==============================] - ETA: 0s - loss: 0.6151 - accuracy: 0.7669 - sensitivity_at_specificity: 0.9933 - specificity_at_sensitivity: 0.9896 - recall: 0.7106 - precision: 0.8180\n",
      "Epoch 8: val_accuracy did not improve from 0.70207\n",
      "244/244 [==============================] - 183s 749ms/step - loss: 0.6151 - accuracy: 0.7669 - sensitivity_at_specificity: 0.9933 - specificity_at_sensitivity: 0.9896 - recall: 0.7106 - precision: 0.8180 - val_loss: 0.9049 - val_accuracy: 0.6769 - val_sensitivity_at_specificity: 0.9593 - val_specificity_at_sensitivity: 0.9699 - val_recall: 0.6163 - val_precision: 0.7270\n",
      "Epoch 9/50\n",
      "244/244 [==============================] - ETA: 0s - loss: 0.6011 - accuracy: 0.7721 - sensitivity_at_specificity: 0.9939 - specificity_at_sensitivity: 0.9907 - recall: 0.7185 - precision: 0.8198\n",
      "Epoch 9: val_accuracy did not improve from 0.70207\n",
      "244/244 [==============================] - 183s 748ms/step - loss: 0.6011 - accuracy: 0.7721 - sensitivity_at_specificity: 0.9939 - specificity_at_sensitivity: 0.9907 - recall: 0.7185 - precision: 0.8198 - val_loss: 0.8255 - val_accuracy: 0.7000 - val_sensitivity_at_specificity: 0.9725 - val_specificity_at_sensitivity: 0.9745 - val_recall: 0.6388 - val_precision: 0.7544\n",
      "Epoch 10/50\n",
      "244/244 [==============================] - ETA: 0s - loss: 0.6001 - accuracy: 0.7747 - sensitivity_at_specificity: 0.9934 - specificity_at_sensitivity: 0.9903 - recall: 0.7228 - precision: 0.8222\n",
      "Epoch 10: val_accuracy did not improve from 0.70207\n",
      "244/244 [==============================] - 183s 749ms/step - loss: 0.6001 - accuracy: 0.7747 - sensitivity_at_specificity: 0.9934 - specificity_at_sensitivity: 0.9903 - recall: 0.7228 - precision: 0.8222 - val_loss: 0.9470 - val_accuracy: 0.6589 - val_sensitivity_at_specificity: 0.9524 - val_specificity_at_sensitivity: 0.9661 - val_recall: 0.5793 - val_precision: 0.7329\n",
      "Epoch 11/50\n",
      "244/244 [==============================] - ETA: 0s - loss: 0.5751 - accuracy: 0.7834 - sensitivity_at_specificity: 0.9936 - specificity_at_sensitivity: 0.9920 - recall: 0.7341 - precision: 0.8299\n",
      "Epoch 11: val_accuracy did not improve from 0.70207\n",
      "244/244 [==============================] - 183s 748ms/step - loss: 0.5751 - accuracy: 0.7834 - sensitivity_at_specificity: 0.9936 - specificity_at_sensitivity: 0.9920 - recall: 0.7341 - precision: 0.8299 - val_loss: 0.8874 - val_accuracy: 0.6856 - val_sensitivity_at_specificity: 0.9658 - val_specificity_at_sensitivity: 0.9703 - val_recall: 0.6192 - val_precision: 0.7456\n",
      "Epoch 12/50\n",
      "244/244 [==============================] - ETA: 0s - loss: 0.5557 - accuracy: 0.7925 - sensitivity_at_specificity: 0.9934 - specificity_at_sensitivity: 0.9929 - recall: 0.7466 - precision: 0.8363\n",
      "Epoch 12: val_accuracy improved from 0.70207 to 0.71183, saving model to ECG_Spectrogram_Model.h5\n",
      "244/244 [==============================] - 183s 751ms/step - loss: 0.5557 - accuracy: 0.7925 - sensitivity_at_specificity: 0.9934 - specificity_at_sensitivity: 0.9929 - recall: 0.7466 - precision: 0.8363 - val_loss: 0.8258 - val_accuracy: 0.7118 - val_sensitivity_at_specificity: 0.9707 - val_specificity_at_sensitivity: 0.9747 - val_recall: 0.6438 - val_precision: 0.7577\n",
      "Epoch 13/50\n",
      "244/244 [==============================] - ETA: 0s - loss: 0.5496 - accuracy: 0.7914 - sensitivity_at_specificity: 0.9961 - specificity_at_sensitivity: 0.9934 - recall: 0.7451 - precision: 0.8339\n",
      "Epoch 13: val_accuracy did not improve from 0.71183\n",
      "244/244 [==============================] - 183s 748ms/step - loss: 0.5496 - accuracy: 0.7914 - sensitivity_at_specificity: 0.9961 - specificity_at_sensitivity: 0.9934 - recall: 0.7451 - precision: 0.8339 - val_loss: 0.9267 - val_accuracy: 0.6730 - val_sensitivity_at_specificity: 0.9584 - val_specificity_at_sensitivity: 0.9679 - val_recall: 0.6126 - val_precision: 0.7271\n"
     ]
    },
    {
     "name": "stdout",
     "output_type": "stream",
     "text": [
      "Epoch 14/50\n",
      "244/244 [==============================] - ETA: 0s - loss: 0.5435 - accuracy: 0.7955 - sensitivity_at_specificity: 0.9965 - specificity_at_sensitivity: 0.9937 - recall: 0.7500 - precision: 0.8350\n",
      "Epoch 14: val_accuracy did not improve from 0.71183\n",
      "244/244 [==============================] - 183s 748ms/step - loss: 0.5435 - accuracy: 0.7955 - sensitivity_at_specificity: 0.9965 - specificity_at_sensitivity: 0.9937 - recall: 0.7500 - precision: 0.8350 - val_loss: 0.8551 - val_accuracy: 0.6921 - val_sensitivity_at_specificity: 0.9739 - val_specificity_at_sensitivity: 0.9723 - val_recall: 0.6412 - val_precision: 0.7314\n",
      "Epoch 15/50\n",
      "244/244 [==============================] - ETA: 0s - loss: 0.5325 - accuracy: 0.7994 - sensitivity_at_specificity: 0.9962 - specificity_at_sensitivity: 0.9938 - recall: 0.7563 - precision: 0.8389\n",
      "Epoch 15: val_accuracy improved from 0.71183 to 0.72005, saving model to ECG_Spectrogram_Model.h5\n",
      "244/244 [==============================] - 183s 750ms/step - loss: 0.5325 - accuracy: 0.7994 - sensitivity_at_specificity: 0.9962 - specificity_at_sensitivity: 0.9938 - recall: 0.7563 - precision: 0.8389 - val_loss: 0.8302 - val_accuracy: 0.7200 - val_sensitivity_at_specificity: 0.9684 - val_specificity_at_sensitivity: 0.9774 - val_recall: 0.6723 - val_precision: 0.7575\n",
      "Epoch 16/50\n",
      "244/244 [==============================] - ETA: 0s - loss: 0.5145 - accuracy: 0.8078 - sensitivity_at_specificity: 0.9962 - specificity_at_sensitivity: 0.9947 - recall: 0.7673 - precision: 0.8434\n",
      "Epoch 16: val_accuracy did not improve from 0.72005\n",
      "244/244 [==============================] - 182s 747ms/step - loss: 0.5145 - accuracy: 0.8078 - sensitivity_at_specificity: 0.9962 - specificity_at_sensitivity: 0.9947 - recall: 0.7673 - precision: 0.8434 - val_loss: 0.8553 - val_accuracy: 0.7150 - val_sensitivity_at_specificity: 0.9648 - val_specificity_at_sensitivity: 0.9760 - val_recall: 0.6687 - val_precision: 0.7506\n",
      "Epoch 17/50\n",
      "244/244 [==============================] - ETA: 0s - loss: 0.5176 - accuracy: 0.8055 - sensitivity_at_specificity: 0.9962 - specificity_at_sensitivity: 0.9947 - recall: 0.7665 - precision: 0.8439\n",
      "Epoch 17: val_accuracy did not improve from 0.72005\n",
      "244/244 [==============================] - 177s 725ms/step - loss: 0.5176 - accuracy: 0.8055 - sensitivity_at_specificity: 0.9962 - specificity_at_sensitivity: 0.9947 - recall: 0.7665 - precision: 0.8439 - val_loss: 0.8738 - val_accuracy: 0.7021 - val_sensitivity_at_specificity: 0.9624 - val_specificity_at_sensitivity: 0.9737 - val_recall: 0.6525 - val_precision: 0.7435\n",
      "Epoch 18/50\n",
      "244/244 [==============================] - ETA: 0s - loss: 0.5002 - accuracy: 0.8104 - sensitivity_at_specificity: 0.9964 - specificity_at_sensitivity: 0.9950 - recall: 0.7728 - precision: 0.8474\n",
      "Epoch 18: val_accuracy did not improve from 0.72005\n",
      "244/244 [==============================] - 177s 725ms/step - loss: 0.5002 - accuracy: 0.8104 - sensitivity_at_specificity: 0.9964 - specificity_at_sensitivity: 0.9950 - recall: 0.7728 - precision: 0.8474 - val_loss: 0.9937 - val_accuracy: 0.6810 - val_sensitivity_at_specificity: 0.9515 - val_specificity_at_sensitivity: 0.9720 - val_recall: 0.6407 - val_precision: 0.7222\n",
      "Epoch 19/50\n",
      "244/244 [==============================] - ETA: 0s - loss: 0.5042 - accuracy: 0.8107 - sensitivity_at_specificity: 0.9963 - specificity_at_sensitivity: 0.9952 - recall: 0.7717 - precision: 0.8475\n",
      "Epoch 19: val_accuracy did not improve from 0.72005\n",
      "244/244 [==============================] - 177s 726ms/step - loss: 0.5042 - accuracy: 0.8107 - sensitivity_at_specificity: 0.9963 - specificity_at_sensitivity: 0.9952 - recall: 0.7717 - precision: 0.8475 - val_loss: 1.0482 - val_accuracy: 0.6791 - val_sensitivity_at_specificity: 0.9466 - val_specificity_at_sensitivity: 0.9677 - val_recall: 0.6507 - val_precision: 0.7119\n",
      "Epoch 20/50\n",
      "244/244 [==============================] - ETA: 0s - loss: 0.4769 - accuracy: 0.8212 - sensitivity_at_specificity: 0.9962 - specificity_at_sensitivity: 0.9960 - recall: 0.7875 - precision: 0.8555\n",
      "Epoch 20: val_accuracy did not improve from 0.72005\n",
      "244/244 [==============================] - 177s 725ms/step - loss: 0.4769 - accuracy: 0.8212 - sensitivity_at_specificity: 0.9962 - specificity_at_sensitivity: 0.9960 - recall: 0.7875 - precision: 0.8555 - val_loss: 0.9504 - val_accuracy: 0.6823 - val_sensitivity_at_specificity: 0.9535 - val_specificity_at_sensitivity: 0.9688 - val_recall: 0.6185 - val_precision: 0.7305\n",
      "Epoch 21/50\n",
      "244/244 [==============================] - ETA: 0s - loss: 0.4812 - accuracy: 0.8166 - sensitivity_at_specificity: 0.9961 - specificity_at_sensitivity: 0.9955 - recall: 0.7816 - precision: 0.8528\n",
      "Epoch 21: val_accuracy did not improve from 0.72005\n",
      "244/244 [==============================] - 177s 725ms/step - loss: 0.4812 - accuracy: 0.8166 - sensitivity_at_specificity: 0.9961 - specificity_at_sensitivity: 0.9955 - recall: 0.7816 - precision: 0.8528 - val_loss: 0.9400 - val_accuracy: 0.7069 - val_sensitivity_at_specificity: 0.9586 - val_specificity_at_sensitivity: 0.9747 - val_recall: 0.6697 - val_precision: 0.7374\n",
      "Epoch 22/50\n",
      "244/244 [==============================] - ETA: 0s - loss: 0.4683 - accuracy: 0.8238 - sensitivity_at_specificity: 0.9961 - specificity_at_sensitivity: 0.9960 - recall: 0.7895 - precision: 0.8570\n",
      "Epoch 22: val_accuracy did not improve from 0.72005\n",
      "244/244 [==============================] - 177s 725ms/step - loss: 0.4683 - accuracy: 0.8238 - sensitivity_at_specificity: 0.9961 - specificity_at_sensitivity: 0.9960 - recall: 0.7895 - precision: 0.8570 - val_loss: 1.0222 - val_accuracy: 0.6937 - val_sensitivity_at_specificity: 0.9499 - val_specificity_at_sensitivity: 0.9725 - val_recall: 0.6673 - val_precision: 0.7219\n",
      "Epoch 23/50\n",
      "244/244 [==============================] - ETA: 0s - loss: 0.4601 - accuracy: 0.8268 - sensitivity_at_specificity: 0.9983 - specificity_at_sensitivity: 0.9966 - recall: 0.7953 - precision: 0.8566\n",
      "Epoch 23: val_accuracy did not improve from 0.72005\n",
      "244/244 [==============================] - 177s 725ms/step - loss: 0.4601 - accuracy: 0.8268 - sensitivity_at_specificity: 0.9983 - specificity_at_sensitivity: 0.9966 - recall: 0.7953 - precision: 0.8566 - val_loss: 1.1669 - val_accuracy: 0.6584 - val_sensitivity_at_specificity: 0.9282 - val_specificity_at_sensitivity: 0.9604 - val_recall: 0.6168 - val_precision: 0.6888\n",
      "Epoch 24/50\n",
      "244/244 [==============================] - ETA: 0s - loss: 0.4520 - accuracy: 0.8308 - sensitivity_at_specificity: 0.9987 - specificity_at_sensitivity: 0.9964 - recall: 0.7992 - precision: 0.8607\n",
      "Epoch 24: val_accuracy did not improve from 0.72005\n",
      "244/244 [==============================] - 177s 725ms/step - loss: 0.4520 - accuracy: 0.8308 - sensitivity_at_specificity: 0.9987 - specificity_at_sensitivity: 0.9964 - recall: 0.7992 - precision: 0.8607 - val_loss: 0.9998 - val_accuracy: 0.6965 - val_sensitivity_at_specificity: 0.9438 - val_specificity_at_sensitivity: 0.9732 - val_recall: 0.6607 - val_precision: 0.7312\n",
      "Epoch 25/50\n",
      "244/244 [==============================] - ETA: 0s - loss: 0.4365 - accuracy: 0.8371 - sensitivity_at_specificity: 0.9984 - specificity_at_sensitivity: 0.9970 - recall: 0.8076 - precision: 0.8652\n",
      "Epoch 25: val_accuracy did not improve from 0.72005\n",
      "244/244 [==============================] - 177s 725ms/step - loss: 0.4365 - accuracy: 0.8371 - sensitivity_at_specificity: 0.9984 - specificity_at_sensitivity: 0.9970 - recall: 0.8076 - precision: 0.8652 - val_loss: 0.9709 - val_accuracy: 0.7027 - val_sensitivity_at_specificity: 0.9486 - val_specificity_at_sensitivity: 0.9750 - val_recall: 0.6620 - val_precision: 0.7437\n",
      "Epoch 26/50\n",
      "244/244 [==============================] - ETA: 0s - loss: 0.4296 - accuracy: 0.8405 - sensitivity_at_specificity: 0.9987 - specificity_at_sensitivity: 0.9972 - recall: 0.8116 - precision: 0.8687\n",
      "Epoch 26: val_accuracy did not improve from 0.72005\n",
      "244/244 [==============================] - 177s 725ms/step - loss: 0.4296 - accuracy: 0.8405 - sensitivity_at_specificity: 0.9987 - specificity_at_sensitivity: 0.9972 - recall: 0.8116 - precision: 0.8687 - val_loss: 1.0508 - val_accuracy: 0.6915 - val_sensitivity_at_specificity: 0.9504 - val_specificity_at_sensitivity: 0.9688 - val_recall: 0.6543 - val_precision: 0.7219\n"
     ]
    },
    {
     "name": "stdout",
     "output_type": "stream",
     "text": [
      "Epoch 27/50\n",
      "244/244 [==============================] - ETA: 0s - loss: 0.4278 - accuracy: 0.8394 - sensitivity_at_specificity: 0.9985 - specificity_at_sensitivity: 0.9970 - recall: 0.8115 - precision: 0.8663\n",
      "Epoch 27: val_accuracy did not improve from 0.72005\n",
      "244/244 [==============================] - 177s 725ms/step - loss: 0.4278 - accuracy: 0.8394 - sensitivity_at_specificity: 0.9985 - specificity_at_sensitivity: 0.9970 - recall: 0.8115 - precision: 0.8663 - val_loss: 1.1532 - val_accuracy: 0.6752 - val_sensitivity_at_specificity: 0.9337 - val_specificity_at_sensitivity: 0.9674 - val_recall: 0.6502 - val_precision: 0.7012\n",
      "Epoch 28/50\n",
      "244/244 [==============================] - ETA: 0s - loss: 0.4288 - accuracy: 0.8390 - sensitivity_at_specificity: 0.9986 - specificity_at_sensitivity: 0.9973 - recall: 0.8105 - precision: 0.8661\n",
      "Epoch 28: val_accuracy did not improve from 0.72005\n",
      "244/244 [==============================] - 177s 725ms/step - loss: 0.4288 - accuracy: 0.8390 - sensitivity_at_specificity: 0.9986 - specificity_at_sensitivity: 0.9973 - recall: 0.8105 - precision: 0.8661 - val_loss: 1.0513 - val_accuracy: 0.6956 - val_sensitivity_at_specificity: 0.9452 - val_specificity_at_sensitivity: 0.9698 - val_recall: 0.6630 - val_precision: 0.7238\n",
      "Epoch 29/50\n",
      "244/244 [==============================] - ETA: 0s - loss: 0.4046 - accuracy: 0.8484 - sensitivity_at_specificity: 0.9985 - specificity_at_sensitivity: 0.9977 - recall: 0.8220 - precision: 0.8717\n",
      "Epoch 29: val_accuracy did not improve from 0.72005\n",
      "244/244 [==============================] - 177s 724ms/step - loss: 0.4046 - accuracy: 0.8484 - sensitivity_at_specificity: 0.9985 - specificity_at_sensitivity: 0.9977 - recall: 0.8220 - precision: 0.8717 - val_loss: 1.0809 - val_accuracy: 0.6867 - val_sensitivity_at_specificity: 0.9452 - val_specificity_at_sensitivity: 0.9660 - val_recall: 0.6480 - val_precision: 0.7211\n",
      "Epoch 30/50\n",
      "244/244 [==============================] - ETA: 0s - loss: 0.4080 - accuracy: 0.8468 - sensitivity_at_specificity: 0.9984 - specificity_at_sensitivity: 0.9979 - recall: 0.8213 - precision: 0.8714\n",
      "Epoch 30: val_accuracy did not improve from 0.72005\n",
      "244/244 [==============================] - 177s 725ms/step - loss: 0.4080 - accuracy: 0.8468 - sensitivity_at_specificity: 0.9984 - specificity_at_sensitivity: 0.9979 - recall: 0.8213 - precision: 0.8714 - val_loss: 1.1998 - val_accuracy: 0.6801 - val_sensitivity_at_specificity: 0.9318 - val_specificity_at_sensitivity: 0.9654 - val_recall: 0.6472 - val_precision: 0.7048\n",
      "Epoch 31/50\n",
      "244/244 [==============================] - ETA: 0s - loss: 0.3989 - accuracy: 0.8522 - sensitivity_at_specificity: 0.9986 - specificity_at_sensitivity: 0.9979 - recall: 0.8269 - precision: 0.8753\n",
      "Epoch 31: val_accuracy did not improve from 0.72005\n",
      "244/244 [==============================] - 177s 725ms/step - loss: 0.3989 - accuracy: 0.8522 - sensitivity_at_specificity: 0.9986 - specificity_at_sensitivity: 0.9979 - recall: 0.8269 - precision: 0.8753 - val_loss: 1.2317 - val_accuracy: 0.6923 - val_sensitivity_at_specificity: 0.9386 - val_specificity_at_sensitivity: 0.9696 - val_recall: 0.6688 - val_precision: 0.7150\n",
      "Epoch 32/50\n",
      "244/244 [==============================] - ETA: 0s - loss: 0.3866 - accuracy: 0.8523 - sensitivity_at_specificity: 0.9988 - specificity_at_sensitivity: 0.9983 - recall: 0.8275 - precision: 0.8775\n",
      "Epoch 32: val_accuracy did not improve from 0.72005\n",
      "244/244 [==============================] - 177s 726ms/step - loss: 0.3866 - accuracy: 0.8523 - sensitivity_at_specificity: 0.9988 - specificity_at_sensitivity: 0.9983 - recall: 0.8275 - precision: 0.8775 - val_loss: 1.1920 - val_accuracy: 0.6790 - val_sensitivity_at_specificity: 0.9345 - val_specificity_at_sensitivity: 0.9673 - val_recall: 0.6533 - val_precision: 0.7045\n",
      "Epoch 33/50\n",
      "244/244 [==============================] - ETA: 0s - loss: 0.3792 - accuracy: 0.8587 - sensitivity_at_specificity: 0.9986 - specificity_at_sensitivity: 0.9983 - recall: 0.8354 - precision: 0.8821\n",
      "Epoch 33: val_accuracy did not improve from 0.72005\n",
      "244/244 [==============================] - 177s 724ms/step - loss: 0.3792 - accuracy: 0.8587 - sensitivity_at_specificity: 0.9986 - specificity_at_sensitivity: 0.9983 - recall: 0.8354 - precision: 0.8821 - val_loss: 1.2080 - val_accuracy: 0.6773 - val_sensitivity_at_specificity: 0.9206 - val_specificity_at_sensitivity: 0.9681 - val_recall: 0.6515 - val_precision: 0.7048\n",
      "Epoch 34/50\n",
      "244/244 [==============================] - ETA: 0s - loss: 0.3707 - accuracy: 0.8613 - sensitivity_at_specificity: 0.9986 - specificity_at_sensitivity: 0.9986 - recall: 0.8390 - precision: 0.8837\n",
      "Epoch 34: val_accuracy did not improve from 0.72005\n",
      "244/244 [==============================] - 177s 726ms/step - loss: 0.3707 - accuracy: 0.8613 - sensitivity_at_specificity: 0.9986 - specificity_at_sensitivity: 0.9986 - recall: 0.8390 - precision: 0.8837 - val_loss: 1.3736 - val_accuracy: 0.6825 - val_sensitivity_at_specificity: 0.9208 - val_specificity_at_sensitivity: 0.9663 - val_recall: 0.6598 - val_precision: 0.6992\n",
      "Epoch 35/50\n",
      "244/244 [==============================] - ETA: 0s - loss: 0.3648 - accuracy: 0.8631 - sensitivity_at_specificity: 0.9988 - specificity_at_sensitivity: 0.9986 - recall: 0.8409 - precision: 0.8845\n",
      "Epoch 35: val_accuracy did not improve from 0.72005\n",
      "244/244 [==============================] - 177s 723ms/step - loss: 0.3648 - accuracy: 0.8631 - sensitivity_at_specificity: 0.9988 - specificity_at_sensitivity: 0.9986 - recall: 0.8409 - precision: 0.8845 - val_loss: 1.3308 - val_accuracy: 0.6715 - val_sensitivity_at_specificity: 0.9276 - val_specificity_at_sensitivity: 0.9627 - val_recall: 0.6449 - val_precision: 0.6938\n",
      "Epoch 36/50\n",
      "244/244 [==============================] - ETA: 0s - loss: 0.3653 - accuracy: 0.8634 - sensitivity_at_specificity: 0.9983 - specificity_at_sensitivity: 0.9985 - recall: 0.8420 - precision: 0.8847\n",
      "Epoch 36: val_accuracy did not improve from 0.72005\n",
      "244/244 [==============================] - 177s 725ms/step - loss: 0.3653 - accuracy: 0.8634 - sensitivity_at_specificity: 0.9983 - specificity_at_sensitivity: 0.9985 - recall: 0.8420 - precision: 0.8847 - val_loss: 1.3831 - val_accuracy: 0.6543 - val_sensitivity_at_specificity: 0.9273 - val_specificity_at_sensitivity: 0.9604 - val_recall: 0.6289 - val_precision: 0.6785\n",
      "Epoch 37/50\n",
      "244/244 [==============================] - ETA: 0s - loss: 0.3635 - accuracy: 0.8631 - sensitivity_at_specificity: 0.9988 - specificity_at_sensitivity: 0.9985 - recall: 0.8424 - precision: 0.8863\n",
      "Epoch 37: val_accuracy did not improve from 0.72005\n",
      "244/244 [==============================] - 177s 725ms/step - loss: 0.3635 - accuracy: 0.8631 - sensitivity_at_specificity: 0.9988 - specificity_at_sensitivity: 0.9985 - recall: 0.8424 - precision: 0.8863 - val_loss: 1.3255 - val_accuracy: 0.6989 - val_sensitivity_at_specificity: 0.9271 - val_specificity_at_sensitivity: 0.9716 - val_recall: 0.6841 - val_precision: 0.7162\n",
      "Epoch 38/50\n",
      "244/244 [==============================] - ETA: 0s - loss: 0.3439 - accuracy: 0.8719 - sensitivity_at_specificity: 0.9985 - specificity_at_sensitivity: 0.9987 - recall: 0.8519 - precision: 0.8911\n",
      "Epoch 38: val_accuracy did not improve from 0.72005\n",
      "244/244 [==============================] - 177s 725ms/step - loss: 0.3439 - accuracy: 0.8719 - sensitivity_at_specificity: 0.9985 - specificity_at_sensitivity: 0.9987 - recall: 0.8519 - precision: 0.8911 - val_loss: 1.2760 - val_accuracy: 0.6927 - val_sensitivity_at_specificity: 0.9339 - val_specificity_at_sensitivity: 0.9704 - val_recall: 0.6659 - val_precision: 0.7194\n",
      "Epoch 39/50\n",
      "244/244 [==============================] - ETA: 0s - loss: 0.3382 - accuracy: 0.8730 - sensitivity_at_specificity: 0.9988 - specificity_at_sensitivity: 0.9989 - recall: 0.8527 - precision: 0.8919\n",
      "Epoch 39: val_accuracy did not improve from 0.72005\n",
      "244/244 [==============================] - 177s 725ms/step - loss: 0.3382 - accuracy: 0.8730 - sensitivity_at_specificity: 0.9988 - specificity_at_sensitivity: 0.9989 - recall: 0.8527 - precision: 0.8919 - val_loss: 1.7171 - val_accuracy: 0.6655 - val_sensitivity_at_specificity: 0.8926 - val_specificity_at_sensitivity: 0.9595 - val_recall: 0.6531 - val_precision: 0.6788\n"
     ]
    },
    {
     "name": "stdout",
     "output_type": "stream",
     "text": [
      "Epoch 40/50\n",
      "244/244 [==============================] - ETA: 0s - loss: 0.3287 - accuracy: 0.8775 - sensitivity_at_specificity: 0.9985 - specificity_at_sensitivity: 0.9991 - recall: 0.8596 - precision: 0.8960\n",
      "Epoch 40: val_accuracy did not improve from 0.72005\n",
      "244/244 [==============================] - 177s 725ms/step - loss: 0.3287 - accuracy: 0.8775 - sensitivity_at_specificity: 0.9985 - specificity_at_sensitivity: 0.9991 - recall: 0.8596 - precision: 0.8960 - val_loss: 1.3622 - val_accuracy: 0.6847 - val_sensitivity_at_specificity: 0.9253 - val_specificity_at_sensitivity: 0.9652 - val_recall: 0.6614 - val_precision: 0.7019\n",
      "Epoch 41/50\n",
      "244/244 [==============================] - ETA: 0s - loss: 0.3320 - accuracy: 0.8762 - sensitivity_at_specificity: 0.9988 - specificity_at_sensitivity: 0.9990 - recall: 0.8574 - precision: 0.8939\n",
      "Epoch 41: val_accuracy did not improve from 0.72005\n",
      "244/244 [==============================] - 177s 726ms/step - loss: 0.3320 - accuracy: 0.8762 - sensitivity_at_specificity: 0.9988 - specificity_at_sensitivity: 0.9990 - recall: 0.8574 - precision: 0.8939 - val_loss: 1.4795 - val_accuracy: 0.6625 - val_sensitivity_at_specificity: 0.9152 - val_specificity_at_sensitivity: 0.9562 - val_recall: 0.6364 - val_precision: 0.6799\n",
      "Epoch 42/50\n",
      "244/244 [==============================] - ETA: 0s - loss: 0.3175 - accuracy: 0.8799 - sensitivity_at_specificity: 0.9990 - specificity_at_sensitivity: 0.9993 - recall: 0.8617 - precision: 0.8983\n",
      "Epoch 42: val_accuracy did not improve from 0.72005\n",
      "244/244 [==============================] - 177s 726ms/step - loss: 0.3175 - accuracy: 0.8799 - sensitivity_at_specificity: 0.9990 - specificity_at_sensitivity: 0.9993 - recall: 0.8617 - precision: 0.8983 - val_loss: 1.4170 - val_accuracy: 0.6574 - val_sensitivity_at_specificity: 0.9240 - val_specificity_at_sensitivity: 0.9620 - val_recall: 0.6366 - val_precision: 0.6767\n",
      "Epoch 43/50\n",
      "244/244 [==============================] - ETA: 0s - loss: 0.3231 - accuracy: 0.8779 - sensitivity_at_specificity: 0.9984 - specificity_at_sensitivity: 0.9992 - recall: 0.8608 - precision: 0.8959\n",
      "Epoch 43: val_accuracy did not improve from 0.72005\n",
      "244/244 [==============================] - 177s 725ms/step - loss: 0.3231 - accuracy: 0.8779 - sensitivity_at_specificity: 0.9984 - specificity_at_sensitivity: 0.9992 - recall: 0.8608 - precision: 0.8959 - val_loss: 1.6742 - val_accuracy: 0.6381 - val_sensitivity_at_specificity: 0.8988 - val_specificity_at_sensitivity: 0.9517 - val_recall: 0.6180 - val_precision: 0.6543\n",
      "Epoch 44/50\n",
      "244/244 [==============================] - ETA: 0s - loss: 0.3045 - accuracy: 0.8848 - sensitivity_at_specificity: 0.9988 - specificity_at_sensitivity: 0.9993 - recall: 0.8694 - precision: 0.9032\n",
      "Epoch 44: val_accuracy did not improve from 0.72005\n",
      "244/244 [==============================] - 183s 748ms/step - loss: 0.3045 - accuracy: 0.8848 - sensitivity_at_specificity: 0.9988 - specificity_at_sensitivity: 0.9993 - recall: 0.8694 - precision: 0.9032 - val_loss: 1.4804 - val_accuracy: 0.6883 - val_sensitivity_at_specificity: 0.9119 - val_specificity_at_sensitivity: 0.9667 - val_recall: 0.6691 - val_precision: 0.7048\n",
      "Epoch 45/50\n",
      "244/244 [==============================] - ETA: 0s - loss: 0.2997 - accuracy: 0.8888 - sensitivity_at_specificity: 0.9986 - specificity_at_sensitivity: 0.9994 - recall: 0.8734 - precision: 0.9039\n",
      "Epoch 45: val_accuracy did not improve from 0.72005\n",
      "244/244 [==============================] - 177s 724ms/step - loss: 0.2997 - accuracy: 0.8888 - sensitivity_at_specificity: 0.9986 - specificity_at_sensitivity: 0.9994 - recall: 0.8734 - precision: 0.9039 - val_loss: 1.4770 - val_accuracy: 0.6800 - val_sensitivity_at_specificity: 0.9173 - val_specificity_at_sensitivity: 0.9650 - val_recall: 0.6585 - val_precision: 0.6978\n",
      "Epoch 46/50\n",
      "244/244 [==============================] - ETA: 0s - loss: 0.2961 - accuracy: 0.8877 - sensitivity_at_specificity: 0.9988 - specificity_at_sensitivity: 0.9995 - recall: 0.8736 - precision: 0.9040\n",
      "Epoch 46: val_accuracy did not improve from 0.72005\n",
      "244/244 [==============================] - 177s 724ms/step - loss: 0.2961 - accuracy: 0.8877 - sensitivity_at_specificity: 0.9988 - specificity_at_sensitivity: 0.9995 - recall: 0.8736 - precision: 0.9040 - val_loss: 1.6950 - val_accuracy: 0.6657 - val_sensitivity_at_specificity: 0.8942 - val_specificity_at_sensitivity: 0.9601 - val_recall: 0.6530 - val_precision: 0.6768\n",
      "Epoch 47/50\n",
      "244/244 [==============================] - ETA: 0s - loss: 0.2909 - accuracy: 0.8910 - sensitivity_at_specificity: 0.9989 - specificity_at_sensitivity: 0.9994 - recall: 0.8776 - precision: 0.9068\n",
      "Epoch 47: val_accuracy did not improve from 0.72005\n",
      "244/244 [==============================] - 177s 725ms/step - loss: 0.2909 - accuracy: 0.8910 - sensitivity_at_specificity: 0.9989 - specificity_at_sensitivity: 0.9994 - recall: 0.8776 - precision: 0.9068 - val_loss: 1.6633 - val_accuracy: 0.6481 - val_sensitivity_at_specificity: 0.9055 - val_specificity_at_sensitivity: 0.9541 - val_recall: 0.6267 - val_precision: 0.6665\n",
      "Epoch 48/50\n",
      "244/244 [==============================] - ETA: 0s - loss: 0.2872 - accuracy: 0.8913 - sensitivity_at_specificity: 0.9989 - specificity_at_sensitivity: 0.9996 - recall: 0.8758 - precision: 0.9066\n",
      "Epoch 48: val_accuracy did not improve from 0.72005\n",
      "244/244 [==============================] - 182s 748ms/step - loss: 0.2872 - accuracy: 0.8913 - sensitivity_at_specificity: 0.9989 - specificity_at_sensitivity: 0.9996 - recall: 0.8758 - precision: 0.9066 - val_loss: 1.6000 - val_accuracy: 0.6617 - val_sensitivity_at_specificity: 0.9074 - val_specificity_at_sensitivity: 0.9599 - val_recall: 0.6436 - val_precision: 0.6777\n",
      "Epoch 49/50\n",
      "244/244 [==============================] - ETA: 0s - loss: 0.2775 - accuracy: 0.8954 - sensitivity_at_specificity: 0.9989 - specificity_at_sensitivity: 0.9996 - recall: 0.8818 - precision: 0.9108\n",
      "Epoch 49: val_accuracy did not improve from 0.72005\n",
      "244/244 [==============================] - 177s 725ms/step - loss: 0.2775 - accuracy: 0.8954 - sensitivity_at_specificity: 0.9989 - specificity_at_sensitivity: 0.9996 - recall: 0.8818 - precision: 0.9108 - val_loss: 1.6755 - val_accuracy: 0.6814 - val_sensitivity_at_specificity: 0.9003 - val_specificity_at_sensitivity: 0.9618 - val_recall: 0.6694 - val_precision: 0.6934\n",
      "Epoch 50/50\n",
      "244/244 [==============================] - ETA: 0s - loss: 0.2740 - accuracy: 0.8950 - sensitivity_at_specificity: 0.9990 - specificity_at_sensitivity: 0.9996 - recall: 0.8826 - precision: 0.9094\n",
      "Epoch 50: val_accuracy did not improve from 0.72005\n",
      "244/244 [==============================] - 177s 724ms/step - loss: 0.2740 - accuracy: 0.8950 - sensitivity_at_specificity: 0.9990 - specificity_at_sensitivity: 0.9996 - recall: 0.8826 - precision: 0.9094 - val_loss: 1.5188 - val_accuracy: 0.6605 - val_sensitivity_at_specificity: 0.9132 - val_specificity_at_sensitivity: 0.9574 - val_recall: 0.6385 - val_precision: 0.6812\n"
     ]
    }
   ],
   "source": [
    "# Fit the model\n",
    "from keras.callbacks import ModelCheckpoint, EarlyStopping\n",
    "\n",
    "checkpoint = ModelCheckpoint(\"ECG_Spectrogram_Model.h5\", monitor='val_accuracy', verbose=1, save_best_only=True, save_weights_only=False, mode='auto', period=1)\n",
    "history = model.fit(train_data, steps_per_epoch=len(train_data), epochs=50, validation_data=val_data, validation_steps=len(val_data),callbacks = [callbacks,checkpoint])"
   ]
  },
  {
   "cell_type": "code",
   "execution_count": 17,
   "id": "c5d78c99",
   "metadata": {},
   "outputs": [
    {
     "name": "stdout",
     "output_type": "stream",
     "text": [
      "Training Accuracy:  0.8954367637634277\n",
      "Validation Accuracy:  0.7200462222099304\n",
      "Validation Specificity:  0.9774303436279297\n",
      "Validation Sensitivity:  0.97611403465271\n",
      "Validation Recall:  0.6840888857841492\n",
      "Validation Precision:  0.758441150188446\n",
      "Validation Loss:  0.8061150312423706\n"
     ]
    }
   ],
   "source": [
    "#Acquiring Performance metrics\n",
    "\n",
    "Training_Accuracy=history.history['accuracy']\n",
    "Validation_Accuracy=history.history['val_accuracy']\n",
    "Validation_Specificity=history.history['val_specificity_at_sensitivity']\n",
    "Validation_Sensitivity=history.history['val_sensitivity_at_specificity']\n",
    "Validation_Recall=history.history['val_recall']\n",
    "Validation_Precision=history.history['val_precision']\n",
    "Validation_Loss=history.history['val_loss']\n",
    "\n",
    "print(\"Training Accuracy: \",max(Training_Accuracy))\n",
    "print(\"Validation Accuracy: \",max(Validation_Accuracy))\n",
    "print(\"Validation Specificity: \",max(Validation_Specificity))\n",
    "print(\"Validation Sensitivity: \",max(Validation_Sensitivity))\n",
    "print(\"Validation Recall: \",max(Validation_Recall))\n",
    "print(\"Validation Precision: \",max(Validation_Precision))\n",
    "print(\"Validation Loss: \",min(Validation_Loss))"
   ]
  },
  {
   "cell_type": "code",
   "execution_count": null,
   "id": "cca9c5e0",
   "metadata": {},
   "outputs": [],
   "source": []
  }
 ],
 "metadata": {
  "kernelspec": {
   "display_name": "Python 3 (ipykernel)",
   "language": "python",
   "name": "python3"
  },
  "language_info": {
   "codemirror_mode": {
    "name": "ipython",
    "version": 3
   },
   "file_extension": ".py",
   "mimetype": "text/x-python",
   "name": "python",
   "nbconvert_exporter": "python",
   "pygments_lexer": "ipython3",
   "version": "3.10.6"
  }
 },
 "nbformat": 4,
 "nbformat_minor": 5
}
