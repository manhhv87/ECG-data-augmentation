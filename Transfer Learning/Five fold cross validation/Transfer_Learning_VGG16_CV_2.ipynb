{
 "cells": [
  {
   "cell_type": "code",
   "execution_count": 1,
   "id": "e1e32307",
   "metadata": {},
   "outputs": [
    {
     "name": "stdout",
     "output_type": "stream",
     "text": [
      "2.9.1\n"
     ]
    }
   ],
   "source": [
    "#checking tensorflow version\n",
    "\n",
    "import tensorflow as tf\n",
    "print(tf.__version__)"
   ]
  },
  {
   "cell_type": "code",
   "execution_count": 2,
   "id": "4b0746ad",
   "metadata": {},
   "outputs": [],
   "source": [
    "#importing libraries \n",
    "\n",
    "import tensorflow as tf\n",
    "from tensorflow import keras\n",
    "from keras.layers import Input, Conv2D, Dense, Flatten, BatchNormalization, Dropout, MaxPooling2D, GlobalMaxPooling2D\n",
    "from keras.models import Model\n",
    "import matplotlib.pyplot as plt\n",
    "from keras.preprocessing import image\n",
    "#from keras.preprocessing.image import load_img\n",
    "from keras.models import Sequential\n",
    "import numpy as np\n",
    "from tensorflow.keras import regularizers"
   ]
  },
  {
   "cell_type": "code",
   "execution_count": 3,
   "id": "a2880923",
   "metadata": {},
   "outputs": [],
   "source": [
    "# Cross Validation dataset links\n",
    "\n",
    "#CV-1\n",
    "#train_dir=\"/home/ubuntu/From_Laptop/multi-class-NEW/12-Lead_ECG_version_2/DA_version_3/Model_Training/K-Fold Cross Validation/Fold 1/Training/\"\n",
    "#val_dir=\"/home/ubuntu/From_Laptop/multi-class-NEW/12-Lead_ECG_version_2/DA_version_3/Model_Training/K-Fold Cross Validation/Fold 1/Validation/\"\n",
    "\n",
    "#CV-2\n",
    "train_dir=\"/home/ubuntu/From_Laptop/multi-class-NEW/12-Lead_ECG_version_2/DA_version_3/Model_Training/K-Fold Cross Validation/Fold 2/Training/\"\n",
    "val_dir=\"/home/ubuntu/From_Laptop/multi-class-NEW/12-Lead_ECG_version_2/DA_version_3/Model_Training/K-Fold Cross Validation/Fold 2/Validation/\"\n",
    "\n",
    "#CV-3\n",
    "#train_dir=\"/home/ubuntu/From_Laptop/multi-class-NEW/12-Lead_ECG_version_2/DA_version_3/Model_Training/K-Fold Cross Validation/Fold 3/Training/\"\n",
    "#val_dir=\"/home/ubuntu/From_Laptop/multi-class-NEW/12-Lead_ECG_version_2/DA_version_3/Model_Training/K-Fold Cross Validation/Fold 3/Validation/\"\n",
    "\n",
    "#CV-4\n",
    "#train_dir=\"/home/ubuntu/From_Laptop/multi-class-NEW/12-Lead_ECG_version_2/DA_version_3/Model_Training/K-Fold Cross Validation/Fold 4/Training/\"\n",
    "#val_dir=\"/home/ubuntu/From_Laptop/multi-class-NEW/12-Lead_ECG_version_2/DA_version_3/Model_Training/K-Fold Cross Validation/Fold 4/Validation/\"\n",
    "\n",
    "#CV-5\n",
    "#train_dir=\"/home/ubuntu/From_Laptop/multi-class-NEW/12-Lead_ECG_version_2/DA_version_3/Model_Training/K-Fold Cross Validation/Fold 5/Training/\"\n",
    "#val_dir=\"/home/ubuntu/From_Laptop/multi-class-NEW/12-Lead_ECG_version_2/DA_version_3/Model_Training/K-Fold Cross Validation/Fold 5/Validation/\""
   ]
  },
  {
   "cell_type": "code",
   "execution_count": 4,
   "id": "b2f80645",
   "metadata": {},
   "outputs": [
    {
     "name": "stdout",
     "output_type": "stream",
     "text": [
      "Found 31206 files belonging to 5 classes.\n"
     ]
    },
    {
     "name": "stderr",
     "output_type": "stream",
     "text": [
      "2023-01-05 20:48:52.725457: I tensorflow/stream_executor/cuda/cuda_gpu_executor.cc:975] successful NUMA node read from SysFS had negative value (-1), but there must be at least one NUMA node, so returning NUMA node zero\n",
      "2023-01-05 20:48:52.773038: I tensorflow/stream_executor/cuda/cuda_gpu_executor.cc:975] successful NUMA node read from SysFS had negative value (-1), but there must be at least one NUMA node, so returning NUMA node zero\n",
      "2023-01-05 20:48:52.773413: I tensorflow/stream_executor/cuda/cuda_gpu_executor.cc:975] successful NUMA node read from SysFS had negative value (-1), but there must be at least one NUMA node, so returning NUMA node zero\n",
      "2023-01-05 20:48:52.814127: I tensorflow/core/platform/cpu_feature_guard.cc:193] This TensorFlow binary is optimized with oneAPI Deep Neural Network Library (oneDNN) to use the following CPU instructions in performance-critical operations:  AVX2 FMA\n",
      "To enable them in other operations, rebuild TensorFlow with the appropriate compiler flags.\n",
      "2023-01-05 20:48:52.814771: I tensorflow/stream_executor/cuda/cuda_gpu_executor.cc:975] successful NUMA node read from SysFS had negative value (-1), but there must be at least one NUMA node, so returning NUMA node zero\n",
      "2023-01-05 20:48:52.815108: I tensorflow/stream_executor/cuda/cuda_gpu_executor.cc:975] successful NUMA node read from SysFS had negative value (-1), but there must be at least one NUMA node, so returning NUMA node zero\n",
      "2023-01-05 20:48:52.815409: I tensorflow/stream_executor/cuda/cuda_gpu_executor.cc:975] successful NUMA node read from SysFS had negative value (-1), but there must be at least one NUMA node, so returning NUMA node zero\n",
      "2023-01-05 20:48:53.272779: I tensorflow/stream_executor/cuda/cuda_gpu_executor.cc:975] successful NUMA node read from SysFS had negative value (-1), but there must be at least one NUMA node, so returning NUMA node zero\n",
      "2023-01-05 20:48:53.272985: I tensorflow/stream_executor/cuda/cuda_gpu_executor.cc:975] successful NUMA node read from SysFS had negative value (-1), but there must be at least one NUMA node, so returning NUMA node zero\n",
      "2023-01-05 20:48:53.273145: I tensorflow/stream_executor/cuda/cuda_gpu_executor.cc:975] successful NUMA node read from SysFS had negative value (-1), but there must be at least one NUMA node, so returning NUMA node zero\n",
      "2023-01-05 20:48:53.273276: I tensorflow/core/common_runtime/gpu/gpu_device.cc:1532] Created device /job:localhost/replica:0/task:0/device:GPU:0 with 7380 MB memory:  -> device: 0, name: NVIDIA GeForce GTX 1080, pci bus id: 0000:00:05.0, compute capability: 6.1\n"
     ]
    },
    {
     "name": "stdout",
     "output_type": "stream",
     "text": [
      "Found 7787 files belonging to 5 classes.\n"
     ]
    }
   ],
   "source": [
    "from tensorflow.keras import layers\n",
    "\n",
    "train_data = tf.keras.preprocessing.image_dataset_from_directory(directory=train_dir,\n",
    "                                                                 image_size=(256,256),\n",
    "                                                                 label_mode='categorical', batch_size=128, \n",
    "                                                                 )\n",
    "val_data = tf.keras.preprocessing.image_dataset_from_directory(directory=val_dir,\n",
    "                                                                 image_size=(256,256),\n",
    "                                                                 label_mode='categorical', batch_size=128,\n",
    "                                                                )"
   ]
  },
  {
   "cell_type": "code",
   "execution_count": 5,
   "id": "ca75c58f-bfe9-48bc-8e3a-e9ed7abe3cdf",
   "metadata": {},
   "outputs": [],
   "source": [
    "#Normalizing the data\n",
    "\n",
    "nrmzln_layer = layers.experimental.preprocessing.Rescaling(1./255)\n",
    "\n",
    "train_data = train_data.map(lambda x,\n",
    "                          y: (nrmzln_layer(x), y))\n",
    "\n",
    "val_data = val_data.map(lambda x,\n",
    "                          y: (nrmzln_layer(x), y))"
   ]
  },
  {
   "cell_type": "code",
   "execution_count": 6,
   "id": "2007b247",
   "metadata": {},
   "outputs": [],
   "source": [
    "#import tensorflow.python.keras.applications.VGG16\n",
    "base_model= tf.keras.applications.VGG16(weights= 'imagenet', input_shape=(256,256, 3), include_top=False) "
   ]
  },
  {
   "cell_type": "code",
   "execution_count": 7,
   "id": "3110cb3d",
   "metadata": {},
   "outputs": [],
   "source": [
    "# Freezing the base_model for transfer learning\n",
    "base_model.trainable= False"
   ]
  },
  {
   "cell_type": "code",
   "execution_count": 8,
   "id": "f9525074",
   "metadata": {},
   "outputs": [],
   "source": [
    "# Creating a new_model on the top\n",
    "inputs= tf.keras.Input(shape= (256, 256, 3), name=\"input_layer\")"
   ]
  },
  {
   "cell_type": "code",
   "execution_count": 9,
   "id": "f0e154d0",
   "metadata": {},
   "outputs": [],
   "source": [
    "x= base_model(inputs,training= False)"
   ]
  },
  {
   "cell_type": "code",
   "execution_count": 10,
   "id": "06eee106",
   "metadata": {},
   "outputs": [],
   "source": [
    "# Average pool the outputs of the base model\n",
    "x = tf.keras.layers.GlobalAveragePooling2D(name='Global_Average_Pooling_Layer')(x)"
   ]
  },
  {
   "cell_type": "code",
   "execution_count": 11,
   "id": "c97951c1",
   "metadata": {},
   "outputs": [],
   "source": [
    "# Output layer\n",
    "u = tf.keras.layers.Dense(1050, activation=\"relu\")(x)\n",
    "u = tf.keras.layers.Dense(512, activation=\"relu\")(u)\n",
    "u = tf.keras.layers.Dense(256, activation=\"relu\")(u)\n",
    "u = tf.keras.layers.Dense(128, activation=\"relu\")(u)\n",
    "outputs = tf.keras.layers.Dense(5, activation=\"softmax\",name=\"output_layer\")(u)"
   ]
  },
  {
   "cell_type": "code",
   "execution_count": 12,
   "id": "e15b01f3",
   "metadata": {},
   "outputs": [],
   "source": [
    "# Combine the model\n",
    "model = tf.keras.Model(inputs, outputs) "
   ]
  },
  {
   "cell_type": "code",
   "execution_count": 13,
   "id": "186a4092",
   "metadata": {},
   "outputs": [
    {
     "name": "stdout",
     "output_type": "stream",
     "text": [
      "Model: \"model\"\n",
      "_________________________________________________________________\n",
      " Layer (type)                Output Shape              Param #   \n",
      "=================================================================\n",
      " input_layer (InputLayer)    [(None, 256, 256, 3)]     0         \n",
      "                                                                 \n",
      " vgg16 (Functional)          (None, 8, 8, 512)         14714688  \n",
      "                                                                 \n",
      " Global_Average_Pooling_Laye  (None, 512)              0         \n",
      " r (GlobalAveragePooling2D)                                      \n",
      "                                                                 \n",
      " dense (Dense)               (None, 1050)              538650    \n",
      "                                                                 \n",
      " dense_1 (Dense)             (None, 512)               538112    \n",
      "                                                                 \n",
      " dense_2 (Dense)             (None, 256)               131328    \n",
      "                                                                 \n",
      " dense_3 (Dense)             (None, 128)               32896     \n",
      "                                                                 \n",
      " output_layer (Dense)        (None, 5)                 645       \n",
      "                                                                 \n",
      "=================================================================\n",
      "Total params: 15,956,319\n",
      "Trainable params: 1,241,631\n",
      "Non-trainable params: 14,714,688\n",
      "_________________________________________________________________\n"
     ]
    }
   ],
   "source": [
    "#printing model summary\n",
    "\n",
    "model.summary()"
   ]
  },
  {
   "cell_type": "code",
   "execution_count": 15,
   "id": "b07c7887",
   "metadata": {},
   "outputs": [],
   "source": [
    "# Compile the model\n",
    "\n",
    "from tensorflow.keras.metrics import SensitivityAtSpecificity,SpecificityAtSensitivity,Recall,Precision\n",
    "\n",
    "model.compile(loss= tf.losses.categorical_crossentropy, \n",
    "      optimizer = tf.keras.optimizers.Adam(learning_rate=0.001),\n",
    "              metrics=['accuracy',SensitivityAtSpecificity(0.5),SpecificityAtSensitivity(0.5),Recall(0.5),Precision(0.5)])"
   ]
  },
  {
   "cell_type": "code",
   "execution_count": 16,
   "id": "5105faca",
   "metadata": {},
   "outputs": [],
   "source": [
    "#defining callback \n",
    "class myCallback(tf.keras.callbacks.Callback):\n",
    "     def on_epoch_end(self, epoch, logs={}):\n",
    "        if(logs.get('val_accuracy')>0.99): \n",
    "          print(\"\\nReached 99% accuracy so cancelling training!\")\n",
    "          self.model.stop_training = True\n",
    "\n",
    "callbacks = myCallback()"
   ]
  },
  {
   "cell_type": "code",
   "execution_count": 17,
   "id": "595e70ba",
   "metadata": {
    "tags": []
   },
   "outputs": [
    {
     "name": "stdout",
     "output_type": "stream",
     "text": [
      "WARNING:tensorflow:`period` argument is deprecated. Please use `save_freq` to specify the frequency in number of batches seen.\n",
      "Epoch 1/50\n"
     ]
    },
    {
     "name": "stderr",
     "output_type": "stream",
     "text": [
      "2023-01-05 20:49:37.925875: I tensorflow/stream_executor/cuda/cuda_dnn.cc:384] Loaded cuDNN version 8100\n",
      "2023-01-05 20:49:38.157061: I tensorflow/core/platform/default/subprocess.cc:304] Start cannot spawn child process: No such file or directory\n"
     ]
    },
    {
     "name": "stdout",
     "output_type": "stream",
     "text": [
      "244/244 [==============================] - ETA: 0s - loss: 1.2096 - accuracy: 0.4921 - sensitivity_at_specificity: 0.8810 - specificity_at_sensitivity: 0.8807 - recall: 0.2698 - precision: 0.7000\n",
      "Epoch 1: val_accuracy improved from -inf to 0.54514, saving model to ECG_Spectrogram_Model.h5\n",
      "244/244 [==============================] - 198s 766ms/step - loss: 1.2096 - accuracy: 0.4921 - sensitivity_at_specificity: 0.8810 - specificity_at_sensitivity: 0.8807 - recall: 0.2698 - precision: 0.7000 - val_loss: 1.2024 - val_accuracy: 0.5451 - val_sensitivity_at_specificity: 0.9011 - val_specificity_at_sensitivity: 0.9076 - val_recall: 0.3388 - val_precision: 0.7111\n",
      "Epoch 2/50\n",
      "244/244 [==============================] - ETA: 0s - loss: 0.8737 - accuracy: 0.6473 - sensitivity_at_specificity: 0.9775 - specificity_at_sensitivity: 0.9609 - recall: 0.5255 - precision: 0.7441\n",
      "Epoch 2: val_accuracy improved from 0.54514 to 0.58842, saving model to ECG_Spectrogram_Model.h5\n",
      "244/244 [==============================] - 176s 723ms/step - loss: 0.8737 - accuracy: 0.6473 - sensitivity_at_specificity: 0.9775 - specificity_at_sensitivity: 0.9609 - recall: 0.5255 - precision: 0.7441 - val_loss: 1.0064 - val_accuracy: 0.5884 - val_sensitivity_at_specificity: 0.9563 - val_specificity_at_sensitivity: 0.9316 - val_recall: 0.4827 - val_precision: 0.6573\n",
      "Epoch 3/50\n",
      "244/244 [==============================] - ETA: 0s - loss: 0.7912 - accuracy: 0.6872 - sensitivity_at_specificity: 0.9836 - specificity_at_sensitivity: 0.9733 - recall: 0.5947 - precision: 0.7626\n",
      "Epoch 3: val_accuracy improved from 0.58842 to 0.64222, saving model to ECG_Spectrogram_Model.h5\n",
      "244/244 [==============================] - 176s 722ms/step - loss: 0.7912 - accuracy: 0.6872 - sensitivity_at_specificity: 0.9836 - specificity_at_sensitivity: 0.9733 - recall: 0.5947 - precision: 0.7626 - val_loss: 0.9426 - val_accuracy: 0.6422 - val_sensitivity_at_specificity: 0.9569 - val_specificity_at_sensitivity: 0.9609 - val_recall: 0.5599 - val_precision: 0.7108\n",
      "Epoch 4/50\n",
      "244/244 [==============================] - ETA: 0s - loss: 0.7305 - accuracy: 0.7178 - sensitivity_at_specificity: 0.9884 - specificity_at_sensitivity: 0.9798 - recall: 0.6398 - precision: 0.7814\n",
      "Epoch 4: val_accuracy improved from 0.64222 to 0.68563, saving model to ECG_Spectrogram_Model.h5\n",
      "244/244 [==============================] - 176s 722ms/step - loss: 0.7305 - accuracy: 0.7178 - sensitivity_at_specificity: 0.9884 - specificity_at_sensitivity: 0.9798 - recall: 0.6398 - precision: 0.7814 - val_loss: 0.8425 - val_accuracy: 0.6856 - val_sensitivity_at_specificity: 0.9717 - val_specificity_at_sensitivity: 0.9717 - val_recall: 0.6036 - val_precision: 0.7463\n",
      "Epoch 5/50\n",
      "244/244 [==============================] - ETA: 0s - loss: 0.6991 - accuracy: 0.7339 - sensitivity_at_specificity: 0.9881 - specificity_at_sensitivity: 0.9835 - recall: 0.6592 - precision: 0.7907\n",
      "Epoch 5: val_accuracy improved from 0.68563 to 0.69513, saving model to ECG_Spectrogram_Model.h5\n",
      "244/244 [==============================] - 176s 722ms/step - loss: 0.6991 - accuracy: 0.7339 - sensitivity_at_specificity: 0.9881 - specificity_at_sensitivity: 0.9835 - recall: 0.6592 - precision: 0.7907 - val_loss: 0.8030 - val_accuracy: 0.6951 - val_sensitivity_at_specificity: 0.9769 - val_specificity_at_sensitivity: 0.9757 - val_recall: 0.6160 - val_precision: 0.7686\n",
      "Epoch 6/50\n",
      "244/244 [==============================] - ETA: 0s - loss: 0.6643 - accuracy: 0.7462 - sensitivity_at_specificity: 0.9902 - specificity_at_sensitivity: 0.9857 - recall: 0.6835 - precision: 0.8005\n",
      "Epoch 6: val_accuracy did not improve from 0.69513\n",
      "244/244 [==============================] - 176s 720ms/step - loss: 0.6643 - accuracy: 0.7462 - sensitivity_at_specificity: 0.9902 - specificity_at_sensitivity: 0.9857 - recall: 0.6835 - precision: 0.8005 - val_loss: 0.8521 - val_accuracy: 0.6819 - val_sensitivity_at_specificity: 0.9696 - val_specificity_at_sensitivity: 0.9717 - val_recall: 0.6210 - val_precision: 0.7295\n",
      "Epoch 7/50\n",
      "244/244 [==============================] - ETA: 0s - loss: 0.6490 - accuracy: 0.7529 - sensitivity_at_specificity: 0.9906 - specificity_at_sensitivity: 0.9870 - recall: 0.6913 - precision: 0.8064\n",
      "Epoch 7: val_accuracy did not improve from 0.69513\n",
      "244/244 [==============================] - 176s 720ms/step - loss: 0.6490 - accuracy: 0.7529 - sensitivity_at_specificity: 0.9906 - specificity_at_sensitivity: 0.9870 - recall: 0.6913 - precision: 0.8064 - val_loss: 0.8202 - val_accuracy: 0.6815 - val_sensitivity_at_specificity: 0.9811 - val_specificity_at_sensitivity: 0.9728 - val_recall: 0.6178 - val_precision: 0.7451\n",
      "Epoch 8/50\n",
      "244/244 [==============================] - ETA: 0s - loss: 0.6254 - accuracy: 0.7626 - sensitivity_at_specificity: 0.9932 - specificity_at_sensitivity: 0.9888 - recall: 0.7056 - precision: 0.8118\n",
      "Epoch 8: val_accuracy improved from 0.69513 to 0.70117, saving model to ECG_Spectrogram_Model.h5\n",
      "244/244 [==============================] - 176s 722ms/step - loss: 0.6254 - accuracy: 0.7626 - sensitivity_at_specificity: 0.9932 - specificity_at_sensitivity: 0.9888 - recall: 0.7056 - precision: 0.8118 - val_loss: 0.8334 - val_accuracy: 0.7012 - val_sensitivity_at_specificity: 0.9761 - val_specificity_at_sensitivity: 0.9759 - val_recall: 0.6539 - val_precision: 0.7489\n",
      "Epoch 9/50\n",
      "244/244 [==============================] - ETA: 0s - loss: 0.5999 - accuracy: 0.7738 - sensitivity_at_specificity: 0.9934 - specificity_at_sensitivity: 0.9905 - recall: 0.7226 - precision: 0.8224\n",
      "Epoch 9: val_accuracy improved from 0.70117 to 0.71568, saving model to ECG_Spectrogram_Model.h5\n",
      "244/244 [==============================] - 176s 722ms/step - loss: 0.5999 - accuracy: 0.7738 - sensitivity_at_specificity: 0.9934 - specificity_at_sensitivity: 0.9905 - recall: 0.7226 - precision: 0.8224 - val_loss: 0.7936 - val_accuracy: 0.7157 - val_sensitivity_at_specificity: 0.9746 - val_specificity_at_sensitivity: 0.9796 - val_recall: 0.6572 - val_precision: 0.7662\n",
      "Epoch 10/50\n",
      "244/244 [==============================] - ETA: 0s - loss: 0.5952 - accuracy: 0.7741 - sensitivity_at_specificity: 0.9939 - specificity_at_sensitivity: 0.9905 - recall: 0.7221 - precision: 0.8225\n",
      "Epoch 10: val_accuracy did not improve from 0.71568\n",
      "244/244 [==============================] - 176s 719ms/step - loss: 0.5952 - accuracy: 0.7741 - sensitivity_at_specificity: 0.9939 - specificity_at_sensitivity: 0.9905 - recall: 0.7221 - precision: 0.8225 - val_loss: 0.8116 - val_accuracy: 0.7008 - val_sensitivity_at_specificity: 0.9801 - val_specificity_at_sensitivity: 0.9782 - val_recall: 0.6596 - val_precision: 0.7427\n",
      "Epoch 11/50\n",
      "244/244 [==============================] - ETA: 0s - loss: 0.5820 - accuracy: 0.7814 - sensitivity_at_specificity: 0.9934 - specificity_at_sensitivity: 0.9914 - recall: 0.7299 - precision: 0.8243\n",
      "Epoch 11: val_accuracy improved from 0.71568 to 0.72762, saving model to ECG_Spectrogram_Model.h5\n",
      "244/244 [==============================] - 176s 721ms/step - loss: 0.5820 - accuracy: 0.7814 - sensitivity_at_specificity: 0.9934 - specificity_at_sensitivity: 0.9914 - recall: 0.7299 - precision: 0.8243 - val_loss: 0.7788 - val_accuracy: 0.7276 - val_sensitivity_at_specificity: 0.9765 - val_specificity_at_sensitivity: 0.9809 - val_recall: 0.6669 - val_precision: 0.7795\n",
      "Epoch 12/50\n",
      "244/244 [==============================] - ETA: 0s - loss: 0.5717 - accuracy: 0.7848 - sensitivity_at_specificity: 0.9935 - specificity_at_sensitivity: 0.9918 - recall: 0.7348 - precision: 0.8286\n",
      "Epoch 12: val_accuracy did not improve from 0.72762\n",
      "244/244 [==============================] - 176s 720ms/step - loss: 0.5717 - accuracy: 0.7848 - sensitivity_at_specificity: 0.9935 - specificity_at_sensitivity: 0.9918 - recall: 0.7348 - precision: 0.8286 - val_loss: 0.8087 - val_accuracy: 0.7200 - val_sensitivity_at_specificity: 0.9697 - val_specificity_at_sensitivity: 0.9805 - val_recall: 0.6775 - val_precision: 0.7606\n",
      "Epoch 13/50\n",
      "244/244 [==============================] - ETA: 0s - loss: 0.5598 - accuracy: 0.7890 - sensitivity_at_specificity: 0.9962 - specificity_at_sensitivity: 0.9923 - recall: 0.7456 - precision: 0.8296\n",
      "Epoch 13: val_accuracy did not improve from 0.72762\n",
      "244/244 [==============================] - 176s 719ms/step - loss: 0.5598 - accuracy: 0.7890 - sensitivity_at_specificity: 0.9962 - specificity_at_sensitivity: 0.9923 - recall: 0.7456 - precision: 0.8296 - val_loss: 0.8506 - val_accuracy: 0.7122 - val_sensitivity_at_specificity: 0.9652 - val_specificity_at_sensitivity: 0.9771 - val_recall: 0.6675 - val_precision: 0.7545\n"
     ]
    },
    {
     "name": "stdout",
     "output_type": "stream",
     "text": [
      "Epoch 14/50\n",
      "244/244 [==============================] - ETA: 0s - loss: 0.5451 - accuracy: 0.7934 - sensitivity_at_specificity: 0.9961 - specificity_at_sensitivity: 0.9932 - recall: 0.7499 - precision: 0.8352\n",
      "Epoch 14: val_accuracy did not improve from 0.72762\n",
      "244/244 [==============================] - 176s 719ms/step - loss: 0.5451 - accuracy: 0.7934 - sensitivity_at_specificity: 0.9961 - specificity_at_sensitivity: 0.9932 - recall: 0.7499 - precision: 0.8352 - val_loss: 0.8913 - val_accuracy: 0.7091 - val_sensitivity_at_specificity: 0.9634 - val_specificity_at_sensitivity: 0.9760 - val_recall: 0.6486 - val_precision: 0.7551\n",
      "Epoch 15/50\n",
      "244/244 [==============================] - ETA: 0s - loss: 0.5334 - accuracy: 0.8002 - sensitivity_at_specificity: 0.9962 - specificity_at_sensitivity: 0.9933 - recall: 0.7603 - precision: 0.8399\n",
      "Epoch 15: val_accuracy did not improve from 0.72762\n",
      "244/244 [==============================] - 176s 720ms/step - loss: 0.5334 - accuracy: 0.8002 - sensitivity_at_specificity: 0.9962 - specificity_at_sensitivity: 0.9933 - recall: 0.7603 - precision: 0.8399 - val_loss: 0.7798 - val_accuracy: 0.7267 - val_sensitivity_at_specificity: 0.9766 - val_specificity_at_sensitivity: 0.9823 - val_recall: 0.6836 - val_precision: 0.7630\n",
      "Epoch 16/50\n",
      "244/244 [==============================] - ETA: 0s - loss: 0.5242 - accuracy: 0.8025 - sensitivity_at_specificity: 0.9958 - specificity_at_sensitivity: 0.9939 - recall: 0.7624 - precision: 0.8397\n",
      "Epoch 16: val_accuracy did not improve from 0.72762\n",
      "244/244 [==============================] - 176s 719ms/step - loss: 0.5242 - accuracy: 0.8025 - sensitivity_at_specificity: 0.9958 - specificity_at_sensitivity: 0.9939 - recall: 0.7624 - precision: 0.8397 - val_loss: 0.8993 - val_accuracy: 0.7039 - val_sensitivity_at_specificity: 0.9635 - val_specificity_at_sensitivity: 0.9747 - val_recall: 0.6684 - val_precision: 0.7357\n",
      "Epoch 17/50\n",
      "244/244 [==============================] - ETA: 0s - loss: 0.5170 - accuracy: 0.8063 - sensitivity_at_specificity: 0.9963 - specificity_at_sensitivity: 0.9940 - recall: 0.7688 - precision: 0.8426\n",
      "Epoch 17: val_accuracy did not improve from 0.72762\n",
      "244/244 [==============================] - 176s 719ms/step - loss: 0.5170 - accuracy: 0.8063 - sensitivity_at_specificity: 0.9963 - specificity_at_sensitivity: 0.9940 - recall: 0.7688 - precision: 0.8426 - val_loss: 0.8124 - val_accuracy: 0.7230 - val_sensitivity_at_specificity: 0.9761 - val_specificity_at_sensitivity: 0.9809 - val_recall: 0.6904 - val_precision: 0.7564\n",
      "Epoch 18/50\n",
      "244/244 [==============================] - ETA: 0s - loss: 0.4961 - accuracy: 0.8134 - sensitivity_at_specificity: 0.9963 - specificity_at_sensitivity: 0.9949 - recall: 0.7763 - precision: 0.8476\n",
      "Epoch 18: val_accuracy did not improve from 0.72762\n",
      "244/244 [==============================] - 176s 719ms/step - loss: 0.4961 - accuracy: 0.8134 - sensitivity_at_specificity: 0.9963 - specificity_at_sensitivity: 0.9949 - recall: 0.7763 - precision: 0.8476 - val_loss: 0.8873 - val_accuracy: 0.7123 - val_sensitivity_at_specificity: 0.9660 - val_specificity_at_sensitivity: 0.9778 - val_recall: 0.6752 - val_precision: 0.7471\n",
      "Epoch 19/50\n",
      "244/244 [==============================] - ETA: 0s - loss: 0.4871 - accuracy: 0.8170 - sensitivity_at_specificity: 0.9964 - specificity_at_sensitivity: 0.9954 - recall: 0.7820 - precision: 0.8514\n",
      "Epoch 19: val_accuracy did not improve from 0.72762\n",
      "244/244 [==============================] - 176s 719ms/step - loss: 0.4871 - accuracy: 0.8170 - sensitivity_at_specificity: 0.9964 - specificity_at_sensitivity: 0.9954 - recall: 0.7820 - precision: 0.8514 - val_loss: 1.0052 - val_accuracy: 0.6956 - val_sensitivity_at_specificity: 0.9526 - val_specificity_at_sensitivity: 0.9714 - val_recall: 0.6629 - val_precision: 0.7213\n",
      "Epoch 20/50\n",
      "244/244 [==============================] - ETA: 0s - loss: 0.4788 - accuracy: 0.8201 - sensitivity_at_specificity: 0.9968 - specificity_at_sensitivity: 0.9955 - recall: 0.7843 - precision: 0.8531\n",
      "Epoch 20: val_accuracy did not improve from 0.72762\n",
      "244/244 [==============================] - 176s 720ms/step - loss: 0.4788 - accuracy: 0.8201 - sensitivity_at_specificity: 0.9968 - specificity_at_sensitivity: 0.9955 - recall: 0.7843 - precision: 0.8531 - val_loss: 1.0191 - val_accuracy: 0.6912 - val_sensitivity_at_specificity: 0.9538 - val_specificity_at_sensitivity: 0.9735 - val_recall: 0.6590 - val_precision: 0.7229\n",
      "Epoch 21/50\n",
      "244/244 [==============================] - ETA: 0s - loss: 0.4775 - accuracy: 0.8182 - sensitivity_at_specificity: 0.9962 - specificity_at_sensitivity: 0.9960 - recall: 0.7852 - precision: 0.8517\n",
      "Epoch 21: val_accuracy did not improve from 0.72762\n",
      "244/244 [==============================] - 175s 718ms/step - loss: 0.4775 - accuracy: 0.8182 - sensitivity_at_specificity: 0.9962 - specificity_at_sensitivity: 0.9960 - recall: 0.7852 - precision: 0.8517 - val_loss: 0.8995 - val_accuracy: 0.7087 - val_sensitivity_at_specificity: 0.9658 - val_specificity_at_sensitivity: 0.9752 - val_recall: 0.6716 - val_precision: 0.7466\n",
      "Epoch 22/50\n",
      "244/244 [==============================] - ETA: 0s - loss: 0.4640 - accuracy: 0.8247 - sensitivity_at_specificity: 0.9984 - specificity_at_sensitivity: 0.9960 - recall: 0.7930 - precision: 0.8559\n",
      "Epoch 22: val_accuracy did not improve from 0.72762\n",
      "244/244 [==============================] - 181s 743ms/step - loss: 0.4640 - accuracy: 0.8247 - sensitivity_at_specificity: 0.9984 - specificity_at_sensitivity: 0.9960 - recall: 0.7930 - precision: 0.8559 - val_loss: 0.9353 - val_accuracy: 0.7126 - val_sensitivity_at_specificity: 0.9580 - val_specificity_at_sensitivity: 0.9763 - val_recall: 0.6799 - val_precision: 0.7410\n",
      "Epoch 23/50\n",
      "244/244 [==============================] - ETA: 0s - loss: 0.4568 - accuracy: 0.8291 - sensitivity_at_specificity: 0.9987 - specificity_at_sensitivity: 0.9962 - recall: 0.7965 - precision: 0.8574\n",
      "Epoch 23: val_accuracy did not improve from 0.72762\n",
      "244/244 [==============================] - 176s 720ms/step - loss: 0.4568 - accuracy: 0.8291 - sensitivity_at_specificity: 0.9987 - specificity_at_sensitivity: 0.9962 - recall: 0.7965 - precision: 0.8574 - val_loss: 0.9193 - val_accuracy: 0.7041 - val_sensitivity_at_specificity: 0.9629 - val_specificity_at_sensitivity: 0.9763 - val_recall: 0.6688 - val_precision: 0.7396\n",
      "Epoch 24/50\n",
      "244/244 [==============================] - ETA: 0s - loss: 0.4347 - accuracy: 0.8371 - sensitivity_at_specificity: 0.9988 - specificity_at_sensitivity: 0.9967 - recall: 0.8072 - precision: 0.8653\n",
      "Epoch 24: val_accuracy did not improve from 0.72762\n",
      "244/244 [==============================] - 176s 719ms/step - loss: 0.4347 - accuracy: 0.8371 - sensitivity_at_specificity: 0.9988 - specificity_at_sensitivity: 0.9967 - recall: 0.8072 - precision: 0.8653 - val_loss: 0.9995 - val_accuracy: 0.6987 - val_sensitivity_at_specificity: 0.9549 - val_specificity_at_sensitivity: 0.9737 - val_recall: 0.6675 - val_precision: 0.7266\n",
      "Epoch 25/50\n",
      "244/244 [==============================] - ETA: 0s - loss: 0.4267 - accuracy: 0.8392 - sensitivity_at_specificity: 0.9987 - specificity_at_sensitivity: 0.9969 - recall: 0.8121 - precision: 0.8662\n",
      "Epoch 25: val_accuracy did not improve from 0.72762\n",
      "244/244 [==============================] - 176s 719ms/step - loss: 0.4267 - accuracy: 0.8392 - sensitivity_at_specificity: 0.9987 - specificity_at_sensitivity: 0.9969 - recall: 0.8121 - precision: 0.8662 - val_loss: 1.0124 - val_accuracy: 0.7037 - val_sensitivity_at_specificity: 0.9490 - val_specificity_at_sensitivity: 0.9735 - val_recall: 0.6800 - val_precision: 0.7271\n",
      "Epoch 26/50\n",
      "244/244 [==============================] - ETA: 0s - loss: 0.4272 - accuracy: 0.8385 - sensitivity_at_specificity: 0.9986 - specificity_at_sensitivity: 0.9972 - recall: 0.8096 - precision: 0.8669\n",
      "Epoch 26: val_accuracy did not improve from 0.72762\n",
      "244/244 [==============================] - 176s 719ms/step - loss: 0.4272 - accuracy: 0.8385 - sensitivity_at_specificity: 0.9986 - specificity_at_sensitivity: 0.9972 - recall: 0.8096 - precision: 0.8669 - val_loss: 1.0906 - val_accuracy: 0.6851 - val_sensitivity_at_specificity: 0.9438 - val_specificity_at_sensitivity: 0.9676 - val_recall: 0.6466 - val_precision: 0.7163\n"
     ]
    },
    {
     "name": "stdout",
     "output_type": "stream",
     "text": [
      "Epoch 27/50\n",
      "244/244 [==============================] - ETA: 0s - loss: 0.4159 - accuracy: 0.8451 - sensitivity_at_specificity: 0.9988 - specificity_at_sensitivity: 0.9974 - recall: 0.8180 - precision: 0.8705\n",
      "Epoch 27: val_accuracy did not improve from 0.72762\n",
      "244/244 [==============================] - 175s 719ms/step - loss: 0.4159 - accuracy: 0.8451 - sensitivity_at_specificity: 0.9988 - specificity_at_sensitivity: 0.9974 - recall: 0.8180 - precision: 0.8705 - val_loss: 0.9616 - val_accuracy: 0.7131 - val_sensitivity_at_specificity: 0.9554 - val_specificity_at_sensitivity: 0.9773 - val_recall: 0.6799 - val_precision: 0.7488\n",
      "Epoch 28/50\n",
      "244/244 [==============================] - ETA: 0s - loss: 0.4107 - accuracy: 0.8482 - sensitivity_at_specificity: 0.9987 - specificity_at_sensitivity: 0.9975 - recall: 0.8199 - precision: 0.8729\n",
      "Epoch 28: val_accuracy did not improve from 0.72762\n",
      "244/244 [==============================] - 176s 719ms/step - loss: 0.4107 - accuracy: 0.8482 - sensitivity_at_specificity: 0.9987 - specificity_at_sensitivity: 0.9975 - recall: 0.8199 - precision: 0.8729 - val_loss: 1.1333 - val_accuracy: 0.6864 - val_sensitivity_at_specificity: 0.9384 - val_specificity_at_sensitivity: 0.9685 - val_recall: 0.6601 - val_precision: 0.7117\n",
      "Epoch 29/50\n",
      "244/244 [==============================] - ETA: 0s - loss: 0.4063 - accuracy: 0.8483 - sensitivity_at_specificity: 0.9988 - specificity_at_sensitivity: 0.9975 - recall: 0.8233 - precision: 0.8730\n",
      "Epoch 29: val_accuracy did not improve from 0.72762\n",
      "244/244 [==============================] - 176s 719ms/step - loss: 0.4063 - accuracy: 0.8483 - sensitivity_at_specificity: 0.9988 - specificity_at_sensitivity: 0.9975 - recall: 0.8233 - precision: 0.8730 - val_loss: 1.0360 - val_accuracy: 0.7063 - val_sensitivity_at_specificity: 0.9574 - val_specificity_at_sensitivity: 0.9744 - val_recall: 0.6822 - val_precision: 0.7311\n",
      "Epoch 30/50\n",
      "244/244 [==============================] - ETA: 0s - loss: 0.3999 - accuracy: 0.8476 - sensitivity_at_specificity: 0.9988 - specificity_at_sensitivity: 0.9979 - recall: 0.8233 - precision: 0.8738\n",
      "Epoch 30: val_accuracy did not improve from 0.72762\n",
      "244/244 [==============================] - 176s 719ms/step - loss: 0.3999 - accuracy: 0.8476 - sensitivity_at_specificity: 0.9988 - specificity_at_sensitivity: 0.9979 - recall: 0.8233 - precision: 0.8738 - val_loss: 1.2479 - val_accuracy: 0.6890 - val_sensitivity_at_specificity: 0.9372 - val_specificity_at_sensitivity: 0.9687 - val_recall: 0.6677 - val_precision: 0.7117\n",
      "Epoch 31/50\n",
      "244/244 [==============================] - ETA: 0s - loss: 0.3840 - accuracy: 0.8545 - sensitivity_at_specificity: 0.9988 - specificity_at_sensitivity: 0.9980 - recall: 0.8321 - precision: 0.8773\n",
      "Epoch 31: val_accuracy did not improve from 0.72762\n",
      "244/244 [==============================] - 176s 719ms/step - loss: 0.3840 - accuracy: 0.8545 - sensitivity_at_specificity: 0.9988 - specificity_at_sensitivity: 0.9980 - recall: 0.8321 - precision: 0.8773 - val_loss: 1.1139 - val_accuracy: 0.6945 - val_sensitivity_at_specificity: 0.9524 - val_specificity_at_sensitivity: 0.9699 - val_recall: 0.6691 - val_precision: 0.7190\n",
      "Epoch 32/50\n",
      "244/244 [==============================] - ETA: 0s - loss: 0.3742 - accuracy: 0.8596 - sensitivity_at_specificity: 0.9987 - specificity_at_sensitivity: 0.9982 - recall: 0.8360 - precision: 0.8822\n",
      "Epoch 32: val_accuracy did not improve from 0.72762\n",
      "244/244 [==============================] - 176s 719ms/step - loss: 0.3742 - accuracy: 0.8596 - sensitivity_at_specificity: 0.9987 - specificity_at_sensitivity: 0.9982 - recall: 0.8360 - precision: 0.8822 - val_loss: 1.0870 - val_accuracy: 0.7063 - val_sensitivity_at_specificity: 0.9508 - val_specificity_at_sensitivity: 0.9746 - val_recall: 0.6883 - val_precision: 0.7225\n",
      "Epoch 33/50\n",
      "244/244 [==============================] - ETA: 0s - loss: 0.3627 - accuracy: 0.8626 - sensitivity_at_specificity: 0.9987 - specificity_at_sensitivity: 0.9985 - recall: 0.8427 - precision: 0.8827\n",
      "Epoch 33: val_accuracy did not improve from 0.72762\n",
      "244/244 [==============================] - 176s 719ms/step - loss: 0.3627 - accuracy: 0.8626 - sensitivity_at_specificity: 0.9987 - specificity_at_sensitivity: 0.9985 - recall: 0.8427 - precision: 0.8827 - val_loss: 1.4197 - val_accuracy: 0.6581 - val_sensitivity_at_specificity: 0.9170 - val_specificity_at_sensitivity: 0.9593 - val_recall: 0.6362 - val_precision: 0.6776\n",
      "Epoch 34/50\n",
      "244/244 [==============================] - ETA: 0s - loss: 0.3782 - accuracy: 0.8582 - sensitivity_at_specificity: 0.9987 - specificity_at_sensitivity: 0.9981 - recall: 0.8372 - precision: 0.8801\n",
      "Epoch 34: val_accuracy did not improve from 0.72762\n",
      "244/244 [==============================] - 176s 719ms/step - loss: 0.3782 - accuracy: 0.8582 - sensitivity_at_specificity: 0.9987 - specificity_at_sensitivity: 0.9981 - recall: 0.8372 - precision: 0.8801 - val_loss: 1.0896 - val_accuracy: 0.7161 - val_sensitivity_at_specificity: 0.9502 - val_specificity_at_sensitivity: 0.9765 - val_recall: 0.6962 - val_precision: 0.7328\n",
      "Epoch 35/50\n",
      "244/244 [==============================] - ETA: 0s - loss: 0.3620 - accuracy: 0.8634 - sensitivity_at_specificity: 0.9988 - specificity_at_sensitivity: 0.9984 - recall: 0.8429 - precision: 0.8847\n",
      "Epoch 35: val_accuracy did not improve from 0.72762\n",
      "244/244 [==============================] - 176s 719ms/step - loss: 0.3620 - accuracy: 0.8634 - sensitivity_at_specificity: 0.9988 - specificity_at_sensitivity: 0.9984 - recall: 0.8429 - precision: 0.8847 - val_loss: 1.2141 - val_accuracy: 0.6818 - val_sensitivity_at_specificity: 0.9456 - val_specificity_at_sensitivity: 0.9669 - val_recall: 0.6596 - val_precision: 0.7004\n",
      "Epoch 36/50\n",
      "244/244 [==============================] - ETA: 0s - loss: 0.3545 - accuracy: 0.8681 - sensitivity_at_specificity: 0.9987 - specificity_at_sensitivity: 0.9985 - recall: 0.8476 - precision: 0.8876\n",
      "Epoch 36: val_accuracy did not improve from 0.72762\n",
      "244/244 [==============================] - 176s 719ms/step - loss: 0.3545 - accuracy: 0.8681 - sensitivity_at_specificity: 0.9987 - specificity_at_sensitivity: 0.9985 - recall: 0.8476 - precision: 0.8876 - val_loss: 1.1154 - val_accuracy: 0.6962 - val_sensitivity_at_specificity: 0.9475 - val_specificity_at_sensitivity: 0.9736 - val_recall: 0.6742 - val_precision: 0.7202\n",
      "Epoch 37/50\n",
      "244/244 [==============================] - ETA: 0s - loss: 0.3427 - accuracy: 0.8717 - sensitivity_at_specificity: 0.9986 - specificity_at_sensitivity: 0.9989 - recall: 0.8523 - precision: 0.8908\n",
      "Epoch 37: val_accuracy did not improve from 0.72762\n",
      "244/244 [==============================] - 176s 719ms/step - loss: 0.3427 - accuracy: 0.8717 - sensitivity_at_specificity: 0.9986 - specificity_at_sensitivity: 0.9989 - recall: 0.8523 - precision: 0.8908 - val_loss: 1.1405 - val_accuracy: 0.6996 - val_sensitivity_at_specificity: 0.9409 - val_specificity_at_sensitivity: 0.9698 - val_recall: 0.6796 - val_precision: 0.7188\n",
      "Epoch 38/50\n",
      "244/244 [==============================] - ETA: 0s - loss: 0.3391 - accuracy: 0.8711 - sensitivity_at_specificity: 0.9990 - specificity_at_sensitivity: 0.9988 - recall: 0.8525 - precision: 0.8904\n",
      "Epoch 38: val_accuracy did not improve from 0.72762\n",
      "244/244 [==============================] - 176s 719ms/step - loss: 0.3391 - accuracy: 0.8711 - sensitivity_at_specificity: 0.9990 - specificity_at_sensitivity: 0.9988 - recall: 0.8525 - precision: 0.8904 - val_loss: 1.1634 - val_accuracy: 0.7022 - val_sensitivity_at_specificity: 0.9409 - val_specificity_at_sensitivity: 0.9723 - val_recall: 0.6827 - val_precision: 0.7200\n",
      "Epoch 39/50\n",
      "244/244 [==============================] - ETA: 0s - loss: 0.3317 - accuracy: 0.8750 - sensitivity_at_specificity: 0.9988 - specificity_at_sensitivity: 0.9990 - recall: 0.8578 - precision: 0.8937\n",
      "Epoch 39: val_accuracy did not improve from 0.72762\n",
      "244/244 [==============================] - 176s 719ms/step - loss: 0.3317 - accuracy: 0.8750 - sensitivity_at_specificity: 0.9988 - specificity_at_sensitivity: 0.9990 - recall: 0.8578 - precision: 0.8937 - val_loss: 1.1811 - val_accuracy: 0.7086 - val_sensitivity_at_specificity: 0.9391 - val_specificity_at_sensitivity: 0.9751 - val_recall: 0.6914 - val_precision: 0.7271\n"
     ]
    },
    {
     "name": "stdout",
     "output_type": "stream",
     "text": [
      "Epoch 40/50\n",
      "244/244 [==============================] - ETA: 0s - loss: 0.3231 - accuracy: 0.8785 - sensitivity_at_specificity: 0.9988 - specificity_at_sensitivity: 0.9990 - recall: 0.8610 - precision: 0.8960\n",
      "Epoch 40: val_accuracy did not improve from 0.72762\n",
      "244/244 [==============================] - 176s 719ms/step - loss: 0.3231 - accuracy: 0.8785 - sensitivity_at_specificity: 0.9988 - specificity_at_sensitivity: 0.9990 - recall: 0.8610 - precision: 0.8960 - val_loss: 1.2440 - val_accuracy: 0.6883 - val_sensitivity_at_specificity: 0.9340 - val_specificity_at_sensitivity: 0.9716 - val_recall: 0.6757 - val_precision: 0.7052\n",
      "Epoch 41/50\n",
      "244/244 [==============================] - ETA: 0s - loss: 0.3038 - accuracy: 0.8869 - sensitivity_at_specificity: 0.9987 - specificity_at_sensitivity: 0.9991 - recall: 0.8722 - precision: 0.9031\n",
      "Epoch 41: val_accuracy did not improve from 0.72762\n",
      "244/244 [==============================] - 176s 720ms/step - loss: 0.3038 - accuracy: 0.8869 - sensitivity_at_specificity: 0.9987 - specificity_at_sensitivity: 0.9991 - recall: 0.8722 - precision: 0.9031 - val_loss: 1.1992 - val_accuracy: 0.7018 - val_sensitivity_at_specificity: 0.9380 - val_specificity_at_sensitivity: 0.9742 - val_recall: 0.6872 - val_precision: 0.7168\n",
      "Epoch 42/50\n",
      "244/244 [==============================] - ETA: 0s - loss: 0.3111 - accuracy: 0.8810 - sensitivity_at_specificity: 0.9988 - specificity_at_sensitivity: 0.9992 - recall: 0.8645 - precision: 0.8982\n",
      "Epoch 42: val_accuracy did not improve from 0.72762\n",
      "244/244 [==============================] - 176s 720ms/step - loss: 0.3111 - accuracy: 0.8810 - sensitivity_at_specificity: 0.9988 - specificity_at_sensitivity: 0.9992 - recall: 0.8645 - precision: 0.8982 - val_loss: 1.4063 - val_accuracy: 0.6940 - val_sensitivity_at_specificity: 0.9140 - val_specificity_at_sensitivity: 0.9668 - val_recall: 0.6816 - val_precision: 0.7075\n",
      "Epoch 43/50\n",
      "244/244 [==============================] - ETA: 0s - loss: 0.2918 - accuracy: 0.8912 - sensitivity_at_specificity: 0.9988 - specificity_at_sensitivity: 0.9993 - recall: 0.8764 - precision: 0.9056\n",
      "Epoch 43: val_accuracy did not improve from 0.72762\n",
      "244/244 [==============================] - 176s 719ms/step - loss: 0.2918 - accuracy: 0.8912 - sensitivity_at_specificity: 0.9988 - specificity_at_sensitivity: 0.9993 - recall: 0.8764 - precision: 0.9056 - val_loss: 1.4789 - val_accuracy: 0.6811 - val_sensitivity_at_specificity: 0.9113 - val_specificity_at_sensitivity: 0.9626 - val_recall: 0.6634 - val_precision: 0.6957\n",
      "Epoch 44/50\n",
      "244/244 [==============================] - ETA: 0s - loss: 0.2914 - accuracy: 0.8903 - sensitivity_at_specificity: 0.9989 - specificity_at_sensitivity: 0.9995 - recall: 0.8758 - precision: 0.9062\n",
      "Epoch 44: val_accuracy did not improve from 0.72762\n",
      "244/244 [==============================] - 176s 720ms/step - loss: 0.2914 - accuracy: 0.8903 - sensitivity_at_specificity: 0.9989 - specificity_at_sensitivity: 0.9995 - recall: 0.8758 - precision: 0.9062 - val_loss: 1.3221 - val_accuracy: 0.6856 - val_sensitivity_at_specificity: 0.9314 - val_specificity_at_sensitivity: 0.9663 - val_recall: 0.6656 - val_precision: 0.7039\n",
      "Epoch 45/50\n",
      "244/244 [==============================] - ETA: 0s - loss: 0.2796 - accuracy: 0.8952 - sensitivity_at_specificity: 0.9988 - specificity_at_sensitivity: 0.9995 - recall: 0.8809 - precision: 0.9090\n",
      "Epoch 45: val_accuracy did not improve from 0.72762\n",
      "244/244 [==============================] - 176s 720ms/step - loss: 0.2796 - accuracy: 0.8952 - sensitivity_at_specificity: 0.9988 - specificity_at_sensitivity: 0.9995 - recall: 0.8809 - precision: 0.9090 - val_loss: 1.5757 - val_accuracy: 0.6592 - val_sensitivity_at_specificity: 0.9072 - val_specificity_at_sensitivity: 0.9587 - val_recall: 0.6449 - val_precision: 0.6724\n",
      "Epoch 46/50\n",
      "244/244 [==============================] - ETA: 0s - loss: 0.2796 - accuracy: 0.8943 - sensitivity_at_specificity: 0.9991 - specificity_at_sensitivity: 0.9996 - recall: 0.8808 - precision: 0.9072\n",
      "Epoch 46: val_accuracy did not improve from 0.72762\n",
      "244/244 [==============================] - 176s 719ms/step - loss: 0.2796 - accuracy: 0.8943 - sensitivity_at_specificity: 0.9991 - specificity_at_sensitivity: 0.9996 - recall: 0.8808 - precision: 0.9072 - val_loss: 1.2770 - val_accuracy: 0.6913 - val_sensitivity_at_specificity: 0.9325 - val_specificity_at_sensitivity: 0.9682 - val_recall: 0.6719 - val_precision: 0.7077\n",
      "Epoch 47/50\n",
      "244/244 [==============================] - ETA: 0s - loss: 0.2746 - accuracy: 0.8970 - sensitivity_at_specificity: 0.9989 - specificity_at_sensitivity: 0.9995 - recall: 0.8840 - precision: 0.9109\n",
      "Epoch 47: val_accuracy did not improve from 0.72762\n",
      "244/244 [==============================] - 176s 720ms/step - loss: 0.2746 - accuracy: 0.8970 - sensitivity_at_specificity: 0.9989 - specificity_at_sensitivity: 0.9995 - recall: 0.8840 - precision: 0.9109 - val_loss: 1.6288 - val_accuracy: 0.6592 - val_sensitivity_at_specificity: 0.9007 - val_specificity_at_sensitivity: 0.9550 - val_recall: 0.6431 - val_precision: 0.6711\n",
      "Epoch 48/50\n",
      "244/244 [==============================] - ETA: 0s - loss: 0.2761 - accuracy: 0.8950 - sensitivity_at_specificity: 0.9990 - specificity_at_sensitivity: 0.9996 - recall: 0.8832 - precision: 0.9098\n",
      "Epoch 48: val_accuracy did not improve from 0.72762\n",
      "244/244 [==============================] - 175s 718ms/step - loss: 0.2761 - accuracy: 0.8950 - sensitivity_at_specificity: 0.9990 - specificity_at_sensitivity: 0.9996 - recall: 0.8832 - precision: 0.9098 - val_loss: 1.4406 - val_accuracy: 0.6878 - val_sensitivity_at_specificity: 0.9140 - val_specificity_at_sensitivity: 0.9672 - val_recall: 0.6755 - val_precision: 0.7034\n",
      "Epoch 49/50\n",
      "244/244 [==============================] - ETA: 0s - loss: 0.2695 - accuracy: 0.8981 - sensitivity_at_specificity: 0.9990 - specificity_at_sensitivity: 0.9995 - recall: 0.8847 - precision: 0.9113\n",
      "Epoch 49: val_accuracy did not improve from 0.72762\n",
      "244/244 [==============================] - 176s 719ms/step - loss: 0.2695 - accuracy: 0.8981 - sensitivity_at_specificity: 0.9990 - specificity_at_sensitivity: 0.9995 - recall: 0.8847 - precision: 0.9113 - val_loss: 1.5406 - val_accuracy: 0.6728 - val_sensitivity_at_specificity: 0.9073 - val_specificity_at_sensitivity: 0.9658 - val_recall: 0.6590 - val_precision: 0.6876\n",
      "Epoch 50/50\n",
      "244/244 [==============================] - ETA: 0s - loss: 0.2606 - accuracy: 0.9012 - sensitivity_at_specificity: 0.9988 - specificity_at_sensitivity: 0.9996 - recall: 0.8885 - precision: 0.9145\n",
      "Epoch 50: val_accuracy did not improve from 0.72762\n",
      "244/244 [==============================] - 175s 719ms/step - loss: 0.2606 - accuracy: 0.9012 - sensitivity_at_specificity: 0.9988 - specificity_at_sensitivity: 0.9996 - recall: 0.8885 - precision: 0.9145 - val_loss: 1.7314 - val_accuracy: 0.6682 - val_sensitivity_at_specificity: 0.8921 - val_specificity_at_sensitivity: 0.9585 - val_recall: 0.6539 - val_precision: 0.6818\n"
     ]
    }
   ],
   "source": [
    "# Fit the model\n",
    "from keras.callbacks import ModelCheckpoint, EarlyStopping\n",
    "\n",
    "checkpoint = ModelCheckpoint(\"ECG_Spectrogram_Model.h5\", monitor='val_accuracy', verbose=1, save_best_only=True, save_weights_only=False, mode='auto', period=1)\n",
    "history = model.fit(train_data, steps_per_epoch=len(train_data), epochs=50, validation_data=val_data, validation_steps=len(val_data),callbacks = [callbacks,checkpoint])"
   ]
  },
  {
   "cell_type": "code",
   "execution_count": 18,
   "id": "4a9cd136",
   "metadata": {},
   "outputs": [
    {
     "name": "stdout",
     "output_type": "stream",
     "text": [
      "Training Accuracy:  0.9011728763580322\n",
      "Validation Accuracy:  0.7276229858398438\n",
      "Validation Specificity:  0.9823102355003357\n",
      "Validation Sensitivity:  0.9811223745346069\n",
      "Validation Recall:  0.6961602568626404\n",
      "Validation Precision:  0.7794956564903259\n",
      "Validation Loss:  0.7787866592407227\n"
     ]
    }
   ],
   "source": [
    "#Acquiring Performance metrics\n",
    "\n",
    "Training_Accuracy=history.history['accuracy']\n",
    "Validation_Accuracy=history.history['val_accuracy']\n",
    "Validation_Specificity=history.history['val_specificity_at_sensitivity']\n",
    "Validation_Sensitivity=history.history['val_sensitivity_at_specificity']\n",
    "Validation_Recall=history.history['val_recall']\n",
    "Validation_Precision=history.history['val_precision']\n",
    "Validation_Loss=history.history['val_loss']\n",
    "\n",
    "print(\"Training Accuracy: \",max(Training_Accuracy))\n",
    "print(\"Validation Accuracy: \",max(Validation_Accuracy))\n",
    "print(\"Validation Specificity: \",max(Validation_Specificity))\n",
    "print(\"Validation Sensitivity: \",max(Validation_Sensitivity))\n",
    "print(\"Validation Recall: \",max(Validation_Recall))\n",
    "print(\"Validation Precision: \",max(Validation_Precision))\n",
    "print(\"Validation Loss: \",min(Validation_Loss))"
   ]
  },
  {
   "cell_type": "code",
   "execution_count": null,
   "id": "5cc414df",
   "metadata": {},
   "outputs": [],
   "source": []
  }
 ],
 "metadata": {
  "kernelspec": {
   "display_name": "Python 3 (ipykernel)",
   "language": "python",
   "name": "python3"
  },
  "language_info": {
   "codemirror_mode": {
    "name": "ipython",
    "version": 3
   },
   "file_extension": ".py",
   "mimetype": "text/x-python",
   "name": "python",
   "nbconvert_exporter": "python",
   "pygments_lexer": "ipython3",
   "version": "3.10.6"
  }
 },
 "nbformat": 4,
 "nbformat_minor": 5
}
