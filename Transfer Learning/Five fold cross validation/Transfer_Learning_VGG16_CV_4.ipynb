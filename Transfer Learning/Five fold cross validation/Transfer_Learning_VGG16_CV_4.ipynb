{
 "cells": [
  {
   "cell_type": "code",
   "execution_count": 1,
   "id": "e1e32307",
   "metadata": {},
   "outputs": [
    {
     "name": "stdout",
     "output_type": "stream",
     "text": [
      "2.9.1\n"
     ]
    }
   ],
   "source": [
    "#checking tensorflow version\n",
    "\n",
    "import tensorflow as tf\n",
    "print(tf.__version__)"
   ]
  },
  {
   "cell_type": "code",
   "execution_count": 2,
   "id": "4b0746ad",
   "metadata": {},
   "outputs": [],
   "source": [
    "#importing libraries \n",
    "\n",
    "import tensorflow as tf\n",
    "from tensorflow import keras\n",
    "from keras.layers import Input, Conv2D, Dense, Flatten, BatchNormalization, Dropout, MaxPooling2D, GlobalMaxPooling2D\n",
    "from keras.models import Model\n",
    "import matplotlib.pyplot as plt\n",
    "from keras.preprocessing import image\n",
    "#from keras.preprocessing.image import load_img\n",
    "from keras.models import Sequential\n",
    "import numpy as np\n",
    "from tensorflow.keras import regularizers"
   ]
  },
  {
   "cell_type": "code",
   "execution_count": 3,
   "id": "a2880923",
   "metadata": {},
   "outputs": [],
   "source": [
    "# Cross Validation dataset links\n",
    "\n",
    "#CV-1\n",
    "#train_dir=\"/home/ubuntu/From_Laptop/multi-class-NEW/12-Lead_ECG_version_2/DA_version_3/Model_Training/K-Fold Cross Validation/Fold 1/Training/\"\n",
    "#val_dir=\"/home/ubuntu/From_Laptop/multi-class-NEW/12-Lead_ECG_version_2/DA_version_3/Model_Training/K-Fold Cross Validation/Fold 1/Validation/\"\n",
    "\n",
    "#CV-2\n",
    "#train_dir=\"/home/ubuntu/From_Laptop/multi-class-NEW/12-Lead_ECG_version_2/DA_version_3/Model_Training/K-Fold Cross Validation/Fold 2/Training/\"\n",
    "#val_dir=\"/home/ubuntu/From_Laptop/multi-class-NEW/12-Lead_ECG_version_2/DA_version_3/Model_Training/K-Fold Cross Validation/Fold 2/Validation/\"\n",
    "\n",
    "#CV-3\n",
    "#train_dir=\"/home/ubuntu/From_Laptop/multi-class-NEW/12-Lead_ECG_version_2/DA_version_3/Model_Training/K-Fold Cross Validation/Fold 3/Training/\"\n",
    "#val_dir=\"/home/ubuntu/From_Laptop/multi-class-NEW/12-Lead_ECG_version_2/DA_version_3/Model_Training/K-Fold Cross Validation/Fold 3/Validation/\"\n",
    "\n",
    "#CV-4\n",
    "train_dir=\"/home/ubuntu/From_Laptop/multi-class-NEW/12-Lead_ECG_version_2/DA_version_3/Model_Training/K-Fold Cross Validation/Fold 4/Training/\"\n",
    "val_dir=\"/home/ubuntu/From_Laptop/multi-class-NEW/12-Lead_ECG_version_2/DA_version_3/Model_Training/K-Fold Cross Validation/Fold 4/Validation/\"\n",
    "\n",
    "#CV-5\n",
    "#train_dir=\"/home/ubuntu/From_Laptop/multi-class-NEW/12-Lead_ECG_version_2/DA_version_3/Model_Training/K-Fold Cross Validation/Fold 5/Training/\"\n",
    "#val_dir=\"/home/ubuntu/From_Laptop/multi-class-NEW/12-Lead_ECG_version_2/DA_version_3/Model_Training/K-Fold Cross Validation/Fold 5/Validation/\""
   ]
  },
  {
   "cell_type": "code",
   "execution_count": 4,
   "id": "b2f80645",
   "metadata": {},
   "outputs": [
    {
     "name": "stdout",
     "output_type": "stream",
     "text": [
      "Found 31206 files belonging to 5 classes.\n"
     ]
    },
    {
     "name": "stderr",
     "output_type": "stream",
     "text": [
      "2023-01-06 20:47:51.943833: I tensorflow/stream_executor/cuda/cuda_gpu_executor.cc:975] successful NUMA node read from SysFS had negative value (-1), but there must be at least one NUMA node, so returning NUMA node zero\n",
      "2023-01-06 20:47:51.990943: I tensorflow/stream_executor/cuda/cuda_gpu_executor.cc:975] successful NUMA node read from SysFS had negative value (-1), but there must be at least one NUMA node, so returning NUMA node zero\n",
      "2023-01-06 20:47:51.991283: I tensorflow/stream_executor/cuda/cuda_gpu_executor.cc:975] successful NUMA node read from SysFS had negative value (-1), but there must be at least one NUMA node, so returning NUMA node zero\n",
      "2023-01-06 20:47:51.992358: I tensorflow/core/platform/cpu_feature_guard.cc:193] This TensorFlow binary is optimized with oneAPI Deep Neural Network Library (oneDNN) to use the following CPU instructions in performance-critical operations:  AVX2 FMA\n",
      "To enable them in other operations, rebuild TensorFlow with the appropriate compiler flags.\n",
      "2023-01-06 20:47:51.992839: I tensorflow/stream_executor/cuda/cuda_gpu_executor.cc:975] successful NUMA node read from SysFS had negative value (-1), but there must be at least one NUMA node, so returning NUMA node zero\n",
      "2023-01-06 20:47:51.993139: I tensorflow/stream_executor/cuda/cuda_gpu_executor.cc:975] successful NUMA node read from SysFS had negative value (-1), but there must be at least one NUMA node, so returning NUMA node zero\n",
      "2023-01-06 20:47:51.993306: I tensorflow/stream_executor/cuda/cuda_gpu_executor.cc:975] successful NUMA node read from SysFS had negative value (-1), but there must be at least one NUMA node, so returning NUMA node zero\n",
      "2023-01-06 20:47:52.461852: I tensorflow/stream_executor/cuda/cuda_gpu_executor.cc:975] successful NUMA node read from SysFS had negative value (-1), but there must be at least one NUMA node, so returning NUMA node zero\n",
      "2023-01-06 20:47:52.462097: I tensorflow/stream_executor/cuda/cuda_gpu_executor.cc:975] successful NUMA node read from SysFS had negative value (-1), but there must be at least one NUMA node, so returning NUMA node zero\n",
      "2023-01-06 20:47:52.462258: I tensorflow/stream_executor/cuda/cuda_gpu_executor.cc:975] successful NUMA node read from SysFS had negative value (-1), but there must be at least one NUMA node, so returning NUMA node zero\n",
      "2023-01-06 20:47:52.462385: I tensorflow/core/common_runtime/gpu/gpu_device.cc:1532] Created device /job:localhost/replica:0/task:0/device:GPU:0 with 7380 MB memory:  -> device: 0, name: NVIDIA GeForce GTX 1080, pci bus id: 0000:00:05.0, compute capability: 6.1\n"
     ]
    },
    {
     "name": "stdout",
     "output_type": "stream",
     "text": [
      "Found 7787 files belonging to 5 classes.\n"
     ]
    }
   ],
   "source": [
    "from tensorflow.keras import layers\n",
    "\n",
    "train_data = tf.keras.preprocessing.image_dataset_from_directory(directory=train_dir,\n",
    "                                                                 image_size=(256,256),\n",
    "                                                                 label_mode='categorical', batch_size=128, \n",
    "                                                                 )\n",
    "val_data = tf.keras.preprocessing.image_dataset_from_directory(directory=val_dir,\n",
    "                                                                 image_size=(256,256),\n",
    "                                                                 label_mode='categorical', batch_size=128,\n",
    "                                                                )"
   ]
  },
  {
   "cell_type": "code",
   "execution_count": 5,
   "id": "ca75c58f-bfe9-48bc-8e3a-e9ed7abe3cdf",
   "metadata": {},
   "outputs": [],
   "source": [
    "#Normalizing the data\n",
    "\n",
    "nrmzln_layer = layers.experimental.preprocessing.Rescaling(1./255)\n",
    "\n",
    "train_data = train_data.map(lambda x,\n",
    "                          y: (nrmzln_layer(x), y))\n",
    "\n",
    "val_data = val_data.map(lambda x,\n",
    "                          y: (nrmzln_layer(x), y))"
   ]
  },
  {
   "cell_type": "code",
   "execution_count": 6,
   "id": "2007b247",
   "metadata": {},
   "outputs": [],
   "source": [
    "#import tensorflow.python.keras.applications.VGG16\n",
    "base_model= tf.keras.applications.VGG16(weights= 'imagenet', input_shape=(256,256, 3), include_top=False) "
   ]
  },
  {
   "cell_type": "code",
   "execution_count": 7,
   "id": "3110cb3d",
   "metadata": {},
   "outputs": [],
   "source": [
    "# Freezing the base_model for transfer learning\n",
    "base_model.trainable= False"
   ]
  },
  {
   "cell_type": "code",
   "execution_count": 8,
   "id": "f9525074",
   "metadata": {},
   "outputs": [],
   "source": [
    "# Creating a new_model on the top\n",
    "inputs= tf.keras.Input(shape= (256, 256, 3), name=\"input_layer\")"
   ]
  },
  {
   "cell_type": "code",
   "execution_count": 9,
   "id": "f0e154d0",
   "metadata": {},
   "outputs": [],
   "source": [
    "x= base_model(inputs,training= False)"
   ]
  },
  {
   "cell_type": "code",
   "execution_count": 10,
   "id": "06eee106",
   "metadata": {},
   "outputs": [],
   "source": [
    "# Average pool the outputs of the base model\n",
    "x = tf.keras.layers.GlobalAveragePooling2D(name='Global_Average_Pooling_Layer')(x)"
   ]
  },
  {
   "cell_type": "code",
   "execution_count": 11,
   "id": "c97951c1",
   "metadata": {},
   "outputs": [],
   "source": [
    "# Output layer\n",
    "u = tf.keras.layers.Dense(1050, activation=\"relu\")(x)\n",
    "u = tf.keras.layers.Dense(512, activation=\"relu\")(u)\n",
    "u = tf.keras.layers.Dense(256, activation=\"relu\")(u)\n",
    "u = tf.keras.layers.Dense(128, activation=\"relu\")(u)\n",
    "outputs = tf.keras.layers.Dense(5, activation=\"softmax\",name=\"output_layer\")(u)"
   ]
  },
  {
   "cell_type": "code",
   "execution_count": 12,
   "id": "e15b01f3",
   "metadata": {},
   "outputs": [],
   "source": [
    "# Combine the model\n",
    "model = tf.keras.Model(inputs, outputs) "
   ]
  },
  {
   "cell_type": "code",
   "execution_count": 13,
   "id": "186a4092",
   "metadata": {},
   "outputs": [
    {
     "name": "stdout",
     "output_type": "stream",
     "text": [
      "Model: \"model\"\n",
      "_________________________________________________________________\n",
      " Layer (type)                Output Shape              Param #   \n",
      "=================================================================\n",
      " input_layer (InputLayer)    [(None, 256, 256, 3)]     0         \n",
      "                                                                 \n",
      " vgg16 (Functional)          (None, 8, 8, 512)         14714688  \n",
      "                                                                 \n",
      " Global_Average_Pooling_Laye  (None, 512)              0         \n",
      " r (GlobalAveragePooling2D)                                      \n",
      "                                                                 \n",
      " dense (Dense)               (None, 1050)              538650    \n",
      "                                                                 \n",
      " dense_1 (Dense)             (None, 512)               538112    \n",
      "                                                                 \n",
      " dense_2 (Dense)             (None, 256)               131328    \n",
      "                                                                 \n",
      " dense_3 (Dense)             (None, 128)               32896     \n",
      "                                                                 \n",
      " output_layer (Dense)        (None, 5)                 645       \n",
      "                                                                 \n",
      "=================================================================\n",
      "Total params: 15,956,319\n",
      "Trainable params: 1,241,631\n",
      "Non-trainable params: 14,714,688\n",
      "_________________________________________________________________\n"
     ]
    }
   ],
   "source": [
    "#printing model summary\n",
    "\n",
    "model.summary()"
   ]
  },
  {
   "cell_type": "code",
   "execution_count": 16,
   "id": "b07c7887",
   "metadata": {},
   "outputs": [],
   "source": [
    "# Compile the model\n",
    "\n",
    "from tensorflow.keras.metrics import SensitivityAtSpecificity,SpecificityAtSensitivity,Recall,Precision\n",
    "\n",
    "model.compile(loss= tf.losses.categorical_crossentropy, \n",
    "      optimizer = tf.keras.optimizers.Adam(learning_rate=0.001),\n",
    "              metrics=['accuracy',SensitivityAtSpecificity(0.5),SpecificityAtSensitivity(0.5),Recall(0.5),Precision(0.5)])"
   ]
  },
  {
   "cell_type": "code",
   "execution_count": 17,
   "id": "5105faca",
   "metadata": {},
   "outputs": [],
   "source": [
    "#defining callback \n",
    "class myCallback(tf.keras.callbacks.Callback):\n",
    "     def on_epoch_end(self, epoch, logs={}):\n",
    "        if(logs.get('val_accuracy')>0.99): \n",
    "          print(\"\\nReached 99% accuracy so cancelling training!\")\n",
    "          self.model.stop_training = True\n",
    "\n",
    "callbacks = myCallback()"
   ]
  },
  {
   "cell_type": "code",
   "execution_count": 18,
   "id": "595e70ba",
   "metadata": {
    "tags": []
   },
   "outputs": [
    {
     "name": "stdout",
     "output_type": "stream",
     "text": [
      "WARNING:tensorflow:`period` argument is deprecated. Please use `save_freq` to specify the frequency in number of batches seen.\n",
      "Epoch 1/50\n"
     ]
    },
    {
     "name": "stderr",
     "output_type": "stream",
     "text": [
      "2023-01-06 20:48:20.240559: I tensorflow/stream_executor/cuda/cuda_dnn.cc:384] Loaded cuDNN version 8100\n",
      "2023-01-06 20:48:20.665083: I tensorflow/core/platform/default/subprocess.cc:304] Start cannot spawn child process: No such file or directory\n"
     ]
    },
    {
     "name": "stdout",
     "output_type": "stream",
     "text": [
      "244/244 [==============================] - ETA: 0s - loss: 1.1921 - accuracy: 0.4979 - sensitivity_at_specificity_1: 0.8917 - specificity_at_sensitivity_1: 0.8845 - recall_1: 0.2856 - precision_1: 0.6954\n",
      "Epoch 1: val_accuracy improved from -inf to 0.63439, saving model to ECG_Spectrogram_Model.h5\n",
      "244/244 [==============================] - 203s 788ms/step - loss: 1.1921 - accuracy: 0.4979 - sensitivity_at_specificity_1: 0.8917 - specificity_at_sensitivity_1: 0.8845 - recall_1: 0.2856 - precision_1: 0.6954 - val_loss: 0.8951 - val_accuracy: 0.6344 - val_sensitivity_at_specificity_1: 0.9756 - val_specificity_at_sensitivity_1: 0.9561 - val_recall_1: 0.5047 - val_precision_1: 0.7383\n",
      "Epoch 2/50\n",
      "244/244 [==============================] - ETA: 0s - loss: 0.8968 - accuracy: 0.6437 - sensitivity_at_specificity_1: 0.9725 - specificity_at_sensitivity_1: 0.9585 - recall_1: 0.5203 - precision_1: 0.7408\n",
      "Epoch 2: val_accuracy did not improve from 0.63439\n",
      "244/244 [==============================] - 182s 746ms/step - loss: 0.8968 - accuracy: 0.6437 - sensitivity_at_specificity_1: 0.9725 - specificity_at_sensitivity_1: 0.9585 - recall_1: 0.5203 - precision_1: 0.7408 - val_loss: 0.9554 - val_accuracy: 0.6307 - val_sensitivity_at_specificity_1: 0.9594 - val_specificity_at_sensitivity_1: 0.9527 - val_recall_1: 0.5472 - val_precision_1: 0.6980\n",
      "Epoch 3/50\n",
      "244/244 [==============================] - ETA: 0s - loss: 0.7871 - accuracy: 0.6920 - sensitivity_at_specificity_1: 0.9830 - specificity_at_sensitivity_1: 0.9744 - recall_1: 0.6003 - precision_1: 0.7683\n",
      "Epoch 3: val_accuracy improved from 0.63439 to 0.68935, saving model to ECG_Spectrogram_Model.h5\n",
      "244/244 [==============================] - 182s 748ms/step - loss: 0.7871 - accuracy: 0.6920 - sensitivity_at_specificity_1: 0.9830 - specificity_at_sensitivity_1: 0.9744 - recall_1: 0.6003 - precision_1: 0.7683 - val_loss: 0.8008 - val_accuracy: 0.6894 - val_sensitivity_at_specificity_1: 0.9819 - val_specificity_at_sensitivity_1: 0.9750 - val_recall_1: 0.6168 - val_precision_1: 0.7606\n",
      "Epoch 4/50\n",
      "244/244 [==============================] - ETA: 0s - loss: 0.7413 - accuracy: 0.7133 - sensitivity_at_specificity_1: 0.9854 - specificity_at_sensitivity_1: 0.9795 - recall_1: 0.6353 - precision_1: 0.7789\n",
      "Epoch 4: val_accuracy improved from 0.68935 to 0.69179, saving model to ECG_Spectrogram_Model.h5\n",
      "244/244 [==============================] - 183s 748ms/step - loss: 0.7413 - accuracy: 0.7133 - sensitivity_at_specificity_1: 0.9854 - specificity_at_sensitivity_1: 0.9795 - recall_1: 0.6353 - precision_1: 0.7789 - val_loss: 0.8231 - val_accuracy: 0.6918 - val_sensitivity_at_specificity_1: 0.9783 - val_specificity_at_sensitivity_1: 0.9747 - val_recall_1: 0.6233 - val_precision_1: 0.7565\n",
      "Epoch 5/50\n",
      "244/244 [==============================] - ETA: 0s - loss: 0.7098 - accuracy: 0.7301 - sensitivity_at_specificity_1: 0.9879 - specificity_at_sensitivity_1: 0.9823 - recall_1: 0.6570 - precision_1: 0.7896\n",
      "Epoch 5: val_accuracy did not improve from 0.69179\n",
      "244/244 [==============================] - 182s 746ms/step - loss: 0.7098 - accuracy: 0.7301 - sensitivity_at_specificity_1: 0.9879 - specificity_at_sensitivity_1: 0.9823 - recall_1: 0.6570 - precision_1: 0.7896 - val_loss: 0.8593 - val_accuracy: 0.6752 - val_sensitivity_at_specificity_1: 0.9741 - val_specificity_at_sensitivity_1: 0.9692 - val_recall_1: 0.6223 - val_precision_1: 0.7174\n",
      "Epoch 6/50\n",
      "244/244 [==============================] - ETA: 0s - loss: 0.6770 - accuracy: 0.7406 - sensitivity_at_specificity_1: 0.9903 - specificity_at_sensitivity_1: 0.9853 - recall_1: 0.6771 - precision_1: 0.7985\n",
      "Epoch 6: val_accuracy improved from 0.69179 to 0.71658, saving model to ECG_Spectrogram_Model.h5\n",
      "244/244 [==============================] - 183s 749ms/step - loss: 0.6770 - accuracy: 0.7406 - sensitivity_at_specificity_1: 0.9903 - specificity_at_sensitivity_1: 0.9853 - recall_1: 0.6771 - precision_1: 0.7985 - val_loss: 0.7729 - val_accuracy: 0.7166 - val_sensitivity_at_specificity_1: 0.9768 - val_specificity_at_sensitivity_1: 0.9816 - val_recall_1: 0.6711 - val_precision_1: 0.7621\n",
      "Epoch 7/50\n",
      "244/244 [==============================] - ETA: 0s - loss: 0.6506 - accuracy: 0.7533 - sensitivity_at_specificity_1: 0.9903 - specificity_at_sensitivity_1: 0.9870 - recall_1: 0.6926 - precision_1: 0.8049\n",
      "Epoch 7: val_accuracy did not improve from 0.71658\n",
      "244/244 [==============================] - 177s 723ms/step - loss: 0.6506 - accuracy: 0.7533 - sensitivity_at_specificity_1: 0.9903 - specificity_at_sensitivity_1: 0.9870 - recall_1: 0.6926 - precision_1: 0.8049 - val_loss: 0.8225 - val_accuracy: 0.6972 - val_sensitivity_at_specificity_1: 0.9694 - val_specificity_at_sensitivity_1: 0.9752 - val_recall_1: 0.6462 - val_precision_1: 0.7405\n",
      "Epoch 8/50\n",
      "244/244 [==============================] - ETA: 0s - loss: 0.6354 - accuracy: 0.7583 - sensitivity_at_specificity_1: 0.9908 - specificity_at_sensitivity_1: 0.9880 - recall_1: 0.7009 - precision_1: 0.8111\n",
      "Epoch 8: val_accuracy did not improve from 0.71658\n",
      "244/244 [==============================] - 177s 724ms/step - loss: 0.6354 - accuracy: 0.7583 - sensitivity_at_specificity_1: 0.9908 - specificity_at_sensitivity_1: 0.9880 - recall_1: 0.7009 - precision_1: 0.8111 - val_loss: 0.8513 - val_accuracy: 0.6891 - val_sensitivity_at_specificity_1: 0.9697 - val_specificity_at_sensitivity_1: 0.9744 - val_recall_1: 0.6385 - val_precision_1: 0.7357\n",
      "Epoch 9/50\n",
      "244/244 [==============================] - ETA: 0s - loss: 0.6401 - accuracy: 0.7572 - sensitivity_at_specificity_1: 0.9908 - specificity_at_sensitivity_1: 0.9880 - recall_1: 0.6991 - precision_1: 0.8100\n",
      "Epoch 9: val_accuracy did not improve from 0.71658\n",
      "244/244 [==============================] - 177s 725ms/step - loss: 0.6401 - accuracy: 0.7572 - sensitivity_at_specificity_1: 0.9908 - specificity_at_sensitivity_1: 0.9880 - recall_1: 0.6991 - precision_1: 0.8100 - val_loss: 0.8026 - val_accuracy: 0.7122 - val_sensitivity_at_specificity_1: 0.9739 - val_specificity_at_sensitivity_1: 0.9795 - val_recall_1: 0.6553 - val_precision_1: 0.7645\n",
      "Epoch 10/50\n",
      "244/244 [==============================] - ETA: 0s - loss: 0.6179 - accuracy: 0.7656 - sensitivity_at_specificity_1: 0.9937 - specificity_at_sensitivity_1: 0.9889 - recall_1: 0.7110 - precision_1: 0.8139\n",
      "Epoch 10: val_accuracy did not improve from 0.71658\n",
      "244/244 [==============================] - 177s 725ms/step - loss: 0.6179 - accuracy: 0.7656 - sensitivity_at_specificity_1: 0.9937 - specificity_at_sensitivity_1: 0.9889 - recall_1: 0.7110 - precision_1: 0.8139 - val_loss: 0.8993 - val_accuracy: 0.6938 - val_sensitivity_at_specificity_1: 0.9560 - val_specificity_at_sensitivity_1: 0.9746 - val_recall_1: 0.6498 - val_precision_1: 0.7349\n",
      "Epoch 11/50\n",
      "244/244 [==============================] - ETA: 0s - loss: 0.5805 - accuracy: 0.7824 - sensitivity_at_specificity_1: 0.9931 - specificity_at_sensitivity_1: 0.9915 - recall_1: 0.7340 - precision_1: 0.8272\n",
      "Epoch 11: val_accuracy did not improve from 0.71658\n",
      "244/244 [==============================] - 177s 724ms/step - loss: 0.5805 - accuracy: 0.7824 - sensitivity_at_specificity_1: 0.9931 - specificity_at_sensitivity_1: 0.9915 - recall_1: 0.7340 - precision_1: 0.8272 - val_loss: 0.8149 - val_accuracy: 0.7157 - val_sensitivity_at_specificity_1: 0.9682 - val_specificity_at_sensitivity_1: 0.9787 - val_recall_1: 0.6701 - val_precision_1: 0.7594\n",
      "Epoch 12/50\n",
      "244/244 [==============================] - ETA: 0s - loss: 0.5778 - accuracy: 0.7814 - sensitivity_at_specificity_1: 0.9931 - specificity_at_sensitivity_1: 0.9914 - recall_1: 0.7352 - precision_1: 0.8263\n",
      "Epoch 12: val_accuracy did not improve from 0.71658\n",
      "244/244 [==============================] - 177s 725ms/step - loss: 0.5778 - accuracy: 0.7814 - sensitivity_at_specificity_1: 0.9931 - specificity_at_sensitivity_1: 0.9914 - recall_1: 0.7352 - precision_1: 0.8263 - val_loss: 0.8766 - val_accuracy: 0.7016 - val_sensitivity_at_specificity_1: 0.9657 - val_specificity_at_sensitivity_1: 0.9734 - val_recall_1: 0.6621 - val_precision_1: 0.7333\n",
      "Epoch 13/50\n"
     ]
    },
    {
     "name": "stdout",
     "output_type": "stream",
     "text": [
      "244/244 [==============================] - ETA: 0s - loss: 0.5590 - accuracy: 0.7901 - sensitivity_at_specificity_1: 0.9928 - specificity_at_sensitivity_1: 0.9925 - recall_1: 0.7451 - precision_1: 0.8314\n",
      "Epoch 13: val_accuracy improved from 0.71658 to 0.72184, saving model to ECG_Spectrogram_Model.h5\n",
      "244/244 [==============================] - 176s 722ms/step - loss: 0.5590 - accuracy: 0.7901 - sensitivity_at_specificity_1: 0.9928 - specificity_at_sensitivity_1: 0.9925 - recall_1: 0.7451 - precision_1: 0.8314 - val_loss: 0.8141 - val_accuracy: 0.7218 - val_sensitivity_at_specificity_1: 0.9735 - val_specificity_at_sensitivity_1: 0.9789 - val_recall_1: 0.6888 - val_precision_1: 0.7466\n",
      "Epoch 14/50\n",
      "244/244 [==============================] - ETA: 0s - loss: 0.5608 - accuracy: 0.7895 - sensitivity_at_specificity_1: 0.9956 - specificity_at_sensitivity_1: 0.9919 - recall_1: 0.7447 - precision_1: 0.8309\n",
      "Epoch 14: val_accuracy did not improve from 0.72184\n",
      "244/244 [==============================] - 177s 724ms/step - loss: 0.5608 - accuracy: 0.7895 - sensitivity_at_specificity_1: 0.9956 - specificity_at_sensitivity_1: 0.9919 - recall_1: 0.7447 - precision_1: 0.8309 - val_loss: 0.8588 - val_accuracy: 0.7152 - val_sensitivity_at_specificity_1: 0.9621 - val_specificity_at_sensitivity_1: 0.9796 - val_recall_1: 0.6755 - val_precision_1: 0.7526\n",
      "Epoch 15/50\n",
      "244/244 [==============================] - ETA: 0s - loss: 0.5296 - accuracy: 0.7995 - sensitivity_at_specificity_1: 0.9959 - specificity_at_sensitivity_1: 0.9937 - recall_1: 0.7618 - precision_1: 0.8402\n",
      "Epoch 15: val_accuracy did not improve from 0.72184\n",
      "244/244 [==============================] - 177s 724ms/step - loss: 0.5296 - accuracy: 0.7995 - sensitivity_at_specificity_1: 0.9959 - specificity_at_sensitivity_1: 0.9937 - recall_1: 0.7618 - precision_1: 0.8402 - val_loss: 0.8925 - val_accuracy: 0.7152 - val_sensitivity_at_specificity_1: 0.9576 - val_specificity_at_sensitivity_1: 0.9777 - val_recall_1: 0.6734 - val_precision_1: 0.7492\n",
      "Epoch 16/50\n",
      "244/244 [==============================] - ETA: 0s - loss: 0.5348 - accuracy: 0.8000 - sensitivity_at_specificity_1: 0.9965 - specificity_at_sensitivity_1: 0.9937 - recall_1: 0.7575 - precision_1: 0.8391\n",
      "Epoch 16: val_accuracy did not improve from 0.72184\n",
      "244/244 [==============================] - 177s 724ms/step - loss: 0.5348 - accuracy: 0.8000 - sensitivity_at_specificity_1: 0.9965 - specificity_at_sensitivity_1: 0.9937 - recall_1: 0.7575 - precision_1: 0.8391 - val_loss: 0.8414 - val_accuracy: 0.7179 - val_sensitivity_at_specificity_1: 0.9649 - val_specificity_at_sensitivity_1: 0.9804 - val_recall_1: 0.6750 - val_precision_1: 0.7638\n",
      "Epoch 17/50\n",
      "244/244 [==============================] - ETA: 0s - loss: 0.5152 - accuracy: 0.8085 - sensitivity_at_specificity_1: 0.9960 - specificity_at_sensitivity_1: 0.9945 - recall_1: 0.7674 - precision_1: 0.8437\n",
      "Epoch 17: val_accuracy did not improve from 0.72184\n",
      "244/244 [==============================] - 177s 723ms/step - loss: 0.5152 - accuracy: 0.8085 - sensitivity_at_specificity_1: 0.9960 - specificity_at_sensitivity_1: 0.9945 - recall_1: 0.7674 - precision_1: 0.8437 - val_loss: 0.9239 - val_accuracy: 0.7031 - val_sensitivity_at_specificity_1: 0.9628 - val_specificity_at_sensitivity_1: 0.9756 - val_recall_1: 0.6678 - val_precision_1: 0.7372\n",
      "Epoch 18/50\n",
      "244/244 [==============================] - ETA: 0s - loss: 0.5097 - accuracy: 0.8073 - sensitivity_at_specificity_1: 0.9963 - specificity_at_sensitivity_1: 0.9945 - recall_1: 0.7689 - precision_1: 0.8429\n",
      "Epoch 18: val_accuracy did not improve from 0.72184\n",
      "244/244 [==============================] - 177s 725ms/step - loss: 0.5097 - accuracy: 0.8073 - sensitivity_at_specificity_1: 0.9963 - specificity_at_sensitivity_1: 0.9945 - recall_1: 0.7689 - precision_1: 0.8429 - val_loss: 1.0284 - val_accuracy: 0.6792 - val_sensitivity_at_specificity_1: 0.9441 - val_specificity_at_sensitivity_1: 0.9687 - val_recall_1: 0.6409 - val_precision_1: 0.7147\n",
      "Epoch 19/50\n",
      "244/244 [==============================] - ETA: 0s - loss: 0.5002 - accuracy: 0.8121 - sensitivity_at_specificity_1: 0.9963 - specificity_at_sensitivity_1: 0.9948 - recall_1: 0.7756 - precision_1: 0.8479\n",
      "Epoch 19: val_accuracy did not improve from 0.72184\n",
      "244/244 [==============================] - 177s 724ms/step - loss: 0.5002 - accuracy: 0.8121 - sensitivity_at_specificity_1: 0.9963 - specificity_at_sensitivity_1: 0.9948 - recall_1: 0.7756 - precision_1: 0.8479 - val_loss: 0.8932 - val_accuracy: 0.7189 - val_sensitivity_at_specificity_1: 0.9553 - val_specificity_at_sensitivity_1: 0.9773 - val_recall_1: 0.6811 - val_precision_1: 0.7547\n",
      "Epoch 20/50\n",
      "244/244 [==============================] - ETA: 0s - loss: 0.4851 - accuracy: 0.8187 - sensitivity_at_specificity_1: 0.9966 - specificity_at_sensitivity_1: 0.9956 - recall_1: 0.7839 - precision_1: 0.8507\n",
      "Epoch 20: val_accuracy improved from 0.72184 to 0.72557, saving model to ECG_Spectrogram_Model.h5\n",
      "244/244 [==============================] - 177s 726ms/step - loss: 0.4851 - accuracy: 0.8187 - sensitivity_at_specificity_1: 0.9966 - specificity_at_sensitivity_1: 0.9956 - recall_1: 0.7839 - precision_1: 0.8507 - val_loss: 0.8244 - val_accuracy: 0.7256 - val_sensitivity_at_specificity_1: 0.9719 - val_specificity_at_sensitivity_1: 0.9787 - val_recall_1: 0.6711 - val_precision_1: 0.7701\n",
      "Epoch 21/50\n",
      "244/244 [==============================] - ETA: 0s - loss: 0.4820 - accuracy: 0.8201 - sensitivity_at_specificity_1: 0.9964 - specificity_at_sensitivity_1: 0.9956 - recall_1: 0.7844 - precision_1: 0.8527\n",
      "Epoch 21: val_accuracy did not improve from 0.72557\n",
      "244/244 [==============================] - 177s 725ms/step - loss: 0.4820 - accuracy: 0.8201 - sensitivity_at_specificity_1: 0.9964 - specificity_at_sensitivity_1: 0.9956 - recall_1: 0.7844 - precision_1: 0.8527 - val_loss: 0.8855 - val_accuracy: 0.7175 - val_sensitivity_at_specificity_1: 0.9667 - val_specificity_at_sensitivity_1: 0.9783 - val_recall_1: 0.6846 - val_precision_1: 0.7484\n",
      "Epoch 22/50\n",
      "244/244 [==============================] - ETA: 0s - loss: 0.4670 - accuracy: 0.8246 - sensitivity_at_specificity_1: 0.9985 - specificity_at_sensitivity_1: 0.9959 - recall_1: 0.7931 - precision_1: 0.8567\n",
      "Epoch 22: val_accuracy did not improve from 0.72557\n",
      "244/244 [==============================] - 177s 725ms/step - loss: 0.4670 - accuracy: 0.8246 - sensitivity_at_specificity_1: 0.9985 - specificity_at_sensitivity_1: 0.9959 - recall_1: 0.7931 - precision_1: 0.8567 - val_loss: 0.9455 - val_accuracy: 0.7172 - val_sensitivity_at_specificity_1: 0.9547 - val_specificity_at_sensitivity_1: 0.9761 - val_recall_1: 0.6834 - val_precision_1: 0.7454\n",
      "Epoch 23/50\n",
      "244/244 [==============================] - ETA: 0s - loss: 0.4772 - accuracy: 0.8190 - sensitivity_at_specificity_1: 0.9963 - specificity_at_sensitivity_1: 0.9958 - recall_1: 0.7849 - precision_1: 0.8516\n",
      "Epoch 23: val_accuracy did not improve from 0.72557\n",
      "244/244 [==============================] - 178s 728ms/step - loss: 0.4772 - accuracy: 0.8190 - sensitivity_at_specificity_1: 0.9963 - specificity_at_sensitivity_1: 0.9958 - recall_1: 0.7849 - precision_1: 0.8516 - val_loss: 0.8747 - val_accuracy: 0.7181 - val_sensitivity_at_specificity_1: 0.9651 - val_specificity_at_sensitivity_1: 0.9769 - val_recall_1: 0.6850 - val_precision_1: 0.7545\n",
      "Epoch 24/50\n",
      "244/244 [==============================] - ETA: 0s - loss: 0.4437 - accuracy: 0.8333 - sensitivity_at_specificity_1: 0.9981 - specificity_at_sensitivity_1: 0.9966 - recall_1: 0.8045 - precision_1: 0.8634\n",
      "Epoch 24: val_accuracy did not improve from 0.72557\n",
      "244/244 [==============================] - 177s 726ms/step - loss: 0.4437 - accuracy: 0.8333 - sensitivity_at_specificity_1: 0.9981 - specificity_at_sensitivity_1: 0.9966 - recall_1: 0.8045 - precision_1: 0.8634 - val_loss: 0.9200 - val_accuracy: 0.7172 - val_sensitivity_at_specificity_1: 0.9603 - val_specificity_at_sensitivity_1: 0.9763 - val_recall_1: 0.6878 - val_precision_1: 0.7461\n",
      "Epoch 25/50\n",
      "244/244 [==============================] - ETA: 0s - loss: 0.4362 - accuracy: 0.8369 - sensitivity_at_specificity_1: 0.9984 - specificity_at_sensitivity_1: 0.9969 - recall_1: 0.8079 - precision_1: 0.8654\n",
      "Epoch 25: val_accuracy did not improve from 0.72557\n"
     ]
    },
    {
     "name": "stdout",
     "output_type": "stream",
     "text": [
      "244/244 [==============================] - 177s 725ms/step - loss: 0.4362 - accuracy: 0.8369 - sensitivity_at_specificity_1: 0.9984 - specificity_at_sensitivity_1: 0.9969 - recall_1: 0.8079 - precision_1: 0.8654 - val_loss: 1.0377 - val_accuracy: 0.7009 - val_sensitivity_at_specificity_1: 0.9441 - val_specificity_at_sensitivity_1: 0.9710 - val_recall_1: 0.6763 - val_precision_1: 0.7245\n",
      "Epoch 26/50\n",
      "244/244 [==============================] - ETA: 0s - loss: 0.4370 - accuracy: 0.8364 - sensitivity_at_specificity_1: 0.9983 - specificity_at_sensitivity_1: 0.9965 - recall_1: 0.8059 - precision_1: 0.8644\n",
      "Epoch 26: val_accuracy did not improve from 0.72557\n",
      "244/244 [==============================] - 177s 724ms/step - loss: 0.4370 - accuracy: 0.8364 - sensitivity_at_specificity_1: 0.9983 - specificity_at_sensitivity_1: 0.9965 - recall_1: 0.8059 - precision_1: 0.8644 - val_loss: 1.1196 - val_accuracy: 0.6834 - val_sensitivity_at_specificity_1: 0.9507 - val_specificity_at_sensitivity_1: 0.9684 - val_recall_1: 0.6598 - val_precision_1: 0.7004\n",
      "Epoch 27/50\n",
      "244/244 [==============================] - ETA: 0s - loss: 0.4301 - accuracy: 0.8404 - sensitivity_at_specificity_1: 0.9983 - specificity_at_sensitivity_1: 0.9971 - recall_1: 0.8106 - precision_1: 0.8660\n",
      "Epoch 27: val_accuracy did not improve from 0.72557\n",
      "244/244 [==============================] - 177s 723ms/step - loss: 0.4301 - accuracy: 0.8404 - sensitivity_at_specificity_1: 0.9983 - specificity_at_sensitivity_1: 0.9971 - recall_1: 0.8106 - precision_1: 0.8660 - val_loss: 1.0009 - val_accuracy: 0.6944 - val_sensitivity_at_specificity_1: 0.9512 - val_specificity_at_sensitivity_1: 0.9714 - val_recall_1: 0.6644 - val_precision_1: 0.7254\n",
      "Epoch 28/50\n",
      "244/244 [==============================] - ETA: 0s - loss: 0.4197 - accuracy: 0.8413 - sensitivity_at_specificity_1: 0.9985 - specificity_at_sensitivity_1: 0.9971 - recall_1: 0.8155 - precision_1: 0.8691\n",
      "Epoch 28: val_accuracy did not improve from 0.72557\n",
      "244/244 [==============================] - 182s 746ms/step - loss: 0.4197 - accuracy: 0.8413 - sensitivity_at_specificity_1: 0.9985 - specificity_at_sensitivity_1: 0.9971 - recall_1: 0.8155 - precision_1: 0.8691 - val_loss: 1.0610 - val_accuracy: 0.7030 - val_sensitivity_at_specificity_1: 0.9400 - val_specificity_at_sensitivity_1: 0.9718 - val_recall_1: 0.6745 - val_precision_1: 0.7310\n",
      "Epoch 29/50\n",
      "244/244 [==============================] - ETA: 0s - loss: 0.4069 - accuracy: 0.8480 - sensitivity_at_specificity_1: 0.9986 - specificity_at_sensitivity_1: 0.9975 - recall_1: 0.8214 - precision_1: 0.8713\n",
      "Epoch 29: val_accuracy did not improve from 0.72557\n",
      "244/244 [==============================] - 177s 725ms/step - loss: 0.4069 - accuracy: 0.8480 - sensitivity_at_specificity_1: 0.9986 - specificity_at_sensitivity_1: 0.9975 - recall_1: 0.8214 - precision_1: 0.8713 - val_loss: 1.0463 - val_accuracy: 0.6917 - val_sensitivity_at_specificity_1: 0.9452 - val_specificity_at_sensitivity_1: 0.9745 - val_recall_1: 0.6688 - val_precision_1: 0.7182\n",
      "Epoch 30/50\n",
      "244/244 [==============================] - ETA: 0s - loss: 0.3928 - accuracy: 0.8523 - sensitivity_at_specificity_1: 0.9982 - specificity_at_sensitivity_1: 0.9980 - recall_1: 0.8278 - precision_1: 0.8757\n",
      "Epoch 30: val_accuracy did not improve from 0.72557\n",
      "244/244 [==============================] - 177s 723ms/step - loss: 0.3928 - accuracy: 0.8523 - sensitivity_at_specificity_1: 0.9982 - specificity_at_sensitivity_1: 0.9980 - recall_1: 0.8278 - precision_1: 0.8757 - val_loss: 1.1119 - val_accuracy: 0.6942 - val_sensitivity_at_specificity_1: 0.9344 - val_specificity_at_sensitivity_1: 0.9718 - val_recall_1: 0.6697 - val_precision_1: 0.7183\n",
      "Epoch 31/50\n",
      "244/244 [==============================] - ETA: 0s - loss: 0.3902 - accuracy: 0.8549 - sensitivity_at_specificity_1: 0.9985 - specificity_at_sensitivity_1: 0.9977 - recall_1: 0.8292 - precision_1: 0.8788\n",
      "Epoch 31: val_accuracy did not improve from 0.72557\n",
      "244/244 [==============================] - 177s 725ms/step - loss: 0.3902 - accuracy: 0.8549 - sensitivity_at_specificity_1: 0.9985 - specificity_at_sensitivity_1: 0.9977 - recall_1: 0.8292 - precision_1: 0.8788 - val_loss: 1.1023 - val_accuracy: 0.7034 - val_sensitivity_at_specificity_1: 0.9369 - val_specificity_at_sensitivity_1: 0.9720 - val_recall_1: 0.6793 - val_precision_1: 0.7288\n",
      "Epoch 32/50\n",
      "244/244 [==============================] - ETA: 0s - loss: 0.3962 - accuracy: 0.8500 - sensitivity_at_specificity_1: 0.9985 - specificity_at_sensitivity_1: 0.9977 - recall_1: 0.8264 - precision_1: 0.8748\n",
      "Epoch 32: val_accuracy did not improve from 0.72557\n",
      "244/244 [==============================] - 177s 725ms/step - loss: 0.3962 - accuracy: 0.8500 - sensitivity_at_specificity_1: 0.9985 - specificity_at_sensitivity_1: 0.9977 - recall_1: 0.8264 - precision_1: 0.8748 - val_loss: 1.0797 - val_accuracy: 0.7064 - val_sensitivity_at_specificity_1: 0.9500 - val_specificity_at_sensitivity_1: 0.9732 - val_recall_1: 0.6867 - val_precision_1: 0.7272\n",
      "Epoch 33/50\n",
      "244/244 [==============================] - ETA: 0s - loss: 0.3954 - accuracy: 0.8506 - sensitivity_at_specificity_1: 0.9986 - specificity_at_sensitivity_1: 0.9978 - recall_1: 0.8265 - precision_1: 0.8753\n",
      "Epoch 33: val_accuracy did not improve from 0.72557\n",
      "244/244 [==============================] - 177s 725ms/step - loss: 0.3954 - accuracy: 0.8506 - sensitivity_at_specificity_1: 0.9986 - specificity_at_sensitivity_1: 0.9978 - recall_1: 0.8265 - precision_1: 0.8753 - val_loss: 1.1181 - val_accuracy: 0.7063 - val_sensitivity_at_specificity_1: 0.9459 - val_specificity_at_sensitivity_1: 0.9722 - val_recall_1: 0.6786 - val_precision_1: 0.7267\n",
      "Epoch 34/50\n",
      "244/244 [==============================] - ETA: 0s - loss: 0.3743 - accuracy: 0.8593 - sensitivity_at_specificity_1: 0.9983 - specificity_at_sensitivity_1: 0.9980 - recall_1: 0.8375 - precision_1: 0.8813\n",
      "Epoch 34: val_accuracy did not improve from 0.72557\n",
      "244/244 [==============================] - 177s 724ms/step - loss: 0.3743 - accuracy: 0.8593 - sensitivity_at_specificity_1: 0.9983 - specificity_at_sensitivity_1: 0.9980 - recall_1: 0.8375 - precision_1: 0.8813 - val_loss: 1.0859 - val_accuracy: 0.6976 - val_sensitivity_at_specificity_1: 0.9385 - val_specificity_at_sensitivity_1: 0.9700 - val_recall_1: 0.6750 - val_precision_1: 0.7177\n",
      "Epoch 35/50\n",
      "244/244 [==============================] - ETA: 0s - loss: 0.3771 - accuracy: 0.8577 - sensitivity_at_specificity_1: 0.9987 - specificity_at_sensitivity_1: 0.9982 - recall_1: 0.8362 - precision_1: 0.8809\n",
      "Epoch 35: val_accuracy did not improve from 0.72557\n",
      "244/244 [==============================] - 183s 748ms/step - loss: 0.3771 - accuracy: 0.8577 - sensitivity_at_specificity_1: 0.9987 - specificity_at_sensitivity_1: 0.9982 - recall_1: 0.8362 - precision_1: 0.8809 - val_loss: 1.0669 - val_accuracy: 0.7118 - val_sensitivity_at_specificity_1: 0.9527 - val_specificity_at_sensitivity_1: 0.9757 - val_recall_1: 0.6919 - val_precision_1: 0.7345\n",
      "Epoch 36/50\n",
      "244/244 [==============================] - ETA: 0s - loss: 0.3642 - accuracy: 0.8632 - sensitivity_at_specificity_1: 0.9989 - specificity_at_sensitivity_1: 0.9983 - recall_1: 0.8426 - precision_1: 0.8850\n",
      "Epoch 36: val_accuracy did not improve from 0.72557\n",
      "244/244 [==============================] - 177s 724ms/step - loss: 0.3642 - accuracy: 0.8632 - sensitivity_at_specificity_1: 0.9989 - specificity_at_sensitivity_1: 0.9983 - recall_1: 0.8426 - precision_1: 0.8850 - val_loss: 1.2634 - val_accuracy: 0.6878 - val_sensitivity_at_specificity_1: 0.9345 - val_specificity_at_sensitivity_1: 0.9672 - val_recall_1: 0.6638 - val_precision_1: 0.7073\n",
      "Epoch 37/50\n",
      "244/244 [==============================] - ETA: 0s - loss: 0.3659 - accuracy: 0.8620 - sensitivity_at_specificity_1: 0.9987 - specificity_at_sensitivity_1: 0.9985 - recall_1: 0.8404 - precision_1: 0.8829\n",
      "Epoch 37: val_accuracy did not improve from 0.72557\n",
      "244/244 [==============================] - 177s 723ms/step - loss: 0.3659 - accuracy: 0.8620 - sensitivity_at_specificity_1: 0.9987 - specificity_at_sensitivity_1: 0.9985 - recall_1: 0.8404 - precision_1: 0.8829 - val_loss: 1.4268 - val_accuracy: 0.6486 - val_sensitivity_at_specificity_1: 0.9078 - val_specificity_at_sensitivity_1: 0.9561 - val_recall_1: 0.6242 - val_precision_1: 0.6677\n"
     ]
    },
    {
     "name": "stdout",
     "output_type": "stream",
     "text": [
      "Epoch 38/50\n",
      "244/244 [==============================] - ETA: 0s - loss: 0.3616 - accuracy: 0.8641 - sensitivity_at_specificity_1: 0.9988 - specificity_at_sensitivity_1: 0.9985 - recall_1: 0.8431 - precision_1: 0.8859\n",
      "Epoch 38: val_accuracy did not improve from 0.72557\n",
      "244/244 [==============================] - 177s 725ms/step - loss: 0.3616 - accuracy: 0.8641 - sensitivity_at_specificity_1: 0.9988 - specificity_at_sensitivity_1: 0.9985 - recall_1: 0.8431 - precision_1: 0.8859 - val_loss: 1.2936 - val_accuracy: 0.6795 - val_sensitivity_at_specificity_1: 0.9325 - val_specificity_at_sensitivity_1: 0.9649 - val_recall_1: 0.6575 - val_precision_1: 0.6976\n",
      "Epoch 39/50\n",
      "244/244 [==============================] - ETA: 0s - loss: 0.3283 - accuracy: 0.8769 - sensitivity_at_specificity_1: 0.9990 - specificity_at_sensitivity_1: 0.9991 - recall_1: 0.8580 - precision_1: 0.8938\n",
      "Epoch 39: val_accuracy did not improve from 0.72557\n",
      "244/244 [==============================] - 177s 724ms/step - loss: 0.3283 - accuracy: 0.8769 - sensitivity_at_specificity_1: 0.9990 - specificity_at_sensitivity_1: 0.9991 - recall_1: 0.8580 - precision_1: 0.8938 - val_loss: 1.4759 - val_accuracy: 0.6874 - val_sensitivity_at_specificity_1: 0.9154 - val_specificity_at_sensitivity_1: 0.9654 - val_recall_1: 0.6709 - val_precision_1: 0.7005\n",
      "Epoch 40/50\n",
      "244/244 [==============================] - ETA: 0s - loss: 0.3244 - accuracy: 0.8777 - sensitivity_at_specificity_1: 0.9988 - specificity_at_sensitivity_1: 0.9990 - recall_1: 0.8598 - precision_1: 0.8960\n",
      "Epoch 40: val_accuracy did not improve from 0.72557\n",
      "244/244 [==============================] - 177s 724ms/step - loss: 0.3244 - accuracy: 0.8777 - sensitivity_at_specificity_1: 0.9988 - specificity_at_sensitivity_1: 0.9990 - recall_1: 0.8598 - precision_1: 0.8960 - val_loss: 1.5897 - val_accuracy: 0.6626 - val_sensitivity_at_specificity_1: 0.9009 - val_specificity_at_sensitivity_1: 0.9562 - val_recall_1: 0.6449 - val_precision_1: 0.6747\n",
      "Epoch 41/50\n",
      "244/244 [==============================] - ETA: 0s - loss: 0.3322 - accuracy: 0.8734 - sensitivity_at_specificity_1: 0.9990 - specificity_at_sensitivity_1: 0.9989 - recall_1: 0.8566 - precision_1: 0.8918\n",
      "Epoch 41: val_accuracy did not improve from 0.72557\n",
      "244/244 [==============================] - 176s 723ms/step - loss: 0.3322 - accuracy: 0.8734 - sensitivity_at_specificity_1: 0.9990 - specificity_at_sensitivity_1: 0.9989 - recall_1: 0.8566 - precision_1: 0.8918 - val_loss: 1.1585 - val_accuracy: 0.6936 - val_sensitivity_at_specificity_1: 0.9450 - val_specificity_at_sensitivity_1: 0.9708 - val_recall_1: 0.6682 - val_precision_1: 0.7152\n",
      "Epoch 42/50\n",
      "244/244 [==============================] - ETA: 0s - loss: 0.3254 - accuracy: 0.8774 - sensitivity_at_specificity_1: 0.9991 - specificity_at_sensitivity_1: 0.9990 - recall_1: 0.8595 - precision_1: 0.8957\n",
      "Epoch 42: val_accuracy did not improve from 0.72557\n",
      "244/244 [==============================] - 176s 723ms/step - loss: 0.3254 - accuracy: 0.8774 - sensitivity_at_specificity_1: 0.9991 - specificity_at_sensitivity_1: 0.9990 - recall_1: 0.8595 - precision_1: 0.8957 - val_loss: 1.3704 - val_accuracy: 0.6894 - val_sensitivity_at_specificity_1: 0.9224 - val_specificity_at_sensitivity_1: 0.9673 - val_recall_1: 0.6728 - val_precision_1: 0.7061\n",
      "Epoch 43/50\n",
      "244/244 [==============================] - ETA: 0s - loss: 0.3254 - accuracy: 0.8774 - sensitivity_at_specificity_1: 0.9985 - specificity_at_sensitivity_1: 0.9991 - recall_1: 0.8594 - precision_1: 0.8951\n",
      "Epoch 43: val_accuracy did not improve from 0.72557\n",
      "244/244 [==============================] - 176s 721ms/step - loss: 0.3254 - accuracy: 0.8774 - sensitivity_at_specificity_1: 0.9985 - specificity_at_sensitivity_1: 0.9991 - recall_1: 0.8594 - precision_1: 0.8951 - val_loss: 1.3597 - val_accuracy: 0.6683 - val_sensitivity_at_specificity_1: 0.9277 - val_specificity_at_sensitivity_1: 0.9610 - val_recall_1: 0.6434 - val_precision_1: 0.6837\n",
      "Epoch 44/50\n",
      "244/244 [==============================] - ETA: 0s - loss: 0.2984 - accuracy: 0.8879 - sensitivity_at_specificity_1: 0.9988 - specificity_at_sensitivity_1: 0.9994 - recall_1: 0.8717 - precision_1: 0.9028\n",
      "Epoch 44: val_accuracy did not improve from 0.72557\n",
      "244/244 [==============================] - 177s 724ms/step - loss: 0.2984 - accuracy: 0.8879 - sensitivity_at_specificity_1: 0.9988 - specificity_at_sensitivity_1: 0.9994 - recall_1: 0.8717 - precision_1: 0.9028 - val_loss: 1.5032 - val_accuracy: 0.6806 - val_sensitivity_at_specificity_1: 0.9106 - val_specificity_at_sensitivity_1: 0.9617 - val_recall_1: 0.6642 - val_precision_1: 0.6980\n",
      "Epoch 45/50\n",
      "244/244 [==============================] - ETA: 0s - loss: 0.3089 - accuracy: 0.8817 - sensitivity_at_specificity_1: 0.9988 - specificity_at_sensitivity_1: 0.9993 - recall_1: 0.8659 - precision_1: 0.8988\n",
      "Epoch 45: val_accuracy did not improve from 0.72557\n",
      "244/244 [==============================] - 177s 725ms/step - loss: 0.3089 - accuracy: 0.8817 - sensitivity_at_specificity_1: 0.9988 - specificity_at_sensitivity_1: 0.9993 - recall_1: 0.8659 - precision_1: 0.8988 - val_loss: 1.4690 - val_accuracy: 0.6603 - val_sensitivity_at_specificity_1: 0.9186 - val_specificity_at_sensitivity_1: 0.9597 - val_recall_1: 0.6394 - val_precision_1: 0.6813\n",
      "Epoch 46/50\n",
      "244/244 [==============================] - ETA: 0s - loss: 0.2916 - accuracy: 0.8912 - sensitivity_at_specificity_1: 0.9987 - specificity_at_sensitivity_1: 0.9995 - recall_1: 0.8761 - precision_1: 0.9046\n",
      "Epoch 46: val_accuracy did not improve from 0.72557\n",
      "244/244 [==============================] - 176s 722ms/step - loss: 0.2916 - accuracy: 0.8912 - sensitivity_at_specificity_1: 0.9987 - specificity_at_sensitivity_1: 0.9995 - recall_1: 0.8761 - precision_1: 0.9046 - val_loss: 1.3509 - val_accuracy: 0.6892 - val_sensitivity_at_specificity_1: 0.9283 - val_specificity_at_sensitivity_1: 0.9678 - val_recall_1: 0.6710 - val_precision_1: 0.7062\n",
      "Epoch 47/50\n",
      "244/244 [==============================] - ETA: 0s - loss: 0.3001 - accuracy: 0.8856 - sensitivity_at_specificity_1: 0.9991 - specificity_at_sensitivity_1: 0.9993 - recall_1: 0.8711 - precision_1: 0.9012\n",
      "Epoch 47: val_accuracy did not improve from 0.72557\n",
      "244/244 [==============================] - 177s 724ms/step - loss: 0.3001 - accuracy: 0.8856 - sensitivity_at_specificity_1: 0.9991 - specificity_at_sensitivity_1: 0.9993 - recall_1: 0.8711 - precision_1: 0.9012 - val_loss: 1.3348 - val_accuracy: 0.6796 - val_sensitivity_at_specificity_1: 0.9282 - val_specificity_at_sensitivity_1: 0.9659 - val_recall_1: 0.6583 - val_precision_1: 0.7013\n",
      "Epoch 48/50\n",
      "244/244 [==============================] - ETA: 0s - loss: 0.2742 - accuracy: 0.8946 - sensitivity_at_specificity_1: 0.9993 - specificity_at_sensitivity_1: 0.9997 - recall_1: 0.8812 - precision_1: 0.9095\n",
      "Epoch 48: val_accuracy did not improve from 0.72557\n",
      "244/244 [==============================] - 177s 724ms/step - loss: 0.2742 - accuracy: 0.8946 - sensitivity_at_specificity_1: 0.9993 - specificity_at_sensitivity_1: 0.9997 - recall_1: 0.8812 - precision_1: 0.9095 - val_loss: 1.3815 - val_accuracy: 0.6863 - val_sensitivity_at_specificity_1: 0.9200 - val_specificity_at_sensitivity_1: 0.9648 - val_recall_1: 0.6689 - val_precision_1: 0.7054\n",
      "Epoch 49/50\n",
      "244/244 [==============================] - ETA: 0s - loss: 0.2767 - accuracy: 0.8944 - sensitivity_at_specificity_1: 0.9992 - specificity_at_sensitivity_1: 0.9995 - recall_1: 0.8816 - precision_1: 0.9089\n",
      "Epoch 49: val_accuracy did not improve from 0.72557\n",
      "244/244 [==============================] - 177s 726ms/step - loss: 0.2767 - accuracy: 0.8944 - sensitivity_at_specificity_1: 0.9992 - specificity_at_sensitivity_1: 0.9995 - recall_1: 0.8816 - precision_1: 0.9089 - val_loss: 1.6488 - val_accuracy: 0.6583 - val_sensitivity_at_specificity_1: 0.8937 - val_specificity_at_sensitivity_1: 0.9565 - val_recall_1: 0.6424 - val_precision_1: 0.6695\n",
      "Epoch 50/50\n",
      "244/244 [==============================] - ETA: 0s - loss: 0.2782 - accuracy: 0.8938 - sensitivity_at_specificity_1: 0.9990 - specificity_at_sensitivity_1: 0.9996 - recall_1: 0.8807 - precision_1: 0.9088\n",
      "Epoch 50: val_accuracy did not improve from 0.72557\n",
      "244/244 [==============================] - 177s 725ms/step - loss: 0.2782 - accuracy: 0.8938 - sensitivity_at_specificity_1: 0.9990 - specificity_at_sensitivity_1: 0.9996 - recall_1: 0.8807 - precision_1: 0.9088 - val_loss: 1.6472 - val_accuracy: 0.6664 - val_sensitivity_at_specificity_1: 0.8959 - val_specificity_at_sensitivity_1: 0.9641 - val_recall_1: 0.6539 - val_precision_1: 0.6797\n"
     ]
    }
   ],
   "source": [
    "# Fit the model\n",
    "from keras.callbacks import ModelCheckpoint, EarlyStopping\n",
    "\n",
    "checkpoint = ModelCheckpoint(\"ECG_Spectrogram_Model.h5\", monitor='val_accuracy', verbose=1, save_best_only=True, save_weights_only=False, mode='auto', period=1)\n",
    "history = model.fit(train_data, steps_per_epoch=len(train_data), epochs=50, validation_data=val_data, validation_steps=len(val_data),callbacks = [callbacks,checkpoint])"
   ]
  },
  {
   "cell_type": "code",
   "execution_count": 20,
   "id": "7d8c6d0c",
   "metadata": {},
   "outputs": [
    {
     "name": "stdout",
     "output_type": "stream",
     "text": [
      "Training Accuracy:  0.8946036100387573\n",
      "Validation Accuracy:  0.7255682349205017\n",
      "Validation Specificity:  0.9816360473632812\n",
      "Validation Sensitivity:  0.9818928837776184\n",
      "Validation Recall:  0.6919224262237549\n",
      "Validation Precision:  0.7701149582862854\n",
      "Validation Loss:  0.7729121446609497\n"
     ]
    }
   ],
   "source": [
    "#Acquiring Performance metrics\n",
    "\n",
    "Training_Accuracy=history.history['accuracy']\n",
    "Validation_Accuracy=history.history['val_accuracy']\n",
    "Validation_Specificity=history.history['val_specificity_at_sensitivity_1']\n",
    "Validation_Sensitivity=history.history['val_sensitivity_at_specificity_1']\n",
    "Validation_Recall=history.history['val_recall_1']\n",
    "Validation_Precision=history.history['val_precision_1']\n",
    "Validation_Loss=history.history['val_loss']\n",
    "\n",
    "print(\"Training Accuracy: \",max(Training_Accuracy))\n",
    "print(\"Validation Accuracy: \",max(Validation_Accuracy))\n",
    "print(\"Validation Specificity: \",max(Validation_Specificity))\n",
    "print(\"Validation Sensitivity: \",max(Validation_Sensitivity))\n",
    "print(\"Validation Recall: \",max(Validation_Recall))\n",
    "print(\"Validation Precision: \",max(Validation_Precision))\n",
    "print(\"Validation Loss: \",min(Validation_Loss))"
   ]
  },
  {
   "cell_type": "code",
   "execution_count": null,
   "id": "5ecd2dde",
   "metadata": {},
   "outputs": [],
   "source": []
  }
 ],
 "metadata": {
  "kernelspec": {
   "display_name": "Python 3 (ipykernel)",
   "language": "python",
   "name": "python3"
  },
  "language_info": {
   "codemirror_mode": {
    "name": "ipython",
    "version": 3
   },
   "file_extension": ".py",
   "mimetype": "text/x-python",
   "name": "python",
   "nbconvert_exporter": "python",
   "pygments_lexer": "ipython3",
   "version": "3.10.6"
  }
 },
 "nbformat": 4,
 "nbformat_minor": 5
}
