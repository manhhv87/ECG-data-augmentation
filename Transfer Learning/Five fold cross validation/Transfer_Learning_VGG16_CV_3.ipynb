{
 "cells": [
  {
   "cell_type": "code",
   "execution_count": 1,
   "id": "e1e32307",
   "metadata": {},
   "outputs": [
    {
     "name": "stdout",
     "output_type": "stream",
     "text": [
      "2.9.1\n"
     ]
    }
   ],
   "source": [
    "#checking tensorflow version\n",
    "\n",
    "import tensorflow as tf\n",
    "print(tf.__version__)"
   ]
  },
  {
   "cell_type": "code",
   "execution_count": 2,
   "id": "4b0746ad",
   "metadata": {},
   "outputs": [],
   "source": [
    "#importing libraries \n",
    "\n",
    "import tensorflow as tf\n",
    "from tensorflow import keras\n",
    "from keras.layers import Input, Conv2D, Dense, Flatten, BatchNormalization, Dropout, MaxPooling2D, GlobalMaxPooling2D\n",
    "from keras.models import Model\n",
    "import matplotlib.pyplot as plt\n",
    "from keras.preprocessing import image\n",
    "#from keras.preprocessing.image import load_img\n",
    "from keras.models import Sequential\n",
    "import numpy as np\n",
    "from tensorflow.keras import regularizers"
   ]
  },
  {
   "cell_type": "code",
   "execution_count": 3,
   "id": "a2880923",
   "metadata": {},
   "outputs": [],
   "source": [
    "# Cross Validation dataset links\n",
    "\n",
    "#CV-1\n",
    "#train_dir=\"/home/ubuntu/From_Laptop/multi-class-NEW/12-Lead_ECG_version_2/DA_version_3/Model_Training/K-Fold Cross Validation/Fold 1/Training/\"\n",
    "#val_dir=\"/home/ubuntu/From_Laptop/multi-class-NEW/12-Lead_ECG_version_2/DA_version_3/Model_Training/K-Fold Cross Validation/Fold 1/Validation/\"\n",
    "\n",
    "#CV-2\n",
    "#train_dir=\"/home/ubuntu/From_Laptop/multi-class-NEW/12-Lead_ECG_version_2/DA_version_3/Model_Training/K-Fold Cross Validation/Fold 2/Training/\"\n",
    "#val_dir=\"/home/ubuntu/From_Laptop/multi-class-NEW/12-Lead_ECG_version_2/DA_version_3/Model_Training/K-Fold Cross Validation/Fold 2/Validation/\"\n",
    "\n",
    "#CV-3\n",
    "train_dir=\"/home/ubuntu/From_Laptop/multi-class-NEW/12-Lead_ECG_version_2/DA_version_3/Model_Training/K-Fold Cross Validation/Fold 3/Training/\"\n",
    "val_dir=\"/home/ubuntu/From_Laptop/multi-class-NEW/12-Lead_ECG_version_2/DA_version_3/Model_Training/K-Fold Cross Validation/Fold 3/Validation/\"\n",
    "\n",
    "#CV-4\n",
    "#train_dir=\"/home/ubuntu/From_Laptop/multi-class-NEW/12-Lead_ECG_version_2/DA_version_3/Model_Training/K-Fold Cross Validation/Fold 4/Training/\"\n",
    "#val_dir=\"/home/ubuntu/From_Laptop/multi-class-NEW/12-Lead_ECG_version_2/DA_version_3/Model_Training/K-Fold Cross Validation/Fold 4/Validation/\"\n",
    "\n",
    "#CV-5\n",
    "#train_dir=\"/home/ubuntu/From_Laptop/multi-class-NEW/12-Lead_ECG_version_2/DA_version_3/Model_Training/K-Fold Cross Validation/Fold 5/Training/\"\n",
    "#val_dir=\"/home/ubuntu/From_Laptop/multi-class-NEW/12-Lead_ECG_version_2/DA_version_3/Model_Training/K-Fold Cross Validation/Fold 5/Validation/\""
   ]
  },
  {
   "cell_type": "code",
   "execution_count": 4,
   "id": "b2f80645",
   "metadata": {},
   "outputs": [
    {
     "name": "stdout",
     "output_type": "stream",
     "text": [
      "Found 31206 files belonging to 5 classes.\n"
     ]
    },
    {
     "name": "stderr",
     "output_type": "stream",
     "text": [
      "2023-01-06 13:42:43.300745: I tensorflow/stream_executor/cuda/cuda_gpu_executor.cc:975] successful NUMA node read from SysFS had negative value (-1), but there must be at least one NUMA node, so returning NUMA node zero\n",
      "2023-01-06 13:42:43.324508: I tensorflow/stream_executor/cuda/cuda_gpu_executor.cc:975] successful NUMA node read from SysFS had negative value (-1), but there must be at least one NUMA node, so returning NUMA node zero\n",
      "2023-01-06 13:42:43.324728: I tensorflow/stream_executor/cuda/cuda_gpu_executor.cc:975] successful NUMA node read from SysFS had negative value (-1), but there must be at least one NUMA node, so returning NUMA node zero\n",
      "2023-01-06 13:42:43.338083: I tensorflow/core/platform/cpu_feature_guard.cc:193] This TensorFlow binary is optimized with oneAPI Deep Neural Network Library (oneDNN) to use the following CPU instructions in performance-critical operations:  AVX2 FMA\n",
      "To enable them in other operations, rebuild TensorFlow with the appropriate compiler flags.\n",
      "2023-01-06 13:42:43.338500: I tensorflow/stream_executor/cuda/cuda_gpu_executor.cc:975] successful NUMA node read from SysFS had negative value (-1), but there must be at least one NUMA node, so returning NUMA node zero\n",
      "2023-01-06 13:42:43.338671: I tensorflow/stream_executor/cuda/cuda_gpu_executor.cc:975] successful NUMA node read from SysFS had negative value (-1), but there must be at least one NUMA node, so returning NUMA node zero\n",
      "2023-01-06 13:42:43.338817: I tensorflow/stream_executor/cuda/cuda_gpu_executor.cc:975] successful NUMA node read from SysFS had negative value (-1), but there must be at least one NUMA node, so returning NUMA node zero\n",
      "2023-01-06 13:42:43.764484: I tensorflow/stream_executor/cuda/cuda_gpu_executor.cc:975] successful NUMA node read from SysFS had negative value (-1), but there must be at least one NUMA node, so returning NUMA node zero\n",
      "2023-01-06 13:42:43.764686: I tensorflow/stream_executor/cuda/cuda_gpu_executor.cc:975] successful NUMA node read from SysFS had negative value (-1), but there must be at least one NUMA node, so returning NUMA node zero\n",
      "2023-01-06 13:42:43.764842: I tensorflow/stream_executor/cuda/cuda_gpu_executor.cc:975] successful NUMA node read from SysFS had negative value (-1), but there must be at least one NUMA node, so returning NUMA node zero\n",
      "2023-01-06 13:42:43.764972: I tensorflow/core/common_runtime/gpu/gpu_device.cc:1532] Created device /job:localhost/replica:0/task:0/device:GPU:0 with 7380 MB memory:  -> device: 0, name: NVIDIA GeForce GTX 1080, pci bus id: 0000:00:05.0, compute capability: 6.1\n"
     ]
    },
    {
     "name": "stdout",
     "output_type": "stream",
     "text": [
      "Found 7787 files belonging to 5 classes.\n"
     ]
    }
   ],
   "source": [
    "from tensorflow.keras import layers\n",
    "\n",
    "train_data = tf.keras.preprocessing.image_dataset_from_directory(directory=train_dir,\n",
    "                                                                 image_size=(256,256),\n",
    "                                                                 label_mode='categorical', batch_size=128, \n",
    "                                                                 )\n",
    "val_data = tf.keras.preprocessing.image_dataset_from_directory(directory=val_dir,\n",
    "                                                                 image_size=(256,256),\n",
    "                                                                 label_mode='categorical', batch_size=128,\n",
    "                                                                )"
   ]
  },
  {
   "cell_type": "code",
   "execution_count": 5,
   "id": "ca75c58f-bfe9-48bc-8e3a-e9ed7abe3cdf",
   "metadata": {},
   "outputs": [],
   "source": [
    "#Normalizing the data\n",
    "\n",
    "nrmzln_layer = layers.experimental.preprocessing.Rescaling(1./255)\n",
    "\n",
    "train_data = train_data.map(lambda x,\n",
    "                          y: (nrmzln_layer(x), y))\n",
    "\n",
    "val_data = val_data.map(lambda x,\n",
    "                          y: (nrmzln_layer(x), y))"
   ]
  },
  {
   "cell_type": "code",
   "execution_count": 6,
   "id": "2007b247",
   "metadata": {},
   "outputs": [],
   "source": [
    "#import tensorflow.python.keras.applications.VGG16\n",
    "base_model= tf.keras.applications.VGG16(weights= 'imagenet', input_shape=(256,256, 3), include_top=False) "
   ]
  },
  {
   "cell_type": "code",
   "execution_count": 7,
   "id": "3110cb3d",
   "metadata": {},
   "outputs": [],
   "source": [
    "# Freezing the base_model for transfer learning\n",
    "base_model.trainable= False"
   ]
  },
  {
   "cell_type": "code",
   "execution_count": 8,
   "id": "f9525074",
   "metadata": {},
   "outputs": [],
   "source": [
    "# Creating a new_model on the top\n",
    "inputs= tf.keras.Input(shape= (256, 256, 3), name=\"input_layer\")"
   ]
  },
  {
   "cell_type": "code",
   "execution_count": 9,
   "id": "f0e154d0",
   "metadata": {},
   "outputs": [],
   "source": [
    "x= base_model(inputs,training= False)"
   ]
  },
  {
   "cell_type": "code",
   "execution_count": 10,
   "id": "06eee106",
   "metadata": {},
   "outputs": [],
   "source": [
    "# Average pool the outputs of the base model\n",
    "x = tf.keras.layers.GlobalAveragePooling2D(name='Global_Average_Pooling_Layer')(x)"
   ]
  },
  {
   "cell_type": "code",
   "execution_count": 11,
   "id": "c97951c1",
   "metadata": {},
   "outputs": [],
   "source": [
    "# Output layer\n",
    "u = tf.keras.layers.Dense(1050, activation=\"relu\")(x)\n",
    "u = tf.keras.layers.Dense(512, activation=\"relu\")(u)\n",
    "u = tf.keras.layers.Dense(256, activation=\"relu\")(u)\n",
    "u = tf.keras.layers.Dense(128, activation=\"relu\")(u)\n",
    "outputs = tf.keras.layers.Dense(5, activation=\"softmax\",name=\"output_layer\")(u)"
   ]
  },
  {
   "cell_type": "code",
   "execution_count": 12,
   "id": "e15b01f3",
   "metadata": {},
   "outputs": [],
   "source": [
    "# Combine the model\n",
    "model = tf.keras.Model(inputs, outputs) "
   ]
  },
  {
   "cell_type": "code",
   "execution_count": 13,
   "id": "186a4092",
   "metadata": {},
   "outputs": [
    {
     "name": "stdout",
     "output_type": "stream",
     "text": [
      "Model: \"model\"\n",
      "_________________________________________________________________\n",
      " Layer (type)                Output Shape              Param #   \n",
      "=================================================================\n",
      " input_layer (InputLayer)    [(None, 256, 256, 3)]     0         \n",
      "                                                                 \n",
      " vgg16 (Functional)          (None, 8, 8, 512)         14714688  \n",
      "                                                                 \n",
      " Global_Average_Pooling_Laye  (None, 512)              0         \n",
      " r (GlobalAveragePooling2D)                                      \n",
      "                                                                 \n",
      " dense (Dense)               (None, 1050)              538650    \n",
      "                                                                 \n",
      " dense_1 (Dense)             (None, 512)               538112    \n",
      "                                                                 \n",
      " dense_2 (Dense)             (None, 256)               131328    \n",
      "                                                                 \n",
      " dense_3 (Dense)             (None, 128)               32896     \n",
      "                                                                 \n",
      " output_layer (Dense)        (None, 5)                 645       \n",
      "                                                                 \n",
      "=================================================================\n",
      "Total params: 15,956,319\n",
      "Trainable params: 1,241,631\n",
      "Non-trainable params: 14,714,688\n",
      "_________________________________________________________________\n"
     ]
    }
   ],
   "source": [
    "#printing model summary\n",
    "\n",
    "model.summary()"
   ]
  },
  {
   "cell_type": "code",
   "execution_count": 15,
   "id": "b07c7887",
   "metadata": {},
   "outputs": [],
   "source": [
    "# Compile the model\n",
    "\n",
    "from tensorflow.keras.metrics import SensitivityAtSpecificity,SpecificityAtSensitivity,Recall,Precision\n",
    "\n",
    "model.compile(loss= tf.losses.categorical_crossentropy, \n",
    "      optimizer = tf.keras.optimizers.Adam(learning_rate=0.001),\n",
    "              metrics=['accuracy',SensitivityAtSpecificity(0.5),SpecificityAtSensitivity(0.5),Recall(0.5),Precision(0.5)])"
   ]
  },
  {
   "cell_type": "code",
   "execution_count": 16,
   "id": "5105faca",
   "metadata": {},
   "outputs": [],
   "source": [
    "#defining callback \n",
    "class myCallback(tf.keras.callbacks.Callback):\n",
    "     def on_epoch_end(self, epoch, logs={}):\n",
    "        if(logs.get('val_accuracy')>0.99): \n",
    "          print(\"\\nReached 99% accuracy so cancelling training!\")\n",
    "          self.model.stop_training = True\n",
    "\n",
    "callbacks = myCallback()"
   ]
  },
  {
   "cell_type": "code",
   "execution_count": 17,
   "id": "595e70ba",
   "metadata": {
    "tags": []
   },
   "outputs": [
    {
     "name": "stdout",
     "output_type": "stream",
     "text": [
      "WARNING:tensorflow:`period` argument is deprecated. Please use `save_freq` to specify the frequency in number of batches seen.\n",
      "Epoch 1/50\n"
     ]
    },
    {
     "name": "stderr",
     "output_type": "stream",
     "text": [
      "2023-01-06 13:43:03.408189: I tensorflow/stream_executor/cuda/cuda_dnn.cc:384] Loaded cuDNN version 8100\n",
      "2023-01-06 13:43:03.651605: I tensorflow/core/platform/default/subprocess.cc:304] Start cannot spawn child process: No such file or directory\n"
     ]
    },
    {
     "name": "stdout",
     "output_type": "stream",
     "text": [
      "244/244 [==============================] - ETA: 0s - loss: 1.1501 - accuracy: 0.5194 - sensitivity_at_specificity_1: 0.9066 - specificity_at_sensitivity_1: 0.8997 - recall_1: 0.3160 - precision_1: 0.7159\n",
      "Epoch 1: val_accuracy improved from -inf to 0.63837, saving model to ECG_Spectrogram_Model.h5\n",
      "244/244 [==============================] - 204s 789ms/step - loss: 1.1501 - accuracy: 0.5194 - sensitivity_at_specificity_1: 0.9066 - specificity_at_sensitivity_1: 0.8997 - recall_1: 0.3160 - precision_1: 0.7159 - val_loss: 0.9258 - val_accuracy: 0.6384 - val_sensitivity_at_specificity_1: 0.9649 - val_specificity_at_sensitivity_1: 0.9555 - val_recall_1: 0.4710 - val_precision_1: 0.7560\n",
      "Epoch 2/50\n",
      "244/244 [==============================] - ETA: 0s - loss: 0.8609 - accuracy: 0.6538 - sensitivity_at_specificity_1: 0.9780 - specificity_at_sensitivity_1: 0.9630 - recall_1: 0.5389 - precision_1: 0.7488\n",
      "Epoch 2: val_accuracy improved from 0.63837 to 0.66996, saving model to ECG_Spectrogram_Model.h5\n",
      "244/244 [==============================] - 176s 723ms/step - loss: 0.8609 - accuracy: 0.6538 - sensitivity_at_specificity_1: 0.9780 - specificity_at_sensitivity_1: 0.9630 - recall_1: 0.5389 - precision_1: 0.7488 - val_loss: 0.8372 - val_accuracy: 0.6700 - val_sensitivity_at_specificity_1: 0.9806 - val_specificity_at_sensitivity_1: 0.9646 - val_recall_1: 0.5665 - val_precision_1: 0.7448\n",
      "Epoch 3/50\n",
      "244/244 [==============================] - ETA: 0s - loss: 0.7991 - accuracy: 0.6871 - sensitivity_at_specificity_1: 0.9823 - specificity_at_sensitivity_1: 0.9733 - recall_1: 0.5935 - precision_1: 0.7635\n",
      "Epoch 3: val_accuracy improved from 0.66996 to 0.67048, saving model to ECG_Spectrogram_Model.h5\n",
      "244/244 [==============================] - 177s 723ms/step - loss: 0.7991 - accuracy: 0.6871 - sensitivity_at_specificity_1: 0.9823 - specificity_at_sensitivity_1: 0.9733 - recall_1: 0.5935 - precision_1: 0.7635 - val_loss: 0.8589 - val_accuracy: 0.6705 - val_sensitivity_at_specificity_1: 0.9667 - val_specificity_at_sensitivity_1: 0.9697 - val_recall_1: 0.5720 - val_precision_1: 0.7461\n",
      "Epoch 4/50\n",
      "244/244 [==============================] - ETA: 0s - loss: 0.7300 - accuracy: 0.7187 - sensitivity_at_specificity_1: 0.9887 - specificity_at_sensitivity_1: 0.9805 - recall_1: 0.6425 - precision_1: 0.7834\n",
      "Epoch 4: val_accuracy improved from 0.67048 to 0.70130, saving model to ECG_Spectrogram_Model.h5\n",
      "244/244 [==============================] - 177s 724ms/step - loss: 0.7300 - accuracy: 0.7187 - sensitivity_at_specificity_1: 0.9887 - specificity_at_sensitivity_1: 0.9805 - recall_1: 0.6425 - precision_1: 0.7834 - val_loss: 0.7696 - val_accuracy: 0.7013 - val_sensitivity_at_specificity_1: 0.9834 - val_specificity_at_sensitivity_1: 0.9760 - val_recall_1: 0.6264 - val_precision_1: 0.7605\n",
      "Epoch 5/50\n",
      "244/244 [==============================] - ETA: 0s - loss: 0.7048 - accuracy: 0.7292 - sensitivity_at_specificity_1: 0.9871 - specificity_at_sensitivity_1: 0.9832 - recall_1: 0.6602 - precision_1: 0.7909\n",
      "Epoch 5: val_accuracy improved from 0.70130 to 0.70502, saving model to ECG_Spectrogram_Model.h5\n",
      "244/244 [==============================] - 176s 723ms/step - loss: 0.7048 - accuracy: 0.7292 - sensitivity_at_specificity_1: 0.9871 - specificity_at_sensitivity_1: 0.9832 - recall_1: 0.6602 - precision_1: 0.7909 - val_loss: 0.7608 - val_accuracy: 0.7050 - val_sensitivity_at_specificity_1: 0.9832 - val_specificity_at_sensitivity_1: 0.9788 - val_recall_1: 0.6325 - val_precision_1: 0.7693\n",
      "Epoch 6/50\n",
      "244/244 [==============================] - ETA: 0s - loss: 0.6648 - accuracy: 0.7463 - sensitivity_at_specificity_1: 0.9906 - specificity_at_sensitivity_1: 0.9862 - recall_1: 0.6845 - precision_1: 0.8032\n",
      "Epoch 6: val_accuracy improved from 0.70502 to 0.71144, saving model to ECG_Spectrogram_Model.h5\n",
      "244/244 [==============================] - 177s 724ms/step - loss: 0.6648 - accuracy: 0.7463 - sensitivity_at_specificity_1: 0.9906 - specificity_at_sensitivity_1: 0.9862 - recall_1: 0.6845 - precision_1: 0.8032 - val_loss: 0.7421 - val_accuracy: 0.7114 - val_sensitivity_at_specificity_1: 0.9860 - val_specificity_at_sensitivity_1: 0.9780 - val_recall_1: 0.6463 - val_precision_1: 0.7670\n",
      "Epoch 7/50\n",
      "244/244 [==============================] - ETA: 0s - loss: 0.6461 - accuracy: 0.7538 - sensitivity_at_specificity_1: 0.9907 - specificity_at_sensitivity_1: 0.9879 - recall_1: 0.6962 - precision_1: 0.8064\n",
      "Epoch 7: val_accuracy did not improve from 0.71144\n",
      "244/244 [==============================] - 176s 722ms/step - loss: 0.6461 - accuracy: 0.7538 - sensitivity_at_specificity_1: 0.9907 - specificity_at_sensitivity_1: 0.9879 - recall_1: 0.6962 - precision_1: 0.8064 - val_loss: 0.8270 - val_accuracy: 0.6967 - val_sensitivity_at_specificity_1: 0.9723 - val_specificity_at_sensitivity_1: 0.9739 - val_recall_1: 0.6334 - val_precision_1: 0.7557\n",
      "Epoch 8/50\n",
      "244/244 [==============================] - ETA: 0s - loss: 0.6316 - accuracy: 0.7609 - sensitivity_at_specificity_1: 0.9904 - specificity_at_sensitivity_1: 0.9886 - recall_1: 0.7034 - precision_1: 0.8110\n",
      "Epoch 8: val_accuracy did not improve from 0.71144\n",
      "244/244 [==============================] - 176s 722ms/step - loss: 0.6316 - accuracy: 0.7609 - sensitivity_at_specificity_1: 0.9904 - specificity_at_sensitivity_1: 0.9886 - recall_1: 0.7034 - precision_1: 0.8110 - val_loss: 0.7707 - val_accuracy: 0.7010 - val_sensitivity_at_specificity_1: 0.9860 - val_specificity_at_sensitivity_1: 0.9755 - val_recall_1: 0.6461 - val_precision_1: 0.7424\n",
      "Epoch 9/50\n",
      "244/244 [==============================] - ETA: 0s - loss: 0.6178 - accuracy: 0.7675 - sensitivity_at_specificity_1: 0.9938 - specificity_at_sensitivity_1: 0.9893 - recall_1: 0.7129 - precision_1: 0.8167\n",
      "Epoch 9: val_accuracy did not improve from 0.71144\n",
      "244/244 [==============================] - 176s 721ms/step - loss: 0.6178 - accuracy: 0.7675 - sensitivity_at_specificity_1: 0.9938 - specificity_at_sensitivity_1: 0.9893 - recall_1: 0.7129 - precision_1: 0.8167 - val_loss: 0.7710 - val_accuracy: 0.7098 - val_sensitivity_at_specificity_1: 0.9774 - val_specificity_at_sensitivity_1: 0.9788 - val_recall_1: 0.6456 - val_precision_1: 0.7646\n",
      "Epoch 10/50\n",
      "244/244 [==============================] - ETA: 0s - loss: 0.5998 - accuracy: 0.7732 - sensitivity_at_specificity_1: 0.9934 - specificity_at_sensitivity_1: 0.9901 - recall_1: 0.7222 - precision_1: 0.8210\n",
      "Epoch 10: val_accuracy improved from 0.71144 to 0.71478, saving model to ECG_Spectrogram_Model.h5\n",
      "244/244 [==============================] - 177s 725ms/step - loss: 0.5998 - accuracy: 0.7732 - sensitivity_at_specificity_1: 0.9934 - specificity_at_sensitivity_1: 0.9901 - recall_1: 0.7222 - precision_1: 0.8210 - val_loss: 0.7613 - val_accuracy: 0.7148 - val_sensitivity_at_specificity_1: 0.9813 - val_specificity_at_sensitivity_1: 0.9799 - val_recall_1: 0.6608 - val_precision_1: 0.7629\n",
      "Epoch 11/50\n",
      "244/244 [==============================] - ETA: 0s - loss: 0.5919 - accuracy: 0.7768 - sensitivity_at_specificity_1: 0.9938 - specificity_at_sensitivity_1: 0.9911 - recall_1: 0.7257 - precision_1: 0.8220\n",
      "Epoch 11: val_accuracy did not improve from 0.71478\n",
      "244/244 [==============================] - 176s 721ms/step - loss: 0.5919 - accuracy: 0.7768 - sensitivity_at_specificity_1: 0.9938 - specificity_at_sensitivity_1: 0.9911 - recall_1: 0.7257 - precision_1: 0.8220 - val_loss: 0.8672 - val_accuracy: 0.6845 - val_sensitivity_at_specificity_1: 0.9720 - val_specificity_at_sensitivity_1: 0.9713 - val_recall_1: 0.6303 - val_precision_1: 0.7243\n",
      "Epoch 12/50\n",
      "244/244 [==============================] - ETA: 0s - loss: 0.5754 - accuracy: 0.7829 - sensitivity_at_specificity_1: 0.9933 - specificity_at_sensitivity_1: 0.9917 - recall_1: 0.7365 - precision_1: 0.8280\n",
      "Epoch 12: val_accuracy did not improve from 0.71478\n",
      "244/244 [==============================] - 176s 721ms/step - loss: 0.5754 - accuracy: 0.7829 - sensitivity_at_specificity_1: 0.9933 - specificity_at_sensitivity_1: 0.9917 - recall_1: 0.7365 - precision_1: 0.8280 - val_loss: 1.0346 - val_accuracy: 0.6553 - val_sensitivity_at_specificity_1: 0.9371 - val_specificity_at_sensitivity_1: 0.9620 - val_recall_1: 0.5810 - val_precision_1: 0.7108\n",
      "Epoch 13/50\n"
     ]
    },
    {
     "name": "stdout",
     "output_type": "stream",
     "text": [
      "244/244 [==============================] - ETA: 0s - loss: 0.5640 - accuracy: 0.7893 - sensitivity_at_specificity_1: 0.9934 - specificity_at_sensitivity_1: 0.9923 - recall_1: 0.7452 - precision_1: 0.8312\n",
      "Epoch 13: val_accuracy did not improve from 0.71478\n",
      "244/244 [==============================] - 176s 722ms/step - loss: 0.5640 - accuracy: 0.7893 - sensitivity_at_specificity_1: 0.9934 - specificity_at_sensitivity_1: 0.9923 - recall_1: 0.7452 - precision_1: 0.8312 - val_loss: 0.7902 - val_accuracy: 0.7072 - val_sensitivity_at_specificity_1: 0.9792 - val_specificity_at_sensitivity_1: 0.9781 - val_recall_1: 0.6620 - val_precision_1: 0.7475\n",
      "Epoch 14/50\n",
      "244/244 [==============================] - ETA: 0s - loss: 0.5432 - accuracy: 0.7960 - sensitivity_at_specificity_1: 0.9959 - specificity_at_sensitivity_1: 0.9935 - recall_1: 0.7528 - precision_1: 0.8362\n",
      "Epoch 14: val_accuracy did not improve from 0.71478\n",
      "244/244 [==============================] - 176s 721ms/step - loss: 0.5432 - accuracy: 0.7960 - sensitivity_at_specificity_1: 0.9959 - specificity_at_sensitivity_1: 0.9935 - recall_1: 0.7528 - precision_1: 0.8362 - val_loss: 0.8287 - val_accuracy: 0.6963 - val_sensitivity_at_specificity_1: 0.9753 - val_specificity_at_sensitivity_1: 0.9762 - val_recall_1: 0.6539 - val_precision_1: 0.7384\n",
      "Epoch 15/50\n",
      "244/244 [==============================] - ETA: 0s - loss: 0.5395 - accuracy: 0.7968 - sensitivity_at_specificity_1: 0.9962 - specificity_at_sensitivity_1: 0.9936 - recall_1: 0.7549 - precision_1: 0.8391\n",
      "Epoch 15: val_accuracy improved from 0.71478 to 0.71517, saving model to ECG_Spectrogram_Model.h5\n",
      "244/244 [==============================] - 176s 722ms/step - loss: 0.5395 - accuracy: 0.7968 - sensitivity_at_specificity_1: 0.9962 - specificity_at_sensitivity_1: 0.9936 - recall_1: 0.7549 - precision_1: 0.8391 - val_loss: 0.7724 - val_accuracy: 0.7152 - val_sensitivity_at_specificity_1: 0.9818 - val_specificity_at_sensitivity_1: 0.9797 - val_recall_1: 0.6719 - val_precision_1: 0.7573\n",
      "Epoch 16/50\n",
      "244/244 [==============================] - ETA: 0s - loss: 0.5417 - accuracy: 0.7972 - sensitivity_at_specificity_1: 0.9959 - specificity_at_sensitivity_1: 0.9935 - recall_1: 0.7528 - precision_1: 0.8385\n",
      "Epoch 16: val_accuracy did not improve from 0.71517\n",
      "244/244 [==============================] - 176s 721ms/step - loss: 0.5417 - accuracy: 0.7972 - sensitivity_at_specificity_1: 0.9959 - specificity_at_sensitivity_1: 0.9935 - recall_1: 0.7528 - precision_1: 0.8385 - val_loss: 0.8856 - val_accuracy: 0.6895 - val_sensitivity_at_specificity_1: 0.9617 - val_specificity_at_sensitivity_1: 0.9712 - val_recall_1: 0.6311 - val_precision_1: 0.7451\n",
      "Epoch 17/50\n",
      "244/244 [==============================] - ETA: 0s - loss: 0.5137 - accuracy: 0.8069 - sensitivity_at_specificity_1: 0.9959 - specificity_at_sensitivity_1: 0.9945 - recall_1: 0.7694 - precision_1: 0.8448\n",
      "Epoch 17: val_accuracy improved from 0.71517 to 0.72904, saving model to ECG_Spectrogram_Model.h5\n",
      "244/244 [==============================] - 176s 723ms/step - loss: 0.5137 - accuracy: 0.8069 - sensitivity_at_specificity_1: 0.9959 - specificity_at_sensitivity_1: 0.9945 - recall_1: 0.7694 - precision_1: 0.8448 - val_loss: 0.7750 - val_accuracy: 0.7290 - val_sensitivity_at_specificity_1: 0.9756 - val_specificity_at_sensitivity_1: 0.9821 - val_recall_1: 0.6882 - val_precision_1: 0.7674\n",
      "Epoch 18/50\n",
      "244/244 [==============================] - ETA: 0s - loss: 0.5110 - accuracy: 0.8075 - sensitivity_at_specificity_1: 0.9960 - specificity_at_sensitivity_1: 0.9949 - recall_1: 0.7694 - precision_1: 0.8448\n",
      "Epoch 18: val_accuracy did not improve from 0.72904\n",
      "244/244 [==============================] - 176s 721ms/step - loss: 0.5110 - accuracy: 0.8075 - sensitivity_at_specificity_1: 0.9960 - specificity_at_sensitivity_1: 0.9949 - recall_1: 0.7694 - precision_1: 0.8448 - val_loss: 0.8523 - val_accuracy: 0.7109 - val_sensitivity_at_specificity_1: 0.9716 - val_specificity_at_sensitivity_1: 0.9787 - val_recall_1: 0.6743 - val_precision_1: 0.7485\n",
      "Epoch 19/50\n",
      "244/244 [==============================] - ETA: 0s - loss: 0.5055 - accuracy: 0.8106 - sensitivity_at_specificity_1: 0.9964 - specificity_at_sensitivity_1: 0.9949 - recall_1: 0.7737 - precision_1: 0.8464\n",
      "Epoch 19: val_accuracy did not improve from 0.72904\n",
      "244/244 [==============================] - 176s 722ms/step - loss: 0.5055 - accuracy: 0.8106 - sensitivity_at_specificity_1: 0.9964 - specificity_at_sensitivity_1: 0.9949 - recall_1: 0.7737 - precision_1: 0.8464 - val_loss: 0.8422 - val_accuracy: 0.7040 - val_sensitivity_at_specificity_1: 0.9674 - val_specificity_at_sensitivity_1: 0.9764 - val_recall_1: 0.6646 - val_precision_1: 0.7407\n",
      "Epoch 20/50\n",
      "244/244 [==============================] - ETA: 0s - loss: 0.4792 - accuracy: 0.8211 - sensitivity_at_specificity_1: 0.9961 - specificity_at_sensitivity_1: 0.9958 - recall_1: 0.7875 - precision_1: 0.8539\n",
      "Epoch 20: val_accuracy did not improve from 0.72904\n",
      "244/244 [==============================] - 176s 722ms/step - loss: 0.4792 - accuracy: 0.8211 - sensitivity_at_specificity_1: 0.9961 - specificity_at_sensitivity_1: 0.9958 - recall_1: 0.7875 - precision_1: 0.8539 - val_loss: 0.8399 - val_accuracy: 0.7096 - val_sensitivity_at_specificity_1: 0.9744 - val_specificity_at_sensitivity_1: 0.9780 - val_recall_1: 0.6751 - val_precision_1: 0.7449\n",
      "Epoch 21/50\n",
      "244/244 [==============================] - ETA: 0s - loss: 0.4870 - accuracy: 0.8173 - sensitivity_at_specificity_1: 0.9966 - specificity_at_sensitivity_1: 0.9952 - recall_1: 0.7824 - precision_1: 0.8523\n",
      "Epoch 21: val_accuracy did not improve from 0.72904\n",
      "244/244 [==============================] - 176s 722ms/step - loss: 0.4870 - accuracy: 0.8173 - sensitivity_at_specificity_1: 0.9966 - specificity_at_sensitivity_1: 0.9952 - recall_1: 0.7824 - precision_1: 0.8523 - val_loss: 0.9875 - val_accuracy: 0.6763 - val_sensitivity_at_specificity_1: 0.9673 - val_specificity_at_sensitivity_1: 0.9689 - val_recall_1: 0.6443 - val_precision_1: 0.7099\n",
      "Epoch 22/50\n",
      "244/244 [==============================] - ETA: 0s - loss: 0.4689 - accuracy: 0.8235 - sensitivity_at_specificity_1: 0.9963 - specificity_at_sensitivity_1: 0.9963 - recall_1: 0.7905 - precision_1: 0.8562\n",
      "Epoch 22: val_accuracy did not improve from 0.72904\n",
      "244/244 [==============================] - 176s 721ms/step - loss: 0.4689 - accuracy: 0.8235 - sensitivity_at_specificity_1: 0.9963 - specificity_at_sensitivity_1: 0.9963 - recall_1: 0.7905 - precision_1: 0.8562 - val_loss: 0.8822 - val_accuracy: 0.7048 - val_sensitivity_at_specificity_1: 0.9689 - val_specificity_at_sensitivity_1: 0.9760 - val_recall_1: 0.6706 - val_precision_1: 0.7395\n",
      "Epoch 23/50\n",
      "244/244 [==============================] - ETA: 0s - loss: 0.4547 - accuracy: 0.8307 - sensitivity_at_specificity_1: 0.9983 - specificity_at_sensitivity_1: 0.9967 - recall_1: 0.7987 - precision_1: 0.8621\n",
      "Epoch 23: val_accuracy did not improve from 0.72904\n",
      "244/244 [==============================] - 176s 720ms/step - loss: 0.4547 - accuracy: 0.8307 - sensitivity_at_specificity_1: 0.9983 - specificity_at_sensitivity_1: 0.9967 - recall_1: 0.7987 - precision_1: 0.8621 - val_loss: 1.0453 - val_accuracy: 0.6601 - val_sensitivity_at_specificity_1: 0.9558 - val_specificity_at_sensitivity_1: 0.9616 - val_recall_1: 0.6296 - val_precision_1: 0.6875\n",
      "Epoch 24/50\n",
      "244/244 [==============================] - ETA: 0s - loss: 0.4624 - accuracy: 0.8259 - sensitivity_at_specificity_1: 0.9986 - specificity_at_sensitivity_1: 0.9962 - recall_1: 0.7938 - precision_1: 0.8582\n",
      "Epoch 24: val_accuracy did not improve from 0.72904\n",
      "244/244 [==============================] - 176s 722ms/step - loss: 0.4624 - accuracy: 0.8259 - sensitivity_at_specificity_1: 0.9986 - specificity_at_sensitivity_1: 0.9962 - recall_1: 0.7938 - precision_1: 0.8582 - val_loss: 0.8289 - val_accuracy: 0.7240 - val_sensitivity_at_specificity_1: 0.9728 - val_specificity_at_sensitivity_1: 0.9796 - val_recall_1: 0.6838 - val_precision_1: 0.7621\n",
      "Epoch 25/50\n",
      "244/244 [==============================] - ETA: 0s - loss: 0.4425 - accuracy: 0.8357 - sensitivity_at_specificity_1: 0.9987 - specificity_at_sensitivity_1: 0.9968 - recall_1: 0.8056 - precision_1: 0.8645\n",
      "Epoch 25: val_accuracy did not improve from 0.72904\n"
     ]
    },
    {
     "name": "stdout",
     "output_type": "stream",
     "text": [
      "244/244 [==============================] - 176s 721ms/step - loss: 0.4425 - accuracy: 0.8357 - sensitivity_at_specificity_1: 0.9987 - specificity_at_sensitivity_1: 0.9968 - recall_1: 0.8056 - precision_1: 0.8645 - val_loss: 0.8987 - val_accuracy: 0.6959 - val_sensitivity_at_specificity_1: 0.9637 - val_specificity_at_sensitivity_1: 0.9723 - val_recall_1: 0.6499 - val_precision_1: 0.7345\n",
      "Epoch 26/50\n",
      "244/244 [==============================] - ETA: 0s - loss: 0.4365 - accuracy: 0.8357 - sensitivity_at_specificity_1: 0.9986 - specificity_at_sensitivity_1: 0.9972 - recall_1: 0.8063 - precision_1: 0.8652\n",
      "Epoch 26: val_accuracy did not improve from 0.72904\n",
      "244/244 [==============================] - 176s 721ms/step - loss: 0.4365 - accuracy: 0.8357 - sensitivity_at_specificity_1: 0.9986 - specificity_at_sensitivity_1: 0.9972 - recall_1: 0.8063 - precision_1: 0.8652 - val_loss: 0.8921 - val_accuracy: 0.7120 - val_sensitivity_at_specificity_1: 0.9665 - val_specificity_at_sensitivity_1: 0.9771 - val_recall_1: 0.6781 - val_precision_1: 0.7383\n",
      "Epoch 27/50\n",
      "244/244 [==============================] - ETA: 0s - loss: 0.4401 - accuracy: 0.8345 - sensitivity_at_specificity_1: 0.9986 - specificity_at_sensitivity_1: 0.9971 - recall_1: 0.8040 - precision_1: 0.8637\n",
      "Epoch 27: val_accuracy did not improve from 0.72904\n",
      "244/244 [==============================] - 176s 721ms/step - loss: 0.4401 - accuracy: 0.8345 - sensitivity_at_specificity_1: 0.9986 - specificity_at_sensitivity_1: 0.9971 - recall_1: 0.8040 - precision_1: 0.8637 - val_loss: 0.9081 - val_accuracy: 0.7116 - val_sensitivity_at_specificity_1: 0.9707 - val_specificity_at_sensitivity_1: 0.9777 - val_recall_1: 0.6841 - val_precision_1: 0.7405\n",
      "Epoch 28/50\n",
      "244/244 [==============================] - ETA: 0s - loss: 0.4197 - accuracy: 0.8417 - sensitivity_at_specificity_1: 0.9990 - specificity_at_sensitivity_1: 0.9974 - recall_1: 0.8156 - precision_1: 0.8688\n",
      "Epoch 28: val_accuracy did not improve from 0.72904\n",
      "244/244 [==============================] - 176s 720ms/step - loss: 0.4197 - accuracy: 0.8417 - sensitivity_at_specificity_1: 0.9990 - specificity_at_sensitivity_1: 0.9974 - recall_1: 0.8156 - precision_1: 0.8688 - val_loss: 0.9936 - val_accuracy: 0.6973 - val_sensitivity_at_specificity_1: 0.9535 - val_specificity_at_sensitivity_1: 0.9737 - val_recall_1: 0.6674 - val_precision_1: 0.7280\n",
      "Epoch 29/50\n",
      "244/244 [==============================] - ETA: 0s - loss: 0.4149 - accuracy: 0.8453 - sensitivity_at_specificity_1: 0.9988 - specificity_at_sensitivity_1: 0.9976 - recall_1: 0.8191 - precision_1: 0.8718\n",
      "Epoch 29: val_accuracy did not improve from 0.72904\n",
      "244/244 [==============================] - 176s 722ms/step - loss: 0.4149 - accuracy: 0.8453 - sensitivity_at_specificity_1: 0.9988 - specificity_at_sensitivity_1: 0.9976 - recall_1: 0.8191 - precision_1: 0.8718 - val_loss: 0.9161 - val_accuracy: 0.7094 - val_sensitivity_at_specificity_1: 0.9617 - val_specificity_at_sensitivity_1: 0.9746 - val_recall_1: 0.6733 - val_precision_1: 0.7416\n",
      "Epoch 30/50\n",
      "244/244 [==============================] - ETA: 0s - loss: 0.4009 - accuracy: 0.8486 - sensitivity_at_specificity_1: 0.9989 - specificity_at_sensitivity_1: 0.9981 - recall_1: 0.8227 - precision_1: 0.8762\n",
      "Epoch 30: val_accuracy did not improve from 0.72904\n",
      "244/244 [==============================] - 176s 722ms/step - loss: 0.4009 - accuracy: 0.8486 - sensitivity_at_specificity_1: 0.9989 - specificity_at_sensitivity_1: 0.9981 - recall_1: 0.8227 - precision_1: 0.8762 - val_loss: 1.0366 - val_accuracy: 0.6990 - val_sensitivity_at_specificity_1: 0.9583 - val_specificity_at_sensitivity_1: 0.9734 - val_recall_1: 0.6709 - val_precision_1: 0.7228\n",
      "Epoch 31/50\n",
      "244/244 [==============================] - ETA: 0s - loss: 0.3913 - accuracy: 0.8525 - sensitivity_at_specificity_1: 0.9987 - specificity_at_sensitivity_1: 0.9981 - recall_1: 0.8276 - precision_1: 0.8773\n",
      "Epoch 31: val_accuracy did not improve from 0.72904\n",
      "244/244 [==============================] - 176s 722ms/step - loss: 0.3913 - accuracy: 0.8525 - sensitivity_at_specificity_1: 0.9987 - specificity_at_sensitivity_1: 0.9981 - recall_1: 0.8276 - precision_1: 0.8773 - val_loss: 1.1517 - val_accuracy: 0.6852 - val_sensitivity_at_specificity_1: 0.9459 - val_specificity_at_sensitivity_1: 0.9694 - val_recall_1: 0.6584 - val_precision_1: 0.7059\n",
      "Epoch 32/50\n",
      "244/244 [==============================] - ETA: 0s - loss: 0.3850 - accuracy: 0.8569 - sensitivity_at_specificity_1: 0.9988 - specificity_at_sensitivity_1: 0.9984 - recall_1: 0.8335 - precision_1: 0.8812\n",
      "Epoch 32: val_accuracy did not improve from 0.72904\n",
      "244/244 [==============================] - 176s 721ms/step - loss: 0.3850 - accuracy: 0.8569 - sensitivity_at_specificity_1: 0.9988 - specificity_at_sensitivity_1: 0.9984 - recall_1: 0.8335 - precision_1: 0.8812 - val_loss: 1.0242 - val_accuracy: 0.7044 - val_sensitivity_at_specificity_1: 0.9495 - val_specificity_at_sensitivity_1: 0.9736 - val_recall_1: 0.6750 - val_precision_1: 0.7323\n",
      "Epoch 33/50\n",
      "244/244 [==============================] - ETA: 0s - loss: 0.3874 - accuracy: 0.8550 - sensitivity_at_specificity_1: 0.9988 - specificity_at_sensitivity_1: 0.9981 - recall_1: 0.8297 - precision_1: 0.8773\n",
      "Epoch 33: val_accuracy did not improve from 0.72904\n",
      "244/244 [==============================] - 176s 722ms/step - loss: 0.3874 - accuracy: 0.8550 - sensitivity_at_specificity_1: 0.9988 - specificity_at_sensitivity_1: 0.9981 - recall_1: 0.8297 - precision_1: 0.8773 - val_loss: 0.9762 - val_accuracy: 0.7021 - val_sensitivity_at_specificity_1: 0.9531 - val_specificity_at_sensitivity_1: 0.9749 - val_recall_1: 0.6674 - val_precision_1: 0.7350\n",
      "Epoch 34/50\n",
      "244/244 [==============================] - ETA: 0s - loss: 0.3715 - accuracy: 0.8620 - sensitivity_at_specificity_1: 0.9984 - specificity_at_sensitivity_1: 0.9982 - recall_1: 0.8392 - precision_1: 0.8845\n",
      "Epoch 34: val_accuracy did not improve from 0.72904\n",
      "244/244 [==============================] - 176s 721ms/step - loss: 0.3715 - accuracy: 0.8620 - sensitivity_at_specificity_1: 0.9984 - specificity_at_sensitivity_1: 0.9982 - recall_1: 0.8392 - precision_1: 0.8845 - val_loss: 0.9522 - val_accuracy: 0.7054 - val_sensitivity_at_specificity_1: 0.9579 - val_specificity_at_sensitivity_1: 0.9757 - val_recall_1: 0.6795 - val_precision_1: 0.7297\n",
      "Epoch 35/50\n",
      "244/244 [==============================] - ETA: 0s - loss: 0.3676 - accuracy: 0.8626 - sensitivity_at_specificity_1: 0.9989 - specificity_at_sensitivity_1: 0.9985 - recall_1: 0.8407 - precision_1: 0.8857\n",
      "Epoch 35: val_accuracy did not improve from 0.72904\n",
      "244/244 [==============================] - 176s 722ms/step - loss: 0.3676 - accuracy: 0.8626 - sensitivity_at_specificity_1: 0.9989 - specificity_at_sensitivity_1: 0.9985 - recall_1: 0.8407 - precision_1: 0.8857 - val_loss: 1.1986 - val_accuracy: 0.6868 - val_sensitivity_at_specificity_1: 0.9404 - val_specificity_at_sensitivity_1: 0.9690 - val_recall_1: 0.6617 - val_precision_1: 0.7087\n",
      "Epoch 36/50\n",
      "244/244 [==============================] - ETA: 0s - loss: 0.3673 - accuracy: 0.8620 - sensitivity_at_specificity_1: 0.9988 - specificity_at_sensitivity_1: 0.9984 - recall_1: 0.8393 - precision_1: 0.8852\n",
      "Epoch 36: val_accuracy did not improve from 0.72904\n",
      "244/244 [==============================] - 176s 722ms/step - loss: 0.3673 - accuracy: 0.8620 - sensitivity_at_specificity_1: 0.9988 - specificity_at_sensitivity_1: 0.9984 - recall_1: 0.8393 - precision_1: 0.8852 - val_loss: 1.3592 - val_accuracy: 0.6380 - val_sensitivity_at_specificity_1: 0.9131 - val_specificity_at_sensitivity_1: 0.9552 - val_recall_1: 0.6058 - val_precision_1: 0.6675\n",
      "Epoch 37/50\n",
      "244/244 [==============================] - ETA: 0s - loss: 0.3468 - accuracy: 0.8699 - sensitivity_at_specificity_1: 0.9988 - specificity_at_sensitivity_1: 0.9988 - recall_1: 0.8486 - precision_1: 0.8913\n",
      "Epoch 37: val_accuracy did not improve from 0.72904\n",
      "244/244 [==============================] - 176s 721ms/step - loss: 0.3468 - accuracy: 0.8699 - sensitivity_at_specificity_1: 0.9988 - specificity_at_sensitivity_1: 0.9988 - recall_1: 0.8486 - precision_1: 0.8913 - val_loss: 1.2105 - val_accuracy: 0.6819 - val_sensitivity_at_specificity_1: 0.9375 - val_specificity_at_sensitivity_1: 0.9652 - val_recall_1: 0.6599 - val_precision_1: 0.7045\n"
     ]
    },
    {
     "name": "stdout",
     "output_type": "stream",
     "text": [
      "Epoch 38/50\n",
      "244/244 [==============================] - ETA: 0s - loss: 0.3331 - accuracy: 0.8738 - sensitivity_at_specificity_1: 0.9988 - specificity_at_sensitivity_1: 0.9990 - recall_1: 0.8546 - precision_1: 0.8938\n",
      "Epoch 38: val_accuracy did not improve from 0.72904\n",
      "244/244 [==============================] - 176s 722ms/step - loss: 0.3331 - accuracy: 0.8738 - sensitivity_at_specificity_1: 0.9988 - specificity_at_sensitivity_1: 0.9990 - recall_1: 0.8546 - precision_1: 0.8938 - val_loss: 1.1633 - val_accuracy: 0.6912 - val_sensitivity_at_specificity_1: 0.9452 - val_specificity_at_sensitivity_1: 0.9700 - val_recall_1: 0.6703 - val_precision_1: 0.7141\n",
      "Epoch 39/50\n",
      "244/244 [==============================] - ETA: 0s - loss: 0.3342 - accuracy: 0.8742 - sensitivity_at_specificity_1: 0.9987 - specificity_at_sensitivity_1: 0.9990 - recall_1: 0.8548 - precision_1: 0.8944\n",
      "Epoch 39: val_accuracy did not improve from 0.72904\n",
      "244/244 [==============================] - 176s 720ms/step - loss: 0.3342 - accuracy: 0.8742 - sensitivity_at_specificity_1: 0.9987 - specificity_at_sensitivity_1: 0.9990 - recall_1: 0.8548 - precision_1: 0.8944 - val_loss: 1.2310 - val_accuracy: 0.6825 - val_sensitivity_at_specificity_1: 0.9350 - val_specificity_at_sensitivity_1: 0.9669 - val_recall_1: 0.6610 - val_precision_1: 0.7026\n",
      "Epoch 40/50\n",
      "244/244 [==============================] - ETA: 0s - loss: 0.3321 - accuracy: 0.8737 - sensitivity_at_specificity_1: 0.9988 - specificity_at_sensitivity_1: 0.9989 - recall_1: 0.8557 - precision_1: 0.8930\n",
      "Epoch 40: val_accuracy did not improve from 0.72904\n",
      "244/244 [==============================] - 176s 719ms/step - loss: 0.3321 - accuracy: 0.8737 - sensitivity_at_specificity_1: 0.9988 - specificity_at_sensitivity_1: 0.9989 - recall_1: 0.8557 - precision_1: 0.8930 - val_loss: 1.2343 - val_accuracy: 0.6940 - val_sensitivity_at_specificity_1: 0.9330 - val_specificity_at_sensitivity_1: 0.9664 - val_recall_1: 0.6773 - val_precision_1: 0.7095\n",
      "Epoch 41/50\n",
      "244/244 [==============================] - ETA: 0s - loss: 0.3166 - accuracy: 0.8804 - sensitivity_at_specificity_1: 0.9988 - specificity_at_sensitivity_1: 0.9993 - recall_1: 0.8640 - precision_1: 0.8987\n",
      "Epoch 41: val_accuracy did not improve from 0.72904\n",
      "244/244 [==============================] - 176s 723ms/step - loss: 0.3166 - accuracy: 0.8804 - sensitivity_at_specificity_1: 0.9988 - specificity_at_sensitivity_1: 0.9993 - recall_1: 0.8640 - precision_1: 0.8987 - val_loss: 1.3943 - val_accuracy: 0.6814 - val_sensitivity_at_specificity_1: 0.9251 - val_specificity_at_sensitivity_1: 0.9648 - val_recall_1: 0.6621 - val_precision_1: 0.7010\n",
      "Epoch 42/50\n",
      "244/244 [==============================] - ETA: 0s - loss: 0.3233 - accuracy: 0.8780 - sensitivity_at_specificity_1: 0.9987 - specificity_at_sensitivity_1: 0.9991 - recall_1: 0.8615 - precision_1: 0.8964\n",
      "Epoch 42: val_accuracy did not improve from 0.72904\n",
      "244/244 [==============================] - 176s 721ms/step - loss: 0.3233 - accuracy: 0.8780 - sensitivity_at_specificity_1: 0.9987 - specificity_at_sensitivity_1: 0.9991 - recall_1: 0.8615 - precision_1: 0.8964 - val_loss: 1.3359 - val_accuracy: 0.6571 - val_sensitivity_at_specificity_1: 0.9295 - val_specificity_at_sensitivity_1: 0.9590 - val_recall_1: 0.6330 - val_precision_1: 0.6772\n",
      "Epoch 43/50\n",
      "244/244 [==============================] - ETA: 0s - loss: 0.3047 - accuracy: 0.8854 - sensitivity_at_specificity_1: 0.9989 - specificity_at_sensitivity_1: 0.9993 - recall_1: 0.8692 - precision_1: 0.9013\n",
      "Epoch 43: val_accuracy did not improve from 0.72904\n",
      "244/244 [==============================] - 176s 721ms/step - loss: 0.3047 - accuracy: 0.8854 - sensitivity_at_specificity_1: 0.9989 - specificity_at_sensitivity_1: 0.9993 - recall_1: 0.8692 - precision_1: 0.9013 - val_loss: 1.1592 - val_accuracy: 0.6892 - val_sensitivity_at_specificity_1: 0.9436 - val_specificity_at_sensitivity_1: 0.9697 - val_recall_1: 0.6619 - val_precision_1: 0.7151\n",
      "Epoch 44/50\n",
      "244/244 [==============================] - ETA: 0s - loss: 0.3010 - accuracy: 0.8843 - sensitivity_at_specificity_1: 0.9992 - specificity_at_sensitivity_1: 0.9994 - recall_1: 0.8690 - precision_1: 0.9022\n",
      "Epoch 44: val_accuracy did not improve from 0.72904\n",
      "244/244 [==============================] - 176s 720ms/step - loss: 0.3010 - accuracy: 0.8843 - sensitivity_at_specificity_1: 0.9992 - specificity_at_sensitivity_1: 0.9994 - recall_1: 0.8690 - precision_1: 0.9022 - val_loss: 1.3158 - val_accuracy: 0.6838 - val_sensitivity_at_specificity_1: 0.9256 - val_specificity_at_sensitivity_1: 0.9678 - val_recall_1: 0.6638 - val_precision_1: 0.7041\n",
      "Epoch 45/50\n",
      "244/244 [==============================] - ETA: 0s - loss: 0.2941 - accuracy: 0.8898 - sensitivity_at_specificity_1: 0.9990 - specificity_at_sensitivity_1: 0.9994 - recall_1: 0.8732 - precision_1: 0.9052\n",
      "Epoch 45: val_accuracy did not improve from 0.72904\n",
      "244/244 [==============================] - 176s 722ms/step - loss: 0.2941 - accuracy: 0.8898 - sensitivity_at_specificity_1: 0.9990 - specificity_at_sensitivity_1: 0.9994 - recall_1: 0.8732 - precision_1: 0.9052 - val_loss: 1.5822 - val_accuracy: 0.6693 - val_sensitivity_at_specificity_1: 0.9115 - val_specificity_at_sensitivity_1: 0.9621 - val_recall_1: 0.6463 - val_precision_1: 0.6909\n",
      "Epoch 46/50\n",
      "244/244 [==============================] - ETA: 0s - loss: 0.2789 - accuracy: 0.8944 - sensitivity_at_specificity_1: 0.9989 - specificity_at_sensitivity_1: 0.9995 - recall_1: 0.8798 - precision_1: 0.9093\n",
      "Epoch 46: val_accuracy did not improve from 0.72904\n",
      "244/244 [==============================] - 176s 721ms/step - loss: 0.2789 - accuracy: 0.8944 - sensitivity_at_specificity_1: 0.9989 - specificity_at_sensitivity_1: 0.9995 - recall_1: 0.8798 - precision_1: 0.9093 - val_loss: 1.5921 - val_accuracy: 0.6546 - val_sensitivity_at_specificity_1: 0.9105 - val_specificity_at_sensitivity_1: 0.9591 - val_recall_1: 0.6375 - val_precision_1: 0.6719\n",
      "Epoch 47/50\n",
      "244/244 [==============================] - ETA: 0s - loss: 0.2882 - accuracy: 0.8899 - sensitivity_at_specificity_1: 0.9988 - specificity_at_sensitivity_1: 0.9994 - recall_1: 0.8757 - precision_1: 0.9055\n",
      "Epoch 47: val_accuracy did not improve from 0.72904\n",
      "244/244 [==============================] - 176s 721ms/step - loss: 0.2882 - accuracy: 0.8899 - sensitivity_at_specificity_1: 0.9988 - specificity_at_sensitivity_1: 0.9994 - recall_1: 0.8757 - precision_1: 0.9055 - val_loss: 1.4621 - val_accuracy: 0.6566 - val_sensitivity_at_specificity_1: 0.9176 - val_specificity_at_sensitivity_1: 0.9596 - val_recall_1: 0.6355 - val_precision_1: 0.6760\n",
      "Epoch 48/50\n",
      "244/244 [==============================] - ETA: 0s - loss: 0.2657 - accuracy: 0.8984 - sensitivity_at_specificity_1: 0.9991 - specificity_at_sensitivity_1: 0.9996 - recall_1: 0.8860 - precision_1: 0.9124\n",
      "Epoch 48: val_accuracy did not improve from 0.72904\n",
      "244/244 [==============================] - 176s 721ms/step - loss: 0.2657 - accuracy: 0.8984 - sensitivity_at_specificity_1: 0.9991 - specificity_at_sensitivity_1: 0.9996 - recall_1: 0.8860 - precision_1: 0.9124 - val_loss: 1.4931 - val_accuracy: 0.6796 - val_sensitivity_at_specificity_1: 0.9118 - val_specificity_at_sensitivity_1: 0.9683 - val_recall_1: 0.6675 - val_precision_1: 0.6915\n",
      "Epoch 49/50\n",
      "244/244 [==============================] - ETA: 0s - loss: 0.2694 - accuracy: 0.8997 - sensitivity_at_specificity_1: 0.9988 - specificity_at_sensitivity_1: 0.9996 - recall_1: 0.8869 - precision_1: 0.9142\n",
      "Epoch 49: val_accuracy did not improve from 0.72904\n",
      "244/244 [==============================] - 176s 722ms/step - loss: 0.2694 - accuracy: 0.8997 - sensitivity_at_specificity_1: 0.9988 - specificity_at_sensitivity_1: 0.9996 - recall_1: 0.8869 - precision_1: 0.9142 - val_loss: 1.5022 - val_accuracy: 0.6775 - val_sensitivity_at_specificity_1: 0.9037 - val_specificity_at_sensitivity_1: 0.9674 - val_recall_1: 0.6655 - val_precision_1: 0.6911\n",
      "Epoch 50/50\n",
      "244/244 [==============================] - ETA: 0s - loss: 0.2614 - accuracy: 0.8998 - sensitivity_at_specificity_1: 0.9990 - specificity_at_sensitivity_1: 0.9997 - recall_1: 0.8870 - precision_1: 0.9127\n",
      "Epoch 50: val_accuracy did not improve from 0.72904\n",
      "244/244 [==============================] - 176s 722ms/step - loss: 0.2614 - accuracy: 0.8998 - sensitivity_at_specificity_1: 0.9990 - specificity_at_sensitivity_1: 0.9997 - recall_1: 0.8870 - precision_1: 0.9127 - val_loss: 1.7250 - val_accuracy: 0.6468 - val_sensitivity_at_specificity_1: 0.8947 - val_specificity_at_sensitivity_1: 0.9569 - val_recall_1: 0.6322 - val_precision_1: 0.6638\n"
     ]
    }
   ],
   "source": [
    "# Fit the model\n",
    "from keras.callbacks import ModelCheckpoint, EarlyStopping\n",
    "\n",
    "checkpoint = ModelCheckpoint(\"ECG_Spectrogram_Model.h5\", monitor='val_accuracy', verbose=1, save_best_only=True, save_weights_only=False, mode='auto', period=1)\n",
    "history = model.fit(train_data, steps_per_epoch=len(train_data), epochs=50, validation_data=val_data, validation_steps=len(val_data),callbacks = [callbacks,checkpoint])"
   ]
  },
  {
   "cell_type": "code",
   "execution_count": 18,
   "id": "c97da7ef",
   "metadata": {},
   "outputs": [
    {
     "name": "stdout",
     "output_type": "stream",
     "text": [
      "Training Accuracy:  0.8998269438743591\n",
      "Validation Accuracy:  0.7290355563163757\n",
      "Validation Specificity:  0.9820533990859985\n",
      "Validation Sensitivity:  0.9860023260116577\n",
      "Validation Recall:  0.6881982684135437\n",
      "Validation Precision:  0.7692908644676208\n",
      "Validation Loss:  0.7420902252197266\n"
     ]
    }
   ],
   "source": [
    "#Acquiring Performance metrics\n",
    "\n",
    "Training_Accuracy=history.history['accuracy']\n",
    "Validation_Accuracy=history.history['val_accuracy']\n",
    "Validation_Specificity=history.history['val_specificity_at_sensitivity_1']\n",
    "Validation_Sensitivity=history.history['val_sensitivity_at_specificity_1']\n",
    "Validation_Recall=history.history['val_recall_1']\n",
    "Validation_Precision=history.history['val_precision_1']\n",
    "Validation_Loss=history.history['val_loss']\n",
    "\n",
    "print(\"Training Accuracy: \",max(Training_Accuracy))\n",
    "print(\"Validation Accuracy: \",max(Validation_Accuracy))\n",
    "print(\"Validation Specificity: \",max(Validation_Specificity))\n",
    "print(\"Validation Sensitivity: \",max(Validation_Sensitivity))\n",
    "print(\"Validation Recall: \",max(Validation_Recall))\n",
    "print(\"Validation Precision: \",max(Validation_Precision))\n",
    "print(\"Validation Loss: \",min(Validation_Loss))"
   ]
  },
  {
   "cell_type": "code",
   "execution_count": null,
   "id": "e89f74d5",
   "metadata": {},
   "outputs": [],
   "source": []
  }
 ],
 "metadata": {
  "kernelspec": {
   "display_name": "Python 3 (ipykernel)",
   "language": "python",
   "name": "python3"
  },
  "language_info": {
   "codemirror_mode": {
    "name": "ipython",
    "version": 3
   },
   "file_extension": ".py",
   "mimetype": "text/x-python",
   "name": "python",
   "nbconvert_exporter": "python",
   "pygments_lexer": "ipython3",
   "version": "3.10.6"
  }
 },
 "nbformat": 4,
 "nbformat_minor": 5
}
