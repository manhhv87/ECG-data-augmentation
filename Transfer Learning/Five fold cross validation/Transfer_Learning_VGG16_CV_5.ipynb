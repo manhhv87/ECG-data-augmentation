{
 "cells": [
  {
   "cell_type": "code",
   "execution_count": 1,
   "id": "e1e32307",
   "metadata": {},
   "outputs": [
    {
     "name": "stdout",
     "output_type": "stream",
     "text": [
      "2.9.1\n"
     ]
    }
   ],
   "source": [
    "#checking tensorflow version\n",
    "\n",
    "import tensorflow as tf\n",
    "print(tf.__version__)"
   ]
  },
  {
   "cell_type": "code",
   "execution_count": 2,
   "id": "4b0746ad",
   "metadata": {},
   "outputs": [],
   "source": [
    "#importing libraries \n",
    "\n",
    "import tensorflow as tf\n",
    "from tensorflow import keras\n",
    "from keras.layers import Input, Conv2D, Dense, Flatten, BatchNormalization, Dropout, MaxPooling2D, GlobalMaxPooling2D\n",
    "from keras.models import Model\n",
    "import matplotlib.pyplot as plt\n",
    "from keras.preprocessing import image\n",
    "#from keras.preprocessing.image import load_img\n",
    "from keras.models import Sequential\n",
    "import numpy as np\n",
    "from tensorflow.keras import regularizers"
   ]
  },
  {
   "cell_type": "code",
   "execution_count": 3,
   "id": "a2880923",
   "metadata": {},
   "outputs": [],
   "source": [
    "# Cross Validation dataset links\n",
    "\n",
    "#CV-1\n",
    "#train_dir=\"/home/ubuntu/From_Laptop/multi-class-NEW/12-Lead_ECG_version_2/DA_version_3/Model_Training/K-Fold Cross Validation/Fold 1/Training/\"\n",
    "#val_dir=\"/home/ubuntu/From_Laptop/multi-class-NEW/12-Lead_ECG_version_2/DA_version_3/Model_Training/K-Fold Cross Validation/Fold 1/Validation/\"\n",
    "\n",
    "#CV-2\n",
    "#train_dir=\"/home/ubuntu/From_Laptop/multi-class-NEW/12-Lead_ECG_version_2/DA_version_3/Model_Training/K-Fold Cross Validation/Fold 2/Training/\"\n",
    "#val_dir=\"/home/ubuntu/From_Laptop/multi-class-NEW/12-Lead_ECG_version_2/DA_version_3/Model_Training/K-Fold Cross Validation/Fold 2/Validation/\"\n",
    "\n",
    "#CV-3\n",
    "#train_dir=\"/home/ubuntu/From_Laptop/multi-class-NEW/12-Lead_ECG_version_2/DA_version_3/Model_Training/K-Fold Cross Validation/Fold 3/Training/\"\n",
    "#val_dir=\"/home/ubuntu/From_Laptop/multi-class-NEW/12-Lead_ECG_version_2/DA_version_3/Model_Training/K-Fold Cross Validation/Fold 3/Validation/\"\n",
    "\n",
    "#CV-4\n",
    "#train_dir=\"/home/ubuntu/From_Laptop/multi-class-NEW/12-Lead_ECG_version_2/DA_version_3/Model_Training/K-Fold Cross Validation/Fold 4/Training/\"\n",
    "#val_dir=\"/home/ubuntu/From_Laptop/multi-class-NEW/12-Lead_ECG_version_2/DA_version_3/Model_Training/K-Fold Cross Validation/Fold 4/Validation/\"\n",
    "\n",
    "#CV-5\n",
    "train_dir=\"/home/ubuntu/From_Laptop/multi-class-NEW/12-Lead_ECG_version_2/DA_version_3/Model_Training/K-Fold Cross Validation/Fold 5/Training/\"\n",
    "val_dir=\"/home/ubuntu/From_Laptop/multi-class-NEW/12-Lead_ECG_version_2/DA_version_3/Model_Training/K-Fold Cross Validation/Fold 5/Validation/\""
   ]
  },
  {
   "cell_type": "code",
   "execution_count": 4,
   "id": "b2f80645",
   "metadata": {},
   "outputs": [
    {
     "name": "stdout",
     "output_type": "stream",
     "text": [
      "Found 31144 files belonging to 5 classes.\n"
     ]
    },
    {
     "name": "stderr",
     "output_type": "stream",
     "text": [
      "2023-01-07 22:35:13.213487: I tensorflow/stream_executor/cuda/cuda_gpu_executor.cc:975] successful NUMA node read from SysFS had negative value (-1), but there must be at least one NUMA node, so returning NUMA node zero\n",
      "2023-01-07 22:35:13.239860: I tensorflow/stream_executor/cuda/cuda_gpu_executor.cc:975] successful NUMA node read from SysFS had negative value (-1), but there must be at least one NUMA node, so returning NUMA node zero\n",
      "2023-01-07 22:35:13.240185: I tensorflow/stream_executor/cuda/cuda_gpu_executor.cc:975] successful NUMA node read from SysFS had negative value (-1), but there must be at least one NUMA node, so returning NUMA node zero\n",
      "2023-01-07 22:35:13.241294: I tensorflow/core/platform/cpu_feature_guard.cc:193] This TensorFlow binary is optimized with oneAPI Deep Neural Network Library (oneDNN) to use the following CPU instructions in performance-critical operations:  AVX2 FMA\n",
      "To enable them in other operations, rebuild TensorFlow with the appropriate compiler flags.\n",
      "2023-01-07 22:35:13.241707: I tensorflow/stream_executor/cuda/cuda_gpu_executor.cc:975] successful NUMA node read from SysFS had negative value (-1), but there must be at least one NUMA node, so returning NUMA node zero\n",
      "2023-01-07 22:35:13.241988: I tensorflow/stream_executor/cuda/cuda_gpu_executor.cc:975] successful NUMA node read from SysFS had negative value (-1), but there must be at least one NUMA node, so returning NUMA node zero\n",
      "2023-01-07 22:35:13.242176: I tensorflow/stream_executor/cuda/cuda_gpu_executor.cc:975] successful NUMA node read from SysFS had negative value (-1), but there must be at least one NUMA node, so returning NUMA node zero\n",
      "2023-01-07 22:35:13.713124: I tensorflow/stream_executor/cuda/cuda_gpu_executor.cc:975] successful NUMA node read from SysFS had negative value (-1), but there must be at least one NUMA node, so returning NUMA node zero\n",
      "2023-01-07 22:35:13.713320: I tensorflow/stream_executor/cuda/cuda_gpu_executor.cc:975] successful NUMA node read from SysFS had negative value (-1), but there must be at least one NUMA node, so returning NUMA node zero\n",
      "2023-01-07 22:35:13.713473: I tensorflow/stream_executor/cuda/cuda_gpu_executor.cc:975] successful NUMA node read from SysFS had negative value (-1), but there must be at least one NUMA node, so returning NUMA node zero\n",
      "2023-01-07 22:35:13.713593: I tensorflow/core/common_runtime/gpu/gpu_device.cc:1532] Created device /job:localhost/replica:0/task:0/device:GPU:0 with 7380 MB memory:  -> device: 0, name: NVIDIA GeForce GTX 1080, pci bus id: 0000:00:05.0, compute capability: 6.1\n"
     ]
    },
    {
     "name": "stdout",
     "output_type": "stream",
     "text": [
      "Found 7849 files belonging to 5 classes.\n"
     ]
    }
   ],
   "source": [
    "from tensorflow.keras import layers\n",
    "\n",
    "train_data = tf.keras.preprocessing.image_dataset_from_directory(directory=train_dir,\n",
    "                                                                 image_size=(256,256),\n",
    "                                                                 label_mode='categorical', batch_size=128, \n",
    "                                                                 )\n",
    "val_data = tf.keras.preprocessing.image_dataset_from_directory(directory=val_dir,\n",
    "                                                                 image_size=(256,256),\n",
    "                                                                 label_mode='categorical', batch_size=128,\n",
    "                                                                )"
   ]
  },
  {
   "cell_type": "code",
   "execution_count": 5,
   "id": "ca75c58f-bfe9-48bc-8e3a-e9ed7abe3cdf",
   "metadata": {},
   "outputs": [],
   "source": [
    "#Normalizing the data\n",
    "\n",
    "nrmzln_layer = layers.experimental.preprocessing.Rescaling(1./255)\n",
    "\n",
    "train_data = train_data.map(lambda x,\n",
    "                          y: (nrmzln_layer(x), y))\n",
    "\n",
    "val_data = val_data.map(lambda x,\n",
    "                          y: (nrmzln_layer(x), y))"
   ]
  },
  {
   "cell_type": "code",
   "execution_count": 6,
   "id": "2007b247",
   "metadata": {},
   "outputs": [],
   "source": [
    "#import tensorflow.python.keras.applications.VGG16\n",
    "base_model= tf.keras.applications.VGG16(weights= 'imagenet', input_shape=(256,256, 3), include_top=False) "
   ]
  },
  {
   "cell_type": "code",
   "execution_count": 7,
   "id": "3110cb3d",
   "metadata": {},
   "outputs": [],
   "source": [
    "# Freezing the base_model for transfer learning\n",
    "base_model.trainable= False"
   ]
  },
  {
   "cell_type": "code",
   "execution_count": 8,
   "id": "f9525074",
   "metadata": {},
   "outputs": [],
   "source": [
    "# Creating a new_model on the top\n",
    "inputs= tf.keras.Input(shape= (256, 256, 3), name=\"input_layer\")"
   ]
  },
  {
   "cell_type": "code",
   "execution_count": 9,
   "id": "f0e154d0",
   "metadata": {},
   "outputs": [],
   "source": [
    "x= base_model(inputs,training= False)"
   ]
  },
  {
   "cell_type": "code",
   "execution_count": 10,
   "id": "06eee106",
   "metadata": {},
   "outputs": [],
   "source": [
    "# Average pool the outputs of the base model\n",
    "x = tf.keras.layers.GlobalAveragePooling2D(name='Global_Average_Pooling_Layer')(x)"
   ]
  },
  {
   "cell_type": "code",
   "execution_count": 11,
   "id": "c97951c1",
   "metadata": {},
   "outputs": [],
   "source": [
    "# Output layer\n",
    "u = tf.keras.layers.Dense(1050, activation=\"relu\")(x)\n",
    "u = tf.keras.layers.Dense(512, activation=\"relu\")(u)\n",
    "u = tf.keras.layers.Dense(256, activation=\"relu\")(u)\n",
    "u = tf.keras.layers.Dense(128, activation=\"relu\")(u)\n",
    "outputs = tf.keras.layers.Dense(5, activation=\"softmax\",name=\"output_layer\")(u)"
   ]
  },
  {
   "cell_type": "code",
   "execution_count": 12,
   "id": "e15b01f3",
   "metadata": {},
   "outputs": [],
   "source": [
    "# Combine the model\n",
    "model = tf.keras.Model(inputs, outputs) "
   ]
  },
  {
   "cell_type": "code",
   "execution_count": 13,
   "id": "186a4092",
   "metadata": {},
   "outputs": [
    {
     "name": "stdout",
     "output_type": "stream",
     "text": [
      "Model: \"model\"\n",
      "_________________________________________________________________\n",
      " Layer (type)                Output Shape              Param #   \n",
      "=================================================================\n",
      " input_layer (InputLayer)    [(None, 256, 256, 3)]     0         \n",
      "                                                                 \n",
      " vgg16 (Functional)          (None, 8, 8, 512)         14714688  \n",
      "                                                                 \n",
      " Global_Average_Pooling_Laye  (None, 512)              0         \n",
      " r (GlobalAveragePooling2D)                                      \n",
      "                                                                 \n",
      " dense (Dense)               (None, 1050)              538650    \n",
      "                                                                 \n",
      " dense_1 (Dense)             (None, 512)               538112    \n",
      "                                                                 \n",
      " dense_2 (Dense)             (None, 256)               131328    \n",
      "                                                                 \n",
      " dense_3 (Dense)             (None, 128)               32896     \n",
      "                                                                 \n",
      " output_layer (Dense)        (None, 5)                 645       \n",
      "                                                                 \n",
      "=================================================================\n",
      "Total params: 15,956,319\n",
      "Trainable params: 1,241,631\n",
      "Non-trainable params: 14,714,688\n",
      "_________________________________________________________________\n"
     ]
    }
   ],
   "source": [
    "#printing model summary\n",
    "\n",
    "model.summary()"
   ]
  },
  {
   "cell_type": "code",
   "execution_count": 14,
   "id": "b07c7887",
   "metadata": {},
   "outputs": [],
   "source": [
    "# Compile the model\n",
    "\n",
    "from tensorflow.keras.metrics import SensitivityAtSpecificity,SpecificityAtSensitivity,Recall,Precision\n",
    "\n",
    "model.compile(loss= tf.losses.categorical_crossentropy, \n",
    "      optimizer = tf.keras.optimizers.Adam(learning_rate=0.001),\n",
    "              metrics=['accuracy',SensitivityAtSpecificity(0.5),SpecificityAtSensitivity(0.5),Recall(0.5),Precision(0.5)])"
   ]
  },
  {
   "cell_type": "code",
   "execution_count": 15,
   "id": "5105faca",
   "metadata": {},
   "outputs": [],
   "source": [
    "#defining callback \n",
    "class myCallback(tf.keras.callbacks.Callback):\n",
    "     def on_epoch_end(self, epoch, logs={}):\n",
    "        if(logs.get('val_accuracy')>0.99): \n",
    "          print(\"\\nReached 99% accuracy so cancelling training!\")\n",
    "          self.model.stop_training = True\n",
    "\n",
    "callbacks = myCallback()"
   ]
  },
  {
   "cell_type": "code",
   "execution_count": 16,
   "id": "595e70ba",
   "metadata": {
    "tags": []
   },
   "outputs": [
    {
     "name": "stdout",
     "output_type": "stream",
     "text": [
      "WARNING:tensorflow:`period` argument is deprecated. Please use `save_freq` to specify the frequency in number of batches seen.\n",
      "Epoch 1/50\n"
     ]
    },
    {
     "name": "stderr",
     "output_type": "stream",
     "text": [
      "2023-01-07 22:35:31.924376: I tensorflow/stream_executor/cuda/cuda_dnn.cc:384] Loaded cuDNN version 8100\n",
      "2023-01-07 22:35:32.330846: I tensorflow/core/platform/default/subprocess.cc:304] Start cannot spawn child process: No such file or directory\n"
     ]
    },
    {
     "name": "stdout",
     "output_type": "stream",
     "text": [
      "244/244 [==============================] - ETA: 0s - loss: 1.1656 - accuracy: 0.5130 - sensitivity_at_specificity: 0.8990 - specificity_at_sensitivity: 0.8963 - recall: 0.3041 - precision: 0.7086\n",
      "Epoch 1: val_accuracy improved from -inf to 0.61473, saving model to ECG_Spectrogram_Model.h5\n",
      "244/244 [==============================] - 195s 754ms/step - loss: 1.1656 - accuracy: 0.5130 - sensitivity_at_specificity: 0.8990 - specificity_at_sensitivity: 0.8963 - recall: 0.3041 - precision: 0.7086 - val_loss: 0.9699 - val_accuracy: 0.6147 - val_sensitivity_at_specificity: 0.9552 - val_specificity_at_sensitivity: 0.9470 - val_recall: 0.4776 - val_precision: 0.7163\n",
      "Epoch 2/50\n",
      "244/244 [==============================] - ETA: 0s - loss: 0.8768 - accuracy: 0.6519 - sensitivity_at_specificity: 0.9748 - specificity_at_sensitivity: 0.9621 - recall: 0.5368 - precision: 0.7450\n",
      "Epoch 2: val_accuracy improved from 0.61473 to 0.63371, saving model to ECG_Spectrogram_Model.h5\n",
      "244/244 [==============================] - 182s 746ms/step - loss: 0.8768 - accuracy: 0.6519 - sensitivity_at_specificity: 0.9748 - specificity_at_sensitivity: 0.9621 - recall: 0.5368 - precision: 0.7450 - val_loss: 0.9046 - val_accuracy: 0.6337 - val_sensitivity_at_specificity: 0.9738 - val_specificity_at_sensitivity: 0.9539 - val_recall: 0.5301 - val_precision: 0.7112\n",
      "Epoch 3/50\n",
      "244/244 [==============================] - ETA: 0s - loss: 0.7910 - accuracy: 0.6917 - sensitivity_at_specificity: 0.9826 - specificity_at_sensitivity: 0.9742 - recall: 0.6038 - precision: 0.7680\n",
      "Epoch 3: val_accuracy improved from 0.63371 to 0.66212, saving model to ECG_Spectrogram_Model.h5\n",
      "244/244 [==============================] - 182s 747ms/step - loss: 0.7910 - accuracy: 0.6917 - sensitivity_at_specificity: 0.9826 - specificity_at_sensitivity: 0.9742 - recall: 0.6038 - precision: 0.7680 - val_loss: 0.8604 - val_accuracy: 0.6621 - val_sensitivity_at_specificity: 0.9789 - val_specificity_at_sensitivity: 0.9655 - val_recall: 0.5780 - val_precision: 0.7262\n",
      "Epoch 4/50\n",
      "244/244 [==============================] - ETA: 0s - loss: 0.7325 - accuracy: 0.7178 - sensitivity_at_specificity: 0.9850 - specificity_at_sensitivity: 0.9802 - recall: 0.6419 - precision: 0.7846\n",
      "Epoch 4: val_accuracy improved from 0.66212 to 0.69002, saving model to ECG_Spectrogram_Model.h5\n",
      "244/244 [==============================] - 182s 746ms/step - loss: 0.7325 - accuracy: 0.7178 - sensitivity_at_specificity: 0.9850 - specificity_at_sensitivity: 0.9802 - recall: 0.6419 - precision: 0.7846 - val_loss: 0.8014 - val_accuracy: 0.6900 - val_sensitivity_at_specificity: 0.9783 - val_specificity_at_sensitivity: 0.9723 - val_recall: 0.6166 - val_precision: 0.7474\n",
      "Epoch 5/50\n",
      "244/244 [==============================] - ETA: 0s - loss: 0.7058 - accuracy: 0.7286 - sensitivity_at_specificity: 0.9875 - specificity_at_sensitivity: 0.9832 - recall: 0.6597 - precision: 0.7914\n",
      "Epoch 5: val_accuracy improved from 0.69002 to 0.70404, saving model to ECG_Spectrogram_Model.h5\n",
      "244/244 [==============================] - 182s 747ms/step - loss: 0.7058 - accuracy: 0.7286 - sensitivity_at_specificity: 0.9875 - specificity_at_sensitivity: 0.9832 - recall: 0.6597 - precision: 0.7914 - val_loss: 0.7723 - val_accuracy: 0.7040 - val_sensitivity_at_specificity: 0.9813 - val_specificity_at_sensitivity: 0.9766 - val_recall: 0.6471 - val_precision: 0.7539\n",
      "Epoch 6/50\n",
      "244/244 [==============================] - ETA: 0s - loss: 0.6752 - accuracy: 0.7408 - sensitivity_at_specificity: 0.9903 - specificity_at_sensitivity: 0.9856 - recall: 0.6793 - precision: 0.8003\n",
      "Epoch 6: val_accuracy did not improve from 0.70404\n",
      "244/244 [==============================] - 182s 744ms/step - loss: 0.6752 - accuracy: 0.7408 - sensitivity_at_specificity: 0.9903 - specificity_at_sensitivity: 0.9856 - recall: 0.6793 - precision: 0.8003 - val_loss: 0.8819 - val_accuracy: 0.6705 - val_sensitivity_at_specificity: 0.9657 - val_specificity_at_sensitivity: 0.9684 - val_recall: 0.6100 - val_precision: 0.7197\n",
      "Epoch 7/50\n",
      "244/244 [==============================] - ETA: 0s - loss: 0.6572 - accuracy: 0.7500 - sensitivity_at_specificity: 0.9907 - specificity_at_sensitivity: 0.9869 - recall: 0.6898 - precision: 0.8020\n",
      "Epoch 7: val_accuracy did not improve from 0.70404\n",
      "244/244 [==============================] - 182s 744ms/step - loss: 0.6572 - accuracy: 0.7500 - sensitivity_at_specificity: 0.9907 - specificity_at_sensitivity: 0.9869 - recall: 0.6898 - precision: 0.8020 - val_loss: 0.8070 - val_accuracy: 0.7021 - val_sensitivity_at_specificity: 0.9754 - val_specificity_at_sensitivity: 0.9740 - val_recall: 0.6285 - val_precision: 0.7603\n",
      "Epoch 8/50\n",
      "244/244 [==============================] - ETA: 0s - loss: 0.6194 - accuracy: 0.7642 - sensitivity_at_specificity: 0.9934 - specificity_at_sensitivity: 0.9895 - recall: 0.7102 - precision: 0.8151\n",
      "Epoch 8: val_accuracy did not improve from 0.70404\n",
      "244/244 [==============================] - 182s 744ms/step - loss: 0.6194 - accuracy: 0.7642 - sensitivity_at_specificity: 0.9934 - specificity_at_sensitivity: 0.9895 - recall: 0.7102 - precision: 0.8151 - val_loss: 0.9287 - val_accuracy: 0.6773 - val_sensitivity_at_specificity: 0.9558 - val_specificity_at_sensitivity: 0.9678 - val_recall: 0.6290 - val_precision: 0.7240\n",
      "Epoch 9/50\n",
      "244/244 [==============================] - ETA: 0s - loss: 0.6145 - accuracy: 0.7662 - sensitivity_at_specificity: 0.9930 - specificity_at_sensitivity: 0.9895 - recall: 0.7140 - precision: 0.8170\n",
      "Epoch 9: val_accuracy improved from 0.70404 to 0.71818, saving model to ECG_Spectrogram_Model.h5\n",
      "244/244 [==============================] - 183s 748ms/step - loss: 0.6145 - accuracy: 0.7662 - sensitivity_at_specificity: 0.9930 - specificity_at_sensitivity: 0.9895 - recall: 0.7140 - precision: 0.8170 - val_loss: 0.7673 - val_accuracy: 0.7182 - val_sensitivity_at_specificity: 0.9762 - val_specificity_at_sensitivity: 0.9783 - val_recall: 0.6608 - val_precision: 0.7612\n",
      "Epoch 10/50\n",
      "244/244 [==============================] - ETA: 0s - loss: 0.5999 - accuracy: 0.7734 - sensitivity_at_specificity: 0.9940 - specificity_at_sensitivity: 0.9907 - recall: 0.7221 - precision: 0.8210\n",
      "Epoch 10: val_accuracy did not improve from 0.71818\n",
      "244/244 [==============================] - 176s 722ms/step - loss: 0.5999 - accuracy: 0.7734 - sensitivity_at_specificity: 0.9940 - specificity_at_sensitivity: 0.9907 - recall: 0.7221 - precision: 0.8210 - val_loss: 0.9296 - val_accuracy: 0.6935 - val_sensitivity_at_specificity: 0.9535 - val_specificity_at_sensitivity: 0.9720 - val_recall: 0.6458 - val_precision: 0.7294\n",
      "Epoch 11/50\n",
      "244/244 [==============================] - ETA: 0s - loss: 0.5956 - accuracy: 0.7762 - sensitivity_at_specificity: 0.9933 - specificity_at_sensitivity: 0.9907 - recall: 0.7250 - precision: 0.8229\n",
      "Epoch 11: val_accuracy did not improve from 0.71818\n",
      "244/244 [==============================] - 176s 722ms/step - loss: 0.5956 - accuracy: 0.7762 - sensitivity_at_specificity: 0.9933 - specificity_at_sensitivity: 0.9907 - recall: 0.7250 - precision: 0.8229 - val_loss: 0.9638 - val_accuracy: 0.6666 - val_sensitivity_at_specificity: 0.9481 - val_specificity_at_sensitivity: 0.9652 - val_recall: 0.6026 - val_precision: 0.7130\n",
      "Epoch 12/50\n",
      "244/244 [==============================] - ETA: 0s - loss: 0.5753 - accuracy: 0.7819 - sensitivity_at_specificity: 0.9939 - specificity_at_sensitivity: 0.9921 - recall: 0.7348 - precision: 0.8269\n",
      "Epoch 12: val_accuracy did not improve from 0.71818\n",
      "244/244 [==============================] - 176s 722ms/step - loss: 0.5753 - accuracy: 0.7819 - sensitivity_at_specificity: 0.9939 - specificity_at_sensitivity: 0.9921 - recall: 0.7348 - precision: 0.8269 - val_loss: 1.0166 - val_accuracy: 0.6574 - val_sensitivity_at_specificity: 0.9539 - val_specificity_at_sensitivity: 0.9637 - val_recall: 0.6029 - val_precision: 0.7107\n",
      "Epoch 13/50\n",
      "244/244 [==============================] - ETA: 0s - loss: 0.5754 - accuracy: 0.7826 - sensitivity_at_specificity: 0.9934 - specificity_at_sensitivity: 0.9917 - recall: 0.7353 - precision: 0.8273\n",
      "Epoch 13: val_accuracy improved from 0.71818 to 0.72264, saving model to ECG_Spectrogram_Model.h5\n",
      "244/244 [==============================] - 177s 724ms/step - loss: 0.5754 - accuracy: 0.7826 - sensitivity_at_specificity: 0.9934 - specificity_at_sensitivity: 0.9917 - recall: 0.7353 - precision: 0.8273 - val_loss: 0.7843 - val_accuracy: 0.7226 - val_sensitivity_at_specificity: 0.9743 - val_specificity_at_sensitivity: 0.9814 - val_recall: 0.6760 - val_precision: 0.7690\n"
     ]
    },
    {
     "name": "stdout",
     "output_type": "stream",
     "text": [
      "Epoch 14/50\n",
      "244/244 [==============================] - ETA: 0s - loss: 0.5437 - accuracy: 0.7937 - sensitivity_at_specificity: 0.9964 - specificity_at_sensitivity: 0.9932 - recall: 0.7511 - precision: 0.8370\n",
      "Epoch 14: val_accuracy did not improve from 0.72264\n",
      "244/244 [==============================] - 176s 722ms/step - loss: 0.5437 - accuracy: 0.7937 - sensitivity_at_specificity: 0.9964 - specificity_at_sensitivity: 0.9932 - recall: 0.7511 - precision: 0.8370 - val_loss: 1.0313 - val_accuracy: 0.6724 - val_sensitivity_at_specificity: 0.9425 - val_specificity_at_sensitivity: 0.9654 - val_recall: 0.6360 - val_precision: 0.7050\n",
      "Epoch 15/50\n",
      "244/244 [==============================] - ETA: 0s - loss: 0.5512 - accuracy: 0.7925 - sensitivity_at_specificity: 0.9966 - specificity_at_sensitivity: 0.9930 - recall: 0.7478 - precision: 0.8333\n",
      "Epoch 15: val_accuracy did not improve from 0.72264\n",
      "244/244 [==============================] - 182s 744ms/step - loss: 0.5512 - accuracy: 0.7925 - sensitivity_at_specificity: 0.9966 - specificity_at_sensitivity: 0.9930 - recall: 0.7478 - precision: 0.8333 - val_loss: 0.9466 - val_accuracy: 0.6723 - val_sensitivity_at_specificity: 0.9606 - val_specificity_at_sensitivity: 0.9645 - val_recall: 0.6295 - val_precision: 0.7084\n",
      "Epoch 16/50\n",
      "244/244 [==============================] - ETA: 0s - loss: 0.5277 - accuracy: 0.8039 - sensitivity_at_specificity: 0.9969 - specificity_at_sensitivity: 0.9939 - recall: 0.7639 - precision: 0.8427\n",
      "Epoch 16: val_accuracy did not improve from 0.72264\n",
      "244/244 [==============================] - 176s 722ms/step - loss: 0.5277 - accuracy: 0.8039 - sensitivity_at_specificity: 0.9969 - specificity_at_sensitivity: 0.9939 - recall: 0.7639 - precision: 0.8427 - val_loss: 0.9507 - val_accuracy: 0.6747 - val_sensitivity_at_specificity: 0.9653 - val_specificity_at_sensitivity: 0.9702 - val_recall: 0.6365 - val_precision: 0.7114\n",
      "Epoch 17/50\n",
      "244/244 [==============================] - ETA: 0s - loss: 0.5234 - accuracy: 0.8037 - sensitivity_at_specificity: 0.9963 - specificity_at_sensitivity: 0.9943 - recall: 0.7623 - precision: 0.8404\n",
      "Epoch 17: val_accuracy did not improve from 0.72264\n",
      "244/244 [==============================] - 176s 722ms/step - loss: 0.5234 - accuracy: 0.8037 - sensitivity_at_specificity: 0.9963 - specificity_at_sensitivity: 0.9943 - recall: 0.7623 - precision: 0.8404 - val_loss: 0.9031 - val_accuracy: 0.7094 - val_sensitivity_at_specificity: 0.9638 - val_specificity_at_sensitivity: 0.9746 - val_recall: 0.6737 - val_precision: 0.7402\n",
      "Epoch 18/50\n",
      "244/244 [==============================] - ETA: 0s - loss: 0.5292 - accuracy: 0.7999 - sensitivity_at_specificity: 0.9963 - specificity_at_sensitivity: 0.9939 - recall: 0.7607 - precision: 0.8391\n",
      "Epoch 18: val_accuracy did not improve from 0.72264\n",
      "244/244 [==============================] - 176s 723ms/step - loss: 0.5292 - accuracy: 0.7999 - sensitivity_at_specificity: 0.9963 - specificity_at_sensitivity: 0.9939 - recall: 0.7607 - precision: 0.8391 - val_loss: 1.0205 - val_accuracy: 0.6772 - val_sensitivity_at_specificity: 0.9427 - val_specificity_at_sensitivity: 0.9671 - val_recall: 0.6307 - val_precision: 0.7123\n",
      "Epoch 19/50\n",
      "244/244 [==============================] - ETA: 0s - loss: 0.5150 - accuracy: 0.8065 - sensitivity_at_specificity: 0.9962 - specificity_at_sensitivity: 0.9945 - recall: 0.7664 - precision: 0.8430\n",
      "Epoch 19: val_accuracy did not improve from 0.72264\n",
      "244/244 [==============================] - 176s 722ms/step - loss: 0.5150 - accuracy: 0.8065 - sensitivity_at_specificity: 0.9962 - specificity_at_sensitivity: 0.9945 - recall: 0.7664 - precision: 0.8430 - val_loss: 1.0465 - val_accuracy: 0.6629 - val_sensitivity_at_specificity: 0.9362 - val_specificity_at_sensitivity: 0.9636 - val_recall: 0.6234 - val_precision: 0.6970\n",
      "Epoch 20/50\n",
      "244/244 [==============================] - ETA: 0s - loss: 0.4978 - accuracy: 0.8127 - sensitivity_at_specificity: 0.9962 - specificity_at_sensitivity: 0.9951 - recall: 0.7762 - precision: 0.8490\n",
      "Epoch 20: val_accuracy did not improve from 0.72264\n",
      "244/244 [==============================] - 176s 721ms/step - loss: 0.4978 - accuracy: 0.8127 - sensitivity_at_specificity: 0.9962 - specificity_at_sensitivity: 0.9951 - recall: 0.7762 - precision: 0.8490 - val_loss: 1.0381 - val_accuracy: 0.6626 - val_sensitivity_at_specificity: 0.9586 - val_specificity_at_sensitivity: 0.9597 - val_recall: 0.6264 - val_precision: 0.6914\n",
      "Epoch 21/50\n",
      "244/244 [==============================] - ETA: 0s - loss: 0.4805 - accuracy: 0.8195 - sensitivity_at_specificity: 0.9968 - specificity_at_sensitivity: 0.9959 - recall: 0.7861 - precision: 0.8549\n",
      "Epoch 21: val_accuracy did not improve from 0.72264\n",
      "244/244 [==============================] - 176s 722ms/step - loss: 0.4805 - accuracy: 0.8195 - sensitivity_at_specificity: 0.9968 - specificity_at_sensitivity: 0.9959 - recall: 0.7861 - precision: 0.8549 - val_loss: 0.9367 - val_accuracy: 0.6904 - val_sensitivity_at_specificity: 0.9541 - val_specificity_at_sensitivity: 0.9727 - val_recall: 0.6476 - val_precision: 0.7257\n",
      "Epoch 22/50\n",
      "244/244 [==============================] - ETA: 0s - loss: 0.4761 - accuracy: 0.8203 - sensitivity_at_specificity: 0.9961 - specificity_at_sensitivity: 0.9958 - recall: 0.7856 - precision: 0.8538\n",
      "Epoch 22: val_accuracy did not improve from 0.72264\n",
      "244/244 [==============================] - 176s 721ms/step - loss: 0.4761 - accuracy: 0.8203 - sensitivity_at_specificity: 0.9961 - specificity_at_sensitivity: 0.9958 - recall: 0.7856 - precision: 0.8538 - val_loss: 1.0401 - val_accuracy: 0.6857 - val_sensitivity_at_specificity: 0.9452 - val_specificity_at_sensitivity: 0.9708 - val_recall: 0.6580 - val_precision: 0.7136\n",
      "Epoch 23/50\n",
      "244/244 [==============================] - ETA: 0s - loss: 0.4708 - accuracy: 0.8253 - sensitivity_at_specificity: 0.9984 - specificity_at_sensitivity: 0.9960 - recall: 0.7899 - precision: 0.8582\n",
      "Epoch 23: val_accuracy did not improve from 0.72264\n",
      "244/244 [==============================] - 176s 723ms/step - loss: 0.4708 - accuracy: 0.8253 - sensitivity_at_specificity: 0.9984 - specificity_at_sensitivity: 0.9960 - recall: 0.7899 - precision: 0.8582 - val_loss: 0.8974 - val_accuracy: 0.7049 - val_sensitivity_at_specificity: 0.9745 - val_specificity_at_sensitivity: 0.9754 - val_recall: 0.6741 - val_precision: 0.7288\n",
      "Epoch 24/50\n",
      "244/244 [==============================] - ETA: 0s - loss: 0.4672 - accuracy: 0.8250 - sensitivity_at_specificity: 0.9986 - specificity_at_sensitivity: 0.9963 - recall: 0.7914 - precision: 0.8578\n",
      "Epoch 24: val_accuracy did not improve from 0.72264\n",
      "244/244 [==============================] - 176s 721ms/step - loss: 0.4672 - accuracy: 0.8250 - sensitivity_at_specificity: 0.9986 - specificity_at_sensitivity: 0.9963 - recall: 0.7914 - precision: 0.8578 - val_loss: 1.0156 - val_accuracy: 0.6839 - val_sensitivity_at_specificity: 0.9549 - val_specificity_at_sensitivity: 0.9681 - val_recall: 0.6541 - val_precision: 0.7081\n",
      "Epoch 25/50\n",
      "244/244 [==============================] - ETA: 0s - loss: 0.4638 - accuracy: 0.8248 - sensitivity_at_specificity: 0.9987 - specificity_at_sensitivity: 0.9964 - recall: 0.7929 - precision: 0.8585\n",
      "Epoch 25: val_accuracy did not improve from 0.72264\n",
      "244/244 [==============================] - 176s 721ms/step - loss: 0.4638 - accuracy: 0.8248 - sensitivity_at_specificity: 0.9987 - specificity_at_sensitivity: 0.9964 - recall: 0.7929 - precision: 0.8585 - val_loss: 1.1259 - val_accuracy: 0.6659 - val_sensitivity_at_specificity: 0.9311 - val_specificity_at_sensitivity: 0.9604 - val_recall: 0.6321 - val_precision: 0.6925\n",
      "Epoch 26/50\n",
      "244/244 [==============================] - ETA: 0s - loss: 0.4462 - accuracy: 0.8328 - sensitivity_at_specificity: 0.9986 - specificity_at_sensitivity: 0.9965 - recall: 0.8015 - precision: 0.8626\n",
      "Epoch 26: val_accuracy did not improve from 0.72264\n",
      "244/244 [==============================] - 176s 720ms/step - loss: 0.4462 - accuracy: 0.8328 - sensitivity_at_specificity: 0.9986 - specificity_at_sensitivity: 0.9965 - recall: 0.8015 - precision: 0.8626 - val_loss: 1.0635 - val_accuracy: 0.6856 - val_sensitivity_at_specificity: 0.9424 - val_specificity_at_sensitivity: 0.9664 - val_recall: 0.6512 - val_precision: 0.7161\n"
     ]
    },
    {
     "name": "stdout",
     "output_type": "stream",
     "text": [
      "Epoch 27/50\n",
      "244/244 [==============================] - ETA: 0s - loss: 0.4304 - accuracy: 0.8378 - sensitivity_at_specificity: 0.9986 - specificity_at_sensitivity: 0.9971 - recall: 0.8080 - precision: 0.8675\n",
      "Epoch 27: val_accuracy did not improve from 0.72264\n",
      "244/244 [==============================] - 177s 723ms/step - loss: 0.4304 - accuracy: 0.8378 - sensitivity_at_specificity: 0.9986 - specificity_at_sensitivity: 0.9971 - recall: 0.8080 - precision: 0.8675 - val_loss: 0.9404 - val_accuracy: 0.7206 - val_sensitivity_at_specificity: 0.9522 - val_specificity_at_sensitivity: 0.9768 - val_recall: 0.6895 - val_precision: 0.7455\n",
      "Epoch 28/50\n",
      "244/244 [==============================] - ETA: 0s - loss: 0.4276 - accuracy: 0.8406 - sensitivity_at_specificity: 0.9987 - specificity_at_sensitivity: 0.9972 - recall: 0.8095 - precision: 0.8694\n",
      "Epoch 28: val_accuracy did not improve from 0.72264\n",
      "244/244 [==============================] - 176s 721ms/step - loss: 0.4276 - accuracy: 0.8406 - sensitivity_at_specificity: 0.9987 - specificity_at_sensitivity: 0.9972 - recall: 0.8095 - precision: 0.8694 - val_loss: 1.2538 - val_accuracy: 0.6671 - val_sensitivity_at_specificity: 0.9251 - val_specificity_at_sensitivity: 0.9619 - val_recall: 0.6366 - val_precision: 0.6919\n",
      "Epoch 29/50\n",
      "244/244 [==============================] - ETA: 0s - loss: 0.4203 - accuracy: 0.8418 - sensitivity_at_specificity: 0.9986 - specificity_at_sensitivity: 0.9974 - recall: 0.8143 - precision: 0.8698\n",
      "Epoch 29: val_accuracy did not improve from 0.72264\n",
      "244/244 [==============================] - 176s 721ms/step - loss: 0.4203 - accuracy: 0.8418 - sensitivity_at_specificity: 0.9986 - specificity_at_sensitivity: 0.9974 - recall: 0.8143 - precision: 0.8698 - val_loss: 1.0305 - val_accuracy: 0.7067 - val_sensitivity_at_specificity: 0.9408 - val_specificity_at_sensitivity: 0.9744 - val_recall: 0.6789 - val_precision: 0.7307\n",
      "Epoch 30/50\n",
      "244/244 [==============================] - ETA: 0s - loss: 0.4170 - accuracy: 0.8404 - sensitivity_at_specificity: 0.9986 - specificity_at_sensitivity: 0.9975 - recall: 0.8131 - precision: 0.8693\n",
      "Epoch 30: val_accuracy did not improve from 0.72264\n",
      "244/244 [==============================] - 176s 721ms/step - loss: 0.4170 - accuracy: 0.8404 - sensitivity_at_specificity: 0.9986 - specificity_at_sensitivity: 0.9975 - recall: 0.8131 - precision: 0.8693 - val_loss: 1.1147 - val_accuracy: 0.6783 - val_sensitivity_at_specificity: 0.9560 - val_specificity_at_sensitivity: 0.9656 - val_recall: 0.6467 - val_precision: 0.7055\n",
      "Epoch 31/50\n",
      "244/244 [==============================] - ETA: 0s - loss: 0.4127 - accuracy: 0.8469 - sensitivity_at_specificity: 0.9985 - specificity_at_sensitivity: 0.9973 - recall: 0.8184 - precision: 0.8735\n",
      "Epoch 31: val_accuracy did not improve from 0.72264\n",
      "244/244 [==============================] - 176s 721ms/step - loss: 0.4127 - accuracy: 0.8469 - sensitivity_at_specificity: 0.9985 - specificity_at_sensitivity: 0.9973 - recall: 0.8184 - precision: 0.8735 - val_loss: 0.9388 - val_accuracy: 0.7177 - val_sensitivity_at_specificity: 0.9557 - val_specificity_at_sensitivity: 0.9775 - val_recall: 0.6960 - val_precision: 0.7408\n",
      "Epoch 32/50\n",
      "244/244 [==============================] - ETA: 0s - loss: 0.4083 - accuracy: 0.8468 - sensitivity_at_specificity: 0.9985 - specificity_at_sensitivity: 0.9979 - recall: 0.8195 - precision: 0.8737\n",
      "Epoch 32: val_accuracy did not improve from 0.72264\n",
      "244/244 [==============================] - 176s 721ms/step - loss: 0.4083 - accuracy: 0.8468 - sensitivity_at_specificity: 0.9985 - specificity_at_sensitivity: 0.9979 - recall: 0.8195 - precision: 0.8737 - val_loss: 1.0007 - val_accuracy: 0.7080 - val_sensitivity_at_specificity: 0.9479 - val_specificity_at_sensitivity: 0.9730 - val_recall: 0.6829 - val_precision: 0.7320\n",
      "Epoch 33/50\n",
      "244/244 [==============================] - ETA: 0s - loss: 0.3797 - accuracy: 0.8570 - sensitivity_at_specificity: 0.9987 - specificity_at_sensitivity: 0.9983 - recall: 0.8325 - precision: 0.8822\n",
      "Epoch 33: val_accuracy did not improve from 0.72264\n",
      "244/244 [==============================] - 177s 723ms/step - loss: 0.3797 - accuracy: 0.8570 - sensitivity_at_specificity: 0.9987 - specificity_at_sensitivity: 0.9983 - recall: 0.8325 - precision: 0.8822 - val_loss: 0.9571 - val_accuracy: 0.7155 - val_sensitivity_at_specificity: 0.9667 - val_specificity_at_sensitivity: 0.9754 - val_recall: 0.6908 - val_precision: 0.7432\n",
      "Epoch 34/50\n",
      "244/244 [==============================] - ETA: 0s - loss: 0.3970 - accuracy: 0.8497 - sensitivity_at_specificity: 0.9985 - specificity_at_sensitivity: 0.9981 - recall: 0.8243 - precision: 0.8768\n",
      "Epoch 34: val_accuracy did not improve from 0.72264\n",
      "244/244 [==============================] - 176s 722ms/step - loss: 0.3970 - accuracy: 0.8497 - sensitivity_at_specificity: 0.9985 - specificity_at_sensitivity: 0.9981 - recall: 0.8243 - precision: 0.8768 - val_loss: 1.1141 - val_accuracy: 0.7057 - val_sensitivity_at_specificity: 0.9466 - val_specificity_at_sensitivity: 0.9712 - val_recall: 0.6839 - val_precision: 0.7286\n",
      "Epoch 35/50\n",
      "244/244 [==============================] - ETA: 0s - loss: 0.3807 - accuracy: 0.8576 - sensitivity_at_specificity: 0.9986 - specificity_at_sensitivity: 0.9983 - recall: 0.8334 - precision: 0.8825\n",
      "Epoch 35: val_accuracy did not improve from 0.72264\n",
      "244/244 [==============================] - 176s 721ms/step - loss: 0.3807 - accuracy: 0.8576 - sensitivity_at_specificity: 0.9986 - specificity_at_sensitivity: 0.9983 - recall: 0.8334 - precision: 0.8825 - val_loss: 1.1374 - val_accuracy: 0.6974 - val_sensitivity_at_specificity: 0.9433 - val_specificity_at_sensitivity: 0.9689 - val_recall: 0.6724 - val_precision: 0.7178\n",
      "Epoch 36/50\n",
      "244/244 [==============================] - ETA: 0s - loss: 0.3610 - accuracy: 0.8644 - sensitivity_at_specificity: 0.9987 - specificity_at_sensitivity: 0.9985 - recall: 0.8428 - precision: 0.8861\n",
      "Epoch 36: val_accuracy did not improve from 0.72264\n",
      "244/244 [==============================] - 176s 722ms/step - loss: 0.3610 - accuracy: 0.8644 - sensitivity_at_specificity: 0.9987 - specificity_at_sensitivity: 0.9985 - recall: 0.8428 - precision: 0.8861 - val_loss: 1.1426 - val_accuracy: 0.7035 - val_sensitivity_at_specificity: 0.9448 - val_specificity_at_sensitivity: 0.9712 - val_recall: 0.6816 - val_precision: 0.7270\n",
      "Epoch 37/50\n",
      "244/244 [==============================] - ETA: 0s - loss: 0.3547 - accuracy: 0.8668 - sensitivity_at_specificity: 0.9989 - specificity_at_sensitivity: 0.9987 - recall: 0.8468 - precision: 0.8889\n",
      "Epoch 37: val_accuracy did not improve from 0.72264\n",
      "244/244 [==============================] - 176s 722ms/step - loss: 0.3547 - accuracy: 0.8668 - sensitivity_at_specificity: 0.9989 - specificity_at_sensitivity: 0.9987 - recall: 0.8468 - precision: 0.8889 - val_loss: 1.2399 - val_accuracy: 0.6737 - val_sensitivity_at_specificity: 0.9344 - val_specificity_at_sensitivity: 0.9641 - val_recall: 0.6501 - val_precision: 0.6940\n",
      "Epoch 38/50\n",
      "244/244 [==============================] - ETA: 0s - loss: 0.3567 - accuracy: 0.8664 - sensitivity_at_specificity: 0.9987 - specificity_at_sensitivity: 0.9986 - recall: 0.8439 - precision: 0.8878\n",
      "Epoch 38: val_accuracy did not improve from 0.72264\n",
      "244/244 [==============================] - 176s 722ms/step - loss: 0.3567 - accuracy: 0.8664 - sensitivity_at_specificity: 0.9987 - specificity_at_sensitivity: 0.9986 - recall: 0.8439 - precision: 0.8878 - val_loss: 1.1791 - val_accuracy: 0.6927 - val_sensitivity_at_specificity: 0.9399 - val_specificity_at_sensitivity: 0.9688 - val_recall: 0.6693 - val_precision: 0.7129\n",
      "Epoch 39/50\n",
      "244/244 [==============================] - ETA: 0s - loss: 0.3537 - accuracy: 0.8667 - sensitivity_at_specificity: 0.9987 - specificity_at_sensitivity: 0.9988 - recall: 0.8434 - precision: 0.8873\n",
      "Epoch 39: val_accuracy did not improve from 0.72264\n",
      "244/244 [==============================] - 176s 722ms/step - loss: 0.3537 - accuracy: 0.8667 - sensitivity_at_specificity: 0.9987 - specificity_at_sensitivity: 0.9988 - recall: 0.8434 - precision: 0.8873 - val_loss: 1.2798 - val_accuracy: 0.6961 - val_sensitivity_at_specificity: 0.9294 - val_specificity_at_sensitivity: 0.9677 - val_recall: 0.6779 - val_precision: 0.7116\n"
     ]
    },
    {
     "name": "stdout",
     "output_type": "stream",
     "text": [
      "Epoch 40/50\n",
      "244/244 [==============================] - ETA: 0s - loss: 0.3469 - accuracy: 0.8706 - sensitivity_at_specificity: 0.9986 - specificity_at_sensitivity: 0.9988 - recall: 0.8490 - precision: 0.8909\n",
      "Epoch 40: val_accuracy did not improve from 0.72264\n",
      "244/244 [==============================] - 176s 721ms/step - loss: 0.3469 - accuracy: 0.8706 - sensitivity_at_specificity: 0.9986 - specificity_at_sensitivity: 0.9988 - recall: 0.8490 - precision: 0.8909 - val_loss: 1.3533 - val_accuracy: 0.6642 - val_sensitivity_at_specificity: 0.9246 - val_specificity_at_sensitivity: 0.9603 - val_recall: 0.6470 - val_precision: 0.6802\n",
      "Epoch 41/50\n",
      "244/244 [==============================] - ETA: 0s - loss: 0.3494 - accuracy: 0.8669 - sensitivity_at_specificity: 0.9987 - specificity_at_sensitivity: 0.9989 - recall: 0.8474 - precision: 0.8884\n",
      "Epoch 41: val_accuracy did not improve from 0.72264\n",
      "244/244 [==============================] - 176s 721ms/step - loss: 0.3494 - accuracy: 0.8669 - sensitivity_at_specificity: 0.9987 - specificity_at_sensitivity: 0.9989 - recall: 0.8474 - precision: 0.8884 - val_loss: 1.1583 - val_accuracy: 0.7040 - val_sensitivity_at_specificity: 0.9414 - val_specificity_at_sensitivity: 0.9741 - val_recall: 0.6844 - val_precision: 0.7248\n",
      "Epoch 42/50\n",
      "244/244 [==============================] - ETA: 0s - loss: 0.3260 - accuracy: 0.8764 - sensitivity_at_specificity: 0.9987 - specificity_at_sensitivity: 0.9991 - recall: 0.8583 - precision: 0.8962\n",
      "Epoch 42: val_accuracy did not improve from 0.72264\n",
      "244/244 [==============================] - 176s 722ms/step - loss: 0.3260 - accuracy: 0.8764 - sensitivity_at_specificity: 0.9987 - specificity_at_sensitivity: 0.9991 - recall: 0.8583 - precision: 0.8962 - val_loss: 1.1837 - val_accuracy: 0.7007 - val_sensitivity_at_specificity: 0.9377 - val_specificity_at_sensitivity: 0.9717 - val_recall: 0.6773 - val_precision: 0.7197\n",
      "Epoch 43/50\n",
      "244/244 [==============================] - ETA: 0s - loss: 0.3292 - accuracy: 0.8772 - sensitivity_at_specificity: 0.9987 - specificity_at_sensitivity: 0.9991 - recall: 0.8562 - precision: 0.8957\n",
      "Epoch 43: val_accuracy did not improve from 0.72264\n",
      "244/244 [==============================] - 176s 722ms/step - loss: 0.3292 - accuracy: 0.8772 - sensitivity_at_specificity: 0.9987 - specificity_at_sensitivity: 0.9991 - recall: 0.8562 - precision: 0.8957 - val_loss: 1.2559 - val_accuracy: 0.7001 - val_sensitivity_at_specificity: 0.9309 - val_specificity_at_sensitivity: 0.9678 - val_recall: 0.6801 - val_precision: 0.7177\n",
      "Epoch 44/50\n",
      "244/244 [==============================] - ETA: 0s - loss: 0.3165 - accuracy: 0.8790 - sensitivity_at_specificity: 0.9987 - specificity_at_sensitivity: 0.9994 - recall: 0.8610 - precision: 0.8989\n",
      "Epoch 44: val_accuracy did not improve from 0.72264\n",
      "244/244 [==============================] - 175s 718ms/step - loss: 0.3165 - accuracy: 0.8790 - sensitivity_at_specificity: 0.9987 - specificity_at_sensitivity: 0.9994 - recall: 0.8610 - precision: 0.8989 - val_loss: 1.2862 - val_accuracy: 0.7074 - val_sensitivity_at_specificity: 0.9227 - val_specificity_at_sensitivity: 0.9712 - val_recall: 0.6879 - val_precision: 0.7204\n",
      "Epoch 45/50\n",
      "244/244 [==============================] - ETA: 0s - loss: 0.3068 - accuracy: 0.8837 - sensitivity_at_specificity: 0.9989 - specificity_at_sensitivity: 0.9994 - recall: 0.8673 - precision: 0.9011\n",
      "Epoch 45: val_accuracy did not improve from 0.72264\n",
      "244/244 [==============================] - 176s 722ms/step - loss: 0.3068 - accuracy: 0.8837 - sensitivity_at_specificity: 0.9989 - specificity_at_sensitivity: 0.9994 - recall: 0.8673 - precision: 0.9011 - val_loss: 1.4490 - val_accuracy: 0.6611 - val_sensitivity_at_specificity: 0.9136 - val_specificity_at_sensitivity: 0.9569 - val_recall: 0.6414 - val_precision: 0.6750\n",
      "Epoch 46/50\n",
      "244/244 [==============================] - ETA: 0s - loss: 0.3138 - accuracy: 0.8815 - sensitivity_at_specificity: 0.9988 - specificity_at_sensitivity: 0.9992 - recall: 0.8643 - precision: 0.8981\n",
      "Epoch 46: val_accuracy did not improve from 0.72264\n",
      "244/244 [==============================] - 176s 722ms/step - loss: 0.3138 - accuracy: 0.8815 - sensitivity_at_specificity: 0.9988 - specificity_at_sensitivity: 0.9992 - recall: 0.8643 - precision: 0.8981 - val_loss: 1.2310 - val_accuracy: 0.6973 - val_sensitivity_at_specificity: 0.9326 - val_specificity_at_sensitivity: 0.9691 - val_recall: 0.6819 - val_precision: 0.7140\n",
      "Epoch 47/50\n",
      "244/244 [==============================] - ETA: 0s - loss: 0.3049 - accuracy: 0.8851 - sensitivity_at_specificity: 0.9988 - specificity_at_sensitivity: 0.9992 - recall: 0.8688 - precision: 0.9029\n",
      "Epoch 47: val_accuracy did not improve from 0.72264\n",
      "244/244 [==============================] - 176s 721ms/step - loss: 0.3049 - accuracy: 0.8851 - sensitivity_at_specificity: 0.9988 - specificity_at_sensitivity: 0.9992 - recall: 0.8688 - precision: 0.9029 - val_loss: 1.4473 - val_accuracy: 0.6769 - val_sensitivity_at_specificity: 0.9106 - val_specificity_at_sensitivity: 0.9635 - val_recall: 0.6588 - val_precision: 0.6956\n",
      "Epoch 48/50\n",
      "244/244 [==============================] - ETA: 0s - loss: 0.2878 - accuracy: 0.8906 - sensitivity_at_specificity: 0.9993 - specificity_at_sensitivity: 0.9995 - recall: 0.8758 - precision: 0.9074\n",
      "Epoch 48: val_accuracy did not improve from 0.72264\n",
      "244/244 [==============================] - 176s 721ms/step - loss: 0.2878 - accuracy: 0.8906 - sensitivity_at_specificity: 0.9993 - specificity_at_sensitivity: 0.9995 - recall: 0.8758 - precision: 0.9074 - val_loss: 1.4766 - val_accuracy: 0.6844 - val_sensitivity_at_specificity: 0.9087 - val_specificity_at_sensitivity: 0.9639 - val_recall: 0.6653 - val_precision: 0.6992\n",
      "Epoch 49/50\n",
      "244/244 [==============================] - ETA: 0s - loss: 0.2915 - accuracy: 0.8894 - sensitivity_at_specificity: 0.9989 - specificity_at_sensitivity: 0.9993 - recall: 0.8742 - precision: 0.9062\n",
      "Epoch 49: val_accuracy did not improve from 0.72264\n",
      "244/244 [==============================] - 176s 722ms/step - loss: 0.2915 - accuracy: 0.8894 - sensitivity_at_specificity: 0.9989 - specificity_at_sensitivity: 0.9993 - recall: 0.8742 - precision: 0.9062 - val_loss: 1.4207 - val_accuracy: 0.6637 - val_sensitivity_at_specificity: 0.9165 - val_specificity_at_sensitivity: 0.9631 - val_recall: 0.6447 - val_precision: 0.6814\n",
      "Epoch 50/50\n",
      "244/244 [==============================] - ETA: 0s - loss: 0.2767 - accuracy: 0.8946 - sensitivity_at_specificity: 0.9993 - specificity_at_sensitivity: 0.9997 - recall: 0.8797 - precision: 0.9108\n",
      "Epoch 50: val_accuracy did not improve from 0.72264\n",
      "244/244 [==============================] - 176s 720ms/step - loss: 0.2767 - accuracy: 0.8946 - sensitivity_at_specificity: 0.9993 - specificity_at_sensitivity: 0.9997 - recall: 0.8797 - precision: 0.9108 - val_loss: 1.5359 - val_accuracy: 0.6861 - val_sensitivity_at_specificity: 0.9020 - val_specificity_at_sensitivity: 0.9654 - val_recall: 0.6693 - val_precision: 0.6988\n"
     ]
    }
   ],
   "source": [
    "# Fit the model\n",
    "from keras.callbacks import ModelCheckpoint, EarlyStopping\n",
    "\n",
    "checkpoint = ModelCheckpoint(\"ECG_Spectrogram_Model.h5\", monitor='val_accuracy', verbose=1, save_best_only=True, save_weights_only=False, mode='auto', period=1)\n",
    "history = model.fit(train_data, steps_per_epoch=len(train_data), epochs=50, validation_data=val_data, validation_steps=len(val_data),callbacks = [callbacks,checkpoint])"
   ]
  },
  {
   "cell_type": "code",
   "execution_count": 17,
   "id": "b26e1dd5",
   "metadata": {},
   "outputs": [
    {
     "name": "stdout",
     "output_type": "stream",
     "text": [
      "Training Accuracy:  0.894586443901062\n",
      "Validation Accuracy:  0.722639799118042\n",
      "Validation Specificity:  0.9813670516014099\n",
      "Validation Sensitivity:  0.981271505355835\n",
      "Validation Recall:  0.6960122585296631\n",
      "Validation Precision:  0.7689855098724365\n",
      "Validation Loss:  0.7673277854919434\n"
     ]
    }
   ],
   "source": [
    "#Acquiring Performance metrics\n",
    "\n",
    "Training_Accuracy=history.history['accuracy']\n",
    "Validation_Accuracy=history.history['val_accuracy']\n",
    "Validation_Specificity=history.history['val_specificity_at_sensitivity']\n",
    "Validation_Sensitivity=history.history['val_sensitivity_at_specificity']\n",
    "Validation_Recall=history.history['val_recall']\n",
    "Validation_Precision=history.history['val_precision']\n",
    "Validation_Loss=history.history['val_loss']\n",
    "\n",
    "print(\"Training Accuracy: \",max(Training_Accuracy))\n",
    "print(\"Validation Accuracy: \",max(Validation_Accuracy))\n",
    "print(\"Validation Specificity: \",max(Validation_Specificity))\n",
    "print(\"Validation Sensitivity: \",max(Validation_Sensitivity))\n",
    "print(\"Validation Recall: \",max(Validation_Recall))\n",
    "print(\"Validation Precision: \",max(Validation_Precision))\n",
    "print(\"Validation Loss: \",min(Validation_Loss))"
   ]
  },
  {
   "cell_type": "code",
   "execution_count": null,
   "id": "505cd6b0",
   "metadata": {},
   "outputs": [],
   "source": []
  }
 ],
 "metadata": {
  "kernelspec": {
   "display_name": "Python 3 (ipykernel)",
   "language": "python",
   "name": "python3"
  },
  "language_info": {
   "codemirror_mode": {
    "name": "ipython",
    "version": 3
   },
   "file_extension": ".py",
   "mimetype": "text/x-python",
   "name": "python",
   "nbconvert_exporter": "python",
   "pygments_lexer": "ipython3",
   "version": "3.10.6"
  }
 },
 "nbformat": 4,
 "nbformat_minor": 5
}
