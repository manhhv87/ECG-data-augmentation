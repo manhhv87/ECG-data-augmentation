{
 "cells": [
  {
   "cell_type": "code",
   "execution_count": 1,
   "id": "e1e32307",
   "metadata": {},
   "outputs": [
    {
     "name": "stdout",
     "output_type": "stream",
     "text": [
      "2.9.1\n"
     ]
    }
   ],
   "source": [
    "#Tensorflow version\n",
    "\n",
    "import tensorflow as tf\n",
    "print(tf.__version__)"
   ]
  },
  {
   "cell_type": "code",
   "execution_count": 2,
   "id": "4b0746ad",
   "metadata": {},
   "outputs": [],
   "source": [
    "#Importing libraries\n",
    "\n",
    "import tensorflow as tf\n",
    "from tensorflow import keras\n",
    "from keras.layers import Input, Conv2D, Dense, Flatten, BatchNormalization, Dropout, MaxPooling2D, GlobalMaxPooling2D\n",
    "from keras.models import Model\n",
    "import matplotlib.pyplot as plt\n",
    "from keras.applications.efficientnet import EfficientNetB0\n",
    "from keras.preprocessing import image\n",
    "#from keras.preprocessing.image import load_img\n",
    "from keras.models import Sequential\n",
    "import numpy as np\n",
    "from tensorflow.keras import regularizers"
   ]
  },
  {
   "cell_type": "code",
   "execution_count": 3,
   "id": "aac05228",
   "metadata": {},
   "outputs": [],
   "source": [
    "#Datasets path\n",
    "\n",
    "# 3 percent with HYP 10 percent (17000)\n",
    "train_dir=\"/home/ubuntu/From_Laptop/multi-class-NEW/12-Lead_ECG_version_2/DA_version_3/Model_Training/3 percent with HYP 10 percent - v2 - 17000/Training/\"\n",
    "val_dir=\"/home/ubuntu/From_Laptop/multi-class-NEW/12-Lead_ECG_version_2/DA_version_3/Model_Training/3 percent with HYP 10 percent - v2 - 17000/Validation/\"\n"
   ]
  },
  {
   "cell_type": "code",
   "execution_count": 4,
   "id": "b2f80645",
   "metadata": {},
   "outputs": [
    {
     "name": "stdout",
     "output_type": "stream",
     "text": [
      "Found 13040 files belonging to 5 classes.\n"
     ]
    },
    {
     "name": "stderr",
     "output_type": "stream",
     "text": [
      "2023-02-17 10:46:25.620090: I tensorflow/stream_executor/cuda/cuda_gpu_executor.cc:975] successful NUMA node read from SysFS had negative value (-1), but there must be at least one NUMA node, so returning NUMA node zero\n",
      "2023-02-17 10:46:25.648401: I tensorflow/stream_executor/cuda/cuda_gpu_executor.cc:975] successful NUMA node read from SysFS had negative value (-1), but there must be at least one NUMA node, so returning NUMA node zero\n",
      "2023-02-17 10:46:25.648734: I tensorflow/stream_executor/cuda/cuda_gpu_executor.cc:975] successful NUMA node read from SysFS had negative value (-1), but there must be at least one NUMA node, so returning NUMA node zero\n",
      "2023-02-17 10:46:25.662268: I tensorflow/core/platform/cpu_feature_guard.cc:193] This TensorFlow binary is optimized with oneAPI Deep Neural Network Library (oneDNN) to use the following CPU instructions in performance-critical operations:  AVX2 FMA\n",
      "To enable them in other operations, rebuild TensorFlow with the appropriate compiler flags.\n",
      "2023-02-17 10:46:25.662720: I tensorflow/stream_executor/cuda/cuda_gpu_executor.cc:975] successful NUMA node read from SysFS had negative value (-1), but there must be at least one NUMA node, so returning NUMA node zero\n",
      "2023-02-17 10:46:25.663030: I tensorflow/stream_executor/cuda/cuda_gpu_executor.cc:975] successful NUMA node read from SysFS had negative value (-1), but there must be at least one NUMA node, so returning NUMA node zero\n",
      "2023-02-17 10:46:25.663200: I tensorflow/stream_executor/cuda/cuda_gpu_executor.cc:975] successful NUMA node read from SysFS had negative value (-1), but there must be at least one NUMA node, so returning NUMA node zero\n",
      "2023-02-17 10:46:26.097482: I tensorflow/stream_executor/cuda/cuda_gpu_executor.cc:975] successful NUMA node read from SysFS had negative value (-1), but there must be at least one NUMA node, so returning NUMA node zero\n",
      "2023-02-17 10:46:26.097687: I tensorflow/stream_executor/cuda/cuda_gpu_executor.cc:975] successful NUMA node read from SysFS had negative value (-1), but there must be at least one NUMA node, so returning NUMA node zero\n",
      "2023-02-17 10:46:26.097845: I tensorflow/stream_executor/cuda/cuda_gpu_executor.cc:975] successful NUMA node read from SysFS had negative value (-1), but there must be at least one NUMA node, so returning NUMA node zero\n",
      "2023-02-17 10:46:26.097979: I tensorflow/core/common_runtime/gpu/gpu_device.cc:1532] Created device /job:localhost/replica:0/task:0/device:GPU:0 with 7380 MB memory:  -> device: 0, name: NVIDIA GeForce GTX 1080, pci bus id: 0000:00:05.0, compute capability: 6.1\n"
     ]
    },
    {
     "name": "stdout",
     "output_type": "stream",
     "text": [
      "Found 5179 files belonging to 5 classes.\n"
     ]
    }
   ],
   "source": [
    "from tensorflow.keras import layers\n",
    "\n",
    "train_data = tf.keras.preprocessing.image_dataset_from_directory(directory=train_dir,\n",
    "                                                                 image_size=(256,256),\n",
    "                                                                 label_mode='categorical', batch_size=128, \n",
    "                                                                 )\n",
    "val_data = tf.keras.preprocessing.image_dataset_from_directory(directory=val_dir,\n",
    "                                                                 image_size=(256,256),\n",
    "                                                                 label_mode='categorical', batch_size=128,\n",
    "                                                                )"
   ]
  },
  {
   "cell_type": "code",
   "execution_count": 5,
   "id": "ca75c58f-bfe9-48bc-8e3a-e9ed7abe3cdf",
   "metadata": {},
   "outputs": [],
   "source": [
    "#Normalization of the data\n",
    "\n",
    "nrmzln_layer = layers.experimental.preprocessing.Rescaling(1./255)\n",
    "\n",
    "train_data = train_data.map(lambda x,\n",
    "                          y: (nrmzln_layer(x), y))\n",
    "\n",
    "val_data = val_data.map(lambda x,\n",
    "                          y: (nrmzln_layer(x), y))"
   ]
  },
  {
   "cell_type": "code",
   "execution_count": 6,
   "id": "2007b247",
   "metadata": {},
   "outputs": [],
   "source": [
    "# Instantiate base_model with pre-trained weights\n",
    "\n",
    "#import tensorflow.python.keras.applications.VGG16\n",
    "\n",
    "base_model= tf.keras.applications.VGG16(weights= 'imagenet', input_shape=(256,256, 3), include_top=False) "
   ]
  },
  {
   "cell_type": "code",
   "execution_count": 7,
   "id": "3110cb3d",
   "metadata": {},
   "outputs": [],
   "source": [
    "# Freezing the base_model for transfer learning\n",
    "base_model.trainable= False"
   ]
  },
  {
   "cell_type": "code",
   "execution_count": 8,
   "id": "f9525074",
   "metadata": {},
   "outputs": [],
   "source": [
    "# Creating a new_model on the top\n",
    "inputs= tf.keras.Input(shape= (256, 256, 3), name=\"input_layer\")"
   ]
  },
  {
   "cell_type": "code",
   "execution_count": 9,
   "id": "f0e154d0",
   "metadata": {},
   "outputs": [],
   "source": [
    "x= base_model(inputs,training= False)"
   ]
  },
  {
   "cell_type": "code",
   "execution_count": 10,
   "id": "06eee106",
   "metadata": {},
   "outputs": [],
   "source": [
    "# Average pool the outputs of the base model\n",
    "x = tf.keras.layers.GlobalAveragePooling2D(name='Global_Average_Pooling_Layer')(x)"
   ]
  },
  {
   "cell_type": "code",
   "execution_count": 11,
   "id": "c97951c1",
   "metadata": {},
   "outputs": [],
   "source": [
    "# Output layer\n",
    "u = tf.keras.layers.Dense(1050, activation=\"relu\")(x)\n",
    "u = tf.keras.layers.Dense(512, activation=\"relu\")(u)\n",
    "u = tf.keras.layers.Dense(256, activation=\"relu\")(u)\n",
    "u = tf.keras.layers.Dense(128, activation=\"relu\")(u)\n",
    "outputs = tf.keras.layers.Dense(5, activation=\"softmax\",name=\"output_layer\")(u)"
   ]
  },
  {
   "cell_type": "code",
   "execution_count": 12,
   "id": "e15b01f3",
   "metadata": {},
   "outputs": [],
   "source": [
    "# Combine the model\n",
    "model = tf.keras.Model(inputs, outputs) "
   ]
  },
  {
   "cell_type": "code",
   "execution_count": 13,
   "id": "186a4092",
   "metadata": {},
   "outputs": [
    {
     "name": "stdout",
     "output_type": "stream",
     "text": [
      "Model: \"model\"\n",
      "_________________________________________________________________\n",
      " Layer (type)                Output Shape              Param #   \n",
      "=================================================================\n",
      " input_layer (InputLayer)    [(None, 256, 256, 3)]     0         \n",
      "                                                                 \n",
      " vgg16 (Functional)          (None, 8, 8, 512)         14714688  \n",
      "                                                                 \n",
      " Global_Average_Pooling_Laye  (None, 512)              0         \n",
      " r (GlobalAveragePooling2D)                                      \n",
      "                                                                 \n",
      " dense (Dense)               (None, 1050)              538650    \n",
      "                                                                 \n",
      " dense_1 (Dense)             (None, 512)               538112    \n",
      "                                                                 \n",
      " dense_2 (Dense)             (None, 256)               131328    \n",
      "                                                                 \n",
      " dense_3 (Dense)             (None, 128)               32896     \n",
      "                                                                 \n",
      " output_layer (Dense)        (None, 5)                 645       \n",
      "                                                                 \n",
      "=================================================================\n",
      "Total params: 15,956,319\n",
      "Trainable params: 1,241,631\n",
      "Non-trainable params: 14,714,688\n",
      "_________________________________________________________________\n"
     ]
    }
   ],
   "source": [
    "#printing model summary\n",
    "\n",
    "model.summary()"
   ]
  },
  {
   "cell_type": "code",
   "execution_count": 14,
   "id": "b07c7887",
   "metadata": {},
   "outputs": [],
   "source": [
    "# Compile the model\n",
    "\n",
    "from tensorflow.keras.metrics import SensitivityAtSpecificity,SpecificityAtSensitivity,Recall,Precision\n",
    "\n",
    "model.compile(loss= tf.losses.categorical_crossentropy, \n",
    "      optimizer = tf.keras.optimizers.Adam(learning_rate=0.001),\n",
    "              metrics=['accuracy',SensitivityAtSpecificity(0.5),SpecificityAtSensitivity(0.5),Recall(0.5),Precision(0.5)])"
   ]
  },
  {
   "cell_type": "code",
   "execution_count": 15,
   "id": "5105faca",
   "metadata": {},
   "outputs": [],
   "source": [
    "#callback\n",
    "\n",
    "class myCallback(tf.keras.callbacks.Callback):\n",
    "     def on_epoch_end(self, epoch, logs={}):\n",
    "        if(logs.get('val_accuracy')>0.99): \n",
    "          print(\"\\nReached 99% accuracy so cancelling training!\")\n",
    "          self.model.stop_training = True\n",
    "\n",
    "callbacks = myCallback()"
   ]
  },
  {
   "cell_type": "code",
   "execution_count": 16,
   "id": "595e70ba",
   "metadata": {
    "tags": []
   },
   "outputs": [
    {
     "name": "stdout",
     "output_type": "stream",
     "text": [
      "WARNING:tensorflow:`period` argument is deprecated. Please use `save_freq` to specify the frequency in number of batches seen.\n",
      "Epoch 1/50\n"
     ]
    },
    {
     "name": "stderr",
     "output_type": "stream",
     "text": [
      "2023-02-17 10:46:34.016395: I tensorflow/stream_executor/cuda/cuda_dnn.cc:384] Loaded cuDNN version 8100\n",
      "2023-02-17 10:46:34.269470: I tensorflow/core/platform/default/subprocess.cc:304] Start cannot spawn child process: No such file or directory\n"
     ]
    },
    {
     "name": "stdout",
     "output_type": "stream",
     "text": [
      "102/102 [==============================] - ETA: 0s - loss: 1.2901 - accuracy: 0.4711 - sensitivity_at_specificity: 0.8518 - specificity_at_sensitivity: 0.8552 - recall: 0.1989 - precision: 0.6296\n",
      "Epoch 1: val_accuracy improved from -inf to 0.55204, saving model to ECG_Spectrogram_Model.h5\n",
      "102/102 [==============================] - 105s 920ms/step - loss: 1.2901 - accuracy: 0.4711 - sensitivity_at_specificity: 0.8518 - specificity_at_sensitivity: 0.8552 - recall: 0.1989 - precision: 0.6296 - val_loss: 1.1346 - val_accuracy: 0.5520 - val_sensitivity_at_specificity: 0.9104 - val_specificity_at_sensitivity: 0.9129 - val_recall: 0.4072 - val_precision: 0.6533\n",
      "Epoch 2/50\n",
      "102/102 [==============================] - ETA: 0s - loss: 1.0632 - accuracy: 0.5849 - sensitivity_at_specificity: 0.9311 - specificity_at_sensitivity: 0.9338 - recall: 0.4215 - precision: 0.7135\n",
      "Epoch 2: val_accuracy improved from 0.55204 to 0.60533, saving model to ECG_Spectrogram_Model.h5\n",
      "102/102 [==============================] - 86s 841ms/step - loss: 1.0632 - accuracy: 0.5849 - sensitivity_at_specificity: 0.9311 - specificity_at_sensitivity: 0.9338 - recall: 0.4215 - precision: 0.7135 - val_loss: 1.0047 - val_accuracy: 0.6053 - val_sensitivity_at_specificity: 0.9450 - val_specificity_at_sensitivity: 0.9435 - val_recall: 0.3999 - val_precision: 0.7603\n",
      "Epoch 3/50\n",
      "102/102 [==============================] - ETA: 0s - loss: 1.0134 - accuracy: 0.6030 - sensitivity_at_specificity: 0.9380 - specificity_at_sensitivity: 0.9439 - recall: 0.4498 - precision: 0.7263\n",
      "Epoch 3: val_accuracy improved from 0.60533 to 0.61614, saving model to ECG_Spectrogram_Model.h5\n",
      "102/102 [==============================] - 83s 815ms/step - loss: 1.0134 - accuracy: 0.6030 - sensitivity_at_specificity: 0.9380 - specificity_at_sensitivity: 0.9439 - recall: 0.4498 - precision: 0.7263 - val_loss: 1.0000 - val_accuracy: 0.6161 - val_sensitivity_at_specificity: 0.9475 - val_specificity_at_sensitivity: 0.9486 - val_recall: 0.4068 - val_precision: 0.7888\n",
      "Epoch 4/50\n",
      "102/102 [==============================] - ETA: 0s - loss: 0.9582 - accuracy: 0.6280 - sensitivity_at_specificity: 0.9520 - specificity_at_sensitivity: 0.9537 - recall: 0.4951 - precision: 0.7350\n",
      "Epoch 4: val_accuracy improved from 0.61614 to 0.64974, saving model to ECG_Spectrogram_Model.h5\n",
      "102/102 [==============================] - 83s 814ms/step - loss: 0.9582 - accuracy: 0.6280 - sensitivity_at_specificity: 0.9520 - specificity_at_sensitivity: 0.9537 - recall: 0.4951 - precision: 0.7350 - val_loss: 0.9150 - val_accuracy: 0.6497 - val_sensitivity_at_specificity: 0.9596 - val_specificity_at_sensitivity: 0.9610 - val_recall: 0.5182 - val_precision: 0.7561\n",
      "Epoch 5/50\n",
      "102/102 [==============================] - ETA: 0s - loss: 0.8881 - accuracy: 0.6555 - sensitivity_at_specificity: 0.9676 - specificity_at_sensitivity: 0.9651 - recall: 0.5492 - precision: 0.7524\n",
      "Epoch 5: val_accuracy improved from 0.64974 to 0.65881, saving model to ECG_Spectrogram_Model.h5\n",
      "102/102 [==============================] - 83s 813ms/step - loss: 0.8881 - accuracy: 0.6555 - sensitivity_at_specificity: 0.9676 - specificity_at_sensitivity: 0.9651 - recall: 0.5492 - precision: 0.7524 - val_loss: 0.8966 - val_accuracy: 0.6588 - val_sensitivity_at_specificity: 0.9668 - val_specificity_at_sensitivity: 0.9649 - val_recall: 0.5545 - val_precision: 0.7481\n",
      "Epoch 6/50\n",
      "102/102 [==============================] - ETA: 0s - loss: 0.8906 - accuracy: 0.6607 - sensitivity_at_specificity: 0.9651 - specificity_at_sensitivity: 0.9634 - recall: 0.5484 - precision: 0.7402\n",
      "Epoch 6: val_accuracy improved from 0.65881 to 0.68527, saving model to ECG_Spectrogram_Model.h5\n",
      "102/102 [==============================] - 83s 810ms/step - loss: 0.8906 - accuracy: 0.6607 - sensitivity_at_specificity: 0.9651 - specificity_at_sensitivity: 0.9634 - recall: 0.5484 - precision: 0.7402 - val_loss: 0.8561 - val_accuracy: 0.6853 - val_sensitivity_at_specificity: 0.9687 - val_specificity_at_sensitivity: 0.9688 - val_recall: 0.5534 - val_precision: 0.7742\n",
      "Epoch 7/50\n",
      "102/102 [==============================] - ETA: 0s - loss: 0.8616 - accuracy: 0.6657 - sensitivity_at_specificity: 0.9719 - specificity_at_sensitivity: 0.9687 - recall: 0.5678 - precision: 0.7556\n",
      "Epoch 7: val_accuracy did not improve from 0.68527\n",
      "102/102 [==============================] - 82s 808ms/step - loss: 0.8616 - accuracy: 0.6657 - sensitivity_at_specificity: 0.9719 - specificity_at_sensitivity: 0.9687 - recall: 0.5678 - precision: 0.7556 - val_loss: 0.8784 - val_accuracy: 0.6631 - val_sensitivity_at_specificity: 0.9670 - val_specificity_at_sensitivity: 0.9623 - val_recall: 0.5553 - val_precision: 0.7409\n",
      "Epoch 8/50\n",
      "102/102 [==============================] - ETA: 0s - loss: 0.8323 - accuracy: 0.6799 - sensitivity_at_specificity: 0.9745 - specificity_at_sensitivity: 0.9722 - recall: 0.5911 - precision: 0.7629\n",
      "Epoch 8: val_accuracy did not improve from 0.68527\n",
      "102/102 [==============================] - 82s 808ms/step - loss: 0.8323 - accuracy: 0.6799 - sensitivity_at_specificity: 0.9745 - specificity_at_sensitivity: 0.9722 - recall: 0.5911 - precision: 0.7629 - val_loss: 0.8549 - val_accuracy: 0.6851 - val_sensitivity_at_specificity: 0.9637 - val_specificity_at_sensitivity: 0.9708 - val_recall: 0.5719 - val_precision: 0.7676\n",
      "Epoch 9/50\n",
      "102/102 [==============================] - ETA: 0s - loss: 0.8104 - accuracy: 0.6893 - sensitivity_at_specificity: 0.9750 - specificity_at_sensitivity: 0.9737 - recall: 0.5988 - precision: 0.7686\n",
      "Epoch 9: val_accuracy did not improve from 0.68527\n",
      "102/102 [==============================] - 83s 808ms/step - loss: 0.8104 - accuracy: 0.6893 - sensitivity_at_specificity: 0.9750 - specificity_at_sensitivity: 0.9737 - recall: 0.5988 - precision: 0.7686 - val_loss: 0.8424 - val_accuracy: 0.6820 - val_sensitivity_at_specificity: 0.9714 - val_specificity_at_sensitivity: 0.9713 - val_recall: 0.5982 - val_precision: 0.7449\n",
      "Epoch 10/50\n",
      "102/102 [==============================] - ETA: 0s - loss: 0.7964 - accuracy: 0.6969 - sensitivity_at_specificity: 0.9783 - specificity_at_sensitivity: 0.9759 - recall: 0.6061 - precision: 0.7682\n",
      "Epoch 10: val_accuracy did not improve from 0.68527\n",
      "102/102 [==============================] - 100s 982ms/step - loss: 0.7964 - accuracy: 0.6969 - sensitivity_at_specificity: 0.9783 - specificity_at_sensitivity: 0.9759 - recall: 0.6061 - precision: 0.7682 - val_loss: 0.9055 - val_accuracy: 0.6663 - val_sensitivity_at_specificity: 0.9591 - val_specificity_at_sensitivity: 0.9681 - val_recall: 0.5644 - val_precision: 0.7460\n",
      "Epoch 11/50\n",
      "102/102 [==============================] - ETA: 0s - loss: 0.7987 - accuracy: 0.6956 - sensitivity_at_specificity: 0.9796 - specificity_at_sensitivity: 0.9762 - recall: 0.6098 - precision: 0.7737\n",
      "Epoch 11: val_accuracy did not improve from 0.68527\n",
      "102/102 [==============================] - 82s 808ms/step - loss: 0.7987 - accuracy: 0.6956 - sensitivity_at_specificity: 0.9796 - specificity_at_sensitivity: 0.9762 - recall: 0.6098 - precision: 0.7737 - val_loss: 0.9067 - val_accuracy: 0.6577 - val_sensitivity_at_specificity: 0.9573 - val_specificity_at_sensitivity: 0.9631 - val_recall: 0.5428 - val_precision: 0.7456\n",
      "Epoch 12/50\n",
      "102/102 [==============================] - ETA: 0s - loss: 0.7858 - accuracy: 0.7029 - sensitivity_at_specificity: 0.9762 - specificity_at_sensitivity: 0.9771 - recall: 0.6183 - precision: 0.7725\n",
      "Epoch 12: val_accuracy did not improve from 0.68527\n",
      "102/102 [==============================] - 82s 808ms/step - loss: 0.7858 - accuracy: 0.7029 - sensitivity_at_specificity: 0.9762 - specificity_at_sensitivity: 0.9771 - recall: 0.6183 - precision: 0.7725 - val_loss: 0.8964 - val_accuracy: 0.6505 - val_sensitivity_at_specificity: 0.9643 - val_specificity_at_sensitivity: 0.9643 - val_recall: 0.5592 - val_precision: 0.7289\n",
      "Epoch 13/50\n",
      "102/102 [==============================] - ETA: 0s - loss: 0.7705 - accuracy: 0.7074 - sensitivity_at_specificity: 0.9796 - specificity_at_sensitivity: 0.9795 - recall: 0.6215 - precision: 0.7804\n",
      "Epoch 13: val_accuracy did not improve from 0.68527\n",
      "102/102 [==============================] - 83s 808ms/step - loss: 0.7705 - accuracy: 0.7074 - sensitivity_at_specificity: 0.9796 - specificity_at_sensitivity: 0.9795 - recall: 0.6215 - precision: 0.7804 - val_loss: 0.8564 - val_accuracy: 0.6806 - val_sensitivity_at_specificity: 0.9662 - val_specificity_at_sensitivity: 0.9680 - val_recall: 0.6028 - val_precision: 0.7456\n"
     ]
    },
    {
     "name": "stdout",
     "output_type": "stream",
     "text": [
      "Epoch 14/50\n",
      "102/102 [==============================] - ETA: 0s - loss: 0.7587 - accuracy: 0.7145 - sensitivity_at_specificity: 0.9823 - specificity_at_sensitivity: 0.9794 - recall: 0.6313 - precision: 0.7810\n",
      "Epoch 14: val_accuracy improved from 0.68527 to 0.70844, saving model to ECG_Spectrogram_Model.h5\n",
      "102/102 [==============================] - 83s 813ms/step - loss: 0.7587 - accuracy: 0.7145 - sensitivity_at_specificity: 0.9823 - specificity_at_sensitivity: 0.9794 - recall: 0.6313 - precision: 0.7810 - val_loss: 0.7782 - val_accuracy: 0.7084 - val_sensitivity_at_specificity: 0.9759 - val_specificity_at_sensitivity: 0.9779 - val_recall: 0.6271 - val_precision: 0.7810\n",
      "Epoch 15/50\n",
      "102/102 [==============================] - ETA: 0s - loss: 0.7424 - accuracy: 0.7211 - sensitivity_at_specificity: 0.9812 - specificity_at_sensitivity: 0.9816 - recall: 0.6397 - precision: 0.7853\n",
      "Epoch 15: val_accuracy did not improve from 0.70844\n",
      "102/102 [==============================] - 83s 810ms/step - loss: 0.7424 - accuracy: 0.7211 - sensitivity_at_specificity: 0.9812 - specificity_at_sensitivity: 0.9816 - recall: 0.6397 - precision: 0.7853 - val_loss: 0.8571 - val_accuracy: 0.6839 - val_sensitivity_at_specificity: 0.9668 - val_specificity_at_sensitivity: 0.9727 - val_recall: 0.6092 - val_precision: 0.7483\n",
      "Epoch 16/50\n",
      "102/102 [==============================] - ETA: 0s - loss: 0.7285 - accuracy: 0.7278 - sensitivity_at_specificity: 0.9811 - specificity_at_sensitivity: 0.9822 - recall: 0.6528 - precision: 0.7925\n",
      "Epoch 16: val_accuracy did not improve from 0.70844\n",
      "102/102 [==============================] - 83s 811ms/step - loss: 0.7285 - accuracy: 0.7278 - sensitivity_at_specificity: 0.9811 - specificity_at_sensitivity: 0.9822 - recall: 0.6528 - precision: 0.7925 - val_loss: 0.7929 - val_accuracy: 0.6992 - val_sensitivity_at_specificity: 0.9741 - val_specificity_at_sensitivity: 0.9780 - val_recall: 0.6098 - val_precision: 0.7708\n",
      "Epoch 17/50\n",
      "102/102 [==============================] - ETA: 0s - loss: 0.7296 - accuracy: 0.7246 - sensitivity_at_specificity: 0.9817 - specificity_at_sensitivity: 0.9828 - recall: 0.6473 - precision: 0.7895\n",
      "Epoch 17: val_accuracy did not improve from 0.70844\n",
      "102/102 [==============================] - 82s 806ms/step - loss: 0.7296 - accuracy: 0.7246 - sensitivity_at_specificity: 0.9817 - specificity_at_sensitivity: 0.9828 - recall: 0.6473 - precision: 0.7895 - val_loss: 0.8040 - val_accuracy: 0.7003 - val_sensitivity_at_specificity: 0.9720 - val_specificity_at_sensitivity: 0.9769 - val_recall: 0.6343 - val_precision: 0.7631\n",
      "Epoch 18/50\n",
      "102/102 [==============================] - ETA: 0s - loss: 0.7151 - accuracy: 0.7331 - sensitivity_at_specificity: 0.9859 - specificity_at_sensitivity: 0.9822 - recall: 0.6630 - precision: 0.7977\n",
      "Epoch 18: val_accuracy did not improve from 0.70844\n",
      "102/102 [==============================] - 83s 810ms/step - loss: 0.7151 - accuracy: 0.7331 - sensitivity_at_specificity: 0.9859 - specificity_at_sensitivity: 0.9822 - recall: 0.6630 - precision: 0.7977 - val_loss: 0.8079 - val_accuracy: 0.6914 - val_sensitivity_at_specificity: 0.9751 - val_specificity_at_sensitivity: 0.9755 - val_recall: 0.6306 - val_precision: 0.7529\n",
      "Epoch 19/50\n",
      "102/102 [==============================] - ETA: 0s - loss: 0.7116 - accuracy: 0.7341 - sensitivity_at_specificity: 0.9831 - specificity_at_sensitivity: 0.9841 - recall: 0.6593 - precision: 0.7988\n",
      "Epoch 19: val_accuracy improved from 0.70844 to 0.71307, saving model to ECG_Spectrogram_Model.h5\n",
      "102/102 [==============================] - 83s 815ms/step - loss: 0.7116 - accuracy: 0.7341 - sensitivity_at_specificity: 0.9831 - specificity_at_sensitivity: 0.9841 - recall: 0.6593 - precision: 0.7988 - val_loss: 0.7752 - val_accuracy: 0.7131 - val_sensitivity_at_specificity: 0.9770 - val_specificity_at_sensitivity: 0.9797 - val_recall: 0.6484 - val_precision: 0.7688\n",
      "Epoch 20/50\n",
      "102/102 [==============================] - ETA: 0s - loss: 0.7247 - accuracy: 0.7283 - sensitivity_at_specificity: 0.9854 - specificity_at_sensitivity: 0.9830 - recall: 0.6532 - precision: 0.7909\n",
      "Epoch 20: val_accuracy did not improve from 0.71307\n",
      "102/102 [==============================] - 82s 807ms/step - loss: 0.7247 - accuracy: 0.7283 - sensitivity_at_specificity: 0.9854 - specificity_at_sensitivity: 0.9830 - recall: 0.6532 - precision: 0.7909 - val_loss: 0.8682 - val_accuracy: 0.6748 - val_sensitivity_at_specificity: 0.9683 - val_specificity_at_sensitivity: 0.9669 - val_recall: 0.5864 - val_precision: 0.7332\n",
      "Epoch 21/50\n",
      "102/102 [==============================] - ETA: 0s - loss: 0.6804 - accuracy: 0.7457 - sensitivity_at_specificity: 0.9866 - specificity_at_sensitivity: 0.9862 - recall: 0.6775 - precision: 0.8068\n",
      "Epoch 21: val_accuracy did not improve from 0.71307\n",
      "102/102 [==============================] - 83s 810ms/step - loss: 0.6804 - accuracy: 0.7457 - sensitivity_at_specificity: 0.9866 - specificity_at_sensitivity: 0.9862 - recall: 0.6775 - precision: 0.8068 - val_loss: 0.8311 - val_accuracy: 0.6990 - val_sensitivity_at_specificity: 0.9683 - val_specificity_at_sensitivity: 0.9755 - val_recall: 0.6364 - val_precision: 0.7422\n",
      "Epoch 22/50\n",
      "102/102 [==============================] - ETA: 0s - loss: 0.6932 - accuracy: 0.7412 - sensitivity_at_specificity: 0.9856 - specificity_at_sensitivity: 0.9854 - recall: 0.6725 - precision: 0.8002\n",
      "Epoch 22: val_accuracy improved from 0.71307 to 0.72253, saving model to ECG_Spectrogram_Model.h5\n",
      "102/102 [==============================] - 83s 813ms/step - loss: 0.6932 - accuracy: 0.7412 - sensitivity_at_specificity: 0.9856 - specificity_at_sensitivity: 0.9854 - recall: 0.6725 - precision: 0.8002 - val_loss: 0.7759 - val_accuracy: 0.7225 - val_sensitivity_at_specificity: 0.9751 - val_specificity_at_sensitivity: 0.9802 - val_recall: 0.6625 - val_precision: 0.7726\n",
      "Epoch 23/50\n",
      "102/102 [==============================] - ETA: 0s - loss: 0.6558 - accuracy: 0.7508 - sensitivity_at_specificity: 0.9905 - specificity_at_sensitivity: 0.9882 - recall: 0.6885 - precision: 0.8110\n",
      "Epoch 23: val_accuracy did not improve from 0.72253\n",
      "102/102 [==============================] - 82s 807ms/step - loss: 0.6558 - accuracy: 0.7508 - sensitivity_at_specificity: 0.9905 - specificity_at_sensitivity: 0.9882 - recall: 0.6885 - precision: 0.8110 - val_loss: 0.8031 - val_accuracy: 0.7038 - val_sensitivity_at_specificity: 0.9720 - val_specificity_at_sensitivity: 0.9754 - val_recall: 0.6314 - val_precision: 0.7601\n",
      "Epoch 24/50\n",
      "102/102 [==============================] - ETA: 0s - loss: 0.6661 - accuracy: 0.7504 - sensitivity_at_specificity: 0.9901 - specificity_at_sensitivity: 0.9873 - recall: 0.6840 - precision: 0.8037\n",
      "Epoch 24: val_accuracy did not improve from 0.72253\n",
      "102/102 [==============================] - 82s 807ms/step - loss: 0.6661 - accuracy: 0.7504 - sensitivity_at_specificity: 0.9901 - specificity_at_sensitivity: 0.9873 - recall: 0.6840 - precision: 0.8037 - val_loss: 0.8247 - val_accuracy: 0.6992 - val_sensitivity_at_specificity: 0.9720 - val_specificity_at_sensitivity: 0.9780 - val_recall: 0.6372 - val_precision: 0.7576\n",
      "Epoch 25/50\n",
      "102/102 [==============================] - ETA: 0s - loss: 0.6601 - accuracy: 0.7496 - sensitivity_at_specificity: 0.9903 - specificity_at_sensitivity: 0.9871 - recall: 0.6877 - precision: 0.8063\n",
      "Epoch 25: val_accuracy did not improve from 0.72253\n",
      "102/102 [==============================] - 82s 804ms/step - loss: 0.6601 - accuracy: 0.7496 - sensitivity_at_specificity: 0.9903 - specificity_at_sensitivity: 0.9871 - recall: 0.6877 - precision: 0.8063 - val_loss: 0.8691 - val_accuracy: 0.6913 - val_sensitivity_at_specificity: 0.9537 - val_specificity_at_sensitivity: 0.9727 - val_recall: 0.6235 - val_precision: 0.7483\n",
      "Epoch 26/50\n",
      "102/102 [==============================] - ETA: 0s - loss: 0.6376 - accuracy: 0.7638 - sensitivity_at_specificity: 0.9886 - specificity_at_sensitivity: 0.9885 - recall: 0.7028 - precision: 0.8156\n",
      "Epoch 26: val_accuracy did not improve from 0.72253\n",
      "102/102 [==============================] - 82s 808ms/step - loss: 0.6376 - accuracy: 0.7638 - sensitivity_at_specificity: 0.9886 - specificity_at_sensitivity: 0.9885 - recall: 0.7028 - precision: 0.8156 - val_loss: 0.7922 - val_accuracy: 0.7082 - val_sensitivity_at_specificity: 0.9722 - val_specificity_at_sensitivity: 0.9790 - val_recall: 0.6252 - val_precision: 0.7750\n"
     ]
    },
    {
     "name": "stdout",
     "output_type": "stream",
     "text": [
      "Epoch 27/50\n",
      "102/102 [==============================] - ETA: 0s - loss: 0.6518 - accuracy: 0.7531 - sensitivity_at_specificity: 0.9896 - specificity_at_sensitivity: 0.9877 - recall: 0.6899 - precision: 0.8078\n",
      "Epoch 27: val_accuracy did not improve from 0.72253\n",
      "102/102 [==============================] - 83s 810ms/step - loss: 0.6518 - accuracy: 0.7531 - sensitivity_at_specificity: 0.9896 - specificity_at_sensitivity: 0.9877 - recall: 0.6899 - precision: 0.8078 - val_loss: 0.7911 - val_accuracy: 0.7138 - val_sensitivity_at_specificity: 0.9697 - val_specificity_at_sensitivity: 0.9782 - val_recall: 0.6571 - val_precision: 0.7680\n",
      "Epoch 28/50\n",
      "102/102 [==============================] - ETA: 0s - loss: 0.6310 - accuracy: 0.7617 - sensitivity_at_specificity: 0.9886 - specificity_at_sensitivity: 0.9889 - recall: 0.7045 - precision: 0.8144\n",
      "Epoch 28: val_accuracy did not improve from 0.72253\n",
      "102/102 [==============================] - 83s 810ms/step - loss: 0.6310 - accuracy: 0.7617 - sensitivity_at_specificity: 0.9886 - specificity_at_sensitivity: 0.9889 - recall: 0.7045 - precision: 0.8144 - val_loss: 0.7875 - val_accuracy: 0.7169 - val_sensitivity_at_specificity: 0.9703 - val_specificity_at_sensitivity: 0.9788 - val_recall: 0.6463 - val_precision: 0.7737\n",
      "Epoch 29/50\n",
      "102/102 [==============================] - ETA: 0s - loss: 0.6351 - accuracy: 0.7639 - sensitivity_at_specificity: 0.9895 - specificity_at_sensitivity: 0.9886 - recall: 0.7041 - precision: 0.8133\n",
      "Epoch 29: val_accuracy did not improve from 0.72253\n",
      "102/102 [==============================] - 82s 808ms/step - loss: 0.6351 - accuracy: 0.7639 - sensitivity_at_specificity: 0.9895 - specificity_at_sensitivity: 0.9886 - recall: 0.7041 - precision: 0.8133 - val_loss: 0.8077 - val_accuracy: 0.7098 - val_sensitivity_at_specificity: 0.9699 - val_specificity_at_sensitivity: 0.9775 - val_recall: 0.6495 - val_precision: 0.7544\n",
      "Epoch 30/50\n",
      "102/102 [==============================] - ETA: 0s - loss: 0.5955 - accuracy: 0.7765 - sensitivity_at_specificity: 0.9929 - specificity_at_sensitivity: 0.9909 - recall: 0.7219 - precision: 0.8253\n",
      "Epoch 30: val_accuracy did not improve from 0.72253\n",
      "102/102 [==============================] - 83s 809ms/step - loss: 0.5955 - accuracy: 0.7765 - sensitivity_at_specificity: 0.9929 - specificity_at_sensitivity: 0.9909 - recall: 0.7219 - precision: 0.8253 - val_loss: 0.8350 - val_accuracy: 0.6963 - val_sensitivity_at_specificity: 0.9627 - val_specificity_at_sensitivity: 0.9742 - val_recall: 0.6358 - val_precision: 0.7465\n",
      "Epoch 31/50\n",
      "102/102 [==============================] - ETA: 0s - loss: 0.6158 - accuracy: 0.7675 - sensitivity_at_specificity: 0.9897 - specificity_at_sensitivity: 0.9905 - recall: 0.7118 - precision: 0.8191\n",
      "Epoch 31: val_accuracy did not improve from 0.72253\n",
      "102/102 [==============================] - 83s 812ms/step - loss: 0.6158 - accuracy: 0.7675 - sensitivity_at_specificity: 0.9897 - specificity_at_sensitivity: 0.9905 - recall: 0.7118 - precision: 0.8191 - val_loss: 0.8220 - val_accuracy: 0.7140 - val_sensitivity_at_specificity: 0.9666 - val_specificity_at_sensitivity: 0.9780 - val_recall: 0.6694 - val_precision: 0.7557\n",
      "Epoch 32/50\n",
      "102/102 [==============================] - ETA: 0s - loss: 0.5993 - accuracy: 0.7743 - sensitivity_at_specificity: 0.9940 - specificity_at_sensitivity: 0.9910 - recall: 0.7189 - precision: 0.8250\n",
      "Epoch 32: val_accuracy did not improve from 0.72253\n",
      "102/102 [==============================] - 82s 808ms/step - loss: 0.5993 - accuracy: 0.7743 - sensitivity_at_specificity: 0.9940 - specificity_at_sensitivity: 0.9910 - recall: 0.7189 - precision: 0.8250 - val_loss: 0.8794 - val_accuracy: 0.6972 - val_sensitivity_at_specificity: 0.9705 - val_specificity_at_sensitivity: 0.9773 - val_recall: 0.6561 - val_precision: 0.7408\n",
      "Epoch 33/50\n",
      "102/102 [==============================] - ETA: 0s - loss: 0.6053 - accuracy: 0.7703 - sensitivity_at_specificity: 0.9934 - specificity_at_sensitivity: 0.9903 - recall: 0.7165 - precision: 0.8204\n",
      "Epoch 33: val_accuracy did not improve from 0.72253\n",
      "102/102 [==============================] - 82s 805ms/step - loss: 0.6053 - accuracy: 0.7703 - sensitivity_at_specificity: 0.9934 - specificity_at_sensitivity: 0.9903 - recall: 0.7165 - precision: 0.8204 - val_loss: 0.8050 - val_accuracy: 0.7171 - val_sensitivity_at_specificity: 0.9699 - val_specificity_at_sensitivity: 0.9797 - val_recall: 0.6685 - val_precision: 0.7609\n",
      "Epoch 34/50\n",
      "102/102 [==============================] - ETA: 0s - loss: 0.5908 - accuracy: 0.7788 - sensitivity_at_specificity: 0.9923 - specificity_at_sensitivity: 0.9909 - recall: 0.7262 - precision: 0.8292\n",
      "Epoch 34: val_accuracy did not improve from 0.72253\n",
      "102/102 [==============================] - 83s 810ms/step - loss: 0.5908 - accuracy: 0.7788 - sensitivity_at_specificity: 0.9923 - specificity_at_sensitivity: 0.9909 - recall: 0.7262 - precision: 0.8292 - val_loss: 0.8908 - val_accuracy: 0.7052 - val_sensitivity_at_specificity: 0.9643 - val_specificity_at_sensitivity: 0.9780 - val_recall: 0.6604 - val_precision: 0.7383\n",
      "Epoch 35/50\n",
      "102/102 [==============================] - ETA: 0s - loss: 0.5694 - accuracy: 0.7857 - sensitivity_at_specificity: 0.9934 - specificity_at_sensitivity: 0.9928 - recall: 0.7354 - precision: 0.8309\n",
      "Epoch 35: val_accuracy did not improve from 0.72253\n",
      "102/102 [==============================] - 83s 811ms/step - loss: 0.5694 - accuracy: 0.7857 - sensitivity_at_specificity: 0.9934 - specificity_at_sensitivity: 0.9928 - recall: 0.7354 - precision: 0.8309 - val_loss: 0.8193 - val_accuracy: 0.7123 - val_sensitivity_at_specificity: 0.9741 - val_specificity_at_sensitivity: 0.9786 - val_recall: 0.6580 - val_precision: 0.7622\n",
      "Epoch 36/50\n",
      "102/102 [==============================] - ETA: 0s - loss: 0.5789 - accuracy: 0.7834 - sensitivity_at_specificity: 0.9927 - specificity_at_sensitivity: 0.9922 - recall: 0.7313 - precision: 0.8283\n",
      "Epoch 36: val_accuracy did not improve from 0.72253\n",
      "102/102 [==============================] - 100s 979ms/step - loss: 0.5789 - accuracy: 0.7834 - sensitivity_at_specificity: 0.9927 - specificity_at_sensitivity: 0.9922 - recall: 0.7313 - precision: 0.8283 - val_loss: 0.8781 - val_accuracy: 0.7030 - val_sensitivity_at_specificity: 0.9678 - val_specificity_at_sensitivity: 0.9785 - val_recall: 0.6636 - val_precision: 0.7462\n",
      "Epoch 37/50\n",
      "102/102 [==============================] - ETA: 0s - loss: 0.5815 - accuracy: 0.7828 - sensitivity_at_specificity: 0.9932 - specificity_at_sensitivity: 0.9918 - recall: 0.7335 - precision: 0.8275\n",
      "Epoch 37: val_accuracy did not improve from 0.72253\n",
      "102/102 [==============================] - 83s 810ms/step - loss: 0.5815 - accuracy: 0.7828 - sensitivity_at_specificity: 0.9932 - specificity_at_sensitivity: 0.9918 - recall: 0.7335 - precision: 0.8275 - val_loss: 0.9024 - val_accuracy: 0.6839 - val_sensitivity_at_specificity: 0.9631 - val_specificity_at_sensitivity: 0.9674 - val_recall: 0.6173 - val_precision: 0.7354\n",
      "Epoch 38/50\n",
      "102/102 [==============================] - ETA: 0s - loss: 0.5545 - accuracy: 0.7942 - sensitivity_at_specificity: 0.9930 - specificity_at_sensitivity: 0.9928 - recall: 0.7452 - precision: 0.8391\n",
      "Epoch 38: val_accuracy did not improve from 0.72253\n",
      "102/102 [==============================] - 83s 811ms/step - loss: 0.5545 - accuracy: 0.7942 - sensitivity_at_specificity: 0.9930 - specificity_at_sensitivity: 0.9928 - recall: 0.7452 - precision: 0.8391 - val_loss: 0.8851 - val_accuracy: 0.6994 - val_sensitivity_at_specificity: 0.9606 - val_specificity_at_sensitivity: 0.9764 - val_recall: 0.6555 - val_precision: 0.7434\n",
      "Epoch 39/50\n",
      "102/102 [==============================] - ETA: 0s - loss: 0.5800 - accuracy: 0.7857 - sensitivity_at_specificity: 0.9928 - specificity_at_sensitivity: 0.9910 - recall: 0.7380 - precision: 0.8321\n",
      "Epoch 39: val_accuracy did not improve from 0.72253\n",
      "102/102 [==============================] - 83s 810ms/step - loss: 0.5800 - accuracy: 0.7857 - sensitivity_at_specificity: 0.9928 - specificity_at_sensitivity: 0.9910 - recall: 0.7380 - precision: 0.8321 - val_loss: 0.9097 - val_accuracy: 0.6932 - val_sensitivity_at_specificity: 0.9614 - val_specificity_at_sensitivity: 0.9735 - val_recall: 0.6490 - val_precision: 0.7338\n"
     ]
    },
    {
     "name": "stdout",
     "output_type": "stream",
     "text": [
      "Epoch 40/50\n",
      "102/102 [==============================] - ETA: 0s - loss: 0.5653 - accuracy: 0.7889 - sensitivity_at_specificity: 0.9923 - specificity_at_sensitivity: 0.9927 - recall: 0.7387 - precision: 0.8317\n",
      "Epoch 40: val_accuracy did not improve from 0.72253\n",
      "102/102 [==============================] - 83s 809ms/step - loss: 0.5653 - accuracy: 0.7889 - sensitivity_at_specificity: 0.9923 - specificity_at_sensitivity: 0.9927 - recall: 0.7387 - precision: 0.8317 - val_loss: 0.8512 - val_accuracy: 0.7057 - val_sensitivity_at_specificity: 0.9637 - val_specificity_at_sensitivity: 0.9780 - val_recall: 0.6617 - val_precision: 0.7492\n",
      "Epoch 41/50\n",
      "102/102 [==============================] - ETA: 0s - loss: 0.5338 - accuracy: 0.8000 - sensitivity_at_specificity: 0.9961 - specificity_at_sensitivity: 0.9935 - recall: 0.7554 - precision: 0.8415\n",
      "Epoch 41: val_accuracy did not improve from 0.72253\n",
      "102/102 [==============================] - 83s 811ms/step - loss: 0.5338 - accuracy: 0.8000 - sensitivity_at_specificity: 0.9961 - specificity_at_sensitivity: 0.9935 - recall: 0.7554 - precision: 0.8415 - val_loss: 0.8958 - val_accuracy: 0.7102 - val_sensitivity_at_specificity: 0.9579 - val_specificity_at_sensitivity: 0.9751 - val_recall: 0.6663 - val_precision: 0.7455\n",
      "Epoch 42/50\n",
      "102/102 [==============================] - ETA: 0s - loss: 0.5297 - accuracy: 0.8043 - sensitivity_at_specificity: 0.9959 - specificity_at_sensitivity: 0.9941 - recall: 0.7590 - precision: 0.8445\n",
      "Epoch 42: val_accuracy did not improve from 0.72253\n",
      "102/102 [==============================] - 82s 808ms/step - loss: 0.5297 - accuracy: 0.8043 - sensitivity_at_specificity: 0.9959 - specificity_at_sensitivity: 0.9941 - recall: 0.7590 - precision: 0.8445 - val_loss: 0.8996 - val_accuracy: 0.7013 - val_sensitivity_at_specificity: 0.9598 - val_specificity_at_sensitivity: 0.9736 - val_recall: 0.6555 - val_precision: 0.7431\n",
      "Epoch 43/50\n",
      "102/102 [==============================] - ETA: 0s - loss: 0.5138 - accuracy: 0.8074 - sensitivity_at_specificity: 0.9961 - specificity_at_sensitivity: 0.9953 - recall: 0.7677 - precision: 0.8467\n",
      "Epoch 43: val_accuracy did not improve from 0.72253\n",
      "102/102 [==============================] - 83s 809ms/step - loss: 0.5138 - accuracy: 0.8074 - sensitivity_at_specificity: 0.9961 - specificity_at_sensitivity: 0.9953 - recall: 0.7677 - precision: 0.8467 - val_loss: 0.8912 - val_accuracy: 0.7011 - val_sensitivity_at_specificity: 0.9591 - val_specificity_at_sensitivity: 0.9737 - val_recall: 0.6519 - val_precision: 0.7402\n",
      "Epoch 44/50\n",
      "102/102 [==============================] - ETA: 0s - loss: 0.5141 - accuracy: 0.8093 - sensitivity_at_specificity: 0.9960 - specificity_at_sensitivity: 0.9946 - recall: 0.7697 - precision: 0.8475\n",
      "Epoch 44: val_accuracy did not improve from 0.72253\n",
      "102/102 [==============================] - 83s 808ms/step - loss: 0.5141 - accuracy: 0.8093 - sensitivity_at_specificity: 0.9960 - specificity_at_sensitivity: 0.9946 - recall: 0.7697 - precision: 0.8475 - val_loss: 0.9012 - val_accuracy: 0.6949 - val_sensitivity_at_specificity: 0.9618 - val_specificity_at_sensitivity: 0.9726 - val_recall: 0.6470 - val_precision: 0.7355\n",
      "Epoch 45/50\n",
      "102/102 [==============================] - ETA: 0s - loss: 0.5149 - accuracy: 0.8083 - sensitivity_at_specificity: 0.9953 - specificity_at_sensitivity: 0.9945 - recall: 0.7651 - precision: 0.8478\n",
      "Epoch 45: val_accuracy did not improve from 0.72253\n",
      "102/102 [==============================] - 83s 810ms/step - loss: 0.5149 - accuracy: 0.8083 - sensitivity_at_specificity: 0.9953 - specificity_at_sensitivity: 0.9945 - recall: 0.7651 - precision: 0.8478 - val_loss: 0.9243 - val_accuracy: 0.6940 - val_sensitivity_at_specificity: 0.9627 - val_specificity_at_sensitivity: 0.9784 - val_recall: 0.6594 - val_precision: 0.7325\n",
      "Epoch 46/50\n",
      "102/102 [==============================] - ETA: 0s - loss: 0.4811 - accuracy: 0.8212 - sensitivity_at_specificity: 0.9961 - specificity_at_sensitivity: 0.9958 - recall: 0.7830 - precision: 0.8565\n",
      "Epoch 46: val_accuracy did not improve from 0.72253\n",
      "102/102 [==============================] - 83s 809ms/step - loss: 0.4811 - accuracy: 0.8212 - sensitivity_at_specificity: 0.9961 - specificity_at_sensitivity: 0.9958 - recall: 0.7830 - precision: 0.8565 - val_loss: 0.8700 - val_accuracy: 0.7129 - val_sensitivity_at_specificity: 0.9593 - val_specificity_at_sensitivity: 0.9762 - val_recall: 0.6725 - val_precision: 0.7434\n",
      "Epoch 47/50\n",
      "102/102 [==============================] - ETA: 0s - loss: 0.5340 - accuracy: 0.7980 - sensitivity_at_specificity: 0.9951 - specificity_at_sensitivity: 0.9937 - recall: 0.7537 - precision: 0.8399\n",
      "Epoch 47: val_accuracy did not improve from 0.72253\n",
      "102/102 [==============================] - 100s 981ms/step - loss: 0.5340 - accuracy: 0.7980 - sensitivity_at_specificity: 0.9951 - specificity_at_sensitivity: 0.9937 - recall: 0.7537 - precision: 0.8399 - val_loss: 0.9320 - val_accuracy: 0.7052 - val_sensitivity_at_specificity: 0.9581 - val_specificity_at_sensitivity: 0.9752 - val_recall: 0.6710 - val_precision: 0.7395\n",
      "Epoch 48/50\n",
      "102/102 [==============================] - ETA: 0s - loss: 0.4810 - accuracy: 0.8180 - sensitivity_at_specificity: 0.9957 - specificity_at_sensitivity: 0.9957 - recall: 0.7813 - precision: 0.8554\n",
      "Epoch 48: val_accuracy did not improve from 0.72253\n",
      "102/102 [==============================] - 83s 809ms/step - loss: 0.4810 - accuracy: 0.8180 - sensitivity_at_specificity: 0.9957 - specificity_at_sensitivity: 0.9957 - recall: 0.7813 - precision: 0.8554 - val_loss: 0.9370 - val_accuracy: 0.6969 - val_sensitivity_at_specificity: 0.9623 - val_specificity_at_sensitivity: 0.9758 - val_recall: 0.6528 - val_precision: 0.7347\n",
      "Epoch 49/50\n",
      "102/102 [==============================] - ETA: 0s - loss: 0.4820 - accuracy: 0.8207 - sensitivity_at_specificity: 0.9953 - specificity_at_sensitivity: 0.9961 - recall: 0.7794 - precision: 0.8549\n",
      "Epoch 49: val_accuracy did not improve from 0.72253\n",
      "102/102 [==============================] - 82s 808ms/step - loss: 0.4820 - accuracy: 0.8207 - sensitivity_at_specificity: 0.9953 - specificity_at_sensitivity: 0.9961 - recall: 0.7794 - precision: 0.8549 - val_loss: 0.9863 - val_accuracy: 0.6839 - val_sensitivity_at_specificity: 0.9562 - val_specificity_at_sensitivity: 0.9693 - val_recall: 0.6434 - val_precision: 0.7178\n",
      "Epoch 50/50\n",
      "102/102 [==============================] - ETA: 0s - loss: 0.4827 - accuracy: 0.8186 - sensitivity_at_specificity: 0.9958 - specificity_at_sensitivity: 0.9955 - recall: 0.7827 - precision: 0.8592\n",
      "Epoch 50: val_accuracy did not improve from 0.72253\n",
      "102/102 [==============================] - 82s 808ms/step - loss: 0.4827 - accuracy: 0.8186 - sensitivity_at_specificity: 0.9958 - specificity_at_sensitivity: 0.9955 - recall: 0.7827 - precision: 0.8592 - val_loss: 1.0115 - val_accuracy: 0.6905 - val_sensitivity_at_specificity: 0.9483 - val_specificity_at_sensitivity: 0.9700 - val_recall: 0.6598 - val_precision: 0.7227\n"
     ]
    }
   ],
   "source": [
    "# Fit the model\n",
    "from keras.callbacks import ModelCheckpoint, EarlyStopping\n",
    "\n",
    "checkpoint = ModelCheckpoint(\"ECG_Spectrogram_Model.h5\", monitor='val_accuracy', verbose=1, save_best_only=True, save_weights_only=False, mode='auto', period=1)\n",
    "history = model.fit(train_data, steps_per_epoch=len(train_data), epochs=50, validation_data=val_data, validation_steps=len(val_data),callbacks = [callbacks,checkpoint])"
   ]
  },
  {
   "cell_type": "code",
   "execution_count": 17,
   "id": "b7453ac9",
   "metadata": {},
   "outputs": [
    {
     "name": "stdout",
     "output_type": "stream",
     "text": [
      "Training Accuracy:  0.8212423324584961\n",
      "Validation Accuracy:  0.7225332856178284\n",
      "Validation Specificity:  0.9802085161209106\n",
      "Validation Sensitivity:  0.9770225882530212\n",
      "Validation Recall:  0.6725236773490906\n",
      "Validation Precision:  0.7888431549072266\n",
      "Validation Loss:  0.7752128839492798\n"
     ]
    }
   ],
   "source": [
    "#Acquiring Performance metrics\n",
    "\n",
    "Training_Accuracy=history.history['accuracy']\n",
    "Validation_Accuracy=history.history['val_accuracy']\n",
    "Validation_Specificity=history.history['val_specificity_at_sensitivity']\n",
    "Validation_Sensitivity=history.history['val_sensitivity_at_specificity']\n",
    "Validation_Recall=history.history['val_recall']\n",
    "Validation_Precision=history.history['val_precision']\n",
    "Validation_Loss=history.history['val_loss']\n",
    "\n",
    "print(\"Training Accuracy: \",max(Training_Accuracy))\n",
    "print(\"Validation Accuracy: \",max(Validation_Accuracy))\n",
    "print(\"Validation Specificity: \",max(Validation_Specificity))\n",
    "print(\"Validation Sensitivity: \",max(Validation_Sensitivity))\n",
    "print(\"Validation Recall: \",max(Validation_Recall))\n",
    "print(\"Validation Precision: \",max(Validation_Precision))\n",
    "print(\"Validation Loss: \",min(Validation_Loss))"
   ]
  },
  {
   "cell_type": "code",
   "execution_count": null,
   "id": "6dd085b8",
   "metadata": {},
   "outputs": [],
   "source": []
  }
 ],
 "metadata": {
  "kernelspec": {
   "display_name": "Python 3 (ipykernel)",
   "language": "python",
   "name": "python3"
  },
  "language_info": {
   "codemirror_mode": {
    "name": "ipython",
    "version": 3
   },
   "file_extension": ".py",
   "mimetype": "text/x-python",
   "name": "python",
   "nbconvert_exporter": "python",
   "pygments_lexer": "ipython3",
   "version": "3.10.6"
  }
 },
 "nbformat": 4,
 "nbformat_minor": 5
}
