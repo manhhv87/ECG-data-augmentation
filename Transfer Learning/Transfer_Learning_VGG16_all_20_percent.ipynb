{
 "cells": [
  {
   "cell_type": "code",
   "execution_count": 1,
   "id": "e1e32307",
   "metadata": {},
   "outputs": [
    {
     "name": "stdout",
     "output_type": "stream",
     "text": [
      "2.9.1\n"
     ]
    }
   ],
   "source": [
    "#Tensorflow version\n",
    "\n",
    "import tensorflow as tf\n",
    "print(tf.__version__)"
   ]
  },
  {
   "cell_type": "code",
   "execution_count": 2,
   "id": "4b0746ad",
   "metadata": {},
   "outputs": [],
   "source": [
    "#Importing libraries\n",
    "\n",
    "import tensorflow as tf\n",
    "from tensorflow import keras\n",
    "from keras.layers import Input, Conv2D, Dense, Flatten, BatchNormalization, Dropout, MaxPooling2D, GlobalMaxPooling2D\n",
    "from keras.models import Model\n",
    "import matplotlib.pyplot as plt\n",
    "from keras.applications.efficientnet import EfficientNetB0\n",
    "from keras.preprocessing import image\n",
    "#from keras.preprocessing.image import load_img\n",
    "from keras.models import Sequential\n",
    "import numpy as np\n",
    "from tensorflow.keras import regularizers"
   ]
  },
  {
   "cell_type": "code",
   "execution_count": 3,
   "id": "aac05228",
   "metadata": {},
   "outputs": [],
   "source": [
    "#Datasets path\n",
    "\n",
    "\n",
    "# 20 percent\n",
    "train_dir='/home/ubuntu/From_Laptop/multi-class-NEW/12-Lead_ECG_version_2/DA_version_3/Model_Training/20 percent/Training/'\n",
    "val_dir='/home/ubuntu/From_Laptop/multi-class-NEW/12-Lead_ECG_version_2/DA_version_3/Model_Training/20 percent/Validation/'\n",
    "\n",
    "# 10 percent\n",
    "#train_dir='/home/ubuntu/From_Laptop/multi-class-NEW/12-Lead_ECG_version_2/DA_version_3/Model_Training/10 percent/Training/'\n",
    "#val_dir='/home/ubuntu/From_Laptop/multi-class-NEW/12-Lead_ECG_version_2/DA_version_3/Model_Training/10 percent/Validation/'\n",
    "\n"
   ]
  },
  {
   "cell_type": "code",
   "execution_count": 4,
   "id": "b2f80645",
   "metadata": {},
   "outputs": [
    {
     "name": "stdout",
     "output_type": "stream",
     "text": [
      "Found 30805 files belonging to 5 classes.\n"
     ]
    },
    {
     "name": "stderr",
     "output_type": "stream",
     "text": [
      "2023-01-12 08:30:47.189420: I tensorflow/stream_executor/cuda/cuda_gpu_executor.cc:975] successful NUMA node read from SysFS had negative value (-1), but there must be at least one NUMA node, so returning NUMA node zero\n",
      "2023-01-12 08:30:47.238236: I tensorflow/stream_executor/cuda/cuda_gpu_executor.cc:975] successful NUMA node read from SysFS had negative value (-1), but there must be at least one NUMA node, so returning NUMA node zero\n",
      "2023-01-12 08:30:47.238571: I tensorflow/stream_executor/cuda/cuda_gpu_executor.cc:975] successful NUMA node read from SysFS had negative value (-1), but there must be at least one NUMA node, so returning NUMA node zero\n",
      "2023-01-12 08:30:47.258082: I tensorflow/core/platform/cpu_feature_guard.cc:193] This TensorFlow binary is optimized with oneAPI Deep Neural Network Library (oneDNN) to use the following CPU instructions in performance-critical operations:  AVX2 FMA\n",
      "To enable them in other operations, rebuild TensorFlow with the appropriate compiler flags.\n",
      "2023-01-12 08:30:47.258608: I tensorflow/stream_executor/cuda/cuda_gpu_executor.cc:975] successful NUMA node read from SysFS had negative value (-1), but there must be at least one NUMA node, so returning NUMA node zero\n",
      "2023-01-12 08:30:47.258903: I tensorflow/stream_executor/cuda/cuda_gpu_executor.cc:975] successful NUMA node read from SysFS had negative value (-1), but there must be at least one NUMA node, so returning NUMA node zero\n",
      "2023-01-12 08:30:47.259060: I tensorflow/stream_executor/cuda/cuda_gpu_executor.cc:975] successful NUMA node read from SysFS had negative value (-1), but there must be at least one NUMA node, so returning NUMA node zero\n",
      "2023-01-12 08:30:47.871947: I tensorflow/stream_executor/cuda/cuda_gpu_executor.cc:975] successful NUMA node read from SysFS had negative value (-1), but there must be at least one NUMA node, so returning NUMA node zero\n",
      "2023-01-12 08:30:47.872265: I tensorflow/stream_executor/cuda/cuda_gpu_executor.cc:975] successful NUMA node read from SysFS had negative value (-1), but there must be at least one NUMA node, so returning NUMA node zero\n",
      "2023-01-12 08:30:47.872513: I tensorflow/stream_executor/cuda/cuda_gpu_executor.cc:975] successful NUMA node read from SysFS had negative value (-1), but there must be at least one NUMA node, so returning NUMA node zero\n",
      "2023-01-12 08:30:47.872696: I tensorflow/core/common_runtime/gpu/gpu_device.cc:1532] Created device /job:localhost/replica:0/task:0/device:GPU:0 with 7380 MB memory:  -> device: 0, name: NVIDIA GeForce GTX 1080, pci bus id: 0000:00:05.0, compute capability: 6.1\n"
     ]
    },
    {
     "name": "stdout",
     "output_type": "stream",
     "text": [
      "Found 8188 files belonging to 5 classes.\n"
     ]
    }
   ],
   "source": [
    "from tensorflow.keras import layers\n",
    "\n",
    "train_data = tf.keras.preprocessing.image_dataset_from_directory(directory=train_dir,\n",
    "                                                                 image_size=(256,256),\n",
    "                                                                 label_mode='categorical', batch_size=128, \n",
    "                                                                 )\n",
    "val_data = tf.keras.preprocessing.image_dataset_from_directory(directory=val_dir,\n",
    "                                                                 image_size=(256,256),\n",
    "                                                                 label_mode='categorical', batch_size=128,\n",
    "                                                                )"
   ]
  },
  {
   "cell_type": "code",
   "execution_count": 5,
   "id": "ca75c58f-bfe9-48bc-8e3a-e9ed7abe3cdf",
   "metadata": {},
   "outputs": [],
   "source": [
    "#Normalization of the data\n",
    "\n",
    "nrmzln_layer = layers.experimental.preprocessing.Rescaling(1./255)\n",
    "\n",
    "train_data = train_data.map(lambda x,\n",
    "                          y: (nrmzln_layer(x), y))\n",
    "\n",
    "val_data = val_data.map(lambda x,\n",
    "                          y: (nrmzln_layer(x), y))"
   ]
  },
  {
   "cell_type": "code",
   "execution_count": 6,
   "id": "2007b247",
   "metadata": {},
   "outputs": [],
   "source": [
    "# Instantiate base_model with pre-trained weights\n",
    "\n",
    "#import tensorflow.python.keras.applications.VGG16\n",
    "\n",
    "base_model= tf.keras.applications.VGG16(weights= 'imagenet', input_shape=(256,256, 3), include_top=False) "
   ]
  },
  {
   "cell_type": "code",
   "execution_count": 7,
   "id": "3110cb3d",
   "metadata": {},
   "outputs": [],
   "source": [
    "# Freezing the base_model for transfer learning\n",
    "base_model.trainable= False"
   ]
  },
  {
   "cell_type": "code",
   "execution_count": 8,
   "id": "f9525074",
   "metadata": {},
   "outputs": [],
   "source": [
    "# Creating a new_model on the top\n",
    "inputs= tf.keras.Input(shape= (256, 256, 3), name=\"input_layer\")"
   ]
  },
  {
   "cell_type": "code",
   "execution_count": 9,
   "id": "f0e154d0",
   "metadata": {},
   "outputs": [],
   "source": [
    "x= base_model(inputs,training= False)"
   ]
  },
  {
   "cell_type": "code",
   "execution_count": 10,
   "id": "06eee106",
   "metadata": {},
   "outputs": [],
   "source": [
    "# Average pool the outputs of the base model\n",
    "x = tf.keras.layers.GlobalAveragePooling2D(name='Global_Average_Pooling_Layer')(x)"
   ]
  },
  {
   "cell_type": "code",
   "execution_count": 11,
   "id": "c97951c1",
   "metadata": {},
   "outputs": [],
   "source": [
    "# Output layer\n",
    "u = tf.keras.layers.Dense(1050, activation=\"relu\")(x)\n",
    "u = tf.keras.layers.Dense(512, activation=\"relu\")(u)\n",
    "u = tf.keras.layers.Dense(256, activation=\"relu\")(u)\n",
    "u = tf.keras.layers.Dense(128, activation=\"relu\")(u)\n",
    "outputs = tf.keras.layers.Dense(5, activation=\"softmax\",name=\"output_layer\")(u)"
   ]
  },
  {
   "cell_type": "code",
   "execution_count": 12,
   "id": "e15b01f3",
   "metadata": {},
   "outputs": [],
   "source": [
    "# Combine the model\n",
    "model = tf.keras.Model(inputs, outputs) "
   ]
  },
  {
   "cell_type": "code",
   "execution_count": 13,
   "id": "186a4092",
   "metadata": {},
   "outputs": [
    {
     "name": "stdout",
     "output_type": "stream",
     "text": [
      "Model: \"model\"\n",
      "_________________________________________________________________\n",
      " Layer (type)                Output Shape              Param #   \n",
      "=================================================================\n",
      " input_layer (InputLayer)    [(None, 256, 256, 3)]     0         \n",
      "                                                                 \n",
      " vgg16 (Functional)          (None, 8, 8, 512)         14714688  \n",
      "                                                                 \n",
      " Global_Average_Pooling_Laye  (None, 512)              0         \n",
      " r (GlobalAveragePooling2D)                                      \n",
      "                                                                 \n",
      " dense (Dense)               (None, 1050)              538650    \n",
      "                                                                 \n",
      " dense_1 (Dense)             (None, 512)               538112    \n",
      "                                                                 \n",
      " dense_2 (Dense)             (None, 256)               131328    \n",
      "                                                                 \n",
      " dense_3 (Dense)             (None, 128)               32896     \n",
      "                                                                 \n",
      " output_layer (Dense)        (None, 5)                 645       \n",
      "                                                                 \n",
      "=================================================================\n",
      "Total params: 15,956,319\n",
      "Trainable params: 1,241,631\n",
      "Non-trainable params: 14,714,688\n",
      "_________________________________________________________________\n"
     ]
    }
   ],
   "source": [
    "#printing model summary\n",
    "\n",
    "model.summary()"
   ]
  },
  {
   "cell_type": "code",
   "execution_count": 14,
   "id": "b07c7887",
   "metadata": {},
   "outputs": [],
   "source": [
    "# Compile the model\n",
    "\n",
    "from tensorflow.keras.metrics import SensitivityAtSpecificity,SpecificityAtSensitivity,Recall,Precision\n",
    "\n",
    "model.compile(loss= tf.losses.categorical_crossentropy, \n",
    "      optimizer = tf.keras.optimizers.Adam(learning_rate=0.001),\n",
    "              metrics=['accuracy',SensitivityAtSpecificity(0.5),SpecificityAtSensitivity(0.5),Recall(0.5),Precision(0.5)])"
   ]
  },
  {
   "cell_type": "code",
   "execution_count": 15,
   "id": "5105faca",
   "metadata": {},
   "outputs": [],
   "source": [
    "#callback\n",
    "\n",
    "class myCallback(tf.keras.callbacks.Callback):\n",
    "     def on_epoch_end(self, epoch, logs={}):\n",
    "        if(logs.get('val_accuracy')>0.99): \n",
    "          print(\"\\nReached 99% accuracy so cancelling training!\")\n",
    "          self.model.stop_training = True\n",
    "\n",
    "callbacks = myCallback()"
   ]
  },
  {
   "cell_type": "code",
   "execution_count": 16,
   "id": "595e70ba",
   "metadata": {
    "tags": []
   },
   "outputs": [
    {
     "name": "stdout",
     "output_type": "stream",
     "text": [
      "WARNING:tensorflow:`period` argument is deprecated. Please use `save_freq` to specify the frequency in number of batches seen.\n",
      "Epoch 1/50\n"
     ]
    },
    {
     "name": "stderr",
     "output_type": "stream",
     "text": [
      "2023-01-12 08:30:58.513102: I tensorflow/stream_executor/cuda/cuda_dnn.cc:384] Loaded cuDNN version 8100\n",
      "2023-01-12 08:30:58.940153: I tensorflow/core/platform/default/subprocess.cc:304] Start cannot spawn child process: No such file or directory\n"
     ]
    },
    {
     "name": "stdout",
     "output_type": "stream",
     "text": [
      "241/241 [==============================] - ETA: 0s - loss: 1.1482 - accuracy: 0.5149 - sensitivity_at_specificity: 0.9136 - specificity_at_sensitivity: 0.8937 - recall: 0.3026 - precision: 0.6978\n",
      "Epoch 1: val_accuracy improved from -inf to 0.60992, saving model to ECG_Spectrogram_Model.h5\n",
      "241/241 [==============================] - 206s 808ms/step - loss: 1.1482 - accuracy: 0.5149 - sensitivity_at_specificity: 0.9136 - specificity_at_sensitivity: 0.8937 - recall: 0.3026 - precision: 0.6978 - val_loss: 0.9467 - val_accuracy: 0.6099 - val_sensitivity_at_specificity: 0.9645 - val_specificity_at_sensitivity: 0.9405 - val_recall: 0.4933 - val_precision: 0.6831\n",
      "Epoch 2/50\n",
      "241/241 [==============================] - ETA: 0s - loss: 0.8474 - accuracy: 0.6615 - sensitivity_at_specificity: 0.9793 - specificity_at_sensitivity: 0.9623 - recall: 0.5573 - precision: 0.7355\n",
      "Epoch 2: val_accuracy improved from 0.60992 to 0.65914, saving model to ECG_Spectrogram_Model.h5\n",
      "241/241 [==============================] - 182s 756ms/step - loss: 0.8474 - accuracy: 0.6615 - sensitivity_at_specificity: 0.9793 - specificity_at_sensitivity: 0.9623 - recall: 0.5573 - precision: 0.7355 - val_loss: 0.8990 - val_accuracy: 0.6591 - val_sensitivity_at_specificity: 0.9596 - val_specificity_at_sensitivity: 0.9617 - val_recall: 0.5686 - val_precision: 0.7244\n",
      "Epoch 3/50\n",
      "241/241 [==============================] - ETA: 0s - loss: 0.7500 - accuracy: 0.7066 - sensitivity_at_specificity: 0.9870 - specificity_at_sensitivity: 0.9756 - recall: 0.6299 - precision: 0.7655\n",
      "Epoch 3: val_accuracy improved from 0.65914 to 0.66378, saving model to ECG_Spectrogram_Model.h5\n",
      "241/241 [==============================] - 182s 756ms/step - loss: 0.7500 - accuracy: 0.7066 - sensitivity_at_specificity: 0.9870 - specificity_at_sensitivity: 0.9756 - recall: 0.6299 - precision: 0.7655 - val_loss: 0.8812 - val_accuracy: 0.6638 - val_sensitivity_at_specificity: 0.9680 - val_specificity_at_sensitivity: 0.9616 - val_recall: 0.5863 - val_precision: 0.7229\n",
      "Epoch 4/50\n",
      "241/241 [==============================] - ETA: 0s - loss: 0.7056 - accuracy: 0.7247 - sensitivity_at_specificity: 0.9905 - specificity_at_sensitivity: 0.9798 - recall: 0.6618 - precision: 0.7779\n",
      "Epoch 4: val_accuracy did not improve from 0.66378\n",
      "241/241 [==============================] - 182s 754ms/step - loss: 0.7056 - accuracy: 0.7247 - sensitivity_at_specificity: 0.9905 - specificity_at_sensitivity: 0.9798 - recall: 0.6618 - precision: 0.7779 - val_loss: 0.9785 - val_accuracy: 0.6284 - val_sensitivity_at_specificity: 0.9618 - val_specificity_at_sensitivity: 0.9497 - val_recall: 0.5778 - val_precision: 0.6689\n",
      "Epoch 5/50\n",
      "241/241 [==============================] - ETA: 0s - loss: 0.6727 - accuracy: 0.7398 - sensitivity_at_specificity: 0.9925 - specificity_at_sensitivity: 0.9827 - recall: 0.6815 - precision: 0.7882\n",
      "Epoch 5: val_accuracy improved from 0.66378 to 0.70530, saving model to ECG_Spectrogram_Model.h5\n",
      "241/241 [==============================] - 183s 757ms/step - loss: 0.6727 - accuracy: 0.7398 - sensitivity_at_specificity: 0.9925 - specificity_at_sensitivity: 0.9827 - recall: 0.6815 - precision: 0.7882 - val_loss: 0.8031 - val_accuracy: 0.7053 - val_sensitivity_at_specificity: 0.9747 - val_specificity_at_sensitivity: 0.9737 - val_recall: 0.6503 - val_precision: 0.7492\n",
      "Epoch 6/50\n",
      "241/241 [==============================] - ETA: 0s - loss: 0.6257 - accuracy: 0.7590 - sensitivity_at_specificity: 0.9951 - specificity_at_sensitivity: 0.9864 - recall: 0.7064 - precision: 0.8025\n",
      "Epoch 6: val_accuracy did not improve from 0.70530\n",
      "241/241 [==============================] - 182s 754ms/step - loss: 0.6257 - accuracy: 0.7590 - sensitivity_at_specificity: 0.9951 - specificity_at_sensitivity: 0.9864 - recall: 0.7064 - precision: 0.8025 - val_loss: 0.8790 - val_accuracy: 0.6757 - val_sensitivity_at_specificity: 0.9653 - val_specificity_at_sensitivity: 0.9670 - val_recall: 0.6128 - val_precision: 0.7243\n",
      "Epoch 7/50\n",
      "241/241 [==============================] - ETA: 0s - loss: 0.5991 - accuracy: 0.7691 - sensitivity_at_specificity: 0.9949 - specificity_at_sensitivity: 0.9887 - recall: 0.7226 - precision: 0.8116\n",
      "Epoch 7: val_accuracy improved from 0.70530 to 0.70652, saving model to ECG_Spectrogram_Model.h5\n",
      "241/241 [==============================] - 183s 757ms/step - loss: 0.5991 - accuracy: 0.7691 - sensitivity_at_specificity: 0.9949 - specificity_at_sensitivity: 0.9887 - recall: 0.7226 - precision: 0.8116 - val_loss: 0.8134 - val_accuracy: 0.7065 - val_sensitivity_at_specificity: 0.9735 - val_specificity_at_sensitivity: 0.9773 - val_recall: 0.6657 - val_precision: 0.7489\n",
      "Epoch 8/50\n",
      "241/241 [==============================] - ETA: 0s - loss: 0.6038 - accuracy: 0.7660 - sensitivity_at_specificity: 0.9949 - specificity_at_sensitivity: 0.9883 - recall: 0.7192 - precision: 0.8098\n",
      "Epoch 8: val_accuracy did not improve from 0.70652\n",
      "241/241 [==============================] - 182s 755ms/step - loss: 0.6038 - accuracy: 0.7660 - sensitivity_at_specificity: 0.9949 - specificity_at_sensitivity: 0.9883 - recall: 0.7192 - precision: 0.8098 - val_loss: 0.8583 - val_accuracy: 0.6865 - val_sensitivity_at_specificity: 0.9702 - val_specificity_at_sensitivity: 0.9718 - val_recall: 0.6448 - val_precision: 0.7261\n",
      "Epoch 9/50\n",
      "241/241 [==============================] - ETA: 0s - loss: 0.5617 - accuracy: 0.7862 - sensitivity_at_specificity: 0.9976 - specificity_at_sensitivity: 0.9906 - recall: 0.7430 - precision: 0.8236\n",
      "Epoch 9: val_accuracy did not improve from 0.70652\n",
      "241/241 [==============================] - 182s 755ms/step - loss: 0.5617 - accuracy: 0.7862 - sensitivity_at_specificity: 0.9976 - specificity_at_sensitivity: 0.9906 - recall: 0.7430 - precision: 0.8236 - val_loss: 1.0407 - val_accuracy: 0.6925 - val_sensitivity_at_specificity: 0.9353 - val_specificity_at_sensitivity: 0.9727 - val_recall: 0.6481 - val_precision: 0.7305\n",
      "Epoch 10/50\n",
      "241/241 [==============================] - ETA: 0s - loss: 0.5440 - accuracy: 0.7902 - sensitivity_at_specificity: 0.9971 - specificity_at_sensitivity: 0.9913 - recall: 0.7509 - precision: 0.8261\n",
      "Epoch 10: val_accuracy did not improve from 0.70652\n",
      "241/241 [==============================] - 182s 754ms/step - loss: 0.5440 - accuracy: 0.7902 - sensitivity_at_specificity: 0.9971 - specificity_at_sensitivity: 0.9913 - recall: 0.7509 - precision: 0.8261 - val_loss: 0.8952 - val_accuracy: 0.6851 - val_sensitivity_at_specificity: 0.9715 - val_specificity_at_sensitivity: 0.9716 - val_recall: 0.6450 - val_precision: 0.7209\n",
      "Epoch 11/50\n",
      "241/241 [==============================] - ETA: 0s - loss: 0.5373 - accuracy: 0.7952 - sensitivity_at_specificity: 0.9972 - specificity_at_sensitivity: 0.9917 - recall: 0.7562 - precision: 0.8300\n",
      "Epoch 11: val_accuracy did not improve from 0.70652\n",
      "241/241 [==============================] - 182s 754ms/step - loss: 0.5373 - accuracy: 0.7952 - sensitivity_at_specificity: 0.9972 - specificity_at_sensitivity: 0.9917 - recall: 0.7562 - precision: 0.8300 - val_loss: 1.0247 - val_accuracy: 0.6924 - val_sensitivity_at_specificity: 0.9452 - val_specificity_at_sensitivity: 0.9725 - val_recall: 0.6555 - val_precision: 0.7320\n",
      "Epoch 12/50\n",
      "241/241 [==============================] - ETA: 0s - loss: 0.5194 - accuracy: 0.8023 - sensitivity_at_specificity: 0.9974 - specificity_at_sensitivity: 0.9929 - recall: 0.7649 - precision: 0.8343\n",
      "Epoch 12: val_accuracy did not improve from 0.70652\n",
      "241/241 [==============================] - 182s 754ms/step - loss: 0.5194 - accuracy: 0.8023 - sensitivity_at_specificity: 0.9974 - specificity_at_sensitivity: 0.9929 - recall: 0.7649 - precision: 0.8343 - val_loss: 1.0637 - val_accuracy: 0.6884 - val_sensitivity_at_specificity: 0.9416 - val_specificity_at_sensitivity: 0.9721 - val_recall: 0.6649 - val_precision: 0.7174\n",
      "Epoch 13/50\n",
      "241/241 [==============================] - ETA: 0s - loss: 0.5076 - accuracy: 0.8078 - sensitivity_at_specificity: 0.9972 - specificity_at_sensitivity: 0.9934 - recall: 0.7716 - precision: 0.8397\n",
      "Epoch 13: val_accuracy did not improve from 0.70652\n",
      "241/241 [==============================] - 182s 754ms/step - loss: 0.5076 - accuracy: 0.8078 - sensitivity_at_specificity: 0.9972 - specificity_at_sensitivity: 0.9934 - recall: 0.7716 - precision: 0.8397 - val_loss: 0.9367 - val_accuracy: 0.6906 - val_sensitivity_at_specificity: 0.9575 - val_specificity_at_sensitivity: 0.9720 - val_recall: 0.6564 - val_precision: 0.7229\n"
     ]
    },
    {
     "name": "stdout",
     "output_type": "stream",
     "text": [
      "Epoch 14/50\n",
      "241/241 [==============================] - ETA: 0s - loss: 0.5009 - accuracy: 0.8102 - sensitivity_at_specificity: 0.9973 - specificity_at_sensitivity: 0.9937 - recall: 0.7755 - precision: 0.8410\n",
      "Epoch 14: val_accuracy did not improve from 0.70652\n",
      "241/241 [==============================] - 176s 732ms/step - loss: 0.5009 - accuracy: 0.8102 - sensitivity_at_specificity: 0.9973 - specificity_at_sensitivity: 0.9937 - recall: 0.7755 - precision: 0.8410 - val_loss: 0.9269 - val_accuracy: 0.6979 - val_sensitivity_at_specificity: 0.9562 - val_specificity_at_sensitivity: 0.9734 - val_recall: 0.6584 - val_precision: 0.7365\n",
      "Epoch 15/50\n",
      "241/241 [==============================] - ETA: 0s - loss: 0.4976 - accuracy: 0.8108 - sensitivity_at_specificity: 0.9987 - specificity_at_sensitivity: 0.9937 - recall: 0.7777 - precision: 0.8418\n",
      "Epoch 15: val_accuracy did not improve from 0.70652\n",
      "241/241 [==============================] - 176s 732ms/step - loss: 0.4976 - accuracy: 0.8108 - sensitivity_at_specificity: 0.9987 - specificity_at_sensitivity: 0.9937 - recall: 0.7777 - precision: 0.8418 - val_loss: 0.9996 - val_accuracy: 0.6910 - val_sensitivity_at_specificity: 0.9472 - val_specificity_at_sensitivity: 0.9716 - val_recall: 0.6602 - val_precision: 0.7180\n",
      "Epoch 16/50\n",
      "241/241 [==============================] - ETA: 0s - loss: 0.4856 - accuracy: 0.8158 - sensitivity_at_specificity: 0.9991 - specificity_at_sensitivity: 0.9941 - recall: 0.7852 - precision: 0.8460\n",
      "Epoch 16: val_accuracy did not improve from 0.70652\n",
      "241/241 [==============================] - 176s 732ms/step - loss: 0.4856 - accuracy: 0.8158 - sensitivity_at_specificity: 0.9991 - specificity_at_sensitivity: 0.9941 - recall: 0.7852 - precision: 0.8460 - val_loss: 0.9942 - val_accuracy: 0.6864 - val_sensitivity_at_specificity: 0.9543 - val_specificity_at_sensitivity: 0.9721 - val_recall: 0.6483 - val_precision: 0.7224\n",
      "Epoch 17/50\n",
      "241/241 [==============================] - ETA: 0s - loss: 0.4730 - accuracy: 0.8218 - sensitivity_at_specificity: 0.9990 - specificity_at_sensitivity: 0.9946 - recall: 0.7898 - precision: 0.8497\n",
      "Epoch 17: val_accuracy did not improve from 0.70652\n",
      "241/241 [==============================] - 177s 732ms/step - loss: 0.4730 - accuracy: 0.8218 - sensitivity_at_specificity: 0.9990 - specificity_at_sensitivity: 0.9946 - recall: 0.7898 - precision: 0.8497 - val_loss: 1.0293 - val_accuracy: 0.6858 - val_sensitivity_at_specificity: 0.9480 - val_specificity_at_sensitivity: 0.9678 - val_recall: 0.6495 - val_precision: 0.7133\n",
      "Epoch 18/50\n",
      "241/241 [==============================] - ETA: 0s - loss: 0.4575 - accuracy: 0.8274 - sensitivity_at_specificity: 0.9991 - specificity_at_sensitivity: 0.9952 - recall: 0.7976 - precision: 0.8552\n",
      "Epoch 18: val_accuracy did not improve from 0.70652\n",
      "241/241 [==============================] - 176s 731ms/step - loss: 0.4575 - accuracy: 0.8274 - sensitivity_at_specificity: 0.9991 - specificity_at_sensitivity: 0.9952 - recall: 0.7976 - precision: 0.8552 - val_loss: 0.9302 - val_accuracy: 0.7024 - val_sensitivity_at_specificity: 0.9597 - val_specificity_at_sensitivity: 0.9728 - val_recall: 0.6689 - val_precision: 0.7341\n",
      "Epoch 19/50\n",
      "241/241 [==============================] - ETA: 0s - loss: 0.4559 - accuracy: 0.8266 - sensitivity_at_specificity: 0.9991 - specificity_at_sensitivity: 0.9954 - recall: 0.7971 - precision: 0.8548\n",
      "Epoch 19: val_accuracy did not improve from 0.70652\n",
      "241/241 [==============================] - 177s 732ms/step - loss: 0.4559 - accuracy: 0.8266 - sensitivity_at_specificity: 0.9991 - specificity_at_sensitivity: 0.9954 - recall: 0.7971 - precision: 0.8548 - val_loss: 1.0690 - val_accuracy: 0.6999 - val_sensitivity_at_specificity: 0.9413 - val_specificity_at_sensitivity: 0.9734 - val_recall: 0.6726 - val_precision: 0.7226\n",
      "Epoch 20/50\n",
      "241/241 [==============================] - ETA: 0s - loss: 0.4466 - accuracy: 0.8314 - sensitivity_at_specificity: 0.9988 - specificity_at_sensitivity: 0.9957 - recall: 0.8032 - precision: 0.8581\n",
      "Epoch 20: val_accuracy did not improve from 0.70652\n",
      "241/241 [==============================] - 177s 732ms/step - loss: 0.4466 - accuracy: 0.8314 - sensitivity_at_specificity: 0.9988 - specificity_at_sensitivity: 0.9957 - recall: 0.8032 - precision: 0.8581 - val_loss: 1.1941 - val_accuracy: 0.6729 - val_sensitivity_at_specificity: 0.9195 - val_specificity_at_sensitivity: 0.9653 - val_recall: 0.6486 - val_precision: 0.6983\n",
      "Epoch 21/50\n",
      "241/241 [==============================] - ETA: 0s - loss: 0.4333 - accuracy: 0.8343 - sensitivity_at_specificity: 0.9989 - specificity_at_sensitivity: 0.9962 - recall: 0.8085 - precision: 0.8607\n",
      "Epoch 21: val_accuracy did not improve from 0.70652\n",
      "241/241 [==============================] - 177s 732ms/step - loss: 0.4333 - accuracy: 0.8343 - sensitivity_at_specificity: 0.9989 - specificity_at_sensitivity: 0.9962 - recall: 0.8085 - precision: 0.8607 - val_loss: 1.1265 - val_accuracy: 0.6816 - val_sensitivity_at_specificity: 0.9246 - val_specificity_at_sensitivity: 0.9664 - val_recall: 0.6572 - val_precision: 0.7051\n",
      "Epoch 22/50\n",
      "241/241 [==============================] - ETA: 0s - loss: 0.4234 - accuracy: 0.8379 - sensitivity_at_specificity: 0.9989 - specificity_at_sensitivity: 0.9964 - recall: 0.8127 - precision: 0.8643\n",
      "Epoch 22: val_accuracy did not improve from 0.70652\n",
      "241/241 [==============================] - 176s 731ms/step - loss: 0.4234 - accuracy: 0.8379 - sensitivity_at_specificity: 0.9989 - specificity_at_sensitivity: 0.9964 - recall: 0.8127 - precision: 0.8643 - val_loss: 1.1495 - val_accuracy: 0.6955 - val_sensitivity_at_specificity: 0.9359 - val_specificity_at_sensitivity: 0.9734 - val_recall: 0.6729 - val_precision: 0.7169\n",
      "Epoch 23/50\n",
      "241/241 [==============================] - ETA: 0s - loss: 0.4239 - accuracy: 0.8398 - sensitivity_at_specificity: 0.9990 - specificity_at_sensitivity: 0.9963 - recall: 0.8145 - precision: 0.8646\n",
      "Epoch 23: val_accuracy did not improve from 0.70652\n",
      "241/241 [==============================] - 176s 732ms/step - loss: 0.4239 - accuracy: 0.8398 - sensitivity_at_specificity: 0.9990 - specificity_at_sensitivity: 0.9963 - recall: 0.8145 - precision: 0.8646 - val_loss: 1.0890 - val_accuracy: 0.6958 - val_sensitivity_at_specificity: 0.9333 - val_specificity_at_sensitivity: 0.9692 - val_recall: 0.6635 - val_precision: 0.7229\n",
      "Epoch 24/50\n",
      "241/241 [==============================] - ETA: 0s - loss: 0.4156 - accuracy: 0.8418 - sensitivity_at_specificity: 0.9990 - specificity_at_sensitivity: 0.9968 - recall: 0.8181 - precision: 0.8672\n",
      "Epoch 24: val_accuracy did not improve from 0.70652\n",
      "241/241 [==============================] - 177s 732ms/step - loss: 0.4156 - accuracy: 0.8418 - sensitivity_at_specificity: 0.9990 - specificity_at_sensitivity: 0.9968 - recall: 0.8181 - precision: 0.8672 - val_loss: 1.4053 - val_accuracy: 0.6806 - val_sensitivity_at_specificity: 0.9082 - val_specificity_at_sensitivity: 0.9683 - val_recall: 0.6588 - val_precision: 0.7028\n",
      "Epoch 25/50\n",
      "241/241 [==============================] - ETA: 0s - loss: 0.4038 - accuracy: 0.8447 - sensitivity_at_specificity: 0.9992 - specificity_at_sensitivity: 0.9970 - recall: 0.8221 - precision: 0.8670\n",
      "Epoch 25: val_accuracy did not improve from 0.70652\n",
      "241/241 [==============================] - 176s 732ms/step - loss: 0.4038 - accuracy: 0.8447 - sensitivity_at_specificity: 0.9992 - specificity_at_sensitivity: 0.9970 - recall: 0.8221 - precision: 0.8670 - val_loss: 1.2430 - val_accuracy: 0.6823 - val_sensitivity_at_specificity: 0.9235 - val_specificity_at_sensitivity: 0.9649 - val_recall: 0.6532 - val_precision: 0.7073\n",
      "Epoch 26/50\n",
      "241/241 [==============================] - ETA: 0s - loss: 0.3999 - accuracy: 0.8488 - sensitivity_at_specificity: 0.9986 - specificity_at_sensitivity: 0.9971 - recall: 0.8262 - precision: 0.8710\n",
      "Epoch 26: val_accuracy did not improve from 0.70652\n",
      "241/241 [==============================] - 177s 734ms/step - loss: 0.3999 - accuracy: 0.8488 - sensitivity_at_specificity: 0.9986 - specificity_at_sensitivity: 0.9971 - recall: 0.8262 - precision: 0.8710 - val_loss: 1.2929 - val_accuracy: 0.6746 - val_sensitivity_at_specificity: 0.9262 - val_specificity_at_sensitivity: 0.9642 - val_recall: 0.6597 - val_precision: 0.6916\n"
     ]
    },
    {
     "name": "stdout",
     "output_type": "stream",
     "text": [
      "Epoch 27/50\n",
      "241/241 [==============================] - ETA: 0s - loss: 0.3924 - accuracy: 0.8512 - sensitivity_at_specificity: 0.9987 - specificity_at_sensitivity: 0.9973 - recall: 0.8290 - precision: 0.8724\n",
      "Epoch 27: val_accuracy did not improve from 0.70652\n",
      "241/241 [==============================] - 177s 733ms/step - loss: 0.3924 - accuracy: 0.8512 - sensitivity_at_specificity: 0.9987 - specificity_at_sensitivity: 0.9973 - recall: 0.8290 - precision: 0.8724 - val_loss: 1.2521 - val_accuracy: 0.6981 - val_sensitivity_at_specificity: 0.9248 - val_specificity_at_sensitivity: 0.9711 - val_recall: 0.6761 - val_precision: 0.7170\n",
      "Epoch 28/50\n",
      "241/241 [==============================] - ETA: 0s - loss: 0.3846 - accuracy: 0.8540 - sensitivity_at_specificity: 0.9987 - specificity_at_sensitivity: 0.9975 - recall: 0.8337 - precision: 0.8755\n",
      "Epoch 28: val_accuracy did not improve from 0.70652\n",
      "241/241 [==============================] - 177s 732ms/step - loss: 0.3846 - accuracy: 0.8540 - sensitivity_at_specificity: 0.9987 - specificity_at_sensitivity: 0.9975 - recall: 0.8337 - precision: 0.8755 - val_loss: 1.3485 - val_accuracy: 0.6861 - val_sensitivity_at_specificity: 0.9107 - val_specificity_at_sensitivity: 0.9685 - val_recall: 0.6673 - val_precision: 0.7056\n",
      "Epoch 29/50\n",
      "241/241 [==============================] - ETA: 0s - loss: 0.3774 - accuracy: 0.8577 - sensitivity_at_specificity: 0.9991 - specificity_at_sensitivity: 0.9979 - recall: 0.8382 - precision: 0.8775\n",
      "Epoch 29: val_accuracy did not improve from 0.70652\n",
      "241/241 [==============================] - 177s 732ms/step - loss: 0.3774 - accuracy: 0.8577 - sensitivity_at_specificity: 0.9991 - specificity_at_sensitivity: 0.9979 - recall: 0.8382 - precision: 0.8775 - val_loss: 1.3158 - val_accuracy: 0.6921 - val_sensitivity_at_specificity: 0.9156 - val_specificity_at_sensitivity: 0.9697 - val_recall: 0.6684 - val_precision: 0.7095\n",
      "Epoch 30/50\n",
      "241/241 [==============================] - ETA: 0s - loss: 0.3796 - accuracy: 0.8542 - sensitivity_at_specificity: 0.9992 - specificity_at_sensitivity: 0.9977 - recall: 0.8342 - precision: 0.8750\n",
      "Epoch 30: val_accuracy did not improve from 0.70652\n",
      "241/241 [==============================] - 176s 731ms/step - loss: 0.3796 - accuracy: 0.8542 - sensitivity_at_specificity: 0.9992 - specificity_at_sensitivity: 0.9977 - recall: 0.8342 - precision: 0.8750 - val_loss: 1.4691 - val_accuracy: 0.6899 - val_sensitivity_at_specificity: 0.8999 - val_specificity_at_sensitivity: 0.9680 - val_recall: 0.6684 - val_precision: 0.7069\n",
      "Epoch 31/50\n",
      "241/241 [==============================] - ETA: 0s - loss: 0.3791 - accuracy: 0.8563 - sensitivity_at_specificity: 0.9992 - specificity_at_sensitivity: 0.9980 - recall: 0.8355 - precision: 0.8760\n",
      "Epoch 31: val_accuracy did not improve from 0.70652\n",
      "241/241 [==============================] - 177s 732ms/step - loss: 0.3791 - accuracy: 0.8563 - sensitivity_at_specificity: 0.9992 - specificity_at_sensitivity: 0.9980 - recall: 0.8355 - precision: 0.8760 - val_loss: 1.1327 - val_accuracy: 0.7035 - val_sensitivity_at_specificity: 0.9444 - val_specificity_at_sensitivity: 0.9741 - val_recall: 0.6804 - val_precision: 0.7238\n",
      "Epoch 32/50\n",
      "241/241 [==============================] - ETA: 0s - loss: 0.3627 - accuracy: 0.8605 - sensitivity_at_specificity: 0.9989 - specificity_at_sensitivity: 0.9981 - recall: 0.8424 - precision: 0.8807\n",
      "Epoch 32: val_accuracy did not improve from 0.70652\n",
      "241/241 [==============================] - 180s 748ms/step - loss: 0.3627 - accuracy: 0.8605 - sensitivity_at_specificity: 0.9989 - specificity_at_sensitivity: 0.9981 - recall: 0.8424 - precision: 0.8807 - val_loss: 1.5721 - val_accuracy: 0.6892 - val_sensitivity_at_specificity: 0.8951 - val_specificity_at_sensitivity: 0.9644 - val_recall: 0.6687 - val_precision: 0.7055\n",
      "Epoch 33/50\n",
      "241/241 [==============================] - ETA: 0s - loss: 0.3724 - accuracy: 0.8576 - sensitivity_at_specificity: 0.9990 - specificity_at_sensitivity: 0.9980 - recall: 0.8372 - precision: 0.8770\n",
      "Epoch 33: val_accuracy did not improve from 0.70652\n",
      "241/241 [==============================] - 176s 732ms/step - loss: 0.3724 - accuracy: 0.8576 - sensitivity_at_specificity: 0.9990 - specificity_at_sensitivity: 0.9980 - recall: 0.8372 - precision: 0.8770 - val_loss: 1.5756 - val_accuracy: 0.6683 - val_sensitivity_at_specificity: 0.8892 - val_specificity_at_sensitivity: 0.9624 - val_recall: 0.6475 - val_precision: 0.6839\n",
      "Epoch 34/50\n",
      "241/241 [==============================] - ETA: 0s - loss: 0.3558 - accuracy: 0.8638 - sensitivity_at_specificity: 0.9990 - specificity_at_sensitivity: 0.9984 - recall: 0.8467 - precision: 0.8823\n",
      "Epoch 34: val_accuracy did not improve from 0.70652\n",
      "241/241 [==============================] - 176s 732ms/step - loss: 0.3558 - accuracy: 0.8638 - sensitivity_at_specificity: 0.9990 - specificity_at_sensitivity: 0.9984 - recall: 0.8467 - precision: 0.8823 - val_loss: 1.3156 - val_accuracy: 0.6913 - val_sensitivity_at_specificity: 0.9159 - val_specificity_at_sensitivity: 0.9698 - val_recall: 0.6682 - val_precision: 0.7123\n",
      "Epoch 35/50\n",
      "241/241 [==============================] - ETA: 0s - loss: 0.3554 - accuracy: 0.8640 - sensitivity_at_specificity: 0.9989 - specificity_at_sensitivity: 0.9981 - recall: 0.8464 - precision: 0.8833\n",
      "Epoch 35: val_accuracy did not improve from 0.70652\n",
      "241/241 [==============================] - 177s 733ms/step - loss: 0.3554 - accuracy: 0.8640 - sensitivity_at_specificity: 0.9989 - specificity_at_sensitivity: 0.9981 - recall: 0.8464 - precision: 0.8833 - val_loss: 1.2308 - val_accuracy: 0.6998 - val_sensitivity_at_specificity: 0.9260 - val_specificity_at_sensitivity: 0.9715 - val_recall: 0.6772 - val_precision: 0.7171\n",
      "Epoch 36/50\n",
      "241/241 [==============================] - ETA: 0s - loss: 0.3371 - accuracy: 0.8696 - sensitivity_at_specificity: 0.9990 - specificity_at_sensitivity: 0.9986 - recall: 0.8536 - precision: 0.8879\n",
      "Epoch 36: val_accuracy did not improve from 0.70652\n",
      "241/241 [==============================] - 177s 734ms/step - loss: 0.3371 - accuracy: 0.8696 - sensitivity_at_specificity: 0.9990 - specificity_at_sensitivity: 0.9986 - recall: 0.8536 - precision: 0.8879 - val_loss: 1.6510 - val_accuracy: 0.6772 - val_sensitivity_at_specificity: 0.8813 - val_specificity_at_sensitivity: 0.9639 - val_recall: 0.6627 - val_precision: 0.6919\n",
      "Epoch 37/50\n",
      "241/241 [==============================] - ETA: 0s - loss: 0.3470 - accuracy: 0.8698 - sensitivity_at_specificity: 0.9988 - specificity_at_sensitivity: 0.9983 - recall: 0.8520 - precision: 0.8866\n",
      "Epoch 37: val_accuracy did not improve from 0.70652\n",
      "241/241 [==============================] - 177s 733ms/step - loss: 0.3470 - accuracy: 0.8698 - sensitivity_at_specificity: 0.9988 - specificity_at_sensitivity: 0.9983 - recall: 0.8520 - precision: 0.8866 - val_loss: 1.5111 - val_accuracy: 0.6776 - val_sensitivity_at_specificity: 0.9027 - val_specificity_at_sensitivity: 0.9596 - val_recall: 0.6521 - val_precision: 0.6975\n",
      "Epoch 38/50\n",
      "241/241 [==============================] - ETA: 0s - loss: 0.3266 - accuracy: 0.8756 - sensitivity_at_specificity: 0.9993 - specificity_at_sensitivity: 0.9987 - recall: 0.8593 - precision: 0.8929\n",
      "Epoch 38: val_accuracy did not improve from 0.70652\n",
      "241/241 [==============================] - 177s 732ms/step - loss: 0.3266 - accuracy: 0.8756 - sensitivity_at_specificity: 0.9993 - specificity_at_sensitivity: 0.9987 - recall: 0.8593 - precision: 0.8929 - val_loss: 1.1777 - val_accuracy: 0.6981 - val_sensitivity_at_specificity: 0.9332 - val_specificity_at_sensitivity: 0.9714 - val_recall: 0.6840 - val_precision: 0.7129\n",
      "Epoch 39/50\n",
      "241/241 [==============================] - ETA: 0s - loss: 0.3304 - accuracy: 0.8751 - sensitivity_at_specificity: 0.9988 - specificity_at_sensitivity: 0.9986 - recall: 0.8601 - precision: 0.8915\n",
      "Epoch 39: val_accuracy did not improve from 0.70652\n",
      "241/241 [==============================] - 177s 733ms/step - loss: 0.3304 - accuracy: 0.8751 - sensitivity_at_specificity: 0.9988 - specificity_at_sensitivity: 0.9986 - recall: 0.8601 - precision: 0.8915 - val_loss: 1.3306 - val_accuracy: 0.6849 - val_sensitivity_at_specificity: 0.9198 - val_specificity_at_sensitivity: 0.9670 - val_recall: 0.6633 - val_precision: 0.7001\n"
     ]
    },
    {
     "name": "stdout",
     "output_type": "stream",
     "text": [
      "Epoch 40/50\n",
      "241/241 [==============================] - ETA: 0s - loss: 0.3079 - accuracy: 0.8828 - sensitivity_at_specificity: 0.9993 - specificity_at_sensitivity: 0.9989 - recall: 0.8676 - precision: 0.8973\n",
      "Epoch 40: val_accuracy did not improve from 0.70652\n",
      "241/241 [==============================] - 177s 732ms/step - loss: 0.3079 - accuracy: 0.8828 - sensitivity_at_specificity: 0.9993 - specificity_at_sensitivity: 0.9989 - recall: 0.8676 - precision: 0.8973 - val_loss: 1.3789 - val_accuracy: 0.7031 - val_sensitivity_at_specificity: 0.9157 - val_specificity_at_sensitivity: 0.9719 - val_recall: 0.6876 - val_precision: 0.7160\n",
      "Epoch 41/50\n",
      "241/241 [==============================] - ETA: 0s - loss: 0.3197 - accuracy: 0.8774 - sensitivity_at_specificity: 0.9992 - specificity_at_sensitivity: 0.9988 - recall: 0.8633 - precision: 0.8929\n",
      "Epoch 41: val_accuracy did not improve from 0.70652\n",
      "241/241 [==============================] - 176s 732ms/step - loss: 0.3197 - accuracy: 0.8774 - sensitivity_at_specificity: 0.9992 - specificity_at_sensitivity: 0.9988 - recall: 0.8633 - precision: 0.8929 - val_loss: 1.3920 - val_accuracy: 0.7011 - val_sensitivity_at_specificity: 0.9157 - val_specificity_at_sensitivity: 0.9725 - val_recall: 0.6864 - val_precision: 0.7137\n",
      "Epoch 42/50\n",
      "241/241 [==============================] - ETA: 0s - loss: 0.3097 - accuracy: 0.8822 - sensitivity_at_specificity: 0.9989 - specificity_at_sensitivity: 0.9989 - recall: 0.8682 - precision: 0.8986\n",
      "Epoch 42: val_accuracy did not improve from 0.70652\n",
      "241/241 [==============================] - 176s 731ms/step - loss: 0.3097 - accuracy: 0.8822 - sensitivity_at_specificity: 0.9989 - specificity_at_sensitivity: 0.9989 - recall: 0.8682 - precision: 0.8986 - val_loss: 1.6973 - val_accuracy: 0.6819 - val_sensitivity_at_specificity: 0.8873 - val_specificity_at_sensitivity: 0.9635 - val_recall: 0.6683 - val_precision: 0.6923\n",
      "Epoch 43/50\n",
      "241/241 [==============================] - ETA: 0s - loss: 0.3201 - accuracy: 0.8788 - sensitivity_at_specificity: 0.9990 - specificity_at_sensitivity: 0.9988 - recall: 0.8635 - precision: 0.8930\n",
      "Epoch 43: val_accuracy did not improve from 0.70652\n",
      "241/241 [==============================] - 177s 733ms/step - loss: 0.3201 - accuracy: 0.8788 - sensitivity_at_specificity: 0.9990 - specificity_at_sensitivity: 0.9988 - recall: 0.8635 - precision: 0.8930 - val_loss: 1.4792 - val_accuracy: 0.7032 - val_sensitivity_at_specificity: 0.9035 - val_specificity_at_sensitivity: 0.9684 - val_recall: 0.6876 - val_precision: 0.7150\n",
      "Epoch 44/50\n",
      "241/241 [==============================] - ETA: 0s - loss: 0.3113 - accuracy: 0.8830 - sensitivity_at_specificity: 0.9989 - specificity_at_sensitivity: 0.9990 - recall: 0.8685 - precision: 0.8975\n",
      "Epoch 44: val_accuracy did not improve from 0.70652\n",
      "241/241 [==============================] - 176s 732ms/step - loss: 0.3113 - accuracy: 0.8830 - sensitivity_at_specificity: 0.9989 - specificity_at_sensitivity: 0.9990 - recall: 0.8685 - precision: 0.8975 - val_loss: 1.5686 - val_accuracy: 0.6787 - val_sensitivity_at_specificity: 0.8951 - val_specificity_at_sensitivity: 0.9629 - val_recall: 0.6695 - val_precision: 0.6876\n",
      "Epoch 45/50\n",
      "241/241 [==============================] - ETA: 0s - loss: 0.3079 - accuracy: 0.8837 - sensitivity_at_specificity: 0.9993 - specificity_at_sensitivity: 0.9991 - recall: 0.8699 - precision: 0.8991\n",
      "Epoch 45: val_accuracy did not improve from 0.70652\n",
      "241/241 [==============================] - 176s 732ms/step - loss: 0.3079 - accuracy: 0.8837 - sensitivity_at_specificity: 0.9993 - specificity_at_sensitivity: 0.9991 - recall: 0.8699 - precision: 0.8991 - val_loss: 1.5110 - val_accuracy: 0.6891 - val_sensitivity_at_specificity: 0.9074 - val_specificity_at_sensitivity: 0.9653 - val_recall: 0.6733 - val_precision: 0.7039\n",
      "Epoch 46/50\n",
      "241/241 [==============================] - ETA: 0s - loss: 0.2912 - accuracy: 0.8888 - sensitivity_at_specificity: 0.9991 - specificity_at_sensitivity: 0.9992 - recall: 0.8751 - precision: 0.9031\n",
      "Epoch 46: val_accuracy improved from 0.70652 to 0.70860, saving model to ECG_Spectrogram_Model.h5\n",
      "241/241 [==============================] - 177s 734ms/step - loss: 0.2912 - accuracy: 0.8888 - sensitivity_at_specificity: 0.9991 - specificity_at_sensitivity: 0.9992 - recall: 0.8751 - precision: 0.9031 - val_loss: 1.2168 - val_accuracy: 0.7086 - val_sensitivity_at_specificity: 0.9345 - val_specificity_at_sensitivity: 0.9706 - val_recall: 0.6944 - val_precision: 0.7230\n",
      "Epoch 47/50\n",
      "241/241 [==============================] - ETA: 0s - loss: 0.2908 - accuracy: 0.8876 - sensitivity_at_specificity: 0.9993 - specificity_at_sensitivity: 0.9993 - recall: 0.8750 - precision: 0.9010\n",
      "Epoch 47: val_accuracy did not improve from 0.70860\n",
      "241/241 [==============================] - 177s 733ms/step - loss: 0.2908 - accuracy: 0.8876 - sensitivity_at_specificity: 0.9993 - specificity_at_sensitivity: 0.9993 - recall: 0.8750 - precision: 0.9010 - val_loss: 1.6720 - val_accuracy: 0.6762 - val_sensitivity_at_specificity: 0.8874 - val_specificity_at_sensitivity: 0.9647 - val_recall: 0.6612 - val_precision: 0.6931\n",
      "Epoch 48/50\n",
      "241/241 [==============================] - ETA: 0s - loss: 0.3020 - accuracy: 0.8843 - sensitivity_at_specificity: 0.9990 - specificity_at_sensitivity: 0.9991 - recall: 0.8709 - precision: 0.8994\n",
      "Epoch 48: val_accuracy did not improve from 0.70860\n",
      "241/241 [==============================] - 176s 730ms/step - loss: 0.3020 - accuracy: 0.8843 - sensitivity_at_specificity: 0.9990 - specificity_at_sensitivity: 0.9991 - recall: 0.8709 - precision: 0.8994 - val_loss: 1.5930 - val_accuracy: 0.6579 - val_sensitivity_at_specificity: 0.8915 - val_specificity_at_sensitivity: 0.9605 - val_recall: 0.6470 - val_precision: 0.6724\n",
      "Epoch 49/50\n",
      "241/241 [==============================] - ETA: 0s - loss: 0.2702 - accuracy: 0.8967 - sensitivity_at_specificity: 0.9994 - specificity_at_sensitivity: 0.9995 - recall: 0.8860 - precision: 0.9092\n",
      "Epoch 49: val_accuracy did not improve from 0.70860\n",
      "241/241 [==============================] - 176s 732ms/step - loss: 0.2702 - accuracy: 0.8967 - sensitivity_at_specificity: 0.9994 - specificity_at_sensitivity: 0.9995 - recall: 0.8860 - precision: 0.9092 - val_loss: 1.6836 - val_accuracy: 0.6954 - val_sensitivity_at_specificity: 0.8884 - val_specificity_at_sensitivity: 0.9652 - val_recall: 0.6768 - val_precision: 0.7081\n",
      "Epoch 50/50\n",
      "241/241 [==============================] - ETA: 0s - loss: 0.2768 - accuracy: 0.8944 - sensitivity_at_specificity: 0.9992 - specificity_at_sensitivity: 0.9994 - recall: 0.8824 - precision: 0.9070\n",
      "Epoch 50: val_accuracy did not improve from 0.70860\n",
      "241/241 [==============================] - 176s 732ms/step - loss: 0.2768 - accuracy: 0.8944 - sensitivity_at_specificity: 0.9992 - specificity_at_sensitivity: 0.9994 - recall: 0.8824 - precision: 0.9070 - val_loss: 1.6012 - val_accuracy: 0.6935 - val_sensitivity_at_specificity: 0.9019 - val_specificity_at_sensitivity: 0.9676 - val_recall: 0.6768 - val_precision: 0.7069\n"
     ]
    }
   ],
   "source": [
    "# Fit the model\n",
    "from keras.callbacks import ModelCheckpoint, EarlyStopping\n",
    "\n",
    "checkpoint = ModelCheckpoint(\"ECG_Spectrogram_Model.h5\", monitor='val_accuracy', verbose=1, save_best_only=True, save_weights_only=False, mode='auto', period=1)\n",
    "history = model.fit(train_data, steps_per_epoch=len(train_data), epochs=50, validation_data=val_data, validation_steps=len(val_data),callbacks = [callbacks,checkpoint])"
   ]
  },
  {
   "cell_type": "code",
   "execution_count": 26,
   "id": "b7453ac9",
   "metadata": {},
   "outputs": [
    {
     "name": "stdout",
     "output_type": "stream",
     "text": [
      "Training Accuracy:  0.8973087072372437\n",
      "Validation Accuracy:  0.7289777398109436\n",
      "Validation Specificity:  0.9811514019966125\n",
      "Validation Sensitivity:  0.9823624491691589\n",
      "Validation Recall:  0.6969320774078369\n",
      "Validation Precision:  0.7724354267120361\n",
      "Validation Loss:  0.7525846362113953\n"
     ]
    }
   ],
   "source": [
    "#Acquiring Performance metrics\n",
    "\n",
    "Training_Accuracy=history.history['accuracy']\n",
    "Validation_Accuracy=history.history['val_accuracy']\n",
    "Validation_Specificity=history.history['val_specificity_at_sensitivity']\n",
    "Validation_Sensitivity=history.history['val_sensitivity_at_specificity']\n",
    "Validation_Recall=history.history['val_recall']\n",
    "Validation_Precision=history.history['val_precision']\n",
    "Validation_Loss=history.history['val_loss']\n",
    "\n",
    "print(\"Training Accuracy: \",max(Training_Accuracy))\n",
    "print(\"Validation Accuracy: \",max(Validation_Accuracy))\n",
    "print(\"Validation Specificity: \",max(Validation_Specificity))\n",
    "print(\"Validation Sensitivity: \",max(Validation_Sensitivity))\n",
    "print(\"Validation Recall: \",max(Validation_Recall))\n",
    "print(\"Validation Precision: \",max(Validation_Precision))\n",
    "print(\"Validation Loss: \",min(Validation_Loss))"
   ]
  },
  {
   "cell_type": "code",
   "execution_count": null,
   "id": "b30ea4e6",
   "metadata": {},
   "outputs": [],
   "source": []
  }
 ],
 "metadata": {
  "kernelspec": {
   "display_name": "Python 3 (ipykernel)",
   "language": "python",
   "name": "python3"
  },
  "language_info": {
   "codemirror_mode": {
    "name": "ipython",
    "version": 3
   },
   "file_extension": ".py",
   "mimetype": "text/x-python",
   "name": "python",
   "nbconvert_exporter": "python",
   "pygments_lexer": "ipython3",
   "version": "3.10.6"
  }
 },
 "nbformat": 4,
 "nbformat_minor": 5
}
