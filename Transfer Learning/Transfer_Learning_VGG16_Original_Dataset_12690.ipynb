{
 "cells": [
  {
   "cell_type": "code",
   "execution_count": 1,
   "id": "e1e32307",
   "metadata": {},
   "outputs": [
    {
     "name": "stdout",
     "output_type": "stream",
     "text": [
      "2.9.1\n"
     ]
    }
   ],
   "source": [
    "#Tensorflow version\n",
    "\n",
    "import tensorflow as tf\n",
    "print(tf.__version__)"
   ]
  },
  {
   "cell_type": "code",
   "execution_count": 2,
   "id": "4b0746ad",
   "metadata": {},
   "outputs": [],
   "source": [
    "#Importing libraries\n",
    "\n",
    "import tensorflow as tf\n",
    "from tensorflow import keras\n",
    "from keras.layers import Input, Conv2D, Dense, Flatten, BatchNormalization, Dropout, MaxPooling2D, GlobalMaxPooling2D\n",
    "from keras.models import Model\n",
    "import matplotlib.pyplot as plt\n",
    "from keras.applications.efficientnet import EfficientNetB0\n",
    "from keras.preprocessing import image\n",
    "#from keras.preprocessing.image import load_img\n",
    "from keras.models import Sequential\n",
    "import numpy as np\n",
    "from tensorflow.keras import regularizers"
   ]
  },
  {
   "cell_type": "code",
   "execution_count": 3,
   "id": "aac05228",
   "metadata": {},
   "outputs": [],
   "source": [
    "#Datasets path\n",
    "\n",
    "#17000 samples original dataset\n",
    "\n",
    "train_dir='/home/ubuntu/From_Laptop/multi-class-NEW/12-Lead_ECG_version_2/Original_graphs_12_leads_12700/Training/'\n",
    "val_dir='/home/ubuntu/From_Laptop/multi-class-NEW/12-Lead_ECG_version_2/Original_graphs_12_leads_12700/Validation/'"
   ]
  },
  {
   "cell_type": "code",
   "execution_count": 4,
   "id": "b2f80645",
   "metadata": {},
   "outputs": [
    {
     "name": "stdout",
     "output_type": "stream",
     "text": [
      "Found 8877 files belonging to 5 classes.\n"
     ]
    },
    {
     "name": "stderr",
     "output_type": "stream",
     "text": [
      "2023-02-17 13:25:17.177715: I tensorflow/stream_executor/cuda/cuda_gpu_executor.cc:975] successful NUMA node read from SysFS had negative value (-1), but there must be at least one NUMA node, so returning NUMA node zero\n",
      "2023-02-17 13:25:17.203809: I tensorflow/stream_executor/cuda/cuda_gpu_executor.cc:975] successful NUMA node read from SysFS had negative value (-1), but there must be at least one NUMA node, so returning NUMA node zero\n",
      "2023-02-17 13:25:17.204128: I tensorflow/stream_executor/cuda/cuda_gpu_executor.cc:975] successful NUMA node read from SysFS had negative value (-1), but there must be at least one NUMA node, so returning NUMA node zero\n",
      "2023-02-17 13:25:17.234313: I tensorflow/core/platform/cpu_feature_guard.cc:193] This TensorFlow binary is optimized with oneAPI Deep Neural Network Library (oneDNN) to use the following CPU instructions in performance-critical operations:  AVX2 FMA\n",
      "To enable them in other operations, rebuild TensorFlow with the appropriate compiler flags.\n",
      "2023-02-17 13:25:17.234865: I tensorflow/stream_executor/cuda/cuda_gpu_executor.cc:975] successful NUMA node read from SysFS had negative value (-1), but there must be at least one NUMA node, so returning NUMA node zero\n",
      "2023-02-17 13:25:17.235191: I tensorflow/stream_executor/cuda/cuda_gpu_executor.cc:975] successful NUMA node read from SysFS had negative value (-1), but there must be at least one NUMA node, so returning NUMA node zero\n",
      "2023-02-17 13:25:17.235496: I tensorflow/stream_executor/cuda/cuda_gpu_executor.cc:975] successful NUMA node read from SysFS had negative value (-1), but there must be at least one NUMA node, so returning NUMA node zero\n",
      "2023-02-17 13:25:17.680523: I tensorflow/stream_executor/cuda/cuda_gpu_executor.cc:975] successful NUMA node read from SysFS had negative value (-1), but there must be at least one NUMA node, so returning NUMA node zero\n",
      "2023-02-17 13:25:17.680711: I tensorflow/stream_executor/cuda/cuda_gpu_executor.cc:975] successful NUMA node read from SysFS had negative value (-1), but there must be at least one NUMA node, so returning NUMA node zero\n",
      "2023-02-17 13:25:17.680856: I tensorflow/stream_executor/cuda/cuda_gpu_executor.cc:975] successful NUMA node read from SysFS had negative value (-1), but there must be at least one NUMA node, so returning NUMA node zero\n",
      "2023-02-17 13:25:17.680974: I tensorflow/core/common_runtime/gpu/gpu_device.cc:1532] Created device /job:localhost/replica:0/task:0/device:GPU:0 with 7380 MB memory:  -> device: 0, name: NVIDIA GeForce GTX 1080, pci bus id: 0000:00:05.0, compute capability: 6.1\n"
     ]
    },
    {
     "name": "stdout",
     "output_type": "stream",
     "text": [
      "Found 3813 files belonging to 5 classes.\n"
     ]
    }
   ],
   "source": [
    "from tensorflow.keras import layers\n",
    "\n",
    "train_data = tf.keras.preprocessing.image_dataset_from_directory(directory=train_dir,\n",
    "                                                                 image_size=(256,256),\n",
    "                                                                 label_mode='categorical', batch_size=128, \n",
    "                                                                 )\n",
    "val_data = tf.keras.preprocessing.image_dataset_from_directory(directory=val_dir,\n",
    "                                                                 image_size=(256,256),\n",
    "                                                                 label_mode='categorical', batch_size=128,\n",
    "                                                                )"
   ]
  },
  {
   "cell_type": "code",
   "execution_count": 5,
   "id": "ca75c58f-bfe9-48bc-8e3a-e9ed7abe3cdf",
   "metadata": {},
   "outputs": [],
   "source": [
    "#Normalization of the data\n",
    "\n",
    "nrmzln_layer = layers.experimental.preprocessing.Rescaling(1./255)\n",
    "\n",
    "train_data = train_data.map(lambda x,\n",
    "                          y: (nrmzln_layer(x), y))\n",
    "\n",
    "val_data = val_data.map(lambda x,\n",
    "                          y: (nrmzln_layer(x), y))"
   ]
  },
  {
   "cell_type": "code",
   "execution_count": 6,
   "id": "2007b247",
   "metadata": {},
   "outputs": [],
   "source": [
    "# Instantiate base_model with pre-trained weights\n",
    "\n",
    "#import tensorflow.python.keras.applications.VGG16\n",
    "\n",
    "base_model= tf.keras.applications.VGG16(weights= 'imagenet', input_shape=(256,256, 3), include_top=False) "
   ]
  },
  {
   "cell_type": "code",
   "execution_count": 7,
   "id": "3110cb3d",
   "metadata": {},
   "outputs": [],
   "source": [
    "# Freezing the base_model for transfer learning\n",
    "base_model.trainable= False"
   ]
  },
  {
   "cell_type": "code",
   "execution_count": 8,
   "id": "f9525074",
   "metadata": {},
   "outputs": [],
   "source": [
    "# Creating a new_model on the top\n",
    "inputs= tf.keras.Input(shape= (256, 256, 3), name=\"input_layer\")"
   ]
  },
  {
   "cell_type": "code",
   "execution_count": 9,
   "id": "f0e154d0",
   "metadata": {},
   "outputs": [],
   "source": [
    "x= base_model(inputs,training= False)"
   ]
  },
  {
   "cell_type": "code",
   "execution_count": 10,
   "id": "06eee106",
   "metadata": {},
   "outputs": [],
   "source": [
    "# Average pool the outputs of the base model\n",
    "x = tf.keras.layers.GlobalAveragePooling2D(name='Global_Average_Pooling_Layer')(x)"
   ]
  },
  {
   "cell_type": "code",
   "execution_count": 11,
   "id": "c97951c1",
   "metadata": {},
   "outputs": [],
   "source": [
    "# Output layer\n",
    "u = tf.keras.layers.Dense(1050, activation=\"relu\")(x)\n",
    "u = tf.keras.layers.Dense(512, activation=\"relu\")(u)\n",
    "u = tf.keras.layers.Dense(256, activation=\"relu\")(u)\n",
    "u = tf.keras.layers.Dense(128, activation=\"relu\")(u)\n",
    "outputs = tf.keras.layers.Dense(5, activation=\"softmax\",name=\"output_layer\")(u)"
   ]
  },
  {
   "cell_type": "code",
   "execution_count": 12,
   "id": "e15b01f3",
   "metadata": {},
   "outputs": [],
   "source": [
    "# Combine the model\n",
    "model = tf.keras.Model(inputs, outputs) "
   ]
  },
  {
   "cell_type": "code",
   "execution_count": 13,
   "id": "186a4092",
   "metadata": {},
   "outputs": [
    {
     "name": "stdout",
     "output_type": "stream",
     "text": [
      "Model: \"model\"\n",
      "_________________________________________________________________\n",
      " Layer (type)                Output Shape              Param #   \n",
      "=================================================================\n",
      " input_layer (InputLayer)    [(None, 256, 256, 3)]     0         \n",
      "                                                                 \n",
      " vgg16 (Functional)          (None, 8, 8, 512)         14714688  \n",
      "                                                                 \n",
      " Global_Average_Pooling_Laye  (None, 512)              0         \n",
      " r (GlobalAveragePooling2D)                                      \n",
      "                                                                 \n",
      " dense (Dense)               (None, 1050)              538650    \n",
      "                                                                 \n",
      " dense_1 (Dense)             (None, 512)               538112    \n",
      "                                                                 \n",
      " dense_2 (Dense)             (None, 256)               131328    \n",
      "                                                                 \n",
      " dense_3 (Dense)             (None, 128)               32896     \n",
      "                                                                 \n",
      " output_layer (Dense)        (None, 5)                 645       \n",
      "                                                                 \n",
      "=================================================================\n",
      "Total params: 15,956,319\n",
      "Trainable params: 1,241,631\n",
      "Non-trainable params: 14,714,688\n",
      "_________________________________________________________________\n"
     ]
    }
   ],
   "source": [
    "#printing model summary\n",
    "\n",
    "model.summary()"
   ]
  },
  {
   "cell_type": "code",
   "execution_count": 14,
   "id": "b07c7887",
   "metadata": {},
   "outputs": [],
   "source": [
    "# Compile the model\n",
    "\n",
    "from tensorflow.keras.metrics import SensitivityAtSpecificity,SpecificityAtSensitivity,Recall,Precision\n",
    "\n",
    "model.compile(loss= tf.losses.categorical_crossentropy, \n",
    "      optimizer = tf.keras.optimizers.Adam(learning_rate=0.001),\n",
    "              metrics=['accuracy',SensitivityAtSpecificity(0.5),SpecificityAtSensitivity(0.5),Recall(0.5),Precision(0.5)])"
   ]
  },
  {
   "cell_type": "code",
   "execution_count": 15,
   "id": "5105faca",
   "metadata": {},
   "outputs": [],
   "source": [
    "#callback\n",
    "\n",
    "class myCallback(tf.keras.callbacks.Callback):\n",
    "     def on_epoch_end(self, epoch, logs={}):\n",
    "        if(logs.get('val_accuracy')>0.99): \n",
    "          print(\"\\nReached 99% accuracy so cancelling training!\")\n",
    "          self.model.stop_training = True\n",
    "\n",
    "callbacks = myCallback()"
   ]
  },
  {
   "cell_type": "code",
   "execution_count": 16,
   "id": "595e70ba",
   "metadata": {
    "tags": []
   },
   "outputs": [
    {
     "name": "stdout",
     "output_type": "stream",
     "text": [
      "WARNING:tensorflow:`period` argument is deprecated. Please use `save_freq` to specify the frequency in number of batches seen.\n",
      "Epoch 1/50\n"
     ]
    },
    {
     "name": "stderr",
     "output_type": "stream",
     "text": [
      "2023-02-17 13:25:22.716226: I tensorflow/stream_executor/cuda/cuda_dnn.cc:384] Loaded cuDNN version 8100\n",
      "2023-02-17 13:25:22.938541: I tensorflow/core/platform/default/subprocess.cc:304] Start cannot spawn child process: No such file or directory\n"
     ]
    },
    {
     "name": "stdout",
     "output_type": "stream",
     "text": [
      "70/70 [==============================] - ETA: 0s - loss: 1.1096 - accuracy: 0.5856 - sensitivity_at_specificity: 0.9100 - specificity_at_sensitivity: 0.9287 - recall: 0.4922 - precision: 0.6458\n",
      "Epoch 1: val_accuracy improved from -inf to 0.48518, saving model to ECG_Spectrogram_Model.h5\n",
      "70/70 [==============================] - 77s 949ms/step - loss: 1.1096 - accuracy: 0.5856 - sensitivity_at_specificity: 0.9100 - specificity_at_sensitivity: 0.9287 - recall: 0.4922 - precision: 0.6458 - val_loss: 1.1963 - val_accuracy: 0.4852 - val_sensitivity_at_specificity: 0.9156 - val_specificity_at_sensitivity: 0.8720 - val_recall: 0.2709 - val_precision: 0.5486\n",
      "Epoch 2/50\n",
      "70/70 [==============================] - ETA: 0s - loss: 0.9556 - accuracy: 0.6411 - sensitivity_at_specificity: 0.9477 - specificity_at_sensitivity: 0.9552 - recall: 0.5505 - precision: 0.7092\n",
      "Epoch 2: val_accuracy improved from 0.48518 to 0.66037, saving model to ECG_Spectrogram_Model.h5\n",
      "70/70 [==============================] - 60s 856ms/step - loss: 0.9556 - accuracy: 0.6411 - sensitivity_at_specificity: 0.9477 - specificity_at_sensitivity: 0.9552 - recall: 0.5505 - precision: 0.7092 - val_loss: 0.9239 - val_accuracy: 0.6604 - val_sensitivity_at_specificity: 0.9552 - val_specificity_at_sensitivity: 0.9624 - val_recall: 0.6142 - val_precision: 0.7031\n",
      "Epoch 3/50\n",
      "70/70 [==============================] - ETA: 0s - loss: 0.8821 - accuracy: 0.6804 - sensitivity_at_specificity: 0.9594 - specificity_at_sensitivity: 0.9673 - recall: 0.6019 - precision: 0.7437\n",
      "Epoch 3: val_accuracy improved from 0.66037 to 0.66457, saving model to ECG_Spectrogram_Model.h5\n",
      "70/70 [==============================] - 60s 862ms/step - loss: 0.8821 - accuracy: 0.6804 - sensitivity_at_specificity: 0.9594 - specificity_at_sensitivity: 0.9673 - recall: 0.6019 - precision: 0.7437 - val_loss: 0.9317 - val_accuracy: 0.6646 - val_sensitivity_at_specificity: 0.9533 - val_specificity_at_sensitivity: 0.9666 - val_recall: 0.5856 - val_precision: 0.7336\n",
      "Epoch 4/50\n",
      "70/70 [==============================] - ETA: 0s - loss: 0.8709 - accuracy: 0.6859 - sensitivity_at_specificity: 0.9603 - specificity_at_sensitivity: 0.9701 - recall: 0.5985 - precision: 0.7501\n",
      "Epoch 4: val_accuracy improved from 0.66457 to 0.68634, saving model to ECG_Spectrogram_Model.h5\n",
      "70/70 [==============================] - 60s 862ms/step - loss: 0.8709 - accuracy: 0.6859 - sensitivity_at_specificity: 0.9603 - specificity_at_sensitivity: 0.9701 - recall: 0.5985 - precision: 0.7501 - val_loss: 0.8598 - val_accuracy: 0.6863 - val_sensitivity_at_specificity: 0.9641 - val_specificity_at_sensitivity: 0.9685 - val_recall: 0.6142 - val_precision: 0.7397\n",
      "Epoch 5/50\n",
      "70/70 [==============================] - ETA: 0s - loss: 0.8214 - accuracy: 0.7068 - sensitivity_at_specificity: 0.9683 - specificity_at_sensitivity: 0.9753 - recall: 0.6280 - precision: 0.7699\n",
      "Epoch 5: val_accuracy improved from 0.68634 to 0.69394, saving model to ECG_Spectrogram_Model.h5\n",
      "70/70 [==============================] - 60s 860ms/step - loss: 0.8214 - accuracy: 0.7068 - sensitivity_at_specificity: 0.9683 - specificity_at_sensitivity: 0.9753 - recall: 0.6280 - precision: 0.7699 - val_loss: 0.8496 - val_accuracy: 0.6939 - val_sensitivity_at_specificity: 0.9622 - val_specificity_at_sensitivity: 0.9702 - val_recall: 0.6234 - val_precision: 0.7451\n",
      "Epoch 6/50\n",
      "70/70 [==============================] - ETA: 0s - loss: 0.8257 - accuracy: 0.6997 - sensitivity_at_specificity: 0.9647 - specificity_at_sensitivity: 0.9749 - recall: 0.6290 - precision: 0.7639\n",
      "Epoch 6: val_accuracy improved from 0.69394 to 0.69997, saving model to ECG_Spectrogram_Model.h5\n",
      "70/70 [==============================] - 60s 861ms/step - loss: 0.8257 - accuracy: 0.6997 - sensitivity_at_specificity: 0.9647 - specificity_at_sensitivity: 0.9749 - recall: 0.6290 - precision: 0.7639 - val_loss: 0.8403 - val_accuracy: 0.7000 - val_sensitivity_at_specificity: 0.9698 - val_specificity_at_sensitivity: 0.9762 - val_recall: 0.6509 - val_precision: 0.7365\n",
      "Epoch 7/50\n",
      "70/70 [==============================] - ETA: 0s - loss: 0.8307 - accuracy: 0.7007 - sensitivity_at_specificity: 0.9650 - specificity_at_sensitivity: 0.9733 - recall: 0.6181 - precision: 0.7637\n",
      "Epoch 7: val_accuracy improved from 0.69997 to 0.70810, saving model to ECG_Spectrogram_Model.h5\n",
      "70/70 [==============================] - 60s 861ms/step - loss: 0.8307 - accuracy: 0.7007 - sensitivity_at_specificity: 0.9650 - specificity_at_sensitivity: 0.9733 - recall: 0.6181 - precision: 0.7637 - val_loss: 0.8082 - val_accuracy: 0.7081 - val_sensitivity_at_specificity: 0.9706 - val_specificity_at_sensitivity: 0.9758 - val_recall: 0.6410 - val_precision: 0.7578\n",
      "Epoch 8/50\n",
      "70/70 [==============================] - ETA: 0s - loss: 0.8191 - accuracy: 0.7035 - sensitivity_at_specificity: 0.9691 - specificity_at_sensitivity: 0.9763 - recall: 0.6307 - precision: 0.7710\n",
      "Epoch 8: val_accuracy did not improve from 0.70810\n",
      "70/70 [==============================] - 60s 857ms/step - loss: 0.8191 - accuracy: 0.7035 - sensitivity_at_specificity: 0.9691 - specificity_at_sensitivity: 0.9763 - recall: 0.6307 - precision: 0.7710 - val_loss: 0.8745 - val_accuracy: 0.6890 - val_sensitivity_at_specificity: 0.9567 - val_specificity_at_sensitivity: 0.9740 - val_recall: 0.6583 - val_precision: 0.7309\n",
      "Epoch 9/50\n",
      "70/70 [==============================] - ETA: 0s - loss: 0.8005 - accuracy: 0.7113 - sensitivity_at_specificity: 0.9690 - specificity_at_sensitivity: 0.9770 - recall: 0.6369 - precision: 0.7770\n",
      "Epoch 9: val_accuracy did not improve from 0.70810\n",
      "70/70 [==============================] - 58s 825ms/step - loss: 0.8005 - accuracy: 0.7113 - sensitivity_at_specificity: 0.9690 - specificity_at_sensitivity: 0.9770 - recall: 0.6369 - precision: 0.7770 - val_loss: 0.8060 - val_accuracy: 0.7015 - val_sensitivity_at_specificity: 0.9696 - val_specificity_at_sensitivity: 0.9776 - val_recall: 0.6166 - val_precision: 0.7811\n",
      "Epoch 10/50\n",
      "70/70 [==============================] - ETA: 0s - loss: 0.7915 - accuracy: 0.7177 - sensitivity_at_specificity: 0.9692 - specificity_at_sensitivity: 0.9787 - recall: 0.6423 - precision: 0.7785\n",
      "Epoch 10: val_accuracy did not improve from 0.70810\n",
      "70/70 [==============================] - 58s 826ms/step - loss: 0.7915 - accuracy: 0.7177 - sensitivity_at_specificity: 0.9692 - specificity_at_sensitivity: 0.9787 - recall: 0.6423 - precision: 0.7785 - val_loss: 0.9197 - val_accuracy: 0.6643 - val_sensitivity_at_specificity: 0.9570 - val_specificity_at_sensitivity: 0.9693 - val_recall: 0.6242 - val_precision: 0.6984\n",
      "Epoch 11/50\n",
      "70/70 [==============================] - ETA: 0s - loss: 0.8006 - accuracy: 0.7127 - sensitivity_at_specificity: 0.9686 - specificity_at_sensitivity: 0.9773 - recall: 0.6366 - precision: 0.7757\n",
      "Epoch 11: val_accuracy did not improve from 0.70810\n",
      "70/70 [==============================] - 58s 826ms/step - loss: 0.8006 - accuracy: 0.7127 - sensitivity_at_specificity: 0.9686 - specificity_at_sensitivity: 0.9773 - recall: 0.6366 - precision: 0.7757 - val_loss: 0.8279 - val_accuracy: 0.7081 - val_sensitivity_at_specificity: 0.9659 - val_specificity_at_sensitivity: 0.9782 - val_recall: 0.6297 - val_precision: 0.7730\n",
      "Epoch 12/50\n",
      "70/70 [==============================] - ETA: 0s - loss: 0.7743 - accuracy: 0.7219 - sensitivity_at_specificity: 0.9751 - specificity_at_sensitivity: 0.9799 - recall: 0.6516 - precision: 0.7810\n",
      "Epoch 12: val_accuracy did not improve from 0.70810\n",
      "70/70 [==============================] - 58s 826ms/step - loss: 0.7743 - accuracy: 0.7219 - sensitivity_at_specificity: 0.9751 - specificity_at_sensitivity: 0.9799 - recall: 0.6516 - precision: 0.7810 - val_loss: 0.8488 - val_accuracy: 0.6903 - val_sensitivity_at_specificity: 0.9586 - val_specificity_at_sensitivity: 0.9735 - val_recall: 0.5980 - val_precision: 0.7633\n",
      "Epoch 13/50\n",
      "70/70 [==============================] - ETA: 0s - loss: 0.7679 - accuracy: 0.7276 - sensitivity_at_specificity: 0.9752 - specificity_at_sensitivity: 0.9805 - recall: 0.6578 - precision: 0.7820\n",
      "Epoch 13: val_accuracy improved from 0.70810 to 0.71099, saving model to ECG_Spectrogram_Model.h5\n",
      "70/70 [==============================] - 58s 832ms/step - loss: 0.7679 - accuracy: 0.7276 - sensitivity_at_specificity: 0.9752 - specificity_at_sensitivity: 0.9805 - recall: 0.6578 - precision: 0.7820 - val_loss: 0.8118 - val_accuracy: 0.7110 - val_sensitivity_at_specificity: 0.9693 - val_specificity_at_sensitivity: 0.9795 - val_recall: 0.6685 - val_precision: 0.7445\n"
     ]
    },
    {
     "name": "stdout",
     "output_type": "stream",
     "text": [
      "Epoch 14/50\n",
      "70/70 [==============================] - ETA: 0s - loss: 0.7789 - accuracy: 0.7209 - sensitivity_at_specificity: 0.9756 - specificity_at_sensitivity: 0.9791 - recall: 0.6491 - precision: 0.7809\n",
      "Epoch 14: val_accuracy improved from 0.71099 to 0.71309, saving model to ECG_Spectrogram_Model.h5\n",
      "70/70 [==============================] - 59s 838ms/step - loss: 0.7789 - accuracy: 0.7209 - sensitivity_at_specificity: 0.9756 - specificity_at_sensitivity: 0.9791 - recall: 0.6491 - precision: 0.7809 - val_loss: 0.7896 - val_accuracy: 0.7131 - val_sensitivity_at_specificity: 0.9683 - val_specificity_at_sensitivity: 0.9788 - val_recall: 0.6237 - val_precision: 0.7956\n",
      "Epoch 15/50\n",
      "70/70 [==============================] - ETA: 0s - loss: 0.7732 - accuracy: 0.7218 - sensitivity_at_specificity: 0.9708 - specificity_at_sensitivity: 0.9794 - recall: 0.6515 - precision: 0.7833\n",
      "Epoch 15: val_accuracy improved from 0.71309 to 0.72200, saving model to ECG_Spectrogram_Model.h5\n",
      "70/70 [==============================] - 58s 832ms/step - loss: 0.7732 - accuracy: 0.7218 - sensitivity_at_specificity: 0.9708 - specificity_at_sensitivity: 0.9794 - recall: 0.6515 - precision: 0.7833 - val_loss: 0.7739 - val_accuracy: 0.7220 - val_sensitivity_at_specificity: 0.9701 - val_specificity_at_sensitivity: 0.9808 - val_recall: 0.6459 - val_precision: 0.7784\n",
      "Epoch 16/50\n",
      "70/70 [==============================] - ETA: 0s - loss: 0.7552 - accuracy: 0.7323 - sensitivity_at_specificity: 0.9766 - specificity_at_sensitivity: 0.9810 - recall: 0.6611 - precision: 0.7902\n",
      "Epoch 16: val_accuracy did not improve from 0.72200\n",
      "70/70 [==============================] - 58s 825ms/step - loss: 0.7552 - accuracy: 0.7323 - sensitivity_at_specificity: 0.9766 - specificity_at_sensitivity: 0.9810 - recall: 0.6611 - precision: 0.7902 - val_loss: 0.7916 - val_accuracy: 0.7154 - val_sensitivity_at_specificity: 0.9714 - val_specificity_at_sensitivity: 0.9780 - val_recall: 0.6449 - val_precision: 0.7634\n",
      "Epoch 17/50\n",
      "70/70 [==============================] - ETA: 0s - loss: 0.7586 - accuracy: 0.7309 - sensitivity_at_specificity: 0.9756 - specificity_at_sensitivity: 0.9816 - recall: 0.6622 - precision: 0.7916\n",
      "Epoch 17: val_accuracy did not improve from 0.72200\n",
      "70/70 [==============================] - 58s 826ms/step - loss: 0.7586 - accuracy: 0.7309 - sensitivity_at_specificity: 0.9756 - specificity_at_sensitivity: 0.9816 - recall: 0.6622 - precision: 0.7916 - val_loss: 0.7779 - val_accuracy: 0.7207 - val_sensitivity_at_specificity: 0.9717 - val_specificity_at_sensitivity: 0.9788 - val_recall: 0.6627 - val_precision: 0.7693\n",
      "Epoch 18/50\n",
      "70/70 [==============================] - ETA: 0s - loss: 0.7464 - accuracy: 0.7281 - sensitivity_at_specificity: 0.9731 - specificity_at_sensitivity: 0.9822 - recall: 0.6615 - precision: 0.7892\n",
      "Epoch 18: val_accuracy did not improve from 0.72200\n",
      "70/70 [==============================] - 58s 826ms/step - loss: 0.7464 - accuracy: 0.7281 - sensitivity_at_specificity: 0.9731 - specificity_at_sensitivity: 0.9822 - recall: 0.6615 - precision: 0.7892 - val_loss: 0.8336 - val_accuracy: 0.6966 - val_sensitivity_at_specificity: 0.9633 - val_specificity_at_sensitivity: 0.9720 - val_recall: 0.6040 - val_precision: 0.7710\n",
      "Epoch 19/50\n",
      "70/70 [==============================] - ETA: 0s - loss: 0.7460 - accuracy: 0.7328 - sensitivity_at_specificity: 0.9762 - specificity_at_sensitivity: 0.9822 - recall: 0.6682 - precision: 0.7942\n",
      "Epoch 19: val_accuracy did not improve from 0.72200\n",
      "70/70 [==============================] - 58s 828ms/step - loss: 0.7460 - accuracy: 0.7328 - sensitivity_at_specificity: 0.9762 - specificity_at_sensitivity: 0.9822 - recall: 0.6682 - precision: 0.7942 - val_loss: 0.8513 - val_accuracy: 0.7015 - val_sensitivity_at_specificity: 0.9622 - val_specificity_at_sensitivity: 0.9736 - val_recall: 0.6352 - val_precision: 0.7648\n",
      "Epoch 20/50\n",
      "70/70 [==============================] - ETA: 0s - loss: 0.7520 - accuracy: 0.7320 - sensitivity_at_specificity: 0.9733 - specificity_at_sensitivity: 0.9810 - recall: 0.6682 - precision: 0.7847\n",
      "Epoch 20: val_accuracy improved from 0.72200 to 0.73092, saving model to ECG_Spectrogram_Model.h5\n",
      "70/70 [==============================] - 58s 834ms/step - loss: 0.7520 - accuracy: 0.7320 - sensitivity_at_specificity: 0.9733 - specificity_at_sensitivity: 0.9810 - recall: 0.6682 - precision: 0.7847 - val_loss: 0.7576 - val_accuracy: 0.7309 - val_sensitivity_at_specificity: 0.9719 - val_specificity_at_sensitivity: 0.9818 - val_recall: 0.6444 - val_precision: 0.7962\n",
      "Epoch 21/50\n",
      "70/70 [==============================] - ETA: 0s - loss: 0.7518 - accuracy: 0.7307 - sensitivity_at_specificity: 0.9748 - specificity_at_sensitivity: 0.9810 - recall: 0.6590 - precision: 0.7883\n",
      "Epoch 21: val_accuracy did not improve from 0.73092\n",
      "70/70 [==============================] - 58s 825ms/step - loss: 0.7518 - accuracy: 0.7307 - sensitivity_at_specificity: 0.9748 - specificity_at_sensitivity: 0.9810 - recall: 0.6590 - precision: 0.7883 - val_loss: 0.7897 - val_accuracy: 0.7220 - val_sensitivity_at_specificity: 0.9651 - val_specificity_at_sensitivity: 0.9791 - val_recall: 0.6480 - val_precision: 0.7739\n",
      "Epoch 22/50\n",
      "70/70 [==============================] - ETA: 0s - loss: 0.7258 - accuracy: 0.7430 - sensitivity_at_specificity: 0.9788 - specificity_at_sensitivity: 0.9836 - recall: 0.6814 - precision: 0.7949\n",
      "Epoch 22: val_accuracy did not improve from 0.73092\n",
      "70/70 [==============================] - 58s 827ms/step - loss: 0.7258 - accuracy: 0.7430 - sensitivity_at_specificity: 0.9788 - specificity_at_sensitivity: 0.9836 - recall: 0.6814 - precision: 0.7949 - val_loss: 0.7733 - val_accuracy: 0.7217 - val_sensitivity_at_specificity: 0.9704 - val_specificity_at_sensitivity: 0.9801 - val_recall: 0.6509 - val_precision: 0.7715\n",
      "Epoch 23/50\n",
      "70/70 [==============================] - ETA: 0s - loss: 0.7260 - accuracy: 0.7405 - sensitivity_at_specificity: 0.9801 - specificity_at_sensitivity: 0.9834 - recall: 0.6776 - precision: 0.7957\n",
      "Epoch 23: val_accuracy did not improve from 0.73092\n",
      "70/70 [==============================] - 58s 827ms/step - loss: 0.7260 - accuracy: 0.7405 - sensitivity_at_specificity: 0.9801 - specificity_at_sensitivity: 0.9834 - recall: 0.6776 - precision: 0.7957 - val_loss: 0.7815 - val_accuracy: 0.7202 - val_sensitivity_at_specificity: 0.9732 - val_specificity_at_sensitivity: 0.9803 - val_recall: 0.6753 - val_precision: 0.7600\n",
      "Epoch 24/50\n",
      "70/70 [==============================] - ETA: 0s - loss: 0.7268 - accuracy: 0.7420 - sensitivity_at_specificity: 0.9788 - specificity_at_sensitivity: 0.9838 - recall: 0.6761 - precision: 0.7950\n",
      "Epoch 24: val_accuracy did not improve from 0.73092\n",
      "70/70 [==============================] - 58s 828ms/step - loss: 0.7268 - accuracy: 0.7420 - sensitivity_at_specificity: 0.9788 - specificity_at_sensitivity: 0.9838 - recall: 0.6761 - precision: 0.7950 - val_loss: 0.7841 - val_accuracy: 0.7149 - val_sensitivity_at_specificity: 0.9743 - val_specificity_at_sensitivity: 0.9801 - val_recall: 0.6735 - val_precision: 0.7604\n",
      "Epoch 25/50\n",
      "70/70 [==============================] - ETA: 0s - loss: 0.7210 - accuracy: 0.7401 - sensitivity_at_specificity: 0.9804 - specificity_at_sensitivity: 0.9839 - recall: 0.6779 - precision: 0.7978\n",
      "Epoch 25: val_accuracy improved from 0.73092 to 0.73302, saving model to ECG_Spectrogram_Model.h5\n",
      "70/70 [==============================] - 59s 837ms/step - loss: 0.7210 - accuracy: 0.7401 - sensitivity_at_specificity: 0.9804 - specificity_at_sensitivity: 0.9839 - recall: 0.6779 - precision: 0.7978 - val_loss: 0.7600 - val_accuracy: 0.7330 - val_sensitivity_at_specificity: 0.9732 - val_specificity_at_sensitivity: 0.9823 - val_recall: 0.6848 - val_precision: 0.7745\n",
      "Epoch 26/50\n",
      "70/70 [==============================] - ETA: 0s - loss: 0.7237 - accuracy: 0.7420 - sensitivity_at_specificity: 0.9801 - specificity_at_sensitivity: 0.9837 - recall: 0.6783 - precision: 0.7962\n",
      "Epoch 26: val_accuracy improved from 0.73302 to 0.73328, saving model to ECG_Spectrogram_Model.h5\n",
      "70/70 [==============================] - 59s 835ms/step - loss: 0.7237 - accuracy: 0.7420 - sensitivity_at_specificity: 0.9801 - specificity_at_sensitivity: 0.9837 - recall: 0.6783 - precision: 0.7962 - val_loss: 0.7468 - val_accuracy: 0.7333 - val_sensitivity_at_specificity: 0.9735 - val_specificity_at_sensitivity: 0.9828 - val_recall: 0.6769 - val_precision: 0.7812\n"
     ]
    },
    {
     "name": "stdout",
     "output_type": "stream",
     "text": [
      "Epoch 27/50\n",
      "70/70 [==============================] - ETA: 0s - loss: 0.7122 - accuracy: 0.7430 - sensitivity_at_specificity: 0.9808 - specificity_at_sensitivity: 0.9850 - recall: 0.6826 - precision: 0.7979\n",
      "Epoch 27: val_accuracy did not improve from 0.73328\n",
      "70/70 [==============================] - 58s 828ms/step - loss: 0.7122 - accuracy: 0.7430 - sensitivity_at_specificity: 0.9808 - specificity_at_sensitivity: 0.9850 - recall: 0.6826 - precision: 0.7979 - val_loss: 0.7678 - val_accuracy: 0.7257 - val_sensitivity_at_specificity: 0.9719 - val_specificity_at_sensitivity: 0.9826 - val_recall: 0.6800 - val_precision: 0.7690\n",
      "Epoch 28/50\n",
      "70/70 [==============================] - ETA: 0s - loss: 0.7123 - accuracy: 0.7459 - sensitivity_at_specificity: 0.9802 - specificity_at_sensitivity: 0.9841 - recall: 0.6829 - precision: 0.7981\n",
      "Epoch 28: val_accuracy did not improve from 0.73328\n",
      "70/70 [==============================] - 58s 826ms/step - loss: 0.7123 - accuracy: 0.7459 - sensitivity_at_specificity: 0.9802 - specificity_at_sensitivity: 0.9841 - recall: 0.6829 - precision: 0.7981 - val_loss: 0.7967 - val_accuracy: 0.7099 - val_sensitivity_at_specificity: 0.9685 - val_specificity_at_sensitivity: 0.9772 - val_recall: 0.6202 - val_precision: 0.7844\n",
      "Epoch 29/50\n",
      "70/70 [==============================] - ETA: 0s - loss: 0.7132 - accuracy: 0.7464 - sensitivity_at_specificity: 0.9796 - specificity_at_sensitivity: 0.9842 - recall: 0.6872 - precision: 0.7987\n",
      "Epoch 29: val_accuracy did not improve from 0.73328\n",
      "70/70 [==============================] - 58s 827ms/step - loss: 0.7132 - accuracy: 0.7464 - sensitivity_at_specificity: 0.9796 - specificity_at_sensitivity: 0.9842 - recall: 0.6872 - precision: 0.7987 - val_loss: 0.7775 - val_accuracy: 0.7215 - val_sensitivity_at_specificity: 0.9683 - val_specificity_at_sensitivity: 0.9797 - val_recall: 0.6688 - val_precision: 0.7630\n",
      "Epoch 30/50\n",
      "70/70 [==============================] - ETA: 0s - loss: 0.7064 - accuracy: 0.7447 - sensitivity_at_specificity: 0.9798 - specificity_at_sensitivity: 0.9852 - recall: 0.6890 - precision: 0.8007\n",
      "Epoch 30: val_accuracy did not improve from 0.73328\n",
      "70/70 [==============================] - 58s 826ms/step - loss: 0.7064 - accuracy: 0.7447 - sensitivity_at_specificity: 0.9798 - specificity_at_sensitivity: 0.9852 - recall: 0.6890 - precision: 0.8007 - val_loss: 0.7568 - val_accuracy: 0.7304 - val_sensitivity_at_specificity: 0.9722 - val_specificity_at_sensitivity: 0.9818 - val_recall: 0.6779 - val_precision: 0.7840\n",
      "Epoch 31/50\n",
      "70/70 [==============================] - ETA: 0s - loss: 0.7083 - accuracy: 0.7459 - sensitivity_at_specificity: 0.9796 - specificity_at_sensitivity: 0.9842 - recall: 0.6894 - precision: 0.8007\n",
      "Epoch 31: val_accuracy did not improve from 0.73328\n",
      "70/70 [==============================] - 58s 828ms/step - loss: 0.7083 - accuracy: 0.7459 - sensitivity_at_specificity: 0.9796 - specificity_at_sensitivity: 0.9842 - recall: 0.6894 - precision: 0.8007 - val_loss: 0.7544 - val_accuracy: 0.7322 - val_sensitivity_at_specificity: 0.9727 - val_specificity_at_sensitivity: 0.9822 - val_recall: 0.6890 - val_precision: 0.7731\n",
      "Epoch 32/50\n",
      "70/70 [==============================] - ETA: 0s - loss: 0.6975 - accuracy: 0.7528 - sensitivity_at_specificity: 0.9814 - specificity_at_sensitivity: 0.9854 - recall: 0.6937 - precision: 0.8056\n",
      "Epoch 32: val_accuracy did not improve from 0.73328\n",
      "70/70 [==============================] - 58s 826ms/step - loss: 0.6975 - accuracy: 0.7528 - sensitivity_at_specificity: 0.9814 - specificity_at_sensitivity: 0.9854 - recall: 0.6937 - precision: 0.8056 - val_loss: 0.7518 - val_accuracy: 0.7317 - val_sensitivity_at_specificity: 0.9725 - val_specificity_at_sensitivity: 0.9823 - val_recall: 0.6795 - val_precision: 0.7792\n",
      "Epoch 33/50\n",
      "70/70 [==============================] - ETA: 0s - loss: 0.6886 - accuracy: 0.7513 - sensitivity_at_specificity: 0.9807 - specificity_at_sensitivity: 0.9862 - recall: 0.6964 - precision: 0.8034\n",
      "Epoch 33: val_accuracy improved from 0.73328 to 0.73958, saving model to ECG_Spectrogram_Model.h5\n",
      "70/70 [==============================] - 58s 832ms/step - loss: 0.6886 - accuracy: 0.7513 - sensitivity_at_specificity: 0.9807 - specificity_at_sensitivity: 0.9862 - recall: 0.6964 - precision: 0.8034 - val_loss: 0.7481 - val_accuracy: 0.7396 - val_sensitivity_at_specificity: 0.9727 - val_specificity_at_sensitivity: 0.9822 - val_recall: 0.6832 - val_precision: 0.7828\n",
      "Epoch 34/50\n",
      "70/70 [==============================] - ETA: 0s - loss: 0.6902 - accuracy: 0.7560 - sensitivity_at_specificity: 0.9797 - specificity_at_sensitivity: 0.9863 - recall: 0.6966 - precision: 0.8054\n",
      "Epoch 34: val_accuracy did not improve from 0.73958\n",
      "70/70 [==============================] - 58s 825ms/step - loss: 0.6902 - accuracy: 0.7560 - sensitivity_at_specificity: 0.9797 - specificity_at_sensitivity: 0.9863 - recall: 0.6966 - precision: 0.8054 - val_loss: 0.7706 - val_accuracy: 0.7210 - val_sensitivity_at_specificity: 0.9722 - val_specificity_at_sensitivity: 0.9792 - val_recall: 0.6598 - val_precision: 0.7650\n",
      "Epoch 35/50\n",
      "70/70 [==============================] - ETA: 0s - loss: 0.6824 - accuracy: 0.7536 - sensitivity_at_specificity: 0.9841 - specificity_at_sensitivity: 0.9861 - recall: 0.6946 - precision: 0.8040\n",
      "Epoch 35: val_accuracy did not improve from 0.73958\n",
      "70/70 [==============================] - 58s 828ms/step - loss: 0.6824 - accuracy: 0.7536 - sensitivity_at_specificity: 0.9841 - specificity_at_sensitivity: 0.9861 - recall: 0.6946 - precision: 0.8040 - val_loss: 0.8228 - val_accuracy: 0.7071 - val_sensitivity_at_specificity: 0.9693 - val_specificity_at_sensitivity: 0.9746 - val_recall: 0.6205 - val_precision: 0.7714\n",
      "Epoch 36/50\n",
      "70/70 [==============================] - ETA: 0s - loss: 0.6782 - accuracy: 0.7590 - sensitivity_at_specificity: 0.9818 - specificity_at_sensitivity: 0.9865 - recall: 0.7001 - precision: 0.8067\n",
      "Epoch 36: val_accuracy did not improve from 0.73958\n",
      "70/70 [==============================] - 58s 828ms/step - loss: 0.6782 - accuracy: 0.7590 - sensitivity_at_specificity: 0.9818 - specificity_at_sensitivity: 0.9865 - recall: 0.7001 - precision: 0.8067 - val_loss: 0.7637 - val_accuracy: 0.7223 - val_sensitivity_at_specificity: 0.9717 - val_specificity_at_sensitivity: 0.9804 - val_recall: 0.6622 - val_precision: 0.7908\n",
      "Epoch 37/50\n",
      "70/70 [==============================] - ETA: 0s - loss: 0.6792 - accuracy: 0.7605 - sensitivity_at_specificity: 0.9814 - specificity_at_sensitivity: 0.9853 - recall: 0.7060 - precision: 0.8106\n",
      "Epoch 37: val_accuracy did not improve from 0.73958\n",
      "70/70 [==============================] - 58s 826ms/step - loss: 0.6792 - accuracy: 0.7605 - sensitivity_at_specificity: 0.9814 - specificity_at_sensitivity: 0.9853 - recall: 0.7060 - precision: 0.8106 - val_loss: 0.7622 - val_accuracy: 0.7299 - val_sensitivity_at_specificity: 0.9706 - val_specificity_at_sensitivity: 0.9809 - val_recall: 0.6612 - val_precision: 0.7817\n",
      "Epoch 38/50\n",
      "70/70 [==============================] - ETA: 0s - loss: 0.6773 - accuracy: 0.7566 - sensitivity_at_specificity: 0.9839 - specificity_at_sensitivity: 0.9868 - recall: 0.7050 - precision: 0.8076\n",
      "Epoch 38: val_accuracy did not improve from 0.73958\n",
      "70/70 [==============================] - 58s 827ms/step - loss: 0.6773 - accuracy: 0.7566 - sensitivity_at_specificity: 0.9839 - specificity_at_sensitivity: 0.9868 - recall: 0.7050 - precision: 0.8076 - val_loss: 0.7731 - val_accuracy: 0.7296 - val_sensitivity_at_specificity: 0.9646 - val_specificity_at_sensitivity: 0.9784 - val_recall: 0.6567 - val_precision: 0.7847\n",
      "Epoch 39/50\n",
      "70/70 [==============================] - ETA: 0s - loss: 0.6853 - accuracy: 0.7576 - sensitivity_at_specificity: 0.9840 - specificity_at_sensitivity: 0.9858 - recall: 0.6976 - precision: 0.8071\n",
      "Epoch 39: val_accuracy did not improve from 0.73958\n",
      "70/70 [==============================] - 58s 827ms/step - loss: 0.6853 - accuracy: 0.7576 - sensitivity_at_specificity: 0.9840 - specificity_at_sensitivity: 0.9858 - recall: 0.6976 - precision: 0.8071 - val_loss: 0.7866 - val_accuracy: 0.7194 - val_sensitivity_at_specificity: 0.9649 - val_specificity_at_sensitivity: 0.9791 - val_recall: 0.6509 - val_precision: 0.7778\n"
     ]
    },
    {
     "name": "stdout",
     "output_type": "stream",
     "text": [
      "Epoch 40/50\n",
      "70/70 [==============================] - ETA: 0s - loss: 0.6557 - accuracy: 0.7637 - sensitivity_at_specificity: 0.9865 - specificity_at_sensitivity: 0.9878 - recall: 0.7088 - precision: 0.8153\n",
      "Epoch 40: val_accuracy did not improve from 0.73958\n",
      "70/70 [==============================] - 58s 827ms/step - loss: 0.6557 - accuracy: 0.7637 - sensitivity_at_specificity: 0.9865 - specificity_at_sensitivity: 0.9878 - recall: 0.7088 - precision: 0.8153 - val_loss: 0.7949 - val_accuracy: 0.7215 - val_sensitivity_at_specificity: 0.9727 - val_specificity_at_sensitivity: 0.9798 - val_recall: 0.6874 - val_precision: 0.7569\n",
      "Epoch 41/50\n",
      "70/70 [==============================] - ETA: 0s - loss: 0.6828 - accuracy: 0.7599 - sensitivity_at_specificity: 0.9836 - specificity_at_sensitivity: 0.9850 - recall: 0.7005 - precision: 0.8098\n",
      "Epoch 41: val_accuracy did not improve from 0.73958\n",
      "70/70 [==============================] - 58s 827ms/step - loss: 0.6828 - accuracy: 0.7599 - sensitivity_at_specificity: 0.9836 - specificity_at_sensitivity: 0.9850 - recall: 0.7005 - precision: 0.8098 - val_loss: 0.9327 - val_accuracy: 0.6709 - val_sensitivity_at_specificity: 0.9515 - val_specificity_at_sensitivity: 0.9626 - val_recall: 0.6158 - val_precision: 0.7107\n",
      "Epoch 42/50\n",
      "70/70 [==============================] - ETA: 0s - loss: 0.6636 - accuracy: 0.7628 - sensitivity_at_specificity: 0.9846 - specificity_at_sensitivity: 0.9870 - recall: 0.7090 - precision: 0.8106\n",
      "Epoch 42: val_accuracy did not improve from 0.73958\n",
      "70/70 [==============================] - 58s 826ms/step - loss: 0.6636 - accuracy: 0.7628 - sensitivity_at_specificity: 0.9846 - specificity_at_sensitivity: 0.9870 - recall: 0.7090 - precision: 0.8106 - val_loss: 0.8218 - val_accuracy: 0.7052 - val_sensitivity_at_specificity: 0.9641 - val_specificity_at_sensitivity: 0.9744 - val_recall: 0.6391 - val_precision: 0.7613\n",
      "Epoch 43/50\n",
      "70/70 [==============================] - ETA: 0s - loss: 0.6486 - accuracy: 0.7718 - sensitivity_at_specificity: 0.9855 - specificity_at_sensitivity: 0.9879 - recall: 0.7170 - precision: 0.8134\n",
      "Epoch 43: val_accuracy did not improve from 0.73958\n",
      "70/70 [==============================] - 58s 824ms/step - loss: 0.6486 - accuracy: 0.7718 - sensitivity_at_specificity: 0.9855 - specificity_at_sensitivity: 0.9879 - recall: 0.7170 - precision: 0.8134 - val_loss: 0.8046 - val_accuracy: 0.7105 - val_sensitivity_at_specificity: 0.9633 - val_specificity_at_sensitivity: 0.9772 - val_recall: 0.6551 - val_precision: 0.7698\n",
      "Epoch 44/50\n",
      "70/70 [==============================] - ETA: 0s - loss: 0.6334 - accuracy: 0.7735 - sensitivity_at_specificity: 0.9863 - specificity_at_sensitivity: 0.9891 - recall: 0.7219 - precision: 0.8194\n",
      "Epoch 44: val_accuracy did not improve from 0.73958\n",
      "70/70 [==============================] - 58s 826ms/step - loss: 0.6334 - accuracy: 0.7735 - sensitivity_at_specificity: 0.9863 - specificity_at_sensitivity: 0.9891 - recall: 0.7219 - precision: 0.8194 - val_loss: 0.7741 - val_accuracy: 0.7228 - val_sensitivity_at_specificity: 0.9738 - val_specificity_at_sensitivity: 0.9792 - val_recall: 0.6651 - val_precision: 0.7734\n",
      "Epoch 45/50\n",
      "70/70 [==============================] - ETA: 0s - loss: 0.6536 - accuracy: 0.7642 - sensitivity_at_specificity: 0.9850 - specificity_at_sensitivity: 0.9873 - recall: 0.7118 - precision: 0.8091\n",
      "Epoch 45: val_accuracy did not improve from 0.73958\n",
      "70/70 [==============================] - 58s 826ms/step - loss: 0.6536 - accuracy: 0.7642 - sensitivity_at_specificity: 0.9850 - specificity_at_sensitivity: 0.9873 - recall: 0.7118 - precision: 0.8091 - val_loss: 0.7847 - val_accuracy: 0.7220 - val_sensitivity_at_specificity: 0.9685 - val_specificity_at_sensitivity: 0.9772 - val_recall: 0.6596 - val_precision: 0.7712\n",
      "Epoch 46/50\n",
      "70/70 [==============================] - ETA: 0s - loss: 0.6347 - accuracy: 0.7733 - sensitivity_at_specificity: 0.9841 - specificity_at_sensitivity: 0.9889 - recall: 0.7237 - precision: 0.8198\n",
      "Epoch 46: val_accuracy did not improve from 0.73958\n",
      "70/70 [==============================] - 58s 828ms/step - loss: 0.6347 - accuracy: 0.7733 - sensitivity_at_specificity: 0.9841 - specificity_at_sensitivity: 0.9889 - recall: 0.7237 - precision: 0.8198 - val_loss: 0.8008 - val_accuracy: 0.7139 - val_sensitivity_at_specificity: 0.9662 - val_specificity_at_sensitivity: 0.9761 - val_recall: 0.6376 - val_precision: 0.7777\n",
      "Epoch 47/50\n",
      "70/70 [==============================] - ETA: 0s - loss: 0.6503 - accuracy: 0.7699 - sensitivity_at_specificity: 0.9837 - specificity_at_sensitivity: 0.9870 - recall: 0.7174 - precision: 0.8196\n",
      "Epoch 47: val_accuracy did not improve from 0.73958\n",
      "70/70 [==============================] - 58s 826ms/step - loss: 0.6503 - accuracy: 0.7699 - sensitivity_at_specificity: 0.9837 - specificity_at_sensitivity: 0.9870 - recall: 0.7174 - precision: 0.8196 - val_loss: 0.7586 - val_accuracy: 0.7375 - val_sensitivity_at_specificity: 0.9735 - val_specificity_at_sensitivity: 0.9794 - val_recall: 0.6879 - val_precision: 0.7735\n",
      "Epoch 48/50\n",
      "70/70 [==============================] - ETA: 0s - loss: 0.6321 - accuracy: 0.7757 - sensitivity_at_specificity: 0.9885 - specificity_at_sensitivity: 0.9889 - recall: 0.7275 - precision: 0.8198\n",
      "Epoch 48: val_accuracy did not improve from 0.73958\n",
      "70/70 [==============================] - 58s 827ms/step - loss: 0.6321 - accuracy: 0.7757 - sensitivity_at_specificity: 0.9885 - specificity_at_sensitivity: 0.9889 - recall: 0.7275 - precision: 0.8198 - val_loss: 0.7863 - val_accuracy: 0.7217 - val_sensitivity_at_specificity: 0.9714 - val_specificity_at_sensitivity: 0.9797 - val_recall: 0.6622 - val_precision: 0.7776\n",
      "Epoch 49/50\n",
      "70/70 [==============================] - ETA: 0s - loss: 0.6219 - accuracy: 0.7781 - sensitivity_at_specificity: 0.9886 - specificity_at_sensitivity: 0.9893 - recall: 0.7293 - precision: 0.8221\n",
      "Epoch 49: val_accuracy did not improve from 0.73958\n",
      "70/70 [==============================] - 58s 827ms/step - loss: 0.6219 - accuracy: 0.7781 - sensitivity_at_specificity: 0.9886 - specificity_at_sensitivity: 0.9893 - recall: 0.7293 - precision: 0.8221 - val_loss: 0.9007 - val_accuracy: 0.6845 - val_sensitivity_at_specificity: 0.9591 - val_specificity_at_sensitivity: 0.9676 - val_recall: 0.6465 - val_precision: 0.7174\n",
      "Epoch 50/50\n",
      "70/70 [==============================] - ETA: 0s - loss: 0.6408 - accuracy: 0.7744 - sensitivity_at_specificity: 0.9883 - specificity_at_sensitivity: 0.9882 - recall: 0.7188 - precision: 0.8142\n",
      "Epoch 50: val_accuracy did not improve from 0.73958\n",
      "70/70 [==============================] - 58s 826ms/step - loss: 0.6408 - accuracy: 0.7744 - sensitivity_at_specificity: 0.9883 - specificity_at_sensitivity: 0.9882 - recall: 0.7188 - precision: 0.8142 - val_loss: 0.7967 - val_accuracy: 0.7322 - val_sensitivity_at_specificity: 0.9696 - val_specificity_at_sensitivity: 0.9805 - val_recall: 0.7005 - val_precision: 0.7686\n"
     ]
    }
   ],
   "source": [
    "# Fit the model\n",
    "from keras.callbacks import ModelCheckpoint, EarlyStopping\n",
    "\n",
    "checkpoint = ModelCheckpoint(\"ECG_Spectrogram_Model.h5\", monitor='val_accuracy', verbose=1, save_best_only=True, save_weights_only=False, mode='auto', period=1)\n",
    "history = model.fit(train_data, steps_per_epoch=len(train_data), epochs=50, validation_data=val_data, validation_steps=len(val_data),callbacks = [callbacks,checkpoint])"
   ]
  },
  {
   "cell_type": "code",
   "execution_count": 17,
   "id": "b7453ac9",
   "metadata": {},
   "outputs": [
    {
     "name": "stdout",
     "output_type": "stream",
     "text": [
      "Training Accuracy:  0.7305215001106262\n",
      "Validation Accuracy:  0.684688150882721\n",
      "Validation Specificity:  0.9713265299797058\n",
      "Validation Sensitivity:  0.9683336615562439\n",
      "Validation Recall:  0.6327476501464844\n",
      "Validation Precision:  0.7468982338905334\n",
      "Validation Loss:  0.8785406947135925\n"
     ]
    }
   ],
   "source": [
    "#Acquiring Performance metrics\n",
    "\n",
    "Training_Accuracy=history.history['accuracy']\n",
    "Validation_Accuracy=history.history['val_accuracy']\n",
    "Validation_Specificity=history.history['val_specificity_at_sensitivity']\n",
    "Validation_Sensitivity=history.history['val_sensitivity_at_specificity']\n",
    "Validation_Recall=history.history['val_recall']\n",
    "Validation_Precision=history.history['val_precision']\n",
    "Validation_Loss=history.history['val_loss']\n",
    "\n",
    "print(\"Training Accuracy: \",max(Training_Accuracy))\n",
    "print(\"Validation Accuracy: \",max(Validation_Accuracy))\n",
    "print(\"Validation Specificity: \",max(Validation_Specificity))\n",
    "print(\"Validation Sensitivity: \",max(Validation_Sensitivity))\n",
    "print(\"Validation Recall: \",max(Validation_Recall))\n",
    "print(\"Validation Precision: \",max(Validation_Precision))\n",
    "print(\"Validation Loss: \",min(Validation_Loss))"
   ]
  },
  {
   "cell_type": "code",
   "execution_count": null,
   "id": "6dd085b8",
   "metadata": {},
   "outputs": [],
   "source": []
  }
 ],
 "metadata": {
  "kernelspec": {
   "display_name": "Python 3 (ipykernel)",
   "language": "python",
   "name": "python3"
  },
  "language_info": {
   "codemirror_mode": {
    "name": "ipython",
    "version": 3
   },
   "file_extension": ".py",
   "mimetype": "text/x-python",
   "name": "python",
   "nbconvert_exporter": "python",
   "pygments_lexer": "ipython3",
   "version": "3.10.6"
  }
 },
 "nbformat": 4,
 "nbformat_minor": 5
}
