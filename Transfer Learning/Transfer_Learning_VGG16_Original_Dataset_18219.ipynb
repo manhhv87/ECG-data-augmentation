{
 "cells": [
  {
   "cell_type": "code",
   "execution_count": 1,
   "id": "e1e32307",
   "metadata": {},
   "outputs": [
    {
     "name": "stdout",
     "output_type": "stream",
     "text": [
      "2.9.1\n"
     ]
    }
   ],
   "source": [
    "#Tensorflow version\n",
    "\n",
    "import tensorflow as tf\n",
    "print(tf.__version__)"
   ]
  },
  {
   "cell_type": "code",
   "execution_count": 2,
   "id": "4b0746ad",
   "metadata": {},
   "outputs": [],
   "source": [
    "#Importing libraries\n",
    "\n",
    "import tensorflow as tf\n",
    "from tensorflow import keras\n",
    "from keras.layers import Input, Conv2D, Dense, Flatten, BatchNormalization, Dropout, MaxPooling2D, GlobalMaxPooling2D\n",
    "from keras.models import Model\n",
    "import matplotlib.pyplot as plt\n",
    "from keras.applications.efficientnet import EfficientNetB0\n",
    "from keras.preprocessing import image\n",
    "#from keras.preprocessing.image import load_img\n",
    "from keras.models import Sequential\n",
    "import numpy as np\n",
    "from tensorflow.keras import regularizers"
   ]
  },
  {
   "cell_type": "code",
   "execution_count": 3,
   "id": "aac05228",
   "metadata": {},
   "outputs": [],
   "source": [
    "#Datasets path\n",
    "\n",
    "#17000 samples original dataset\n",
    "\n",
    "train_dir='/home/ubuntu/From_Laptop/multi-class-NEW/12-Lead_ECG/12-Leads-Graphs/Training/'\n",
    "val_dir='/home/ubuntu/From_Laptop/multi-class-NEW/12-Lead_ECG/12-Leads-Graphs/Validation/'\n"
   ]
  },
  {
   "cell_type": "code",
   "execution_count": 4,
   "id": "b2f80645",
   "metadata": {},
   "outputs": [
    {
     "name": "stdout",
     "output_type": "stream",
     "text": [
      "Found 13040 files belonging to 5 classes.\n"
     ]
    },
    {
     "name": "stderr",
     "output_type": "stream",
     "text": [
      "2023-02-17 09:22:34.895969: I tensorflow/stream_executor/cuda/cuda_gpu_executor.cc:975] successful NUMA node read from SysFS had negative value (-1), but there must be at least one NUMA node, so returning NUMA node zero\n",
      "2023-02-17 09:22:34.986957: I tensorflow/stream_executor/cuda/cuda_gpu_executor.cc:975] successful NUMA node read from SysFS had negative value (-1), but there must be at least one NUMA node, so returning NUMA node zero\n",
      "2023-02-17 09:22:34.987273: I tensorflow/stream_executor/cuda/cuda_gpu_executor.cc:975] successful NUMA node read from SysFS had negative value (-1), but there must be at least one NUMA node, so returning NUMA node zero\n",
      "2023-02-17 09:22:35.018319: I tensorflow/core/platform/cpu_feature_guard.cc:193] This TensorFlow binary is optimized with oneAPI Deep Neural Network Library (oneDNN) to use the following CPU instructions in performance-critical operations:  AVX2 FMA\n",
      "To enable them in other operations, rebuild TensorFlow with the appropriate compiler flags.\n",
      "2023-02-17 09:22:35.018891: I tensorflow/stream_executor/cuda/cuda_gpu_executor.cc:975] successful NUMA node read from SysFS had negative value (-1), but there must be at least one NUMA node, so returning NUMA node zero\n",
      "2023-02-17 09:22:35.019217: I tensorflow/stream_executor/cuda/cuda_gpu_executor.cc:975] successful NUMA node read from SysFS had negative value (-1), but there must be at least one NUMA node, so returning NUMA node zero\n",
      "2023-02-17 09:22:35.019526: I tensorflow/stream_executor/cuda/cuda_gpu_executor.cc:975] successful NUMA node read from SysFS had negative value (-1), but there must be at least one NUMA node, so returning NUMA node zero\n",
      "2023-02-17 09:22:35.544234: I tensorflow/stream_executor/cuda/cuda_gpu_executor.cc:975] successful NUMA node read from SysFS had negative value (-1), but there must be at least one NUMA node, so returning NUMA node zero\n",
      "2023-02-17 09:22:35.544418: I tensorflow/stream_executor/cuda/cuda_gpu_executor.cc:975] successful NUMA node read from SysFS had negative value (-1), but there must be at least one NUMA node, so returning NUMA node zero\n",
      "2023-02-17 09:22:35.544558: I tensorflow/stream_executor/cuda/cuda_gpu_executor.cc:975] successful NUMA node read from SysFS had negative value (-1), but there must be at least one NUMA node, so returning NUMA node zero\n",
      "2023-02-17 09:22:35.544669: I tensorflow/core/common_runtime/gpu/gpu_device.cc:1532] Created device /job:localhost/replica:0/task:0/device:GPU:0 with 7380 MB memory:  -> device: 0, name: NVIDIA GeForce GTX 1080, pci bus id: 0000:00:05.0, compute capability: 6.1\n"
     ]
    },
    {
     "name": "stdout",
     "output_type": "stream",
     "text": [
      "Found 5179 files belonging to 5 classes.\n"
     ]
    }
   ],
   "source": [
    "from tensorflow.keras import layers\n",
    "\n",
    "train_data = tf.keras.preprocessing.image_dataset_from_directory(directory=train_dir,\n",
    "                                                                 image_size=(256,256),\n",
    "                                                                 label_mode='categorical', batch_size=128, \n",
    "                                                                 )\n",
    "val_data = tf.keras.preprocessing.image_dataset_from_directory(directory=val_dir,\n",
    "                                                                 image_size=(256,256),\n",
    "                                                                 label_mode='categorical', batch_size=128,\n",
    "                                                                )"
   ]
  },
  {
   "cell_type": "code",
   "execution_count": 5,
   "id": "ca75c58f-bfe9-48bc-8e3a-e9ed7abe3cdf",
   "metadata": {},
   "outputs": [],
   "source": [
    "#Normalization of the data\n",
    "\n",
    "nrmzln_layer = layers.experimental.preprocessing.Rescaling(1./255)\n",
    "\n",
    "train_data = train_data.map(lambda x,\n",
    "                          y: (nrmzln_layer(x), y))\n",
    "\n",
    "val_data = val_data.map(lambda x,\n",
    "                          y: (nrmzln_layer(x), y))"
   ]
  },
  {
   "cell_type": "code",
   "execution_count": 6,
   "id": "2007b247",
   "metadata": {},
   "outputs": [],
   "source": [
    "# Instantiate base_model with pre-trained weights\n",
    "\n",
    "#import tensorflow.python.keras.applications.VGG16\n",
    "\n",
    "base_model= tf.keras.applications.VGG16(weights= 'imagenet', input_shape=(256,256, 3), include_top=False) "
   ]
  },
  {
   "cell_type": "code",
   "execution_count": 7,
   "id": "3110cb3d",
   "metadata": {},
   "outputs": [],
   "source": [
    "# Freezing the base_model for transfer learning\n",
    "base_model.trainable= False"
   ]
  },
  {
   "cell_type": "code",
   "execution_count": 8,
   "id": "f9525074",
   "metadata": {},
   "outputs": [],
   "source": [
    "# Creating a new_model on the top\n",
    "inputs= tf.keras.Input(shape= (256, 256, 3), name=\"input_layer\")"
   ]
  },
  {
   "cell_type": "code",
   "execution_count": 9,
   "id": "f0e154d0",
   "metadata": {},
   "outputs": [],
   "source": [
    "x= base_model(inputs,training= False)"
   ]
  },
  {
   "cell_type": "code",
   "execution_count": 10,
   "id": "06eee106",
   "metadata": {},
   "outputs": [],
   "source": [
    "# Average pool the outputs of the base model\n",
    "x = tf.keras.layers.GlobalAveragePooling2D(name='Global_Average_Pooling_Layer')(x)"
   ]
  },
  {
   "cell_type": "code",
   "execution_count": 11,
   "id": "c97951c1",
   "metadata": {},
   "outputs": [],
   "source": [
    "# Output layer\n",
    "u = tf.keras.layers.Dense(1050, activation=\"relu\")(x)\n",
    "u = tf.keras.layers.Dense(512, activation=\"relu\")(u)\n",
    "u = tf.keras.layers.Dense(256, activation=\"relu\")(u)\n",
    "u = tf.keras.layers.Dense(128, activation=\"relu\")(u)\n",
    "outputs = tf.keras.layers.Dense(5, activation=\"softmax\",name=\"output_layer\")(u)"
   ]
  },
  {
   "cell_type": "code",
   "execution_count": 12,
   "id": "e15b01f3",
   "metadata": {},
   "outputs": [],
   "source": [
    "# Combine the model\n",
    "model = tf.keras.Model(inputs, outputs) "
   ]
  },
  {
   "cell_type": "code",
   "execution_count": 13,
   "id": "186a4092",
   "metadata": {},
   "outputs": [
    {
     "name": "stdout",
     "output_type": "stream",
     "text": [
      "Model: \"model\"\n",
      "_________________________________________________________________\n",
      " Layer (type)                Output Shape              Param #   \n",
      "=================================================================\n",
      " input_layer (InputLayer)    [(None, 256, 256, 3)]     0         \n",
      "                                                                 \n",
      " vgg16 (Functional)          (None, 8, 8, 512)         14714688  \n",
      "                                                                 \n",
      " Global_Average_Pooling_Laye  (None, 512)              0         \n",
      " r (GlobalAveragePooling2D)                                      \n",
      "                                                                 \n",
      " dense (Dense)               (None, 1050)              538650    \n",
      "                                                                 \n",
      " dense_1 (Dense)             (None, 512)               538112    \n",
      "                                                                 \n",
      " dense_2 (Dense)             (None, 256)               131328    \n",
      "                                                                 \n",
      " dense_3 (Dense)             (None, 128)               32896     \n",
      "                                                                 \n",
      " output_layer (Dense)        (None, 5)                 645       \n",
      "                                                                 \n",
      "=================================================================\n",
      "Total params: 15,956,319\n",
      "Trainable params: 1,241,631\n",
      "Non-trainable params: 14,714,688\n",
      "_________________________________________________________________\n"
     ]
    }
   ],
   "source": [
    "#printing model summary\n",
    "\n",
    "model.summary()"
   ]
  },
  {
   "cell_type": "code",
   "execution_count": 14,
   "id": "b07c7887",
   "metadata": {},
   "outputs": [],
   "source": [
    "# Compile the model\n",
    "\n",
    "from tensorflow.keras.metrics import SensitivityAtSpecificity,SpecificityAtSensitivity,Recall,Precision\n",
    "\n",
    "model.compile(loss= tf.losses.categorical_crossentropy, \n",
    "      optimizer = tf.keras.optimizers.Adam(learning_rate=0.001),\n",
    "              metrics=['accuracy',SensitivityAtSpecificity(0.5),SpecificityAtSensitivity(0.5),Recall(0.5),Precision(0.5)])"
   ]
  },
  {
   "cell_type": "code",
   "execution_count": 15,
   "id": "5105faca",
   "metadata": {},
   "outputs": [],
   "source": [
    "#callback\n",
    "\n",
    "class myCallback(tf.keras.callbacks.Callback):\n",
    "     def on_epoch_end(self, epoch, logs={}):\n",
    "        if(logs.get('val_accuracy')>0.99): \n",
    "          print(\"\\nReached 99% accuracy so cancelling training!\")\n",
    "          self.model.stop_training = True\n",
    "\n",
    "callbacks = myCallback()"
   ]
  },
  {
   "cell_type": "code",
   "execution_count": 16,
   "id": "595e70ba",
   "metadata": {
    "tags": []
   },
   "outputs": [
    {
     "name": "stdout",
     "output_type": "stream",
     "text": [
      "WARNING:tensorflow:`period` argument is deprecated. Please use `save_freq` to specify the frequency in number of batches seen.\n",
      "Epoch 1/50\n"
     ]
    },
    {
     "name": "stderr",
     "output_type": "stream",
     "text": [
      "2023-02-17 09:22:50.640491: I tensorflow/stream_executor/cuda/cuda_dnn.cc:384] Loaded cuDNN version 8100\n",
      "2023-02-17 09:22:51.185732: I tensorflow/core/platform/default/subprocess.cc:304] Start cannot spawn child process: No such file or directory\n"
     ]
    },
    {
     "name": "stdout",
     "output_type": "stream",
     "text": [
      "102/102 [==============================] - ETA: 0s - loss: 1.2747 - accuracy: 0.4777 - sensitivity_at_specificity: 0.8567 - specificity_at_sensitivity: 0.8636 - recall: 0.2151 - precision: 0.6408\n",
      "Epoch 1: val_accuracy improved from -inf to 0.53524, saving model to ECG_Spectrogram_Model.h5\n",
      "102/102 [==============================] - 105s 914ms/step - loss: 1.2747 - accuracy: 0.4777 - sensitivity_at_specificity: 0.8567 - specificity_at_sensitivity: 0.8636 - recall: 0.2151 - precision: 0.6408 - val_loss: 1.1584 - val_accuracy: 0.5352 - val_sensitivity_at_specificity: 0.9004 - val_specificity_at_sensitivity: 0.9004 - val_recall: 0.3698 - val_precision: 0.6467\n",
      "Epoch 2/50\n",
      "102/102 [==============================] - ETA: 0s - loss: 1.0747 - accuracy: 0.5699 - sensitivity_at_specificity: 0.9264 - specificity_at_sensitivity: 0.9266 - recall: 0.4102 - precision: 0.6949\n",
      "Epoch 2: val_accuracy improved from 0.53524 to 0.58293, saving model to ECG_Spectrogram_Model.h5\n",
      "102/102 [==============================] - 86s 840ms/step - loss: 1.0747 - accuracy: 0.5699 - sensitivity_at_specificity: 0.9264 - specificity_at_sensitivity: 0.9266 - recall: 0.4102 - precision: 0.6949 - val_loss: 1.0612 - val_accuracy: 0.5829 - val_sensitivity_at_specificity: 0.9289 - val_specificity_at_sensitivity: 0.9308 - val_recall: 0.4269 - val_precision: 0.7006\n",
      "Epoch 3/50\n",
      "102/102 [==============================] - ETA: 0s - loss: 1.0411 - accuracy: 0.5874 - sensitivity_at_specificity: 0.9429 - specificity_at_sensitivity: 0.9325 - recall: 0.4227 - precision: 0.7014\n",
      "Epoch 3: val_accuracy improved from 0.58293 to 0.58969, saving model to ECG_Spectrogram_Model.h5\n",
      "102/102 [==============================] - 86s 840ms/step - loss: 1.0411 - accuracy: 0.5874 - sensitivity_at_specificity: 0.9429 - specificity_at_sensitivity: 0.9325 - recall: 0.4227 - precision: 0.7014 - val_loss: 1.0223 - val_accuracy: 0.5897 - val_sensitivity_at_specificity: 0.9428 - val_specificity_at_sensitivity: 0.9368 - val_recall: 0.4422 - val_precision: 0.7072\n",
      "Epoch 4/50\n",
      "102/102 [==============================] - ETA: 0s - loss: 0.9883 - accuracy: 0.6051 - sensitivity_at_specificity: 0.9478 - specificity_at_sensitivity: 0.9424 - recall: 0.4596 - precision: 0.7141\n",
      "Epoch 4: val_accuracy did not improve from 0.58969\n",
      "102/102 [==============================] - 85s 835ms/step - loss: 0.9883 - accuracy: 0.6051 - sensitivity_at_specificity: 0.9478 - specificity_at_sensitivity: 0.9424 - recall: 0.4596 - precision: 0.7141 - val_loss: 1.0298 - val_accuracy: 0.5874 - val_sensitivity_at_specificity: 0.9450 - val_specificity_at_sensitivity: 0.9329 - val_recall: 0.4636 - val_precision: 0.6827\n",
      "Epoch 5/50\n",
      "102/102 [==============================] - ETA: 0s - loss: 0.9915 - accuracy: 0.6082 - sensitivity_at_specificity: 0.9466 - specificity_at_sensitivity: 0.9442 - recall: 0.4624 - precision: 0.7114\n",
      "Epoch 5: val_accuracy improved from 0.58969 to 0.61305, saving model to ECG_Spectrogram_Model.h5\n",
      "102/102 [==============================] - 86s 841ms/step - loss: 0.9915 - accuracy: 0.6082 - sensitivity_at_specificity: 0.9466 - specificity_at_sensitivity: 0.9442 - recall: 0.4624 - precision: 0.7114 - val_loss: 0.9846 - val_accuracy: 0.6131 - val_sensitivity_at_specificity: 0.9484 - val_specificity_at_sensitivity: 0.9473 - val_recall: 0.5159 - val_precision: 0.6933\n",
      "Epoch 6/50\n",
      "102/102 [==============================] - ETA: 0s - loss: 0.9591 - accuracy: 0.6256 - sensitivity_at_specificity: 0.9561 - specificity_at_sensitivity: 0.9515 - recall: 0.4923 - precision: 0.7244\n",
      "Epoch 6: val_accuracy improved from 0.61305 to 0.63873, saving model to ECG_Spectrogram_Model.h5\n",
      "102/102 [==============================] - 86s 840ms/step - loss: 0.9591 - accuracy: 0.6256 - sensitivity_at_specificity: 0.9561 - specificity_at_sensitivity: 0.9515 - recall: 0.4923 - precision: 0.7244 - val_loss: 0.9514 - val_accuracy: 0.6387 - val_sensitivity_at_specificity: 0.9519 - val_specificity_at_sensitivity: 0.9560 - val_recall: 0.5040 - val_precision: 0.7394\n",
      "Epoch 7/50\n",
      "102/102 [==============================] - ETA: 0s - loss: 0.9550 - accuracy: 0.6259 - sensitivity_at_specificity: 0.9583 - specificity_at_sensitivity: 0.9507 - recall: 0.4982 - precision: 0.7200\n",
      "Epoch 7: val_accuracy did not improve from 0.63873\n",
      "102/102 [==============================] - 85s 834ms/step - loss: 0.9550 - accuracy: 0.6259 - sensitivity_at_specificity: 0.9583 - specificity_at_sensitivity: 0.9507 - recall: 0.4982 - precision: 0.7200 - val_loss: 0.9795 - val_accuracy: 0.6200 - val_sensitivity_at_specificity: 0.9444 - val_specificity_at_sensitivity: 0.9463 - val_recall: 0.5258 - val_precision: 0.6862\n",
      "Epoch 8/50\n",
      "102/102 [==============================] - ETA: 0s - loss: 0.9465 - accuracy: 0.6329 - sensitivity_at_specificity: 0.9569 - specificity_at_sensitivity: 0.9521 - recall: 0.5051 - precision: 0.7218\n",
      "Epoch 8: val_accuracy did not improve from 0.63873\n",
      "102/102 [==============================] - 85s 834ms/step - loss: 0.9465 - accuracy: 0.6329 - sensitivity_at_specificity: 0.9569 - specificity_at_sensitivity: 0.9521 - recall: 0.5051 - precision: 0.7218 - val_loss: 0.9613 - val_accuracy: 0.6302 - val_sensitivity_at_specificity: 0.9533 - val_specificity_at_sensitivity: 0.9513 - val_recall: 0.5117 - val_precision: 0.7176\n",
      "Epoch 9/50\n",
      "102/102 [==============================] - ETA: 0s - loss: 0.9356 - accuracy: 0.6336 - sensitivity_at_specificity: 0.9574 - specificity_at_sensitivity: 0.9543 - recall: 0.5169 - precision: 0.7221\n",
      "Epoch 9: val_accuracy did not improve from 0.63873\n",
      "102/102 [==============================] - 82s 805ms/step - loss: 0.9356 - accuracy: 0.6336 - sensitivity_at_specificity: 0.9574 - specificity_at_sensitivity: 0.9543 - recall: 0.5169 - precision: 0.7221 - val_loss: 1.0255 - val_accuracy: 0.6173 - val_sensitivity_at_specificity: 0.9452 - val_specificity_at_sensitivity: 0.9509 - val_recall: 0.5379 - val_precision: 0.6898\n",
      "Epoch 10/50\n",
      "102/102 [==============================] - ETA: 0s - loss: 0.9316 - accuracy: 0.6373 - sensitivity_at_specificity: 0.9581 - specificity_at_sensitivity: 0.9560 - recall: 0.5200 - precision: 0.7294\n",
      "Epoch 10: val_accuracy improved from 0.63873 to 0.65070, saving model to ECG_Spectrogram_Model.h5\n",
      "102/102 [==============================] - 83s 813ms/step - loss: 0.9316 - accuracy: 0.6373 - sensitivity_at_specificity: 0.9581 - specificity_at_sensitivity: 0.9560 - recall: 0.5200 - precision: 0.7294 - val_loss: 0.9165 - val_accuracy: 0.6507 - val_sensitivity_at_specificity: 0.9548 - val_specificity_at_sensitivity: 0.9612 - val_recall: 0.5538 - val_precision: 0.7290\n",
      "Epoch 11/50\n",
      "102/102 [==============================] - ETA: 0s - loss: 0.9325 - accuracy: 0.6377 - sensitivity_at_specificity: 0.9558 - specificity_at_sensitivity: 0.9567 - recall: 0.5285 - precision: 0.7304\n",
      "Epoch 11: val_accuracy did not improve from 0.65070\n",
      "102/102 [==============================] - 82s 808ms/step - loss: 0.9325 - accuracy: 0.6377 - sensitivity_at_specificity: 0.9558 - specificity_at_sensitivity: 0.9567 - recall: 0.5285 - precision: 0.7304 - val_loss: 0.9398 - val_accuracy: 0.6401 - val_sensitivity_at_specificity: 0.9564 - val_specificity_at_sensitivity: 0.9590 - val_recall: 0.5648 - val_precision: 0.7081\n",
      "Epoch 12/50\n",
      "102/102 [==============================] - ETA: 0s - loss: 0.9174 - accuracy: 0.6460 - sensitivity_at_specificity: 0.9616 - specificity_at_sensitivity: 0.9574 - recall: 0.5329 - precision: 0.7279\n",
      "Epoch 12: val_accuracy did not improve from 0.65070\n",
      "102/102 [==============================] - 82s 808ms/step - loss: 0.9174 - accuracy: 0.6460 - sensitivity_at_specificity: 0.9616 - specificity_at_sensitivity: 0.9574 - recall: 0.5329 - precision: 0.7279 - val_loss: 0.9388 - val_accuracy: 0.6424 - val_sensitivity_at_specificity: 0.9575 - val_specificity_at_sensitivity: 0.9592 - val_recall: 0.5505 - val_precision: 0.7106\n",
      "Epoch 13/50\n",
      "102/102 [==============================] - ETA: 0s - loss: 0.9017 - accuracy: 0.6540 - sensitivity_at_specificity: 0.9631 - specificity_at_sensitivity: 0.9611 - recall: 0.5435 - precision: 0.7343\n",
      "Epoch 13: val_accuracy improved from 0.65070 to 0.65090, saving model to ECG_Spectrogram_Model.h5\n",
      "102/102 [==============================] - 83s 814ms/step - loss: 0.9017 - accuracy: 0.6540 - sensitivity_at_specificity: 0.9631 - specificity_at_sensitivity: 0.9611 - recall: 0.5435 - precision: 0.7343 - val_loss: 0.9120 - val_accuracy: 0.6509 - val_sensitivity_at_specificity: 0.9581 - val_specificity_at_sensitivity: 0.9610 - val_recall: 0.5517 - val_precision: 0.7260\n"
     ]
    },
    {
     "name": "stdout",
     "output_type": "stream",
     "text": [
      "Epoch 14/50\n",
      "102/102 [==============================] - ETA: 0s - loss: 0.8897 - accuracy: 0.6568 - sensitivity_at_specificity: 0.9663 - specificity_at_sensitivity: 0.9617 - recall: 0.5548 - precision: 0.7373\n",
      "Epoch 14: val_accuracy improved from 0.65090 to 0.65302, saving model to ECG_Spectrogram_Model.h5\n",
      "102/102 [==============================] - 83s 813ms/step - loss: 0.8897 - accuracy: 0.6568 - sensitivity_at_specificity: 0.9663 - specificity_at_sensitivity: 0.9617 - recall: 0.5548 - precision: 0.7373 - val_loss: 0.9136 - val_accuracy: 0.6530 - val_sensitivity_at_specificity: 0.9564 - val_specificity_at_sensitivity: 0.9629 - val_recall: 0.5495 - val_precision: 0.7350\n",
      "Epoch 15/50\n",
      "102/102 [==============================] - ETA: 0s - loss: 0.8903 - accuracy: 0.6566 - sensitivity_at_specificity: 0.9628 - specificity_at_sensitivity: 0.9622 - recall: 0.5525 - precision: 0.7377\n",
      "Epoch 15: val_accuracy improved from 0.65302 to 0.66017, saving model to ECG_Spectrogram_Model.h5\n",
      "102/102 [==============================] - 83s 815ms/step - loss: 0.8903 - accuracy: 0.6566 - sensitivity_at_specificity: 0.9628 - specificity_at_sensitivity: 0.9622 - recall: 0.5525 - precision: 0.7377 - val_loss: 0.8981 - val_accuracy: 0.6602 - val_sensitivity_at_specificity: 0.9602 - val_specificity_at_sensitivity: 0.9651 - val_recall: 0.5640 - val_precision: 0.7376\n",
      "Epoch 16/50\n",
      "102/102 [==============================] - ETA: 0s - loss: 0.8827 - accuracy: 0.6611 - sensitivity_at_specificity: 0.9667 - specificity_at_sensitivity: 0.9643 - recall: 0.5630 - precision: 0.7417\n",
      "Epoch 16: val_accuracy did not improve from 0.66017\n",
      "102/102 [==============================] - 82s 808ms/step - loss: 0.8827 - accuracy: 0.6611 - sensitivity_at_specificity: 0.9667 - specificity_at_sensitivity: 0.9643 - recall: 0.5630 - precision: 0.7417 - val_loss: 0.8922 - val_accuracy: 0.6563 - val_sensitivity_at_specificity: 0.9618 - val_specificity_at_sensitivity: 0.9668 - val_recall: 0.5600 - val_precision: 0.7413\n",
      "Epoch 17/50\n",
      "102/102 [==============================] - ETA: 0s - loss: 0.8773 - accuracy: 0.6592 - sensitivity_at_specificity: 0.9671 - specificity_at_sensitivity: 0.9644 - recall: 0.5591 - precision: 0.7410\n",
      "Epoch 17: val_accuracy did not improve from 0.66017\n",
      "102/102 [==============================] - 82s 805ms/step - loss: 0.8773 - accuracy: 0.6592 - sensitivity_at_specificity: 0.9671 - specificity_at_sensitivity: 0.9644 - recall: 0.5591 - precision: 0.7410 - val_loss: 0.9213 - val_accuracy: 0.6478 - val_sensitivity_at_specificity: 0.9589 - val_specificity_at_sensitivity: 0.9628 - val_recall: 0.5592 - val_precision: 0.7308\n",
      "Epoch 18/50\n",
      "102/102 [==============================] - ETA: 0s - loss: 0.8738 - accuracy: 0.6670 - sensitivity_at_specificity: 0.9683 - specificity_at_sensitivity: 0.9661 - recall: 0.5654 - precision: 0.7464\n",
      "Epoch 18: val_accuracy did not improve from 0.66017\n",
      "102/102 [==============================] - 82s 807ms/step - loss: 0.8738 - accuracy: 0.6670 - sensitivity_at_specificity: 0.9683 - specificity_at_sensitivity: 0.9661 - recall: 0.5654 - precision: 0.7464 - val_loss: 0.9217 - val_accuracy: 0.6555 - val_sensitivity_at_specificity: 0.9604 - val_specificity_at_sensitivity: 0.9652 - val_recall: 0.5856 - val_precision: 0.7218\n",
      "Epoch 19/50\n",
      "102/102 [==============================] - ETA: 0s - loss: 0.8771 - accuracy: 0.6651 - sensitivity_at_specificity: 0.9646 - specificity_at_sensitivity: 0.9651 - recall: 0.5640 - precision: 0.7468\n",
      "Epoch 19: val_accuracy did not improve from 0.66017\n",
      "102/102 [==============================] - 82s 808ms/step - loss: 0.8771 - accuracy: 0.6651 - sensitivity_at_specificity: 0.9646 - specificity_at_sensitivity: 0.9651 - recall: 0.5640 - precision: 0.7468 - val_loss: 0.9239 - val_accuracy: 0.6499 - val_sensitivity_at_specificity: 0.9558 - val_specificity_at_sensitivity: 0.9632 - val_recall: 0.5766 - val_precision: 0.7242\n",
      "Epoch 20/50\n",
      "102/102 [==============================] - ETA: 0s - loss: 0.8663 - accuracy: 0.6664 - sensitivity_at_specificity: 0.9679 - specificity_at_sensitivity: 0.9667 - recall: 0.5692 - precision: 0.7435\n",
      "Epoch 20: val_accuracy did not improve from 0.66017\n",
      "102/102 [==============================] - 82s 808ms/step - loss: 0.8663 - accuracy: 0.6664 - sensitivity_at_specificity: 0.9679 - specificity_at_sensitivity: 0.9667 - recall: 0.5692 - precision: 0.7435 - val_loss: 0.9468 - val_accuracy: 0.6449 - val_sensitivity_at_specificity: 0.9562 - val_specificity_at_sensitivity: 0.9603 - val_recall: 0.5742 - val_precision: 0.7059\n",
      "Epoch 21/50\n",
      "102/102 [==============================] - ETA: 0s - loss: 0.8586 - accuracy: 0.6711 - sensitivity_at_specificity: 0.9672 - specificity_at_sensitivity: 0.9673 - recall: 0.5766 - precision: 0.7475\n",
      "Epoch 21: val_accuracy improved from 0.66017 to 0.67233, saving model to ECG_Spectrogram_Model.h5\n",
      "102/102 [==============================] - 83s 813ms/step - loss: 0.8586 - accuracy: 0.6711 - sensitivity_at_specificity: 0.9672 - specificity_at_sensitivity: 0.9673 - recall: 0.5766 - precision: 0.7475 - val_loss: 0.8814 - val_accuracy: 0.6723 - val_sensitivity_at_specificity: 0.9606 - val_specificity_at_sensitivity: 0.9687 - val_recall: 0.5957 - val_precision: 0.7307\n",
      "Epoch 22/50\n",
      "102/102 [==============================] - ETA: 0s - loss: 0.8497 - accuracy: 0.6763 - sensitivity_at_specificity: 0.9709 - specificity_at_sensitivity: 0.9695 - recall: 0.5847 - precision: 0.7493\n",
      "Epoch 22: val_accuracy did not improve from 0.67233\n",
      "102/102 [==============================] - 82s 805ms/step - loss: 0.8497 - accuracy: 0.6763 - sensitivity_at_specificity: 0.9709 - specificity_at_sensitivity: 0.9695 - recall: 0.5847 - precision: 0.7493 - val_loss: 0.9073 - val_accuracy: 0.6642 - val_sensitivity_at_specificity: 0.9556 - val_specificity_at_sensitivity: 0.9667 - val_recall: 0.5881 - val_precision: 0.7313\n",
      "Epoch 23/50\n",
      "102/102 [==============================] - ETA: 0s - loss: 0.8495 - accuracy: 0.6771 - sensitivity_at_specificity: 0.9731 - specificity_at_sensitivity: 0.9680 - recall: 0.5833 - precision: 0.7540\n",
      "Epoch 23: val_accuracy did not improve from 0.67233\n",
      "102/102 [==============================] - 82s 807ms/step - loss: 0.8495 - accuracy: 0.6771 - sensitivity_at_specificity: 0.9731 - specificity_at_sensitivity: 0.9680 - recall: 0.5833 - precision: 0.7540 - val_loss: 0.9262 - val_accuracy: 0.6550 - val_sensitivity_at_specificity: 0.9571 - val_specificity_at_sensitivity: 0.9593 - val_recall: 0.5420 - val_precision: 0.7333\n",
      "Epoch 24/50\n",
      "102/102 [==============================] - ETA: 0s - loss: 0.8464 - accuracy: 0.6794 - sensitivity_at_specificity: 0.9723 - specificity_at_sensitivity: 0.9678 - recall: 0.5823 - precision: 0.7487\n",
      "Epoch 24: val_accuracy did not improve from 0.67233\n",
      "102/102 [==============================] - 82s 804ms/step - loss: 0.8464 - accuracy: 0.6794 - sensitivity_at_specificity: 0.9723 - specificity_at_sensitivity: 0.9678 - recall: 0.5823 - precision: 0.7487 - val_loss: 0.8977 - val_accuracy: 0.6689 - val_sensitivity_at_specificity: 0.9558 - val_specificity_at_sensitivity: 0.9656 - val_recall: 0.5860 - val_precision: 0.7390\n",
      "Epoch 25/50\n",
      "102/102 [==============================] - ETA: 0s - loss: 0.8517 - accuracy: 0.6742 - sensitivity_at_specificity: 0.9701 - specificity_at_sensitivity: 0.9685 - recall: 0.5845 - precision: 0.7506\n",
      "Epoch 25: val_accuracy did not improve from 0.67233\n",
      "102/102 [==============================] - 82s 807ms/step - loss: 0.8517 - accuracy: 0.6742 - sensitivity_at_specificity: 0.9701 - specificity_at_sensitivity: 0.9685 - recall: 0.5845 - precision: 0.7506 - val_loss: 0.9357 - val_accuracy: 0.6482 - val_sensitivity_at_specificity: 0.9571 - val_specificity_at_sensitivity: 0.9600 - val_recall: 0.5598 - val_precision: 0.7206\n",
      "Epoch 26/50\n",
      "102/102 [==============================] - ETA: 0s - loss: 0.8458 - accuracy: 0.6795 - sensitivity_at_specificity: 0.9717 - specificity_at_sensitivity: 0.9680 - recall: 0.5837 - precision: 0.7520\n",
      "Epoch 26: val_accuracy did not improve from 0.67233\n",
      "102/102 [==============================] - 82s 808ms/step - loss: 0.8458 - accuracy: 0.6795 - sensitivity_at_specificity: 0.9717 - specificity_at_sensitivity: 0.9680 - recall: 0.5837 - precision: 0.7520 - val_loss: 0.9530 - val_accuracy: 0.6382 - val_sensitivity_at_specificity: 0.9562 - val_specificity_at_sensitivity: 0.9545 - val_recall: 0.5623 - val_precision: 0.6997\n"
     ]
    },
    {
     "name": "stdout",
     "output_type": "stream",
     "text": [
      "Epoch 27/50\n",
      "102/102 [==============================] - ETA: 0s - loss: 0.8329 - accuracy: 0.6838 - sensitivity_at_specificity: 0.9722 - specificity_at_sensitivity: 0.9698 - recall: 0.5932 - precision: 0.7531\n",
      "Epoch 27: val_accuracy did not improve from 0.67233\n",
      "102/102 [==============================] - 82s 807ms/step - loss: 0.8329 - accuracy: 0.6838 - sensitivity_at_specificity: 0.9722 - specificity_at_sensitivity: 0.9698 - recall: 0.5932 - precision: 0.7531 - val_loss: 0.9032 - val_accuracy: 0.6646 - val_sensitivity_at_specificity: 0.9577 - val_specificity_at_sensitivity: 0.9661 - val_recall: 0.5943 - val_precision: 0.7344\n",
      "Epoch 28/50\n",
      "102/102 [==============================] - ETA: 0s - loss: 0.8309 - accuracy: 0.6803 - sensitivity_at_specificity: 0.9729 - specificity_at_sensitivity: 0.9704 - recall: 0.5888 - precision: 0.7531\n",
      "Epoch 28: val_accuracy did not improve from 0.67233\n",
      "102/102 [==============================] - 82s 808ms/step - loss: 0.8309 - accuracy: 0.6803 - sensitivity_at_specificity: 0.9729 - specificity_at_sensitivity: 0.9704 - recall: 0.5888 - precision: 0.7531 - val_loss: 0.9174 - val_accuracy: 0.6617 - val_sensitivity_at_specificity: 0.9581 - val_specificity_at_sensitivity: 0.9665 - val_recall: 0.5990 - val_precision: 0.7181\n",
      "Epoch 29/50\n",
      "102/102 [==============================] - ETA: 0s - loss: 0.8359 - accuracy: 0.6818 - sensitivity_at_specificity: 0.9714 - specificity_at_sensitivity: 0.9692 - recall: 0.5934 - precision: 0.7532\n",
      "Epoch 29: val_accuracy did not improve from 0.67233\n",
      "102/102 [==============================] - 82s 808ms/step - loss: 0.8359 - accuracy: 0.6818 - sensitivity_at_specificity: 0.9714 - specificity_at_sensitivity: 0.9692 - recall: 0.5934 - precision: 0.7532 - val_loss: 0.9309 - val_accuracy: 0.6578 - val_sensitivity_at_specificity: 0.9533 - val_specificity_at_sensitivity: 0.9664 - val_recall: 0.5876 - val_precision: 0.7204\n",
      "Epoch 30/50\n",
      "102/102 [==============================] - ETA: 0s - loss: 0.8229 - accuracy: 0.6858 - sensitivity_at_specificity: 0.9717 - specificity_at_sensitivity: 0.9718 - recall: 0.5955 - precision: 0.7589\n",
      "Epoch 30: val_accuracy did not improve from 0.67233\n",
      "102/102 [==============================] - 82s 807ms/step - loss: 0.8229 - accuracy: 0.6858 - sensitivity_at_specificity: 0.9717 - specificity_at_sensitivity: 0.9718 - recall: 0.5955 - precision: 0.7589 - val_loss: 0.9015 - val_accuracy: 0.6683 - val_sensitivity_at_specificity: 0.9564 - val_specificity_at_sensitivity: 0.9678 - val_recall: 0.5893 - val_precision: 0.7358\n",
      "Epoch 31/50\n",
      "102/102 [==============================] - ETA: 0s - loss: 0.8125 - accuracy: 0.6916 - sensitivity_at_specificity: 0.9763 - specificity_at_sensitivity: 0.9733 - recall: 0.6051 - precision: 0.7628\n",
      "Epoch 31: val_accuracy did not improve from 0.67233\n",
      "102/102 [==============================] - 82s 805ms/step - loss: 0.8125 - accuracy: 0.6916 - sensitivity_at_specificity: 0.9763 - specificity_at_sensitivity: 0.9733 - recall: 0.6051 - precision: 0.7628 - val_loss: 0.8813 - val_accuracy: 0.6719 - val_sensitivity_at_specificity: 0.9618 - val_specificity_at_sensitivity: 0.9682 - val_recall: 0.5812 - val_precision: 0.7469\n",
      "Epoch 32/50\n",
      "102/102 [==============================] - ETA: 0s - loss: 0.8085 - accuracy: 0.6956 - sensitivity_at_specificity: 0.9771 - specificity_at_sensitivity: 0.9728 - recall: 0.6041 - precision: 0.7614\n",
      "Epoch 32: val_accuracy improved from 0.67233 to 0.67561, saving model to ECG_Spectrogram_Model.h5\n",
      "102/102 [==============================] - 83s 814ms/step - loss: 0.8085 - accuracy: 0.6956 - sensitivity_at_specificity: 0.9771 - specificity_at_sensitivity: 0.9728 - recall: 0.6041 - precision: 0.7614 - val_loss: 0.8864 - val_accuracy: 0.6756 - val_sensitivity_at_specificity: 0.9577 - val_specificity_at_sensitivity: 0.9668 - val_recall: 0.5742 - val_precision: 0.7433\n",
      "Epoch 33/50\n",
      "102/102 [==============================] - ETA: 0s - loss: 0.8203 - accuracy: 0.6870 - sensitivity_at_specificity: 0.9765 - specificity_at_sensitivity: 0.9713 - recall: 0.6017 - precision: 0.7521\n",
      "Epoch 33: val_accuracy did not improve from 0.67561\n",
      "102/102 [==============================] - 83s 809ms/step - loss: 0.8203 - accuracy: 0.6870 - sensitivity_at_specificity: 0.9765 - specificity_at_sensitivity: 0.9713 - recall: 0.6017 - precision: 0.7521 - val_loss: 0.9176 - val_accuracy: 0.6563 - val_sensitivity_at_specificity: 0.9577 - val_specificity_at_sensitivity: 0.9645 - val_recall: 0.5880 - val_precision: 0.7187\n",
      "Epoch 34/50\n",
      "102/102 [==============================] - ETA: 0s - loss: 0.7959 - accuracy: 0.6954 - sensitivity_at_specificity: 0.9775 - specificity_at_sensitivity: 0.9738 - recall: 0.6130 - precision: 0.7637\n",
      "Epoch 34: val_accuracy did not improve from 0.67561\n",
      "102/102 [==============================] - 83s 809ms/step - loss: 0.7959 - accuracy: 0.6954 - sensitivity_at_specificity: 0.9775 - specificity_at_sensitivity: 0.9738 - recall: 0.6130 - precision: 0.7637 - val_loss: 0.9366 - val_accuracy: 0.6519 - val_sensitivity_at_specificity: 0.9579 - val_specificity_at_sensitivity: 0.9607 - val_recall: 0.5648 - val_precision: 0.7148\n",
      "Epoch 35/50\n",
      "102/102 [==============================] - ETA: 0s - loss: 0.7947 - accuracy: 0.6989 - sensitivity_at_specificity: 0.9762 - specificity_at_sensitivity: 0.9750 - recall: 0.6117 - precision: 0.7649\n",
      "Epoch 35: val_accuracy did not improve from 0.67561\n",
      "102/102 [==============================] - 82s 808ms/step - loss: 0.7947 - accuracy: 0.6989 - sensitivity_at_specificity: 0.9762 - specificity_at_sensitivity: 0.9750 - recall: 0.6117 - precision: 0.7649 - val_loss: 0.8991 - val_accuracy: 0.6667 - val_sensitivity_at_specificity: 0.9567 - val_specificity_at_sensitivity: 0.9665 - val_recall: 0.5779 - val_precision: 0.7456\n",
      "Epoch 36/50\n",
      "102/102 [==============================] - ETA: 0s - loss: 0.8030 - accuracy: 0.6948 - sensitivity_at_specificity: 0.9768 - specificity_at_sensitivity: 0.9733 - recall: 0.6130 - precision: 0.7639\n",
      "Epoch 36: val_accuracy did not improve from 0.67561\n",
      "102/102 [==============================] - 83s 809ms/step - loss: 0.8030 - accuracy: 0.6948 - sensitivity_at_specificity: 0.9768 - specificity_at_sensitivity: 0.9733 - recall: 0.6130 - precision: 0.7639 - val_loss: 0.9275 - val_accuracy: 0.6683 - val_sensitivity_at_specificity: 0.9558 - val_specificity_at_sensitivity: 0.9641 - val_recall: 0.5949 - val_precision: 0.7265\n",
      "Epoch 37/50\n",
      "102/102 [==============================] - ETA: 0s - loss: 0.7783 - accuracy: 0.7041 - sensitivity_at_specificity: 0.9802 - specificity_at_sensitivity: 0.9758 - recall: 0.6245 - precision: 0.7682\n",
      "Epoch 37: val_accuracy improved from 0.67561 to 0.67581, saving model to ECG_Spectrogram_Model.h5\n",
      "102/102 [==============================] - 83s 817ms/step - loss: 0.7783 - accuracy: 0.7041 - sensitivity_at_specificity: 0.9802 - specificity_at_sensitivity: 0.9758 - recall: 0.6245 - precision: 0.7682 - val_loss: 0.8785 - val_accuracy: 0.6758 - val_sensitivity_at_specificity: 0.9583 - val_specificity_at_sensitivity: 0.9693 - val_recall: 0.6036 - val_precision: 0.7367\n",
      "Epoch 38/50\n",
      "102/102 [==============================] - ETA: 0s - loss: 0.7894 - accuracy: 0.6970 - sensitivity_at_specificity: 0.9799 - specificity_at_sensitivity: 0.9744 - recall: 0.6209 - precision: 0.7639\n",
      "Epoch 38: val_accuracy did not improve from 0.67581\n",
      "102/102 [==============================] - 82s 808ms/step - loss: 0.7894 - accuracy: 0.6970 - sensitivity_at_specificity: 0.9799 - specificity_at_sensitivity: 0.9744 - recall: 0.6209 - precision: 0.7639 - val_loss: 0.8939 - val_accuracy: 0.6718 - val_sensitivity_at_specificity: 0.9625 - val_specificity_at_sensitivity: 0.9704 - val_recall: 0.6192 - val_precision: 0.7257\n",
      "Epoch 39/50\n",
      "102/102 [==============================] - ETA: 0s - loss: 0.7638 - accuracy: 0.7133 - sensitivity_at_specificity: 0.9793 - specificity_at_sensitivity: 0.9784 - recall: 0.6363 - precision: 0.7768\n",
      "Epoch 39: val_accuracy improved from 0.67581 to 0.67851, saving model to ECG_Spectrogram_Model.h5\n",
      "102/102 [==============================] - 83s 815ms/step - loss: 0.7638 - accuracy: 0.7133 - sensitivity_at_specificity: 0.9793 - specificity_at_sensitivity: 0.9784 - recall: 0.6363 - precision: 0.7768 - val_loss: 0.8855 - val_accuracy: 0.6785 - val_sensitivity_at_specificity: 0.9622 - val_specificity_at_sensitivity: 0.9692 - val_recall: 0.6244 - val_precision: 0.7225\n"
     ]
    },
    {
     "name": "stdout",
     "output_type": "stream",
     "text": [
      "Epoch 40/50\n",
      "102/102 [==============================] - ETA: 0s - loss: 0.7733 - accuracy: 0.7067 - sensitivity_at_specificity: 0.9801 - specificity_at_sensitivity: 0.9770 - recall: 0.6260 - precision: 0.7713\n",
      "Epoch 40: val_accuracy did not improve from 0.67851\n",
      "102/102 [==============================] - 82s 807ms/step - loss: 0.7733 - accuracy: 0.7067 - sensitivity_at_specificity: 0.9801 - specificity_at_sensitivity: 0.9770 - recall: 0.6260 - precision: 0.7713 - val_loss: 0.8904 - val_accuracy: 0.6648 - val_sensitivity_at_specificity: 0.9683 - val_specificity_at_sensitivity: 0.9643 - val_recall: 0.6032 - val_precision: 0.7167\n",
      "Epoch 41/50\n",
      "102/102 [==============================] - ETA: 0s - loss: 0.7625 - accuracy: 0.7080 - sensitivity_at_specificity: 0.9825 - specificity_at_sensitivity: 0.9768 - recall: 0.6324 - precision: 0.7717\n",
      "Epoch 41: val_accuracy did not improve from 0.67851\n",
      "102/102 [==============================] - 82s 807ms/step - loss: 0.7625 - accuracy: 0.7080 - sensitivity_at_specificity: 0.9825 - specificity_at_sensitivity: 0.9768 - recall: 0.6324 - precision: 0.7717 - val_loss: 0.9207 - val_accuracy: 0.6648 - val_sensitivity_at_specificity: 0.9577 - val_specificity_at_sensitivity: 0.9637 - val_recall: 0.6046 - val_precision: 0.7139\n",
      "Epoch 42/50\n",
      "102/102 [==============================] - ETA: 0s - loss: 0.7741 - accuracy: 0.7071 - sensitivity_at_specificity: 0.9794 - specificity_at_sensitivity: 0.9758 - recall: 0.6256 - precision: 0.7667\n",
      "Epoch 42: val_accuracy did not improve from 0.67851\n",
      "102/102 [==============================] - 82s 808ms/step - loss: 0.7741 - accuracy: 0.7071 - sensitivity_at_specificity: 0.9794 - specificity_at_sensitivity: 0.9758 - recall: 0.6256 - precision: 0.7667 - val_loss: 0.8927 - val_accuracy: 0.6754 - val_sensitivity_at_specificity: 0.9668 - val_specificity_at_sensitivity: 0.9703 - val_recall: 0.6185 - val_precision: 0.7296\n",
      "Epoch 43/50\n",
      "102/102 [==============================] - ETA: 0s - loss: 0.7646 - accuracy: 0.7081 - sensitivity_at_specificity: 0.9794 - specificity_at_sensitivity: 0.9779 - recall: 0.6287 - precision: 0.7750\n",
      "Epoch 43: val_accuracy did not improve from 0.67851\n",
      "102/102 [==============================] - 82s 808ms/step - loss: 0.7646 - accuracy: 0.7081 - sensitivity_at_specificity: 0.9794 - specificity_at_sensitivity: 0.9779 - recall: 0.6287 - precision: 0.7750 - val_loss: 0.9147 - val_accuracy: 0.6665 - val_sensitivity_at_specificity: 0.9604 - val_specificity_at_sensitivity: 0.9697 - val_recall: 0.6123 - val_precision: 0.7246\n",
      "Epoch 44/50\n",
      "102/102 [==============================] - ETA: 0s - loss: 0.7550 - accuracy: 0.7132 - sensitivity_at_specificity: 0.9840 - specificity_at_sensitivity: 0.9780 - recall: 0.6400 - precision: 0.7734\n",
      "Epoch 44: val_accuracy did not improve from 0.67851\n",
      "102/102 [==============================] - 82s 808ms/step - loss: 0.7550 - accuracy: 0.7132 - sensitivity_at_specificity: 0.9840 - specificity_at_sensitivity: 0.9780 - recall: 0.6400 - precision: 0.7734 - val_loss: 0.9385 - val_accuracy: 0.6633 - val_sensitivity_at_specificity: 0.9527 - val_specificity_at_sensitivity: 0.9623 - val_recall: 0.5656 - val_precision: 0.7354\n",
      "Epoch 45/50\n",
      "102/102 [==============================] - ETA: 0s - loss: 0.7378 - accuracy: 0.7183 - sensitivity_at_specificity: 0.9850 - specificity_at_sensitivity: 0.9799 - recall: 0.6479 - precision: 0.7816\n",
      "Epoch 45: val_accuracy did not improve from 0.67851\n",
      "102/102 [==============================] - 82s 807ms/step - loss: 0.7378 - accuracy: 0.7183 - sensitivity_at_specificity: 0.9850 - specificity_at_sensitivity: 0.9799 - recall: 0.6479 - precision: 0.7816 - val_loss: 0.9429 - val_accuracy: 0.6743 - val_sensitivity_at_specificity: 0.9533 - val_specificity_at_sensitivity: 0.9663 - val_recall: 0.6198 - val_precision: 0.7154\n",
      "Epoch 46/50\n",
      "102/102 [==============================] - ETA: 0s - loss: 0.7386 - accuracy: 0.7168 - sensitivity_at_specificity: 0.9847 - specificity_at_sensitivity: 0.9788 - recall: 0.6459 - precision: 0.7820\n",
      "Epoch 46: val_accuracy did not improve from 0.67851\n",
      "102/102 [==============================] - 82s 808ms/step - loss: 0.7386 - accuracy: 0.7168 - sensitivity_at_specificity: 0.9847 - specificity_at_sensitivity: 0.9788 - recall: 0.6459 - precision: 0.7820 - val_loss: 0.9220 - val_accuracy: 0.6671 - val_sensitivity_at_specificity: 0.9566 - val_specificity_at_sensitivity: 0.9675 - val_recall: 0.6115 - val_precision: 0.7249\n",
      "Epoch 47/50\n",
      "102/102 [==============================] - ETA: 0s - loss: 0.7286 - accuracy: 0.7229 - sensitivity_at_specificity: 0.9841 - specificity_at_sensitivity: 0.9802 - recall: 0.6532 - precision: 0.7807\n",
      "Epoch 47: val_accuracy did not improve from 0.67851\n",
      "102/102 [==============================] - 82s 807ms/step - loss: 0.7286 - accuracy: 0.7229 - sensitivity_at_specificity: 0.9841 - specificity_at_sensitivity: 0.9802 - recall: 0.6532 - precision: 0.7807 - val_loss: 0.9123 - val_accuracy: 0.6687 - val_sensitivity_at_specificity: 0.9610 - val_specificity_at_sensitivity: 0.9633 - val_recall: 0.5997 - val_precision: 0.7210\n",
      "Epoch 48/50\n",
      "102/102 [==============================] - ETA: 0s - loss: 0.7225 - accuracy: 0.7242 - sensitivity_at_specificity: 0.9846 - specificity_at_sensitivity: 0.9805 - recall: 0.6568 - precision: 0.7851\n",
      "Epoch 48: val_accuracy improved from 0.67851 to 0.67890, saving model to ECG_Spectrogram_Model.h5\n",
      "102/102 [==============================] - 83s 813ms/step - loss: 0.7225 - accuracy: 0.7242 - sensitivity_at_specificity: 0.9846 - specificity_at_sensitivity: 0.9805 - recall: 0.6568 - precision: 0.7851 - val_loss: 0.9031 - val_accuracy: 0.6789 - val_sensitivity_at_specificity: 0.9566 - val_specificity_at_sensitivity: 0.9694 - val_recall: 0.6285 - val_precision: 0.7351\n",
      "Epoch 49/50\n",
      "102/102 [==============================] - ETA: 0s - loss: 0.7226 - accuracy: 0.7261 - sensitivity_at_specificity: 0.9834 - specificity_at_sensitivity: 0.9813 - recall: 0.6564 - precision: 0.7843\n",
      "Epoch 49: val_accuracy did not improve from 0.67890\n",
      "102/102 [==============================] - 82s 805ms/step - loss: 0.7226 - accuracy: 0.7261 - sensitivity_at_specificity: 0.9834 - specificity_at_sensitivity: 0.9813 - recall: 0.6564 - precision: 0.7843 - val_loss: 0.8930 - val_accuracy: 0.6774 - val_sensitivity_at_specificity: 0.9643 - val_specificity_at_sensitivity: 0.9713 - val_recall: 0.6327 - val_precision: 0.7191\n",
      "Epoch 50/50\n",
      "102/102 [==============================] - ETA: 0s - loss: 0.7044 - accuracy: 0.7305 - sensitivity_at_specificity: 0.9887 - specificity_at_sensitivity: 0.9826 - recall: 0.6679 - precision: 0.7879\n",
      "Epoch 50: val_accuracy improved from 0.67890 to 0.68469, saving model to ECG_Spectrogram_Model.h5\n",
      "102/102 [==============================] - 83s 812ms/step - loss: 0.7044 - accuracy: 0.7305 - sensitivity_at_specificity: 0.9887 - specificity_at_sensitivity: 0.9826 - recall: 0.6679 - precision: 0.7879 - val_loss: 0.8815 - val_accuracy: 0.6847 - val_sensitivity_at_specificity: 0.9589 - val_specificity_at_sensitivity: 0.9689 - val_recall: 0.6318 - val_precision: 0.7336\n"
     ]
    }
   ],
   "source": [
    "# Fit the model\n",
    "from keras.callbacks import ModelCheckpoint, EarlyStopping\n",
    "\n",
    "checkpoint = ModelCheckpoint(\"ECG_Spectrogram_Model.h5\", monitor='val_accuracy', verbose=1, save_best_only=True, save_weights_only=False, mode='auto', period=1)\n",
    "history = model.fit(train_data, steps_per_epoch=len(train_data), epochs=50, validation_data=val_data, validation_steps=len(val_data),callbacks = [callbacks,checkpoint])"
   ]
  },
  {
   "cell_type": "code",
   "execution_count": 17,
   "id": "b7453ac9",
   "metadata": {},
   "outputs": [
    {
     "name": "stdout",
     "output_type": "stream",
     "text": [
      "Training Accuracy:  0.7305215001106262\n",
      "Validation Accuracy:  0.684688150882721\n",
      "Validation Specificity:  0.9713265299797058\n",
      "Validation Sensitivity:  0.9683336615562439\n",
      "Validation Recall:  0.6327476501464844\n",
      "Validation Precision:  0.7468982338905334\n",
      "Validation Loss:  0.8785406947135925\n"
     ]
    }
   ],
   "source": [
    "#Acquiring Performance metrics\n",
    "\n",
    "Training_Accuracy=history.history['accuracy']\n",
    "Validation_Accuracy=history.history['val_accuracy']\n",
    "Validation_Specificity=history.history['val_specificity_at_sensitivity']\n",
    "Validation_Sensitivity=history.history['val_sensitivity_at_specificity']\n",
    "Validation_Recall=history.history['val_recall']\n",
    "Validation_Precision=history.history['val_precision']\n",
    "Validation_Loss=history.history['val_loss']\n",
    "\n",
    "print(\"Training Accuracy: \",max(Training_Accuracy))\n",
    "print(\"Validation Accuracy: \",max(Validation_Accuracy))\n",
    "print(\"Validation Specificity: \",max(Validation_Specificity))\n",
    "print(\"Validation Sensitivity: \",max(Validation_Sensitivity))\n",
    "print(\"Validation Recall: \",max(Validation_Recall))\n",
    "print(\"Validation Precision: \",max(Validation_Precision))\n",
    "print(\"Validation Loss: \",min(Validation_Loss))"
   ]
  },
  {
   "cell_type": "code",
   "execution_count": null,
   "id": "6dd085b8",
   "metadata": {},
   "outputs": [],
   "source": []
  }
 ],
 "metadata": {
  "kernelspec": {
   "display_name": "Python 3 (ipykernel)",
   "language": "python",
   "name": "python3"
  },
  "language_info": {
   "codemirror_mode": {
    "name": "ipython",
    "version": 3
   },
   "file_extension": ".py",
   "mimetype": "text/x-python",
   "name": "python",
   "nbconvert_exporter": "python",
   "pygments_lexer": "ipython3",
   "version": "3.10.6"
  }
 },
 "nbformat": 4,
 "nbformat_minor": 5
}
