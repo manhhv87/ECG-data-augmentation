{
 "cells": [
  {
   "cell_type": "code",
   "execution_count": 1,
   "id": "e1e32307",
   "metadata": {},
   "outputs": [
    {
     "name": "stdout",
     "output_type": "stream",
     "text": [
      "2.9.1\n"
     ]
    }
   ],
   "source": [
    "#Tensorflow version\n",
    "\n",
    "import tensorflow as tf\n",
    "print(tf.__version__)"
   ]
  },
  {
   "cell_type": "code",
   "execution_count": 2,
   "id": "4b0746ad",
   "metadata": {},
   "outputs": [],
   "source": [
    "#Importing libraries\n",
    "\n",
    "import tensorflow as tf\n",
    "from tensorflow import keras\n",
    "from keras.layers import Input, Conv2D, Dense, Flatten, BatchNormalization, Dropout, MaxPooling2D, GlobalMaxPooling2D\n",
    "from keras.models import Model\n",
    "import matplotlib.pyplot as plt\n",
    "from keras.applications.efficientnet import EfficientNetB0\n",
    "from keras.preprocessing import image\n",
    "#from keras.preprocessing.image import load_img\n",
    "from keras.models import Sequential\n",
    "import numpy as np\n",
    "from tensorflow.keras import regularizers"
   ]
  },
  {
   "cell_type": "code",
   "execution_count": 3,
   "id": "aac05228",
   "metadata": {},
   "outputs": [],
   "source": [
    "#Datasets path\n",
    "\n",
    "# 3 percent with HYP 10 percent\n",
    "train_dir='/home/ubuntu/From_Laptop/multi-class-NEW/12-Lead_ECG_version_2/DA_version_3/Model_Training/3 percent with HYP 10 percent - v2/Training/'\n",
    "val_dir='/home/ubuntu/From_Laptop/multi-class-NEW/12-Lead_ECG_version_2/DA_version_3/Model_Training/3 percent with HYP 10 percent - v2/Validation/'\n"
   ]
  },
  {
   "cell_type": "code",
   "execution_count": 4,
   "id": "b2f80645",
   "metadata": {},
   "outputs": [
    {
     "name": "stdout",
     "output_type": "stream",
     "text": [
      "Found 30246 files belonging to 5 classes.\n"
     ]
    },
    {
     "name": "stderr",
     "output_type": "stream",
     "text": [
      "2023-01-17 08:09:56.979606: I tensorflow/stream_executor/cuda/cuda_gpu_executor.cc:975] successful NUMA node read from SysFS had negative value (-1), but there must be at least one NUMA node, so returning NUMA node zero\n",
      "2023-01-17 08:09:57.004103: I tensorflow/stream_executor/cuda/cuda_gpu_executor.cc:975] successful NUMA node read from SysFS had negative value (-1), but there must be at least one NUMA node, so returning NUMA node zero\n",
      "2023-01-17 08:09:57.004332: I tensorflow/stream_executor/cuda/cuda_gpu_executor.cc:975] successful NUMA node read from SysFS had negative value (-1), but there must be at least one NUMA node, so returning NUMA node zero\n",
      "2023-01-17 08:09:57.018216: I tensorflow/core/platform/cpu_feature_guard.cc:193] This TensorFlow binary is optimized with oneAPI Deep Neural Network Library (oneDNN) to use the following CPU instructions in performance-critical operations:  AVX2 FMA\n",
      "To enable them in other operations, rebuild TensorFlow with the appropriate compiler flags.\n",
      "2023-01-17 08:09:57.018737: I tensorflow/stream_executor/cuda/cuda_gpu_executor.cc:975] successful NUMA node read from SysFS had negative value (-1), but there must be at least one NUMA node, so returning NUMA node zero\n",
      "2023-01-17 08:09:57.018918: I tensorflow/stream_executor/cuda/cuda_gpu_executor.cc:975] successful NUMA node read from SysFS had negative value (-1), but there must be at least one NUMA node, so returning NUMA node zero\n",
      "2023-01-17 08:09:57.019058: I tensorflow/stream_executor/cuda/cuda_gpu_executor.cc:975] successful NUMA node read from SysFS had negative value (-1), but there must be at least one NUMA node, so returning NUMA node zero\n",
      "2023-01-17 08:09:57.435512: I tensorflow/stream_executor/cuda/cuda_gpu_executor.cc:975] successful NUMA node read from SysFS had negative value (-1), but there must be at least one NUMA node, so returning NUMA node zero\n",
      "2023-01-17 08:09:57.435704: I tensorflow/stream_executor/cuda/cuda_gpu_executor.cc:975] successful NUMA node read from SysFS had negative value (-1), but there must be at least one NUMA node, so returning NUMA node zero\n",
      "2023-01-17 08:09:57.435855: I tensorflow/stream_executor/cuda/cuda_gpu_executor.cc:975] successful NUMA node read from SysFS had negative value (-1), but there must be at least one NUMA node, so returning NUMA node zero\n",
      "2023-01-17 08:09:57.435981: I tensorflow/core/common_runtime/gpu/gpu_device.cc:1532] Created device /job:localhost/replica:0/task:0/device:GPU:0 with 7380 MB memory:  -> device: 0, name: NVIDIA GeForce GTX 1080, pci bus id: 0000:00:05.0, compute capability: 6.1\n"
     ]
    },
    {
     "name": "stdout",
     "output_type": "stream",
     "text": [
      "Found 8051 files belonging to 5 classes.\n"
     ]
    }
   ],
   "source": [
    "from tensorflow.keras import layers\n",
    "\n",
    "train_data = tf.keras.preprocessing.image_dataset_from_directory(directory=train_dir,\n",
    "                                                                 image_size=(256,256),\n",
    "                                                                 label_mode='categorical', batch_size=128, \n",
    "                                                                 )\n",
    "val_data = tf.keras.preprocessing.image_dataset_from_directory(directory=val_dir,\n",
    "                                                                 image_size=(256,256),\n",
    "                                                                 label_mode='categorical', batch_size=128,\n",
    "                                                                )"
   ]
  },
  {
   "cell_type": "code",
   "execution_count": 5,
   "id": "ca75c58f-bfe9-48bc-8e3a-e9ed7abe3cdf",
   "metadata": {},
   "outputs": [],
   "source": [
    "#Normalization of the data\n",
    "\n",
    "nrmzln_layer = layers.experimental.preprocessing.Rescaling(1./255)\n",
    "\n",
    "train_data = train_data.map(lambda x,\n",
    "                          y: (nrmzln_layer(x), y))\n",
    "\n",
    "val_data = val_data.map(lambda x,\n",
    "                          y: (nrmzln_layer(x), y))"
   ]
  },
  {
   "cell_type": "code",
   "execution_count": 6,
   "id": "2007b247",
   "metadata": {},
   "outputs": [],
   "source": [
    "# Instantiate base_model with pre-trained weights\n",
    "\n",
    "#import tensorflow.python.keras.applications.VGG16\n",
    "\n",
    "base_model= tf.keras.applications.VGG19(weights= 'imagenet', input_shape=(256,256, 3), include_top=False) "
   ]
  },
  {
   "cell_type": "code",
   "execution_count": 7,
   "id": "3110cb3d",
   "metadata": {},
   "outputs": [],
   "source": [
    "# Freezing the base_model for transfer learning\n",
    "base_model.trainable= False"
   ]
  },
  {
   "cell_type": "code",
   "execution_count": 8,
   "id": "f9525074",
   "metadata": {},
   "outputs": [],
   "source": [
    "# Creating a new_model on the top\n",
    "inputs= tf.keras.Input(shape= (256, 256, 3), name=\"input_layer\")"
   ]
  },
  {
   "cell_type": "code",
   "execution_count": 9,
   "id": "f0e154d0",
   "metadata": {},
   "outputs": [],
   "source": [
    "x= base_model(inputs,training= False)"
   ]
  },
  {
   "cell_type": "code",
   "execution_count": 10,
   "id": "06eee106",
   "metadata": {},
   "outputs": [],
   "source": [
    "# Average pool the outputs of the base model\n",
    "x = tf.keras.layers.GlobalAveragePooling2D(name='Global_Average_Pooling_Layer')(x)"
   ]
  },
  {
   "cell_type": "code",
   "execution_count": 11,
   "id": "c97951c1",
   "metadata": {},
   "outputs": [],
   "source": [
    "# Output layer\n",
    "u = tf.keras.layers.Dense(1050, activation=\"relu\")(x)\n",
    "u = tf.keras.layers.Dense(512, activation=\"relu\")(u)\n",
    "u = tf.keras.layers.Dense(256, activation=\"relu\")(u)\n",
    "u = tf.keras.layers.Dense(128, activation=\"relu\")(u)\n",
    "outputs = tf.keras.layers.Dense(5, activation=\"softmax\",name=\"output_layer\")(u)"
   ]
  },
  {
   "cell_type": "code",
   "execution_count": 12,
   "id": "e15b01f3",
   "metadata": {},
   "outputs": [],
   "source": [
    "# Combine the model\n",
    "model = tf.keras.Model(inputs, outputs) "
   ]
  },
  {
   "cell_type": "code",
   "execution_count": 13,
   "id": "186a4092",
   "metadata": {},
   "outputs": [
    {
     "name": "stdout",
     "output_type": "stream",
     "text": [
      "Model: \"model\"\n",
      "_________________________________________________________________\n",
      " Layer (type)                Output Shape              Param #   \n",
      "=================================================================\n",
      " input_layer (InputLayer)    [(None, 256, 256, 3)]     0         \n",
      "                                                                 \n",
      " vgg19 (Functional)          (None, 8, 8, 512)         20024384  \n",
      "                                                                 \n",
      " Global_Average_Pooling_Laye  (None, 512)              0         \n",
      " r (GlobalAveragePooling2D)                                      \n",
      "                                                                 \n",
      " dense (Dense)               (None, 1050)              538650    \n",
      "                                                                 \n",
      " dense_1 (Dense)             (None, 512)               538112    \n",
      "                                                                 \n",
      " dense_2 (Dense)             (None, 256)               131328    \n",
      "                                                                 \n",
      " dense_3 (Dense)             (None, 128)               32896     \n",
      "                                                                 \n",
      " output_layer (Dense)        (None, 5)                 645       \n",
      "                                                                 \n",
      "=================================================================\n",
      "Total params: 21,266,015\n",
      "Trainable params: 1,241,631\n",
      "Non-trainable params: 20,024,384\n",
      "_________________________________________________________________\n"
     ]
    }
   ],
   "source": [
    "#printing model summary\n",
    "\n",
    "model.summary()"
   ]
  },
  {
   "cell_type": "code",
   "execution_count": 14,
   "id": "b07c7887",
   "metadata": {},
   "outputs": [],
   "source": [
    "# Compile the model\n",
    "\n",
    "from tensorflow.keras.metrics import SensitivityAtSpecificity,SpecificityAtSensitivity,Recall,Precision\n",
    "\n",
    "model.compile(loss= tf.losses.categorical_crossentropy, \n",
    "      optimizer = tf.keras.optimizers.Adam(learning_rate=0.001),\n",
    "              metrics=['accuracy',SensitivityAtSpecificity(0.5),SpecificityAtSensitivity(0.5),Recall(0.5),Precision(0.5)])"
   ]
  },
  {
   "cell_type": "code",
   "execution_count": 15,
   "id": "5105faca",
   "metadata": {},
   "outputs": [],
   "source": [
    "#callback\n",
    "\n",
    "class myCallback(tf.keras.callbacks.Callback):\n",
    "     def on_epoch_end(self, epoch, logs={}):\n",
    "        if(logs.get('val_accuracy')>0.99): \n",
    "          print(\"\\nReached 99% accuracy so cancelling training!\")\n",
    "          self.model.stop_training = True\n",
    "\n",
    "callbacks = myCallback()"
   ]
  },
  {
   "cell_type": "code",
   "execution_count": 16,
   "id": "595e70ba",
   "metadata": {
    "tags": []
   },
   "outputs": [
    {
     "name": "stdout",
     "output_type": "stream",
     "text": [
      "WARNING:tensorflow:`period` argument is deprecated. Please use `save_freq` to specify the frequency in number of batches seen.\n",
      "Epoch 1/50\n"
     ]
    },
    {
     "name": "stderr",
     "output_type": "stream",
     "text": [
      "2023-01-17 08:10:22.049171: I tensorflow/stream_executor/cuda/cuda_dnn.cc:384] Loaded cuDNN version 8100\n",
      "2023-01-17 08:10:22.421330: I tensorflow/core/platform/default/subprocess.cc:304] Start cannot spawn child process: No such file or directory\n"
     ]
    },
    {
     "name": "stdout",
     "output_type": "stream",
     "text": [
      "237/237 [==============================] - ETA: 0s - loss: 1.3174 - accuracy: 0.4248 - sensitivity_at_specificity: 0.8383 - specificity_at_sensitivity: 0.8185 - recall: 0.1660 - precision: 0.6710\n",
      "Epoch 1: val_accuracy improved from -inf to 0.53074, saving model to ECG_Spectrogram_Model.h5\n",
      "237/237 [==============================] - 227s 908ms/step - loss: 1.3174 - accuracy: 0.4248 - sensitivity_at_specificity: 0.8383 - specificity_at_sensitivity: 0.8185 - recall: 0.1660 - precision: 0.6710 - val_loss: 1.1247 - val_accuracy: 0.5307 - val_sensitivity_at_specificity: 0.9201 - val_specificity_at_sensitivity: 0.9007 - val_recall: 0.3663 - val_precision: 0.6423\n",
      "Epoch 2/50\n",
      "237/237 [==============================] - ETA: 0s - loss: 0.9872 - accuracy: 0.6018 - sensitivity_at_specificity: 0.9548 - specificity_at_sensitivity: 0.9411 - recall: 0.4473 - precision: 0.7183\n",
      "Epoch 2: val_accuracy improved from 0.53074 to 0.59086, saving model to ECG_Spectrogram_Model.h5\n",
      "237/237 [==============================] - 207s 871ms/step - loss: 0.9872 - accuracy: 0.6018 - sensitivity_at_specificity: 0.9548 - specificity_at_sensitivity: 0.9411 - recall: 0.4473 - precision: 0.7183 - val_loss: 1.0019 - val_accuracy: 0.5909 - val_sensitivity_at_specificity: 0.9533 - val_specificity_at_sensitivity: 0.9325 - val_recall: 0.4473 - val_precision: 0.6858\n",
      "Epoch 3/50\n",
      "237/237 [==============================] - ETA: 0s - loss: 0.9018 - accuracy: 0.6378 - sensitivity_at_specificity: 0.9725 - specificity_at_sensitivity: 0.9573 - recall: 0.5145 - precision: 0.7377\n",
      "Epoch 3: val_accuracy improved from 0.59086 to 0.63048, saving model to ECG_Spectrogram_Model.h5\n",
      "237/237 [==============================] - 207s 873ms/step - loss: 0.9018 - accuracy: 0.6378 - sensitivity_at_specificity: 0.9725 - specificity_at_sensitivity: 0.9573 - recall: 0.5145 - precision: 0.7377 - val_loss: 0.9292 - val_accuracy: 0.6305 - val_sensitivity_at_specificity: 0.9672 - val_specificity_at_sensitivity: 0.9543 - val_recall: 0.4699 - val_precision: 0.7533\n",
      "Epoch 4/50\n",
      "237/237 [==============================] - ETA: 0s - loss: 0.8593 - accuracy: 0.6577 - sensitivity_at_specificity: 0.9757 - specificity_at_sensitivity: 0.9649 - recall: 0.5474 - precision: 0.7494\n",
      "Epoch 4: val_accuracy improved from 0.63048 to 0.63470, saving model to ECG_Spectrogram_Model.h5\n",
      "237/237 [==============================] - 206s 871ms/step - loss: 0.8593 - accuracy: 0.6577 - sensitivity_at_specificity: 0.9757 - specificity_at_sensitivity: 0.9649 - recall: 0.5474 - precision: 0.7494 - val_loss: 0.9111 - val_accuracy: 0.6347 - val_sensitivity_at_specificity: 0.9671 - val_specificity_at_sensitivity: 0.9533 - val_recall: 0.5048 - val_precision: 0.7278\n",
      "Epoch 5/50\n",
      "237/237 [==============================] - ETA: 0s - loss: 0.8161 - accuracy: 0.6787 - sensitivity_at_specificity: 0.9792 - specificity_at_sensitivity: 0.9708 - recall: 0.5806 - precision: 0.7611\n",
      "Epoch 5: val_accuracy improved from 0.63470 to 0.64750, saving model to ECG_Spectrogram_Model.h5\n",
      "237/237 [==============================] - 200s 845ms/step - loss: 0.8161 - accuracy: 0.6787 - sensitivity_at_specificity: 0.9792 - specificity_at_sensitivity: 0.9708 - recall: 0.5806 - precision: 0.7611 - val_loss: 0.9513 - val_accuracy: 0.6475 - val_sensitivity_at_specificity: 0.9501 - val_specificity_at_sensitivity: 0.9574 - val_recall: 0.5325 - val_precision: 0.7307\n",
      "Epoch 6/50\n",
      "237/237 [==============================] - ETA: 0s - loss: 0.8024 - accuracy: 0.6865 - sensitivity_at_specificity: 0.9816 - specificity_at_sensitivity: 0.9730 - recall: 0.5913 - precision: 0.7663\n",
      "Epoch 6: val_accuracy did not improve from 0.64750\n",
      "237/237 [==============================] - 200s 843ms/step - loss: 0.8024 - accuracy: 0.6865 - sensitivity_at_specificity: 0.9816 - specificity_at_sensitivity: 0.9730 - recall: 0.5913 - precision: 0.7663 - val_loss: 0.9493 - val_accuracy: 0.6202 - val_sensitivity_at_specificity: 0.9585 - val_specificity_at_sensitivity: 0.9490 - val_recall: 0.5179 - val_precision: 0.6956\n",
      "Epoch 7/50\n",
      "237/237 [==============================] - ETA: 0s - loss: 0.7604 - accuracy: 0.7065 - sensitivity_at_specificity: 0.9855 - specificity_at_sensitivity: 0.9785 - recall: 0.6186 - precision: 0.7771\n",
      "Epoch 7: val_accuracy did not improve from 0.64750\n",
      "237/237 [==============================] - 200s 843ms/step - loss: 0.7604 - accuracy: 0.7065 - sensitivity_at_specificity: 0.9855 - specificity_at_sensitivity: 0.9785 - recall: 0.6186 - precision: 0.7771 - val_loss: 0.8932 - val_accuracy: 0.6438 - val_sensitivity_at_specificity: 0.9644 - val_specificity_at_sensitivity: 0.9599 - val_recall: 0.5609 - val_precision: 0.7150\n",
      "Epoch 8/50\n",
      "237/237 [==============================] - ETA: 0s - loss: 0.7585 - accuracy: 0.7067 - sensitivity_at_specificity: 0.9846 - specificity_at_sensitivity: 0.9787 - recall: 0.6255 - precision: 0.7759\n",
      "Epoch 8: val_accuracy improved from 0.64750 to 0.68203, saving model to ECG_Spectrogram_Model.h5\n",
      "237/237 [==============================] - 201s 846ms/step - loss: 0.7585 - accuracy: 0.7067 - sensitivity_at_specificity: 0.9846 - specificity_at_sensitivity: 0.9787 - recall: 0.6255 - precision: 0.7759 - val_loss: 0.8533 - val_accuracy: 0.6820 - val_sensitivity_at_specificity: 0.9703 - val_specificity_at_sensitivity: 0.9697 - val_recall: 0.5853 - val_precision: 0.7583\n",
      "Epoch 9/50\n",
      "237/237 [==============================] - ETA: 0s - loss: 0.7314 - accuracy: 0.7170 - sensitivity_at_specificity: 0.9854 - specificity_at_sensitivity: 0.9807 - recall: 0.6382 - precision: 0.7846\n",
      "Epoch 9: val_accuracy did not improve from 0.68203\n",
      "237/237 [==============================] - 240s 1s/step - loss: 0.7314 - accuracy: 0.7170 - sensitivity_at_specificity: 0.9854 - specificity_at_sensitivity: 0.9807 - recall: 0.6382 - precision: 0.7846 - val_loss: 0.8930 - val_accuracy: 0.6666 - val_sensitivity_at_specificity: 0.9604 - val_specificity_at_sensitivity: 0.9663 - val_recall: 0.5992 - val_precision: 0.7260\n",
      "Epoch 10/50\n",
      "237/237 [==============================] - ETA: 0s - loss: 0.7134 - accuracy: 0.7254 - sensitivity_at_specificity: 0.9871 - specificity_at_sensitivity: 0.9826 - recall: 0.6530 - precision: 0.7902\n",
      "Epoch 10: val_accuracy did not improve from 0.68203\n",
      "237/237 [==============================] - 200s 842ms/step - loss: 0.7134 - accuracy: 0.7254 - sensitivity_at_specificity: 0.9871 - specificity_at_sensitivity: 0.9826 - recall: 0.6530 - precision: 0.7902 - val_loss: 0.9172 - val_accuracy: 0.6476 - val_sensitivity_at_specificity: 0.9706 - val_specificity_at_sensitivity: 0.9605 - val_recall: 0.5830 - val_precision: 0.7041\n",
      "Epoch 11/50\n",
      "237/237 [==============================] - ETA: 0s - loss: 0.6938 - accuracy: 0.7330 - sensitivity_at_specificity: 0.9881 - specificity_at_sensitivity: 0.9843 - recall: 0.6644 - precision: 0.7941\n",
      "Epoch 11: val_accuracy did not improve from 0.68203\n",
      "237/237 [==============================] - 200s 843ms/step - loss: 0.6938 - accuracy: 0.7330 - sensitivity_at_specificity: 0.9881 - specificity_at_sensitivity: 0.9843 - recall: 0.6644 - precision: 0.7941 - val_loss: 0.8804 - val_accuracy: 0.6700 - val_sensitivity_at_specificity: 0.9696 - val_specificity_at_sensitivity: 0.9651 - val_recall: 0.5920 - val_precision: 0.7301\n",
      "Epoch 12/50\n",
      "237/237 [==============================] - ETA: 0s - loss: 0.6954 - accuracy: 0.7356 - sensitivity_at_specificity: 0.9871 - specificity_at_sensitivity: 0.9839 - recall: 0.6651 - precision: 0.7984\n",
      "Epoch 12: val_accuracy did not improve from 0.68203\n",
      "237/237 [==============================] - 200s 842ms/step - loss: 0.6954 - accuracy: 0.7356 - sensitivity_at_specificity: 0.9871 - specificity_at_sensitivity: 0.9839 - recall: 0.6651 - precision: 0.7984 - val_loss: 0.8587 - val_accuracy: 0.6705 - val_sensitivity_at_specificity: 0.9734 - val_specificity_at_sensitivity: 0.9661 - val_recall: 0.5982 - val_precision: 0.7300\n",
      "Epoch 13/50\n",
      "237/237 [==============================] - ETA: 0s - loss: 0.6609 - accuracy: 0.7487 - sensitivity_at_specificity: 0.9912 - specificity_at_sensitivity: 0.9866 - recall: 0.6842 - precision: 0.8067\n",
      "Epoch 13: val_accuracy did not improve from 0.68203\n",
      "237/237 [==============================] - 200s 843ms/step - loss: 0.6609 - accuracy: 0.7487 - sensitivity_at_specificity: 0.9912 - specificity_at_sensitivity: 0.9866 - recall: 0.6842 - precision: 0.8067 - val_loss: 1.0124 - val_accuracy: 0.6541 - val_sensitivity_at_specificity: 0.9429 - val_specificity_at_sensitivity: 0.9588 - val_recall: 0.5915 - val_precision: 0.6978\n"
     ]
    },
    {
     "name": "stdout",
     "output_type": "stream",
     "text": [
      "Epoch 14/50\n",
      "237/237 [==============================] - ETA: 0s - loss: 0.6709 - accuracy: 0.7445 - sensitivity_at_specificity: 0.9905 - specificity_at_sensitivity: 0.9859 - recall: 0.6791 - precision: 0.8023\n",
      "Epoch 14: val_accuracy did not improve from 0.68203\n",
      "237/237 [==============================] - 200s 843ms/step - loss: 0.6709 - accuracy: 0.7445 - sensitivity_at_specificity: 0.9905 - specificity_at_sensitivity: 0.9859 - recall: 0.6791 - precision: 0.8023 - val_loss: 0.8840 - val_accuracy: 0.6726 - val_sensitivity_at_specificity: 0.9627 - val_specificity_at_sensitivity: 0.9700 - val_recall: 0.6176 - val_precision: 0.7263\n",
      "Epoch 15/50\n",
      "237/237 [==============================] - ETA: 0s - loss: 0.6472 - accuracy: 0.7527 - sensitivity_at_specificity: 0.9909 - specificity_at_sensitivity: 0.9872 - recall: 0.6912 - precision: 0.8057\n",
      "Epoch 15: val_accuracy improved from 0.68203 to 0.69085, saving model to ECG_Spectrogram_Model.h5\n",
      "237/237 [==============================] - 201s 848ms/step - loss: 0.6472 - accuracy: 0.7527 - sensitivity_at_specificity: 0.9909 - specificity_at_sensitivity: 0.9872 - recall: 0.6912 - precision: 0.8057 - val_loss: 0.8285 - val_accuracy: 0.6908 - val_sensitivity_at_specificity: 0.9763 - val_specificity_at_sensitivity: 0.9748 - val_recall: 0.6273 - val_precision: 0.7516\n",
      "Epoch 16/50\n",
      "237/237 [==============================] - ETA: 0s - loss: 0.6432 - accuracy: 0.7532 - sensitivity_at_specificity: 0.9905 - specificity_at_sensitivity: 0.9876 - recall: 0.6919 - precision: 0.8079\n",
      "Epoch 16: val_accuracy did not improve from 0.69085\n",
      "237/237 [==============================] - 200s 843ms/step - loss: 0.6432 - accuracy: 0.7532 - sensitivity_at_specificity: 0.9905 - specificity_at_sensitivity: 0.9876 - recall: 0.6919 - precision: 0.8079 - val_loss: 0.9503 - val_accuracy: 0.6412 - val_sensitivity_at_specificity: 0.9616 - val_specificity_at_sensitivity: 0.9565 - val_recall: 0.5756 - val_precision: 0.6952\n",
      "Epoch 17/50\n",
      "237/237 [==============================] - ETA: 0s - loss: 0.6232 - accuracy: 0.7600 - sensitivity_at_specificity: 0.9941 - specificity_at_sensitivity: 0.9890 - recall: 0.7020 - precision: 0.8137\n",
      "Epoch 17: val_accuracy improved from 0.69085 to 0.69917, saving model to ECG_Spectrogram_Model.h5\n",
      "237/237 [==============================] - 201s 847ms/step - loss: 0.6232 - accuracy: 0.7600 - sensitivity_at_specificity: 0.9941 - specificity_at_sensitivity: 0.9890 - recall: 0.7020 - precision: 0.8137 - val_loss: 0.8099 - val_accuracy: 0.6992 - val_sensitivity_at_specificity: 0.9724 - val_specificity_at_sensitivity: 0.9746 - val_recall: 0.6383 - val_precision: 0.7605\n",
      "Epoch 18/50\n",
      "237/237 [==============================] - ETA: 0s - loss: 0.6189 - accuracy: 0.7628 - sensitivity_at_specificity: 0.9940 - specificity_at_sensitivity: 0.9893 - recall: 0.7080 - precision: 0.8155\n",
      "Epoch 18: val_accuracy did not improve from 0.69917\n",
      "237/237 [==============================] - 200s 843ms/step - loss: 0.6189 - accuracy: 0.7628 - sensitivity_at_specificity: 0.9940 - specificity_at_sensitivity: 0.9893 - recall: 0.7080 - precision: 0.8155 - val_loss: 1.0603 - val_accuracy: 0.6306 - val_sensitivity_at_specificity: 0.9370 - val_specificity_at_sensitivity: 0.9501 - val_recall: 0.5691 - val_precision: 0.6799\n",
      "Epoch 19/50\n",
      "237/237 [==============================] - ETA: 0s - loss: 0.6112 - accuracy: 0.7649 - sensitivity_at_specificity: 0.9939 - specificity_at_sensitivity: 0.9896 - recall: 0.7085 - precision: 0.8177\n",
      "Epoch 19: val_accuracy did not improve from 0.69917\n",
      "237/237 [==============================] - 200s 842ms/step - loss: 0.6112 - accuracy: 0.7649 - sensitivity_at_specificity: 0.9939 - specificity_at_sensitivity: 0.9896 - recall: 0.7085 - precision: 0.8177 - val_loss: 0.8661 - val_accuracy: 0.6908 - val_sensitivity_at_specificity: 0.9614 - val_specificity_at_sensitivity: 0.9719 - val_recall: 0.6136 - val_precision: 0.7445\n",
      "Epoch 20/50\n",
      "237/237 [==============================] - ETA: 0s - loss: 0.6064 - accuracy: 0.7655 - sensitivity_at_specificity: 0.9934 - specificity_at_sensitivity: 0.9903 - recall: 0.7118 - precision: 0.8186\n",
      "Epoch 20: val_accuracy did not improve from 0.69917\n",
      "237/237 [==============================] - 200s 842ms/step - loss: 0.6064 - accuracy: 0.7655 - sensitivity_at_specificity: 0.9934 - specificity_at_sensitivity: 0.9903 - recall: 0.7118 - precision: 0.8186 - val_loss: 1.0558 - val_accuracy: 0.6513 - val_sensitivity_at_specificity: 0.9343 - val_specificity_at_sensitivity: 0.9589 - val_recall: 0.5868 - val_precision: 0.6993\n",
      "Epoch 21/50\n",
      "237/237 [==============================] - ETA: 0s - loss: 0.5893 - accuracy: 0.7740 - sensitivity_at_specificity: 0.9941 - specificity_at_sensitivity: 0.9913 - recall: 0.7219 - precision: 0.8221\n",
      "Epoch 21: val_accuracy did not improve from 0.69917\n",
      "237/237 [==============================] - 200s 843ms/step - loss: 0.5893 - accuracy: 0.7740 - sensitivity_at_specificity: 0.9941 - specificity_at_sensitivity: 0.9913 - recall: 0.7219 - precision: 0.8221 - val_loss: 0.9510 - val_accuracy: 0.6669 - val_sensitivity_at_specificity: 0.9612 - val_specificity_at_sensitivity: 0.9655 - val_recall: 0.6223 - val_precision: 0.7001\n",
      "Epoch 22/50\n",
      "237/237 [==============================] - ETA: 0s - loss: 0.5781 - accuracy: 0.7791 - sensitivity_at_specificity: 0.9938 - specificity_at_sensitivity: 0.9916 - recall: 0.7271 - precision: 0.8282\n",
      "Epoch 22: val_accuracy did not improve from 0.69917\n",
      "237/237 [==============================] - 200s 842ms/step - loss: 0.5781 - accuracy: 0.7791 - sensitivity_at_specificity: 0.9938 - specificity_at_sensitivity: 0.9916 - recall: 0.7271 - precision: 0.8282 - val_loss: 0.9860 - val_accuracy: 0.6677 - val_sensitivity_at_specificity: 0.9478 - val_specificity_at_sensitivity: 0.9660 - val_recall: 0.6196 - val_precision: 0.7137\n",
      "Epoch 23/50\n",
      "237/237 [==============================] - ETA: 0s - loss: 0.5703 - accuracy: 0.7820 - sensitivity_at_specificity: 0.9965 - specificity_at_sensitivity: 0.9920 - recall: 0.7327 - precision: 0.8294\n",
      "Epoch 23: val_accuracy did not improve from 0.69917\n",
      "237/237 [==============================] - 200s 843ms/step - loss: 0.5703 - accuracy: 0.7820 - sensitivity_at_specificity: 0.9965 - specificity_at_sensitivity: 0.9920 - recall: 0.7327 - precision: 0.8294 - val_loss: 1.1926 - val_accuracy: 0.6362 - val_sensitivity_at_specificity: 0.9178 - val_specificity_at_sensitivity: 0.9558 - val_recall: 0.6005 - val_precision: 0.6674\n",
      "Epoch 24/50\n",
      "237/237 [==============================] - ETA: 0s - loss: 0.5731 - accuracy: 0.7806 - sensitivity_at_specificity: 0.9960 - specificity_at_sensitivity: 0.9919 - recall: 0.7285 - precision: 0.8286\n",
      "Epoch 24: val_accuracy did not improve from 0.69917\n",
      "237/237 [==============================] - 200s 843ms/step - loss: 0.5731 - accuracy: 0.7806 - sensitivity_at_specificity: 0.9960 - specificity_at_sensitivity: 0.9919 - recall: 0.7285 - precision: 0.8286 - val_loss: 0.8709 - val_accuracy: 0.6974 - val_sensitivity_at_specificity: 0.9650 - val_specificity_at_sensitivity: 0.9740 - val_recall: 0.6526 - val_precision: 0.7363\n",
      "Epoch 25/50\n",
      "237/237 [==============================] - ETA: 0s - loss: 0.5637 - accuracy: 0.7858 - sensitivity_at_specificity: 0.9965 - specificity_at_sensitivity: 0.9922 - recall: 0.7365 - precision: 0.8301\n",
      "Epoch 25: val_accuracy did not improve from 0.69917\n",
      "237/237 [==============================] - 200s 842ms/step - loss: 0.5637 - accuracy: 0.7858 - sensitivity_at_specificity: 0.9965 - specificity_at_sensitivity: 0.9922 - recall: 0.7365 - precision: 0.8301 - val_loss: 0.8575 - val_accuracy: 0.6936 - val_sensitivity_at_specificity: 0.9698 - val_specificity_at_sensitivity: 0.9719 - val_recall: 0.6471 - val_precision: 0.7315\n",
      "Epoch 26/50\n",
      "237/237 [==============================] - ETA: 0s - loss: 0.5467 - accuracy: 0.7925 - sensitivity_at_specificity: 0.9964 - specificity_at_sensitivity: 0.9931 - recall: 0.7443 - precision: 0.8342\n",
      "Epoch 26: val_accuracy did not improve from 0.69917\n",
      "237/237 [==============================] - 200s 842ms/step - loss: 0.5467 - accuracy: 0.7925 - sensitivity_at_specificity: 0.9964 - specificity_at_sensitivity: 0.9931 - recall: 0.7443 - precision: 0.8342 - val_loss: 1.0877 - val_accuracy: 0.6511 - val_sensitivity_at_specificity: 0.9372 - val_specificity_at_sensitivity: 0.9612 - val_recall: 0.6048 - val_precision: 0.6899\n"
     ]
    },
    {
     "name": "stdout",
     "output_type": "stream",
     "text": [
      "Epoch 27/50\n",
      "237/237 [==============================] - ETA: 0s - loss: 0.5502 - accuracy: 0.7897 - sensitivity_at_specificity: 0.9966 - specificity_at_sensitivity: 0.9932 - recall: 0.7422 - precision: 0.8346\n",
      "Epoch 27: val_accuracy did not improve from 0.69917\n",
      "237/237 [==============================] - 200s 842ms/step - loss: 0.5502 - accuracy: 0.7897 - sensitivity_at_specificity: 0.9966 - specificity_at_sensitivity: 0.9932 - recall: 0.7422 - precision: 0.8346 - val_loss: 1.0156 - val_accuracy: 0.6658 - val_sensitivity_at_specificity: 0.9422 - val_specificity_at_sensitivity: 0.9615 - val_recall: 0.6147 - val_precision: 0.7037\n",
      "Epoch 28/50\n",
      "237/237 [==============================] - ETA: 0s - loss: 0.5457 - accuracy: 0.7913 - sensitivity_at_specificity: 0.9961 - specificity_at_sensitivity: 0.9932 - recall: 0.7432 - precision: 0.8340\n",
      "Epoch 28: val_accuracy did not improve from 0.69917\n",
      "237/237 [==============================] - 240s 1s/step - loss: 0.5457 - accuracy: 0.7913 - sensitivity_at_specificity: 0.9961 - specificity_at_sensitivity: 0.9932 - recall: 0.7432 - precision: 0.8340 - val_loss: 1.0618 - val_accuracy: 0.6641 - val_sensitivity_at_specificity: 0.9362 - val_specificity_at_sensitivity: 0.9637 - val_recall: 0.6060 - val_precision: 0.7057\n",
      "Epoch 29/50\n",
      "237/237 [==============================] - ETA: 0s - loss: 0.5243 - accuracy: 0.7993 - sensitivity_at_specificity: 0.9968 - specificity_at_sensitivity: 0.9942 - recall: 0.7552 - precision: 0.8426\n",
      "Epoch 29: val_accuracy did not improve from 0.69917\n",
      "237/237 [==============================] - 200s 842ms/step - loss: 0.5243 - accuracy: 0.7993 - sensitivity_at_specificity: 0.9968 - specificity_at_sensitivity: 0.9942 - recall: 0.7552 - precision: 0.8426 - val_loss: 1.0624 - val_accuracy: 0.6346 - val_sensitivity_at_specificity: 0.9523 - val_specificity_at_sensitivity: 0.9528 - val_recall: 0.5824 - val_precision: 0.6786\n",
      "Epoch 30/50\n",
      "237/237 [==============================] - ETA: 0s - loss: 0.5295 - accuracy: 0.7988 - sensitivity_at_specificity: 0.9961 - specificity_at_sensitivity: 0.9941 - recall: 0.7521 - precision: 0.8400\n",
      "Epoch 30: val_accuracy did not improve from 0.69917\n",
      "237/237 [==============================] - 200s 842ms/step - loss: 0.5295 - accuracy: 0.7988 - sensitivity_at_specificity: 0.9961 - specificity_at_sensitivity: 0.9941 - recall: 0.7521 - precision: 0.8400 - val_loss: 0.9984 - val_accuracy: 0.6803 - val_sensitivity_at_specificity: 0.9504 - val_specificity_at_sensitivity: 0.9686 - val_recall: 0.6461 - val_precision: 0.7122\n",
      "Epoch 31/50\n",
      "237/237 [==============================] - ETA: 0s - loss: 0.5122 - accuracy: 0.8022 - sensitivity_at_specificity: 0.9969 - specificity_at_sensitivity: 0.9945 - recall: 0.7613 - precision: 0.8430\n",
      "Epoch 31: val_accuracy did not improve from 0.69917\n",
      "237/237 [==============================] - 200s 843ms/step - loss: 0.5122 - accuracy: 0.8022 - sensitivity_at_specificity: 0.9969 - specificity_at_sensitivity: 0.9945 - recall: 0.7613 - precision: 0.8430 - val_loss: 0.9024 - val_accuracy: 0.6935 - val_sensitivity_at_specificity: 0.9616 - val_specificity_at_sensitivity: 0.9727 - val_recall: 0.6528 - val_precision: 0.7319\n",
      "Epoch 32/50\n",
      "237/237 [==============================] - ETA: 0s - loss: 0.4997 - accuracy: 0.8077 - sensitivity_at_specificity: 0.9970 - specificity_at_sensitivity: 0.9950 - recall: 0.7671 - precision: 0.8460\n",
      "Epoch 32: val_accuracy did not improve from 0.69917\n",
      "237/237 [==============================] - 200s 842ms/step - loss: 0.4997 - accuracy: 0.8077 - sensitivity_at_specificity: 0.9970 - specificity_at_sensitivity: 0.9950 - recall: 0.7671 - precision: 0.8460 - val_loss: 1.0894 - val_accuracy: 0.6443 - val_sensitivity_at_specificity: 0.9416 - val_specificity_at_sensitivity: 0.9555 - val_recall: 0.6055 - val_precision: 0.6782\n",
      "Epoch 33/50\n",
      "237/237 [==============================] - ETA: 0s - loss: 0.4951 - accuracy: 0.8111 - sensitivity_at_specificity: 0.9969 - specificity_at_sensitivity: 0.9953 - recall: 0.7707 - precision: 0.8500\n",
      "Epoch 33: val_accuracy did not improve from 0.69917\n",
      "237/237 [==============================] - 200s 843ms/step - loss: 0.4951 - accuracy: 0.8111 - sensitivity_at_specificity: 0.9969 - specificity_at_sensitivity: 0.9953 - recall: 0.7707 - precision: 0.8500 - val_loss: 1.1610 - val_accuracy: 0.6572 - val_sensitivity_at_specificity: 0.9376 - val_specificity_at_sensitivity: 0.9609 - val_recall: 0.6187 - val_precision: 0.6884\n",
      "Epoch 34/50\n",
      "237/237 [==============================] - ETA: 0s - loss: 0.5206 - accuracy: 0.8006 - sensitivity_at_specificity: 0.9963 - specificity_at_sensitivity: 0.9943 - recall: 0.7586 - precision: 0.8416\n",
      "Epoch 34: val_accuracy did not improve from 0.69917\n",
      "237/237 [==============================] - 200s 843ms/step - loss: 0.5206 - accuracy: 0.8006 - sensitivity_at_specificity: 0.9963 - specificity_at_sensitivity: 0.9943 - recall: 0.7586 - precision: 0.8416 - val_loss: 1.0300 - val_accuracy: 0.6554 - val_sensitivity_at_specificity: 0.9490 - val_specificity_at_sensitivity: 0.9641 - val_recall: 0.6059 - val_precision: 0.6959\n",
      "Epoch 35/50\n",
      "237/237 [==============================] - ETA: 0s - loss: 0.4817 - accuracy: 0.8178 - sensitivity_at_specificity: 0.9985 - specificity_at_sensitivity: 0.9957 - recall: 0.7795 - precision: 0.8547\n",
      "Epoch 35: val_accuracy did not improve from 0.69917\n",
      "237/237 [==============================] - 200s 842ms/step - loss: 0.4817 - accuracy: 0.8178 - sensitivity_at_specificity: 0.9985 - specificity_at_sensitivity: 0.9957 - recall: 0.7795 - precision: 0.8547 - val_loss: 1.1460 - val_accuracy: 0.6635 - val_sensitivity_at_specificity: 0.9374 - val_specificity_at_sensitivity: 0.9638 - val_recall: 0.6290 - val_precision: 0.6956\n",
      "Epoch 36/50\n",
      "237/237 [==============================] - ETA: 0s - loss: 0.4926 - accuracy: 0.8096 - sensitivity_at_specificity: 0.9969 - specificity_at_sensitivity: 0.9956 - recall: 0.7708 - precision: 0.8488\n",
      "Epoch 36: val_accuracy did not improve from 0.69917\n",
      "237/237 [==============================] - 200s 842ms/step - loss: 0.4926 - accuracy: 0.8096 - sensitivity_at_specificity: 0.9969 - specificity_at_sensitivity: 0.9956 - recall: 0.7708 - precision: 0.8488 - val_loss: 1.2093 - val_accuracy: 0.6404 - val_sensitivity_at_specificity: 0.9224 - val_specificity_at_sensitivity: 0.9560 - val_recall: 0.5999 - val_precision: 0.6735\n",
      "Epoch 37/50\n",
      "237/237 [==============================] - ETA: 0s - loss: 0.4633 - accuracy: 0.8239 - sensitivity_at_specificity: 0.9986 - specificity_at_sensitivity: 0.9961 - recall: 0.7884 - precision: 0.8571\n",
      "Epoch 37: val_accuracy did not improve from 0.69917\n",
      "237/237 [==============================] - 200s 842ms/step - loss: 0.4633 - accuracy: 0.8239 - sensitivity_at_specificity: 0.9986 - specificity_at_sensitivity: 0.9961 - recall: 0.7884 - precision: 0.8571 - val_loss: 1.0248 - val_accuracy: 0.6783 - val_sensitivity_at_specificity: 0.9523 - val_specificity_at_sensitivity: 0.9669 - val_recall: 0.6387 - val_precision: 0.7116\n",
      "Epoch 38/50\n",
      "237/237 [==============================] - ETA: 0s - loss: 0.4592 - accuracy: 0.8242 - sensitivity_at_specificity: 0.9986 - specificity_at_sensitivity: 0.9965 - recall: 0.7875 - precision: 0.8600\n",
      "Epoch 38: val_accuracy did not improve from 0.69917\n",
      "237/237 [==============================] - 200s 842ms/step - loss: 0.4592 - accuracy: 0.8242 - sensitivity_at_specificity: 0.9986 - specificity_at_sensitivity: 0.9965 - recall: 0.7875 - precision: 0.8600 - val_loss: 1.3549 - val_accuracy: 0.6436 - val_sensitivity_at_specificity: 0.9123 - val_specificity_at_sensitivity: 0.9545 - val_recall: 0.6127 - val_precision: 0.6648\n",
      "Epoch 39/50\n",
      "237/237 [==============================] - ETA: 0s - loss: 0.4543 - accuracy: 0.8272 - sensitivity_at_specificity: 0.9986 - specificity_at_sensitivity: 0.9966 - recall: 0.7934 - precision: 0.8606\n",
      "Epoch 39: val_accuracy did not improve from 0.69917\n",
      "237/237 [==============================] - 200s 843ms/step - loss: 0.4543 - accuracy: 0.8272 - sensitivity_at_specificity: 0.9986 - specificity_at_sensitivity: 0.9966 - recall: 0.7934 - precision: 0.8606 - val_loss: 1.4294 - val_accuracy: 0.5762 - val_sensitivity_at_specificity: 0.9036 - val_specificity_at_sensitivity: 0.9267 - val_recall: 0.5353 - val_precision: 0.6046\n"
     ]
    },
    {
     "name": "stdout",
     "output_type": "stream",
     "text": [
      "Epoch 40/50\n",
      "237/237 [==============================] - ETA: 0s - loss: 0.4539 - accuracy: 0.8273 - sensitivity_at_specificity: 0.9986 - specificity_at_sensitivity: 0.9967 - recall: 0.7935 - precision: 0.8596\n",
      "Epoch 40: val_accuracy did not improve from 0.69917\n",
      "237/237 [==============================] - 200s 842ms/step - loss: 0.4539 - accuracy: 0.8273 - sensitivity_at_specificity: 0.9986 - specificity_at_sensitivity: 0.9967 - recall: 0.7935 - precision: 0.8596 - val_loss: 1.6164 - val_accuracy: 0.6204 - val_sensitivity_at_specificity: 0.8803 - val_specificity_at_sensitivity: 0.9470 - val_recall: 0.5932 - val_precision: 0.6428\n",
      "Epoch 41/50\n",
      "237/237 [==============================] - ETA: 0s - loss: 0.4547 - accuracy: 0.8258 - sensitivity_at_specificity: 0.9985 - specificity_at_sensitivity: 0.9965 - recall: 0.7921 - precision: 0.8617\n",
      "Epoch 41: val_accuracy did not improve from 0.69917\n",
      "237/237 [==============================] - 240s 1s/step - loss: 0.4547 - accuracy: 0.8258 - sensitivity_at_specificity: 0.9985 - specificity_at_sensitivity: 0.9965 - recall: 0.7921 - precision: 0.8617 - val_loss: 1.0634 - val_accuracy: 0.6804 - val_sensitivity_at_specificity: 0.9477 - val_specificity_at_sensitivity: 0.9684 - val_recall: 0.6358 - val_precision: 0.7186\n",
      "Epoch 42/50\n",
      "237/237 [==============================] - ETA: 0s - loss: 0.4340 - accuracy: 0.8361 - sensitivity_at_specificity: 0.9983 - specificity_at_sensitivity: 0.9973 - recall: 0.8041 - precision: 0.8668\n",
      "Epoch 42: val_accuracy did not improve from 0.69917\n",
      "237/237 [==============================] - 200s 842ms/step - loss: 0.4340 - accuracy: 0.8361 - sensitivity_at_specificity: 0.9983 - specificity_at_sensitivity: 0.9973 - recall: 0.8041 - precision: 0.8668 - val_loss: 1.3805 - val_accuracy: 0.6542 - val_sensitivity_at_specificity: 0.9267 - val_specificity_at_sensitivity: 0.9596 - val_recall: 0.6253 - val_precision: 0.6793\n",
      "Epoch 43/50\n",
      "237/237 [==============================] - ETA: 0s - loss: 0.4306 - accuracy: 0.8350 - sensitivity_at_specificity: 0.9989 - specificity_at_sensitivity: 0.9969 - recall: 0.8049 - precision: 0.8643\n",
      "Epoch 43: val_accuracy did not improve from 0.69917\n",
      "237/237 [==============================] - 200s 842ms/step - loss: 0.4306 - accuracy: 0.8350 - sensitivity_at_specificity: 0.9989 - specificity_at_sensitivity: 0.9969 - recall: 0.8049 - precision: 0.8643 - val_loss: 1.3021 - val_accuracy: 0.6599 - val_sensitivity_at_specificity: 0.9147 - val_specificity_at_sensitivity: 0.9606 - val_recall: 0.6292 - val_precision: 0.6842\n",
      "Epoch 44/50\n",
      "237/237 [==============================] - ETA: 0s - loss: 0.4156 - accuracy: 0.8380 - sensitivity_at_specificity: 0.9989 - specificity_at_sensitivity: 0.9978 - recall: 0.8096 - precision: 0.8677\n",
      "Epoch 44: val_accuracy did not improve from 0.69917\n",
      "237/237 [==============================] - 200s 843ms/step - loss: 0.4156 - accuracy: 0.8380 - sensitivity_at_specificity: 0.9989 - specificity_at_sensitivity: 0.9978 - recall: 0.8096 - precision: 0.8677 - val_loss: 1.4447 - val_accuracy: 0.6171 - val_sensitivity_at_specificity: 0.8975 - val_specificity_at_sensitivity: 0.9444 - val_recall: 0.5808 - val_precision: 0.6465\n",
      "Epoch 45/50\n",
      "237/237 [==============================] - ETA: 0s - loss: 0.4097 - accuracy: 0.8432 - sensitivity_at_specificity: 0.9987 - specificity_at_sensitivity: 0.9978 - recall: 0.8157 - precision: 0.8706\n",
      "Epoch 45: val_accuracy did not improve from 0.69917\n",
      "237/237 [==============================] - 200s 842ms/step - loss: 0.4097 - accuracy: 0.8432 - sensitivity_at_specificity: 0.9987 - specificity_at_sensitivity: 0.9978 - recall: 0.8157 - precision: 0.8706 - val_loss: 1.3233 - val_accuracy: 0.6578 - val_sensitivity_at_specificity: 0.9321 - val_specificity_at_sensitivity: 0.9607 - val_recall: 0.6331 - val_precision: 0.6782\n",
      "Epoch 46/50\n",
      "237/237 [==============================] - ETA: 0s - loss: 0.4143 - accuracy: 0.8411 - sensitivity_at_specificity: 0.9990 - specificity_at_sensitivity: 0.9977 - recall: 0.8124 - precision: 0.8703\n",
      "Epoch 46: val_accuracy did not improve from 0.69917\n",
      "237/237 [==============================] - 200s 843ms/step - loss: 0.4143 - accuracy: 0.8411 - sensitivity_at_specificity: 0.9990 - specificity_at_sensitivity: 0.9977 - recall: 0.8124 - precision: 0.8703 - val_loss: 1.4030 - val_accuracy: 0.6402 - val_sensitivity_at_specificity: 0.9009 - val_specificity_at_sensitivity: 0.9566 - val_recall: 0.6169 - val_precision: 0.6618\n",
      "Epoch 47/50\n",
      "237/237 [==============================] - ETA: 0s - loss: 0.3966 - accuracy: 0.8489 - sensitivity_at_specificity: 0.9988 - specificity_at_sensitivity: 0.9978 - recall: 0.8215 - precision: 0.8766\n",
      "Epoch 47: val_accuracy did not improve from 0.69917\n",
      "237/237 [==============================] - 200s 843ms/step - loss: 0.3966 - accuracy: 0.8489 - sensitivity_at_specificity: 0.9988 - specificity_at_sensitivity: 0.9978 - recall: 0.8215 - precision: 0.8766 - val_loss: 1.2983 - val_accuracy: 0.6782 - val_sensitivity_at_specificity: 0.9293 - val_specificity_at_sensitivity: 0.9661 - val_recall: 0.6495 - val_precision: 0.7011\n",
      "Epoch 48/50\n",
      "237/237 [==============================] - ETA: 0s - loss: 0.3985 - accuracy: 0.8481 - sensitivity_at_specificity: 0.9987 - specificity_at_sensitivity: 0.9978 - recall: 0.8206 - precision: 0.8753\n",
      "Epoch 48: val_accuracy did not improve from 0.69917\n",
      "237/237 [==============================] - 200s 843ms/step - loss: 0.3985 - accuracy: 0.8481 - sensitivity_at_specificity: 0.9987 - specificity_at_sensitivity: 0.9978 - recall: 0.8206 - precision: 0.8753 - val_loss: 1.4502 - val_accuracy: 0.6403 - val_sensitivity_at_specificity: 0.9230 - val_specificity_at_sensitivity: 0.9555 - val_recall: 0.6142 - val_precision: 0.6638\n",
      "Epoch 49/50\n",
      "237/237 [==============================] - ETA: 0s - loss: 0.4178 - accuracy: 0.8401 - sensitivity_at_specificity: 0.9984 - specificity_at_sensitivity: 0.9975 - recall: 0.8107 - precision: 0.8693\n",
      "Epoch 49: val_accuracy did not improve from 0.69917\n",
      "237/237 [==============================] - 200s 842ms/step - loss: 0.4178 - accuracy: 0.8401 - sensitivity_at_specificity: 0.9984 - specificity_at_sensitivity: 0.9975 - recall: 0.8107 - precision: 0.8693 - val_loss: 1.3732 - val_accuracy: 0.6500 - val_sensitivity_at_specificity: 0.9093 - val_specificity_at_sensitivity: 0.9599 - val_recall: 0.6254 - val_precision: 0.6721\n",
      "Epoch 50/50\n",
      "237/237 [==============================] - ETA: 0s - loss: 0.3775 - accuracy: 0.8555 - sensitivity_at_specificity: 0.9989 - specificity_at_sensitivity: 0.9984 - recall: 0.8289 - precision: 0.8813\n",
      "Epoch 50: val_accuracy did not improve from 0.69917\n",
      "237/237 [==============================] - 200s 843ms/step - loss: 0.3775 - accuracy: 0.8555 - sensitivity_at_specificity: 0.9989 - specificity_at_sensitivity: 0.9984 - recall: 0.8289 - precision: 0.8813 - val_loss: 1.5436 - val_accuracy: 0.6485 - val_sensitivity_at_specificity: 0.9103 - val_specificity_at_sensitivity: 0.9558 - val_recall: 0.6266 - val_precision: 0.6685\n"
     ]
    }
   ],
   "source": [
    "# Fit the model\n",
    "from keras.callbacks import ModelCheckpoint, EarlyStopping\n",
    "\n",
    "checkpoint = ModelCheckpoint(\"ECG_Spectrogram_Model.h5\", monitor='val_accuracy', verbose=1, save_best_only=True, save_weights_only=False, mode='auto', period=1)\n",
    "history = model.fit(train_data, steps_per_epoch=len(train_data), epochs=50, validation_data=val_data, validation_steps=len(val_data),callbacks = [callbacks,checkpoint])"
   ]
  },
  {
   "cell_type": "code",
   "execution_count": 17,
   "id": "077a6e0a",
   "metadata": {},
   "outputs": [
    {
     "name": "stdout",
     "output_type": "stream",
     "text": [
      "Training Accuracy:  0.8554519414901733\n",
      "Validation Accuracy:  0.699167788028717\n",
      "Validation Specificity:  0.9748478531837463\n",
      "Validation Sensitivity:  0.9762762188911438\n",
      "Validation Recall:  0.6528381705284119\n",
      "Validation Precision:  0.7605445981025696\n",
      "Validation Loss:  0.8098897933959961\n"
     ]
    }
   ],
   "source": [
    "#Acquiring Performance metrics\n",
    "################################################## for VGG-19 Model ############################################\n",
    "\n",
    "Training_Accuracy=history.history['accuracy']\n",
    "Validation_Accuracy=history.history['val_accuracy']\n",
    "Validation_Specificity=history.history['val_specificity_at_sensitivity']\n",
    "Validation_Sensitivity=history.history['val_sensitivity_at_specificity']\n",
    "Validation_Recall=history.history['val_recall']\n",
    "Validation_Precision=history.history['val_precision']\n",
    "Validation_Loss=history.history['val_loss']\n",
    "\n",
    "print(\"Training Accuracy: \",max(Training_Accuracy))\n",
    "print(\"Validation Accuracy: \",max(Validation_Accuracy))\n",
    "print(\"Validation Specificity: \",max(Validation_Specificity))\n",
    "print(\"Validation Sensitivity: \",max(Validation_Sensitivity))\n",
    "print(\"Validation Recall: \",max(Validation_Recall))\n",
    "print(\"Validation Precision: \",max(Validation_Precision))\n",
    "print(\"Validation Loss: \",min(Validation_Loss))"
   ]
  },
  {
   "cell_type": "code",
   "execution_count": 17,
   "id": "3a687fcd",
   "metadata": {},
   "outputs": [
    {
     "name": "stdout",
     "output_type": "stream",
     "text": [
      "Training Accuracy:  0.9713350534439087\n",
      "Validation Accuracy:  0.7312135100364685\n",
      "Validation Specificity:  0.9834182262420654\n",
      "Validation Sensitivity:  0.980126678943634\n",
      "Validation Recall:  0.6940752863883972\n",
      "Validation Precision:  0.7783111929893494\n",
      "Validation Loss:  0.7456523776054382\n"
     ]
    }
   ],
   "source": [
    "#Acquiring Performance metrics\n",
    "################################################## for DenseNet-201 Model ############################################\n",
    "\n",
    "Training_Accuracy=history.history['accuracy']\n",
    "Validation_Accuracy=history.history['val_accuracy']\n",
    "Validation_Specificity=history.history['val_specificity_at_sensitivity']\n",
    "Validation_Sensitivity=history.history['val_sensitivity_at_specificity']\n",
    "Validation_Recall=history.history['val_recall']\n",
    "Validation_Precision=history.history['val_precision']\n",
    "Validation_Loss=history.history['val_loss']\n",
    "\n",
    "print(\"Training Accuracy: \",max(Training_Accuracy))\n",
    "print(\"Validation Accuracy: \",max(Validation_Accuracy))\n",
    "print(\"Validation Specificity: \",max(Validation_Specificity))\n",
    "print(\"Validation Sensitivity: \",max(Validation_Sensitivity))\n",
    "print(\"Validation Recall: \",max(Validation_Recall))\n",
    "print(\"Validation Precision: \",max(Validation_Precision))\n",
    "print(\"Validation Loss: \",min(Validation_Loss))"
   ]
  },
  {
   "cell_type": "code",
   "execution_count": 17,
   "id": "cdbce0ec",
   "metadata": {},
   "outputs": [
    {
     "name": "stdout",
     "output_type": "stream",
     "text": [
      "Training Accuracy:  0.21887192130088806\n",
      "Validation Accuracy:  0.24394485354423523\n",
      "Validation Specificity:  0.4127126932144165\n",
      "Validation Sensitivity:  0.4759657084941864\n",
      "Validation Recall:  0.0\n",
      "Validation Precision:  0.0\n",
      "Validation Loss:  1.6004568338394165\n"
     ]
    }
   ],
   "source": [
    "#Acquiring Performance metrics\n",
    "################################################## for EfficientNet-0 Model ############################################\n",
    "\n",
    "Training_Accuracy=history.history['accuracy']\n",
    "Validation_Accuracy=history.history['val_accuracy']\n",
    "Validation_Specificity=history.history['val_specificity_at_sensitivity']\n",
    "Validation_Sensitivity=history.history['val_sensitivity_at_specificity']\n",
    "Validation_Recall=history.history['val_recall']\n",
    "Validation_Precision=history.history['val_precision']\n",
    "Validation_Loss=history.history['val_loss']\n",
    "\n",
    "print(\"Training Accuracy: \",max(Training_Accuracy))\n",
    "print(\"Validation Accuracy: \",max(Validation_Accuracy))\n",
    "print(\"Validation Specificity: \",max(Validation_Specificity))\n",
    "print(\"Validation Sensitivity: \",max(Validation_Sensitivity))\n",
    "print(\"Validation Recall: \",max(Validation_Recall))\n",
    "print(\"Validation Precision: \",max(Validation_Precision))\n",
    "print(\"Validation Loss: \",min(Validation_Loss))"
   ]
  },
  {
   "cell_type": "code",
   "execution_count": 17,
   "id": "b7453ac9",
   "metadata": {},
   "outputs": [
    {
     "name": "stdout",
     "output_type": "stream",
     "text": [
      "Training Accuracy:  0.7327911257743835\n",
      "Validation Accuracy:  0.612594723701477\n",
      "Validation Specificity:  0.9434542059898376\n",
      "Validation Sensitivity:  0.9520556330680847\n",
      "Validation Recall:  0.5203080177307129\n",
      "Validation Precision:  0.7141714692115784\n",
      "Validation Loss:  1.0098254680633545\n"
     ]
    }
   ],
   "source": [
    "#Acquiring Performance metrics\n",
    "################################################## for ResNet-50 Model ############################################\n",
    "\n",
    "Training_Accuracy=history.history['accuracy']\n",
    "Validation_Accuracy=history.history['val_accuracy']\n",
    "Validation_Specificity=history.history['val_specificity_at_sensitivity']\n",
    "Validation_Sensitivity=history.history['val_sensitivity_at_specificity']\n",
    "Validation_Recall=history.history['val_recall']\n",
    "Validation_Precision=history.history['val_precision']\n",
    "Validation_Loss=history.history['val_loss']\n",
    "\n",
    "print(\"Training Accuracy: \",max(Training_Accuracy))\n",
    "print(\"Validation Accuracy: \",max(Validation_Accuracy))\n",
    "print(\"Validation Specificity: \",max(Validation_Specificity))\n",
    "print(\"Validation Sensitivity: \",max(Validation_Sensitivity))\n",
    "print(\"Validation Recall: \",max(Validation_Recall))\n",
    "print(\"Validation Precision: \",max(Validation_Precision))\n",
    "print(\"Validation Loss: \",min(Validation_Loss))"
   ]
  }
 ],
 "metadata": {
  "kernelspec": {
   "display_name": "Python 3 (ipykernel)",
   "language": "python",
   "name": "python3"
  },
  "language_info": {
   "codemirror_mode": {
    "name": "ipython",
    "version": 3
   },
   "file_extension": ".py",
   "mimetype": "text/x-python",
   "name": "python",
   "nbconvert_exporter": "python",
   "pygments_lexer": "ipython3",
   "version": "3.10.6"
  }
 },
 "nbformat": 4,
 "nbformat_minor": 5
}
