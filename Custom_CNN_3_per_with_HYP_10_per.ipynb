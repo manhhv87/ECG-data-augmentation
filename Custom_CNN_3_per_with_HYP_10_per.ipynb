{
  "cells": [
    {
      "cell_type": "markdown",
      "metadata": {
        "id": "SsTzc3oi726u"
      },
      "source": [
        "# **Building a Convolutional Neural Network with Keras**"
      ]
    },
    {
      "cell_type": "code",
      "execution_count": null,
      "metadata": {
        "id": "MbWNmcxy_p6R",
        "outputId": "c7155c8b-ae10-4532-86c2-d8f77cd2d703"
      },
      "outputs": [
        {
          "name": "stdout",
          "output_type": "stream",
          "text": [
            "2.9.1\n"
          ]
        }
      ],
      "source": [
        "#Tensorflow version\n",
        "\n",
        "import tensorflow as tf\n",
        "print(tf.__version__)"
      ]
    },
    {
      "cell_type": "code",
      "execution_count": null,
      "metadata": {
        "id": "itf-ScQf_p6U"
      },
      "outputs": [],
      "source": [
        "#Importing libraries\n",
        "\n",
        "import tensorflow as tf\n",
        "from tensorflow import keras\n",
        "from keras.layers import Input, Conv2D, Dense, Flatten, BatchNormalization, Dropout, MaxPooling2D, GlobalMaxPooling2D\n",
        "from keras.models import Model\n",
        "import matplotlib.pyplot as plt\n",
        "from keras.applications.efficientnet import EfficientNetB0\n",
        "from keras.preprocessing import image\n",
        "#from keras.preprocessing.image import load_img\n",
        "from keras.models import Sequential\n",
        "import numpy as np\n",
        "from tensorflow.keras import regularizers"
      ]
    },
    {
      "cell_type": "code",
      "execution_count": null,
      "metadata": {
        "id": "LK-YUnvw_p6V"
      },
      "outputs": [],
      "source": [
        "# 3 percent with HYP 10 percent\n",
        "train_dir='/home/ubuntu/From_Laptop/multi-class-NEW/12-Lead_ECG_version_2/DA_version_3/Model_Training/3 percent with HYP 10 percent - v2/Training/'\n",
        "val_dir='/home/ubuntu/From_Laptop/multi-class-NEW/12-Lead_ECG_version_2/DA_version_3/Model_Training/3 percent with HYP 10 percent - v2/Validation/'\n",
        "\n",
        "# 3 percent with HYP 10 percent\n",
        "#train_dir=\"/home/ubuntu/From_Laptop/multi-class-NEW/12-Lead_ECG_version_2/DA_version_3/Model_Training/3 percent with HYP 20 percent - v2--New/Training/\"\n",
        "#val_dir=\"/home/ubuntu/From_Laptop/multi-class-NEW/12-Lead_ECG_version_2/DA_version_3/Model_Training/3 percent with HYP 20 percent - v2--New/Validation/\"\n",
        "\n",
        "\n",
        "# 20 percent\n",
        "#train_dir='/home/ubuntu/From_Laptop/multi-class-NEW/12-Lead_ECG_version_2/DA_version_3/Model_Training/10 percent/Training/'\n",
        "#val_dir='/home/ubuntu/From_Laptop/multi-class-NEW/12-Lead_ECG_version_2/DA_version_3/Model_Training/10 percent/Validation/'\n",
        "\n",
        "\n",
        "# 3 percent with HYP 10 percent (17000)\n",
        "#train_dir=\"/home/ubuntu/From_Laptop/multi-class-NEW/12-Lead_ECG_version_2/DA_version_3/Model_Training/3 percent with HYP 10 percent - v2 - 17000/Training/\"\n",
        "#val_dir=\"/home/ubuntu/From_Laptop/multi-class-NEW/12-Lead_ECG_version_2/DA_version_3/Model_Training/3 percent with HYP 10 percent - v2 - 17000/Validation/\""
      ]
    },
    {
      "cell_type": "code",
      "execution_count": null,
      "metadata": {
        "id": "1D1N_Opb_p6W",
        "outputId": "f1ce1276-e0be-4e85-a9ad-35b8a0e5a81d"
      },
      "outputs": [
        {
          "name": "stdout",
          "output_type": "stream",
          "text": [
            "Found 30246 files belonging to 5 classes.\n"
          ]
        },
        {
          "name": "stderr",
          "output_type": "stream",
          "text": [
            "2023-02-07 09:23:46.221780: I tensorflow/stream_executor/cuda/cuda_gpu_executor.cc:975] successful NUMA node read from SysFS had negative value (-1), but there must be at least one NUMA node, so returning NUMA node zero\n",
            "2023-02-07 09:23:46.261382: I tensorflow/stream_executor/cuda/cuda_gpu_executor.cc:975] successful NUMA node read from SysFS had negative value (-1), but there must be at least one NUMA node, so returning NUMA node zero\n",
            "2023-02-07 09:23:46.261702: I tensorflow/stream_executor/cuda/cuda_gpu_executor.cc:975] successful NUMA node read from SysFS had negative value (-1), but there must be at least one NUMA node, so returning NUMA node zero\n",
            "2023-02-07 09:23:46.290211: I tensorflow/core/platform/cpu_feature_guard.cc:193] This TensorFlow binary is optimized with oneAPI Deep Neural Network Library (oneDNN) to use the following CPU instructions in performance-critical operations:  AVX2 FMA\n",
            "To enable them in other operations, rebuild TensorFlow with the appropriate compiler flags.\n",
            "2023-02-07 09:23:46.290698: I tensorflow/stream_executor/cuda/cuda_gpu_executor.cc:975] successful NUMA node read from SysFS had negative value (-1), but there must be at least one NUMA node, so returning NUMA node zero\n",
            "2023-02-07 09:23:46.291004: I tensorflow/stream_executor/cuda/cuda_gpu_executor.cc:975] successful NUMA node read from SysFS had negative value (-1), but there must be at least one NUMA node, so returning NUMA node zero\n",
            "2023-02-07 09:23:46.291172: I tensorflow/stream_executor/cuda/cuda_gpu_executor.cc:975] successful NUMA node read from SysFS had negative value (-1), but there must be at least one NUMA node, so returning NUMA node zero\n",
            "2023-02-07 09:23:46.706868: I tensorflow/stream_executor/cuda/cuda_gpu_executor.cc:975] successful NUMA node read from SysFS had negative value (-1), but there must be at least one NUMA node, so returning NUMA node zero\n",
            "2023-02-07 09:23:46.707067: I tensorflow/stream_executor/cuda/cuda_gpu_executor.cc:975] successful NUMA node read from SysFS had negative value (-1), but there must be at least one NUMA node, so returning NUMA node zero\n",
            "2023-02-07 09:23:46.707236: I tensorflow/stream_executor/cuda/cuda_gpu_executor.cc:975] successful NUMA node read from SysFS had negative value (-1), but there must be at least one NUMA node, so returning NUMA node zero\n",
            "2023-02-07 09:23:46.707368: I tensorflow/core/common_runtime/gpu/gpu_device.cc:1532] Created device /job:localhost/replica:0/task:0/device:GPU:0 with 7380 MB memory:  -> device: 0, name: NVIDIA GeForce GTX 1080, pci bus id: 0000:00:05.0, compute capability: 6.1\n"
          ]
        },
        {
          "name": "stdout",
          "output_type": "stream",
          "text": [
            "Found 8051 files belonging to 5 classes.\n"
          ]
        }
      ],
      "source": [
        "from tensorflow.keras import layers\n",
        "\n",
        "train_data = tf.keras.preprocessing.image_dataset_from_directory(directory=train_dir,\n",
        "                                                                 image_size=(256,256),\n",
        "                                                                 label_mode='categorical', batch_size=64, \n",
        "                                                                 )\n",
        "val_data = tf.keras.preprocessing.image_dataset_from_directory(directory=val_dir,\n",
        "                                                                 image_size=(256,256),\n",
        "                                                                 label_mode='categorical', batch_size=64,\n",
        "                                                                )"
      ]
    },
    {
      "cell_type": "code",
      "execution_count": null,
      "metadata": {
        "id": "aMLt6Twb_p6W"
      },
      "outputs": [],
      "source": [
        "#Normalization of the data\n",
        "\n",
        "nrmzln_layer = layers.experimental.preprocessing.Rescaling(1./255)\n",
        "\n",
        "train_data = train_data.map(lambda x,\n",
        "                          y: (nrmzln_layer(x), y))\n",
        "\n",
        "val_data = val_data.map(lambda x,\n",
        "                          y: (nrmzln_layer(x), y))"
      ]
    },
    {
      "cell_type": "code",
      "execution_count": null,
      "metadata": {
        "id": "hBuyIVJI_p6X"
      },
      "outputs": [],
      "source": [
        "#Custom Model Architecture\n",
        "\n",
        "from keras.layers import LeakyReLU\n",
        "model = tf.keras.models.Sequential([\n",
        "                                    \n",
        "    # First convolution layer \n",
        "    tf.keras.layers.Conv2D(32, 3, activation=LeakyReLU(alpha=0.01),padding=\"same\", input_shape=(256, 256, 3),use_bias=True),\n",
        "    tf.keras.layers.MaxPooling2D(2, 2),\n",
        "    tf.keras.layers.Dropout(0.50),\n",
        "    \n",
        "\n",
        "    # Second convolution layer \n",
        "    tf.keras.layers.Conv2D(64, 3, activation=LeakyReLU(alpha=0.01),padding=\"same\",use_bias=True),\n",
        "    tf.keras.layers.MaxPooling2D(2,2),\n",
        "    BatchNormalization(),\n",
        "    tf.keras.layers.Dropout(0.25),\n",
        "\n",
        "    \n",
        "    # Third convolution layer  \n",
        "    tf.keras.layers.Conv2D(128, 2, activation=LeakyReLU(alpha=0.01),padding=\"same\",use_bias=True),\n",
        "    tf.keras.layers.MaxPooling2D(2,2),\n",
        "    BatchNormalization(),\n",
        "    tf.keras.layers.Dropout(0.15),\n",
        "\n",
        "    # Fourth convolution layer \n",
        "    tf.keras.layers.Conv2D(64, 1, activation=LeakyReLU(alpha=0.01),padding=\"same\",use_bias=True),\n",
        "    tf.keras.layers.MaxPooling2D(2,2),\n",
        "    tf.keras.layers.Dropout(0.10),\n",
        "\n",
        "    # Flatten the pooled feature maps\n",
        "    tf.keras.layers.Flatten(),\n",
        "\n",
        "    # Fully connected hidden layer\n",
        "    tf.keras.layers.Dense(96, activation=LeakyReLU(alpha=0.01),use_bias=True),\n",
        "\n",
        "    # Output layer\n",
        "    tf.keras.layers.Dense(5, activation='softmax',activity_regularizer=regularizers.L2(0.001))  \n",
        "\n",
        "])\n"
      ]
    },
    {
      "cell_type": "code",
      "execution_count": null,
      "metadata": {
        "id": "hyY5rpTg_p6Y",
        "outputId": "9f012243-592c-4919-f20a-110735a6aa69"
      },
      "outputs": [
        {
          "name": "stdout",
          "output_type": "stream",
          "text": [
            "Model: \"sequential\"\n",
            "_________________________________________________________________\n",
            " Layer (type)                Output Shape              Param #   \n",
            "=================================================================\n",
            " conv2d (Conv2D)             (None, 256, 256, 32)      896       \n",
            "                                                                 \n",
            " max_pooling2d (MaxPooling2D  (None, 128, 128, 32)     0         \n",
            " )                                                               \n",
            "                                                                 \n",
            " dropout (Dropout)           (None, 128, 128, 32)      0         \n",
            "                                                                 \n",
            " conv2d_1 (Conv2D)           (None, 128, 128, 64)      18496     \n",
            "                                                                 \n",
            " max_pooling2d_1 (MaxPooling  (None, 64, 64, 64)       0         \n",
            " 2D)                                                             \n",
            "                                                                 \n",
            " batch_normalization (BatchN  (None, 64, 64, 64)       256       \n",
            " ormalization)                                                   \n",
            "                                                                 \n",
            " dropout_1 (Dropout)         (None, 64, 64, 64)        0         \n",
            "                                                                 \n",
            " conv2d_2 (Conv2D)           (None, 64, 64, 128)       32896     \n",
            "                                                                 \n",
            " max_pooling2d_2 (MaxPooling  (None, 32, 32, 128)      0         \n",
            " 2D)                                                             \n",
            "                                                                 \n",
            " batch_normalization_1 (Batc  (None, 32, 32, 128)      512       \n",
            " hNormalization)                                                 \n",
            "                                                                 \n",
            " dropout_2 (Dropout)         (None, 32, 32, 128)       0         \n",
            "                                                                 \n",
            " conv2d_3 (Conv2D)           (None, 32, 32, 64)        8256      \n",
            "                                                                 \n",
            " max_pooling2d_3 (MaxPooling  (None, 16, 16, 64)       0         \n",
            " 2D)                                                             \n",
            "                                                                 \n",
            " dropout_3 (Dropout)         (None, 16, 16, 64)        0         \n",
            "                                                                 \n",
            " flatten (Flatten)           (None, 16384)             0         \n",
            "                                                                 \n",
            " dense (Dense)               (None, 96)                1572960   \n",
            "                                                                 \n",
            " dense_1 (Dense)             (None, 5)                 485       \n",
            "                                                                 \n",
            "=================================================================\n",
            "Total params: 1,634,757\n",
            "Trainable params: 1,634,373\n",
            "Non-trainable params: 384\n",
            "_________________________________________________________________\n"
          ]
        }
      ],
      "source": [
        "#print model summary\n",
        "\n",
        "model.summary()"
      ]
    },
    {
      "cell_type": "code",
      "execution_count": null,
      "metadata": {
        "id": "ovctdQp__p6Z"
      },
      "outputs": [],
      "source": [
        "#Performance evaluation Metrics delcaration \n",
        "\n",
        "from tensorflow.keras.optimizers import Adam\n",
        "from tensorflow.keras.metrics import SensitivityAtSpecificity,SpecificityAtSensitivity,Recall,Precision\n",
        "\n",
        "model.compile(loss=tf.losses.categorical_crossentropy,\n",
        "              optimizer=Adam(learning_rate=0.001),\n",
        "              metrics=['accuracy',SensitivityAtSpecificity(0.5),SpecificityAtSensitivity(0.5),Recall(0.5),Precision(0.5)]) \n"
      ]
    },
    {
      "cell_type": "code",
      "execution_count": null,
      "metadata": {
        "id": "kwARO1o7_p6Z",
        "outputId": "4e9ddcb0-78e6-476a-efd9-c4b4c3695c0c"
      },
      "outputs": [
        {
          "name": "stdout",
          "output_type": "stream",
          "text": [
            "Device Spec:  /job:localhost/replica:0/device:GPU:*\n",
            "WARNING:tensorflow:`period` argument is deprecated. Please use `save_freq` to specify the frequency in number of batches seen.\n",
            "Epoch 1/150\n"
          ]
        },
        {
          "name": "stderr",
          "output_type": "stream",
          "text": [
            "2023-02-07 09:24:53.574324: I tensorflow/stream_executor/cuda/cuda_dnn.cc:384] Loaded cuDNN version 8100\n",
            "2023-02-07 09:24:53.840500: I tensorflow/core/platform/default/subprocess.cc:304] Start cannot spawn child process: No such file or directory\n"
          ]
        },
        {
          "name": "stdout",
          "output_type": "stream",
          "text": [
            "473/473 [==============================] - ETA: 0s - loss: 2.4476 - accuracy: 0.2762 - sensitivity_at_specificity: 0.6133 - specificity_at_sensitivity: 0.6055 - recall: 0.0348 - precision: 0.3479\n",
            "Epoch 1: val_accuracy improved from -inf to 0.20000, saving model to ECG_Spectrogram_Model.h5\n",
            "473/473 [==============================] - 72s 146ms/step - loss: 2.4476 - accuracy: 0.2762 - sensitivity_at_specificity: 0.6133 - specificity_at_sensitivity: 0.6055 - recall: 0.0348 - precision: 0.3479 - val_loss: 3.4817 - val_accuracy: 0.2000 - val_sensitivity_at_specificity: 0.4375 - val_specificity_at_sensitivity: 0.4258 - val_recall: 0.0344 - val_precision: 0.3143\n",
            "Epoch 2/150\n",
            "473/473 [==============================] - ETA: 0s - loss: 1.0452 - accuracy: 0.5715 - sensitivity_at_specificity: 0.9439 - specificity_at_sensitivity: 0.9270 - recall: 0.3903 - precision: 0.7124\n",
            "Epoch 2: val_accuracy did not improve from 0.20000\n",
            "473/473 [==============================] - 68s 143ms/step - loss: 1.0452 - accuracy: 0.5715 - sensitivity_at_specificity: 0.9439 - specificity_at_sensitivity: 0.9270 - recall: 0.3903 - precision: 0.7124 - val_loss: 1.6993 - val_accuracy: 0.1937 - val_sensitivity_at_specificity: 0.8750 - val_specificity_at_sensitivity: 0.7172 - val_recall: 0.1844 - val_precision: 0.1934\n",
            "Epoch 3/150\n",
            "473/473 [==============================] - ETA: 0s - loss: 0.7595 - accuracy: 0.7016 - sensitivity_at_specificity: 0.9888 - specificity_at_sensitivity: 0.9756 - recall: 0.6043 - precision: 0.7770\n",
            "Epoch 3: val_accuracy improved from 0.20000 to 0.65938, saving model to ECG_Spectrogram_Model.h5\n",
            "473/473 [==============================] - 69s 145ms/step - loss: 0.7595 - accuracy: 0.7016 - sensitivity_at_specificity: 0.9888 - specificity_at_sensitivity: 0.9756 - recall: 0.6043 - precision: 0.7770 - val_loss: 0.8265 - val_accuracy: 0.6594 - val_sensitivity_at_specificity: 0.9875 - val_specificity_at_sensitivity: 0.9711 - val_recall: 0.5969 - val_precision: 0.7461\n",
            "Epoch 4/150\n",
            "473/473 [==============================] - ETA: 0s - loss: 0.6739 - accuracy: 0.7383 - sensitivity_at_specificity: 0.9921 - specificity_at_sensitivity: 0.9845 - recall: 0.6701 - precision: 0.7932\n",
            "Epoch 4: val_accuracy improved from 0.65938 to 0.66562, saving model to ECG_Spectrogram_Model.h5\n",
            "473/473 [==============================] - 69s 146ms/step - loss: 0.6739 - accuracy: 0.7383 - sensitivity_at_specificity: 0.9921 - specificity_at_sensitivity: 0.9845 - recall: 0.6701 - precision: 0.7932 - val_loss: 0.8471 - val_accuracy: 0.6656 - val_sensitivity_at_specificity: 0.9812 - val_specificity_at_sensitivity: 0.9820 - val_recall: 0.6187 - val_precision: 0.7174\n",
            "Epoch 5/150\n",
            "473/473 [==============================] - ETA: 0s - loss: 0.6188 - accuracy: 0.7644 - sensitivity_at_specificity: 0.9939 - specificity_at_sensitivity: 0.9886 - recall: 0.7082 - precision: 0.8117\n",
            "Epoch 5: val_accuracy improved from 0.66562 to 0.80625, saving model to ECG_Spectrogram_Model.h5\n",
            "473/473 [==============================] - 69s 146ms/step - loss: 0.6188 - accuracy: 0.7644 - sensitivity_at_specificity: 0.9939 - specificity_at_sensitivity: 0.9886 - recall: 0.7082 - precision: 0.8117 - val_loss: 0.5153 - val_accuracy: 0.8062 - val_sensitivity_at_specificity: 0.9906 - val_specificity_at_sensitivity: 0.9922 - val_recall: 0.7688 - val_precision: 0.8693\n",
            "Epoch 6/150\n",
            "473/473 [==============================] - ETA: 0s - loss: 0.5454 - accuracy: 0.7997 - sensitivity_at_specificity: 0.9950 - specificity_at_sensitivity: 0.9933 - recall: 0.7549 - precision: 0.8380\n",
            "Epoch 6: val_accuracy did not improve from 0.80625\n",
            "473/473 [==============================] - 70s 147ms/step - loss: 0.5454 - accuracy: 0.7997 - sensitivity_at_specificity: 0.9950 - specificity_at_sensitivity: 0.9933 - recall: 0.7549 - precision: 0.8380 - val_loss: 1.2882 - val_accuracy: 0.3750 - val_sensitivity_at_specificity: 0.9750 - val_specificity_at_sensitivity: 0.8164 - val_recall: 0.3469 - val_precision: 0.4007\n",
            "Epoch 7/150\n",
            "473/473 [==============================] - ETA: 0s - loss: 0.4848 - accuracy: 0.8232 - sensitivity_at_specificity: 0.9964 - specificity_at_sensitivity: 0.9956 - recall: 0.7885 - precision: 0.8583\n",
            "Epoch 7: val_accuracy improved from 0.80625 to 0.86875, saving model to ECG_Spectrogram_Model.h5\n",
            "473/473 [==============================] - 70s 148ms/step - loss: 0.4848 - accuracy: 0.8232 - sensitivity_at_specificity: 0.9964 - specificity_at_sensitivity: 0.9956 - recall: 0.7885 - precision: 0.8583 - val_loss: 0.3643 - val_accuracy: 0.8687 - val_sensitivity_at_specificity: 0.9969 - val_specificity_at_sensitivity: 0.9984 - val_recall: 0.8562 - val_precision: 0.8896\n",
            "Epoch 8/150\n",
            "473/473 [==============================] - ETA: 0s - loss: 0.4390 - accuracy: 0.8405 - sensitivity_at_specificity: 0.9973 - specificity_at_sensitivity: 0.9968 - recall: 0.8127 - precision: 0.8704\n",
            "Epoch 8: val_accuracy did not improve from 0.86875\n",
            "473/473 [==============================] - 69s 146ms/step - loss: 0.4390 - accuracy: 0.8405 - sensitivity_at_specificity: 0.9973 - specificity_at_sensitivity: 0.9968 - recall: 0.8127 - precision: 0.8704 - val_loss: 0.5149 - val_accuracy: 0.8188 - val_sensitivity_at_specificity: 0.9875 - val_specificity_at_sensitivity: 0.9953 - val_recall: 0.8000 - val_precision: 0.8366\n",
            "Epoch 9/150\n",
            "473/473 [==============================] - ETA: 0s - loss: 0.4155 - accuracy: 0.8522 - sensitivity_at_specificity: 0.9973 - specificity_at_sensitivity: 0.9976 - recall: 0.8255 - precision: 0.8774\n",
            "Epoch 9: val_accuracy improved from 0.86875 to 0.87187, saving model to ECG_Spectrogram_Model.h5\n",
            "473/473 [==============================] - 70s 147ms/step - loss: 0.4155 - accuracy: 0.8522 - sensitivity_at_specificity: 0.9973 - specificity_at_sensitivity: 0.9976 - recall: 0.8255 - precision: 0.8774 - val_loss: 0.3772 - val_accuracy: 0.8719 - val_sensitivity_at_specificity: 1.0000 - val_specificity_at_sensitivity: 0.9984 - val_recall: 0.8562 - val_precision: 0.8867\n",
            "Epoch 10/150\n",
            "473/473 [==============================] - ETA: 0s - loss: 0.3910 - accuracy: 0.8588 - sensitivity_at_specificity: 0.9972 - specificity_at_sensitivity: 0.9980 - recall: 0.8346 - precision: 0.8825\n",
            "Epoch 10: val_accuracy did not improve from 0.87187\n",
            "473/473 [==============================] - 69s 146ms/step - loss: 0.3910 - accuracy: 0.8588 - sensitivity_at_specificity: 0.9972 - specificity_at_sensitivity: 0.9980 - recall: 0.8346 - precision: 0.8825 - val_loss: 0.3815 - val_accuracy: 0.8562 - val_sensitivity_at_specificity: 1.0000 - val_specificity_at_sensitivity: 0.9992 - val_recall: 0.8375 - val_precision: 0.8816\n",
            "Epoch 11/150\n",
            "473/473 [==============================] - ETA: 0s - loss: 0.3653 - accuracy: 0.8684 - sensitivity_at_specificity: 0.9971 - specificity_at_sensitivity: 0.9984 - recall: 0.8478 - precision: 0.8889\n",
            "Epoch 11: val_accuracy did not improve from 0.87187\n",
            "473/473 [==============================] - 70s 147ms/step - loss: 0.3653 - accuracy: 0.8684 - sensitivity_at_specificity: 0.9971 - specificity_at_sensitivity: 0.9984 - recall: 0.8478 - precision: 0.8889 - val_loss: 0.4403 - val_accuracy: 0.8438 - val_sensitivity_at_specificity: 0.9937 - val_specificity_at_sensitivity: 0.9961 - val_recall: 0.8406 - val_precision: 0.8594\n",
            "Epoch 12/150\n",
            "473/473 [==============================] - ETA: 0s - loss: 0.3507 - accuracy: 0.8748 - sensitivity_at_specificity: 0.9975 - specificity_at_sensitivity: 0.9984 - recall: 0.8554 - precision: 0.8948\n",
            "Epoch 12: val_accuracy improved from 0.87187 to 0.90312, saving model to ECG_Spectrogram_Model.h5\n",
            "473/473 [==============================] - 70s 148ms/step - loss: 0.3507 - accuracy: 0.8748 - sensitivity_at_specificity: 0.9975 - specificity_at_sensitivity: 0.9984 - recall: 0.8554 - precision: 0.8948 - val_loss: 0.2727 - val_accuracy: 0.9031 - val_sensitivity_at_specificity: 1.0000 - val_specificity_at_sensitivity: 1.0000 - val_recall: 0.8938 - val_precision: 0.9108\n",
            "Epoch 13/150\n",
            "473/473 [==============================] - ETA: 0s - loss: 0.3333 - accuracy: 0.8792 - sensitivity_at_specificity: 0.9975 - specificity_at_sensitivity: 0.9989 - recall: 0.8603 - precision: 0.8976\n",
            "Epoch 13: val_accuracy did not improve from 0.90312\n",
            "473/473 [==============================] - 70s 147ms/step - loss: 0.3333 - accuracy: 0.8792 - sensitivity_at_specificity: 0.9975 - specificity_at_sensitivity: 0.9989 - recall: 0.8603 - precision: 0.8976 - val_loss: 0.3422 - val_accuracy: 0.8687 - val_sensitivity_at_specificity: 0.9969 - val_specificity_at_sensitivity: 1.0000 - val_recall: 0.8656 - val_precision: 0.8850\n"
          ]
        },
        {
          "name": "stdout",
          "output_type": "stream",
          "text": [
            "Epoch 14/150\n",
            "473/473 [==============================] - ETA: 0s - loss: 0.3242 - accuracy: 0.8838 - sensitivity_at_specificity: 0.9973 - specificity_at_sensitivity: 0.9990 - recall: 0.8673 - precision: 0.9016\n",
            "Epoch 14: val_accuracy did not improve from 0.90312\n",
            "473/473 [==============================] - 70s 147ms/step - loss: 0.3242 - accuracy: 0.8838 - sensitivity_at_specificity: 0.9973 - specificity_at_sensitivity: 0.9990 - recall: 0.8673 - precision: 0.9016 - val_loss: 0.2584 - val_accuracy: 0.8938 - val_sensitivity_at_specificity: 1.0000 - val_specificity_at_sensitivity: 1.0000 - val_recall: 0.8906 - val_precision: 0.9048\n",
            "Epoch 15/150\n",
            "473/473 [==============================] - ETA: 0s - loss: 0.3119 - accuracy: 0.8864 - sensitivity_at_specificity: 0.9977 - specificity_at_sensitivity: 0.9991 - recall: 0.8705 - precision: 0.9035\n",
            "Epoch 15: val_accuracy did not improve from 0.90312\n",
            "473/473 [==============================] - 69s 146ms/step - loss: 0.3119 - accuracy: 0.8864 - sensitivity_at_specificity: 0.9977 - specificity_at_sensitivity: 0.9991 - recall: 0.8705 - precision: 0.9035 - val_loss: 0.3821 - val_accuracy: 0.8344 - val_sensitivity_at_specificity: 0.9937 - val_specificity_at_sensitivity: 0.9984 - val_recall: 0.8281 - val_precision: 0.8660\n",
            "Epoch 16/150\n",
            "473/473 [==============================] - ETA: 0s - loss: 0.2989 - accuracy: 0.8911 - sensitivity_at_specificity: 0.9980 - specificity_at_sensitivity: 0.9992 - recall: 0.8752 - precision: 0.9056\n",
            "Epoch 16: val_accuracy did not improve from 0.90312\n",
            "473/473 [==============================] - 69s 146ms/step - loss: 0.2989 - accuracy: 0.8911 - sensitivity_at_specificity: 0.9980 - specificity_at_sensitivity: 0.9992 - recall: 0.8752 - precision: 0.9056 - val_loss: 0.3378 - val_accuracy: 0.8938 - val_sensitivity_at_specificity: 0.9937 - val_specificity_at_sensitivity: 0.9961 - val_recall: 0.8813 - val_precision: 0.9068\n",
            "Epoch 17/150\n",
            "473/473 [==============================] - ETA: 0s - loss: 0.2889 - accuracy: 0.8946 - sensitivity_at_specificity: 0.9980 - specificity_at_sensitivity: 0.9993 - recall: 0.8805 - precision: 0.9100\n",
            "Epoch 17: val_accuracy did not improve from 0.90312\n",
            "473/473 [==============================] - 69s 146ms/step - loss: 0.2889 - accuracy: 0.8946 - sensitivity_at_specificity: 0.9980 - specificity_at_sensitivity: 0.9993 - recall: 0.8805 - precision: 0.9100 - val_loss: 0.2762 - val_accuracy: 0.9031 - val_sensitivity_at_specificity: 1.0000 - val_specificity_at_sensitivity: 0.9992 - val_recall: 0.9031 - val_precision: 0.9146\n"
          ]
        }
      ],
      "source": [
        "#Model Execution\n",
        "\n",
        "from keras.callbacks import ModelCheckpoint, EarlyStopping\n",
        "\n",
        "# Initializing Device Specification\n",
        "device_spec = tf.DeviceSpec(job =\"localhost\", replica = 0, device_type = \"GPU\")\n",
        " \n",
        "# Printing the DeviceSpec\n",
        "print('Device Spec: ', device_spec.to_string())\n",
        " \n",
        "# Enabling device logging\n",
        "tf.debugging.set_log_device_placement(True)\n",
        " \n",
        "# Specifying the device\n",
        "with tf.device(device_spec):\n",
        "    \n",
        "#with tf.device('/gpu:10'):\n",
        "    \n",
        "    checkpoint = ModelCheckpoint(\"ECG_Spectrogram_Model.h5\", monitor='val_accuracy', verbose=1, save_best_only=True, save_weights_only=False, mode='auto', period=1)\n",
        "    mycallback=tf.keras.callbacks.EarlyStopping(monitor=\"val_accuracy\", patience=5, mode=\"auto\")\n",
        "    \n",
        "    history = model.fit(\n",
        "          train_data,\n",
        "          #steps_per_epoch=20, \n",
        "          epochs=150,\n",
        "          verbose=1,\n",
        "          validation_data = train_data,\n",
        "          validation_steps=5, \n",
        "          callbacks = [mycallback,checkpoint]\n",
        "    ) "
      ]
    },
    {
      "cell_type": "code",
      "execution_count": null,
      "metadata": {
        "id": "wAfWe9hg_p6a",
        "outputId": "6e395ecf-3181-4d6b-9c78-6c9b3404bc26"
      },
      "outputs": [
        {
          "name": "stdout",
          "output_type": "stream",
          "text": [
            "Training Accuracy:  0.8945645689964294\n",
            "Validation Accuracy:  0.903124988079071\n",
            "Validation Specificity:  1.0\n",
            "Validation Sensitivity:  1.0\n",
            "Validation Recall:  0.903124988079071\n",
            "Validation Precision:  0.9145569801330566\n",
            "Validation Loss:  0.2583772540092468\n"
          ]
        }
      ],
      "source": [
        "Training_Accuracy=history.history['accuracy']\n",
        "Validation_Accuracy=history.history['val_accuracy']\n",
        "Validation_Specificity=history.history['val_specificity_at_sensitivity']\n",
        "Validation_Sensitivity=history.history['val_sensitivity_at_specificity']\n",
        "Validation_Recall=history.history['val_recall']\n",
        "Validation_Precision=history.history['val_precision']\n",
        "Validation_Loss=history.history['val_loss']\n",
        "\n",
        "print(\"Training Accuracy: \",max(Training_Accuracy))\n",
        "print(\"Validation Accuracy: \",max(Validation_Accuracy))\n",
        "print(\"Validation Specificity: \",max(Validation_Specificity))\n",
        "print(\"Validation Sensitivity: \",max(Validation_Sensitivity))\n",
        "print(\"Validation Recall: \",max(Validation_Recall))\n",
        "print(\"Validation Precision: \",max(Validation_Precision))\n",
        "print(\"Validation Loss: \",min(Validation_Loss))"
      ]
    }
  ],
  "metadata": {
    "accelerator": "GPU",
    "colab": {
      "provenance": []
    },
    "gpuClass": "standard",
    "kernelspec": {
      "display_name": "Python 3 (ipykernel)",
      "language": "python",
      "name": "python3"
    },
    "language_info": {
      "codemirror_mode": {
        "name": "ipython",
        "version": 3
      },
      "file_extension": ".py",
      "mimetype": "text/x-python",
      "name": "python",
      "nbconvert_exporter": "python",
      "pygments_lexer": "ipython3",
      "version": "3.10.6"
    }
  },
  "nbformat": 4,
  "nbformat_minor": 0
}