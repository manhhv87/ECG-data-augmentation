{
 "cells": [
  {
   "cell_type": "markdown",
   "metadata": {
    "id": "SsTzc3oi726u"
   },
   "source": [
    "# **Building a Convolutional Neural Network with Keras**"
   ]
  },
  {
   "cell_type": "code",
   "execution_count": 1,
   "metadata": {},
   "outputs": [
    {
     "name": "stdout",
     "output_type": "stream",
     "text": [
      "2.9.1\n"
     ]
    }
   ],
   "source": [
    "#Tensorflow version\n",
    "\n",
    "import tensorflow as tf\n",
    "print(tf.__version__)"
   ]
  },
  {
   "cell_type": "code",
   "execution_count": 2,
   "metadata": {},
   "outputs": [],
   "source": [
    "#Importing libraries\n",
    "\n",
    "import tensorflow as tf\n",
    "from tensorflow import keras\n",
    "from keras.layers import Input, Conv2D, Dense, Flatten, BatchNormalization, Dropout, MaxPooling2D, GlobalMaxPooling2D\n",
    "from keras.models import Model\n",
    "import matplotlib.pyplot as plt\n",
    "from keras.applications.efficientnet import EfficientNetB0\n",
    "from keras.preprocessing import image\n",
    "#from keras.preprocessing.image import load_img\n",
    "from keras.models import Sequential\n",
    "import numpy as np\n",
    "from tensorflow.keras import regularizers"
   ]
  },
  {
   "cell_type": "code",
   "execution_count": 3,
   "metadata": {},
   "outputs": [],
   "source": [
    "# 3 percent with HYP 10 percent (17000)\n",
    "train_dir=\"/home/ubuntu/From_Laptop/multi-class-NEW/12-Lead_ECG_version_2/DA_version_3/Model_Training/3 percent with HYP 10 percent - v2 - 17000/Training/\"\n",
    "val_dir=\"/home/ubuntu/From_Laptop/multi-class-NEW/12-Lead_ECG_version_2/DA_version_3/Model_Training/3 percent with HYP 10 percent - v2 - 17000/Validation/\""
   ]
  },
  {
   "cell_type": "code",
   "execution_count": 4,
   "metadata": {},
   "outputs": [
    {
     "name": "stdout",
     "output_type": "stream",
     "text": [
      "Found 13040 files belonging to 5 classes.\n"
     ]
    },
    {
     "name": "stderr",
     "output_type": "stream",
     "text": [
      "2023-02-08 10:20:23.795291: I tensorflow/stream_executor/cuda/cuda_gpu_executor.cc:975] successful NUMA node read from SysFS had negative value (-1), but there must be at least one NUMA node, so returning NUMA node zero\n",
      "2023-02-08 10:20:23.818775: I tensorflow/stream_executor/cuda/cuda_gpu_executor.cc:975] successful NUMA node read from SysFS had negative value (-1), but there must be at least one NUMA node, so returning NUMA node zero\n",
      "2023-02-08 10:20:23.819094: I tensorflow/stream_executor/cuda/cuda_gpu_executor.cc:975] successful NUMA node read from SysFS had negative value (-1), but there must be at least one NUMA node, so returning NUMA node zero\n",
      "2023-02-08 10:20:23.834246: I tensorflow/core/platform/cpu_feature_guard.cc:193] This TensorFlow binary is optimized with oneAPI Deep Neural Network Library (oneDNN) to use the following CPU instructions in performance-critical operations:  AVX2 FMA\n",
      "To enable them in other operations, rebuild TensorFlow with the appropriate compiler flags.\n",
      "2023-02-08 10:20:23.834639: I tensorflow/stream_executor/cuda/cuda_gpu_executor.cc:975] successful NUMA node read from SysFS had negative value (-1), but there must be at least one NUMA node, so returning NUMA node zero\n",
      "2023-02-08 10:20:23.834828: I tensorflow/stream_executor/cuda/cuda_gpu_executor.cc:975] successful NUMA node read from SysFS had negative value (-1), but there must be at least one NUMA node, so returning NUMA node zero\n",
      "2023-02-08 10:20:23.835089: I tensorflow/stream_executor/cuda/cuda_gpu_executor.cc:975] successful NUMA node read from SysFS had negative value (-1), but there must be at least one NUMA node, so returning NUMA node zero\n",
      "2023-02-08 10:20:24.258270: I tensorflow/stream_executor/cuda/cuda_gpu_executor.cc:975] successful NUMA node read from SysFS had negative value (-1), but there must be at least one NUMA node, so returning NUMA node zero\n",
      "2023-02-08 10:20:24.258471: I tensorflow/stream_executor/cuda/cuda_gpu_executor.cc:975] successful NUMA node read from SysFS had negative value (-1), but there must be at least one NUMA node, so returning NUMA node zero\n",
      "2023-02-08 10:20:24.258629: I tensorflow/stream_executor/cuda/cuda_gpu_executor.cc:975] successful NUMA node read from SysFS had negative value (-1), but there must be at least one NUMA node, so returning NUMA node zero\n",
      "2023-02-08 10:20:24.258757: I tensorflow/core/common_runtime/gpu/gpu_device.cc:1532] Created device /job:localhost/replica:0/task:0/device:GPU:0 with 7380 MB memory:  -> device: 0, name: NVIDIA GeForce GTX 1080, pci bus id: 0000:00:05.0, compute capability: 6.1\n"
     ]
    },
    {
     "name": "stdout",
     "output_type": "stream",
     "text": [
      "Found 5179 files belonging to 5 classes.\n"
     ]
    }
   ],
   "source": [
    "from tensorflow.keras import layers\n",
    "\n",
    "train_data = tf.keras.preprocessing.image_dataset_from_directory(directory=train_dir,\n",
    "                                                                 image_size=(256,256),\n",
    "                                                                 label_mode='categorical', batch_size=64, \n",
    "                                                                 )\n",
    "val_data = tf.keras.preprocessing.image_dataset_from_directory(directory=val_dir,\n",
    "                                                                 image_size=(256,256),\n",
    "                                                                 label_mode='categorical', batch_size=64,\n",
    "                                                                )"
   ]
  },
  {
   "cell_type": "code",
   "execution_count": 5,
   "metadata": {},
   "outputs": [],
   "source": [
    "#Normalization of the data\n",
    "\n",
    "nrmzln_layer = layers.experimental.preprocessing.Rescaling(1./255)\n",
    "\n",
    "train_data = train_data.map(lambda x,\n",
    "                          y: (nrmzln_layer(x), y))\n",
    "\n",
    "val_data = val_data.map(lambda x,\n",
    "                          y: (nrmzln_layer(x), y))"
   ]
  },
  {
   "cell_type": "code",
   "execution_count": 6,
   "metadata": {},
   "outputs": [],
   "source": [
    "#Custom Model Architecture\n",
    "\n",
    "from keras.layers import LeakyReLU\n",
    "model = tf.keras.models.Sequential([\n",
    "                                    \n",
    "    # First convolution layer \n",
    "    tf.keras.layers.Conv2D(32, 3, activation=LeakyReLU(alpha=0.01),padding=\"same\", input_shape=(256, 256, 3),use_bias=True),\n",
    "    tf.keras.layers.MaxPooling2D(2, 2),\n",
    "    tf.keras.layers.Dropout(0.50),\n",
    "    \n",
    "\n",
    "    # Second convolution layer \n",
    "    tf.keras.layers.Conv2D(64, 3, activation=LeakyReLU(alpha=0.01),padding=\"same\",use_bias=True),\n",
    "    tf.keras.layers.MaxPooling2D(2,2),\n",
    "    BatchNormalization(),\n",
    "    tf.keras.layers.Dropout(0.25),\n",
    "\n",
    "    \n",
    "    # Third convolution layer  \n",
    "    tf.keras.layers.Conv2D(128, 2, activation=LeakyReLU(alpha=0.01),padding=\"same\",use_bias=True),\n",
    "    tf.keras.layers.MaxPooling2D(2,2),\n",
    "    BatchNormalization(),\n",
    "    tf.keras.layers.Dropout(0.15),\n",
    "\n",
    "    # Fourth convolution layer \n",
    "    tf.keras.layers.Conv2D(64, 1, activation=LeakyReLU(alpha=0.01),padding=\"same\",use_bias=True),\n",
    "    tf.keras.layers.MaxPooling2D(2,2),\n",
    "    tf.keras.layers.Dropout(0.10),\n",
    "\n",
    "    # Flatten the pooled feature maps\n",
    "    tf.keras.layers.Flatten(),\n",
    "\n",
    "    # Fully connected hidden layer\n",
    "    tf.keras.layers.Dense(96, activation=LeakyReLU(alpha=0.01),use_bias=True),\n",
    "\n",
    "    # Output layer\n",
    "    tf.keras.layers.Dense(5, activation='softmax',activity_regularizer=regularizers.L2(0.001))  \n",
    "\n",
    "])\n"
   ]
  },
  {
   "cell_type": "code",
   "execution_count": 7,
   "metadata": {},
   "outputs": [
    {
     "name": "stdout",
     "output_type": "stream",
     "text": [
      "Model: \"sequential\"\n",
      "_________________________________________________________________\n",
      " Layer (type)                Output Shape              Param #   \n",
      "=================================================================\n",
      " conv2d (Conv2D)             (None, 256, 256, 32)      896       \n",
      "                                                                 \n",
      " max_pooling2d (MaxPooling2D  (None, 128, 128, 32)     0         \n",
      " )                                                               \n",
      "                                                                 \n",
      " dropout (Dropout)           (None, 128, 128, 32)      0         \n",
      "                                                                 \n",
      " conv2d_1 (Conv2D)           (None, 128, 128, 64)      18496     \n",
      "                                                                 \n",
      " max_pooling2d_1 (MaxPooling  (None, 64, 64, 64)       0         \n",
      " 2D)                                                             \n",
      "                                                                 \n",
      " batch_normalization (BatchN  (None, 64, 64, 64)       256       \n",
      " ormalization)                                                   \n",
      "                                                                 \n",
      " dropout_1 (Dropout)         (None, 64, 64, 64)        0         \n",
      "                                                                 \n",
      " conv2d_2 (Conv2D)           (None, 64, 64, 128)       32896     \n",
      "                                                                 \n",
      " max_pooling2d_2 (MaxPooling  (None, 32, 32, 128)      0         \n",
      " 2D)                                                             \n",
      "                                                                 \n",
      " batch_normalization_1 (Batc  (None, 32, 32, 128)      512       \n",
      " hNormalization)                                                 \n",
      "                                                                 \n",
      " dropout_2 (Dropout)         (None, 32, 32, 128)       0         \n",
      "                                                                 \n",
      " conv2d_3 (Conv2D)           (None, 32, 32, 64)        8256      \n",
      "                                                                 \n",
      " max_pooling2d_3 (MaxPooling  (None, 16, 16, 64)       0         \n",
      " 2D)                                                             \n",
      "                                                                 \n",
      " dropout_3 (Dropout)         (None, 16, 16, 64)        0         \n",
      "                                                                 \n",
      " flatten (Flatten)           (None, 16384)             0         \n",
      "                                                                 \n",
      " dense (Dense)               (None, 96)                1572960   \n",
      "                                                                 \n",
      " dense_1 (Dense)             (None, 5)                 485       \n",
      "                                                                 \n",
      "=================================================================\n",
      "Total params: 1,634,757\n",
      "Trainable params: 1,634,373\n",
      "Non-trainable params: 384\n",
      "_________________________________________________________________\n"
     ]
    }
   ],
   "source": [
    "#print model summary\n",
    "\n",
    "model.summary()"
   ]
  },
  {
   "cell_type": "code",
   "execution_count": 8,
   "metadata": {},
   "outputs": [],
   "source": [
    "#Performance evaluation Metrics delcaration \n",
    "\n",
    "from tensorflow.keras.optimizers import Adam\n",
    "from tensorflow.keras.metrics import SensitivityAtSpecificity,SpecificityAtSensitivity,Recall,Precision\n",
    "\n",
    "model.compile(loss=tf.losses.categorical_crossentropy,\n",
    "              optimizer=Adam(learning_rate=0.001),\n",
    "              metrics=['accuracy',SensitivityAtSpecificity(0.5),SpecificityAtSensitivity(0.5),Recall(0.5),Precision(0.5)]) \n"
   ]
  },
  {
   "cell_type": "code",
   "execution_count": 9,
   "metadata": {},
   "outputs": [
    {
     "name": "stdout",
     "output_type": "stream",
     "text": [
      "Device Spec:  /job:localhost/replica:0/device:GPU:*\n",
      "WARNING:tensorflow:`period` argument is deprecated. Please use `save_freq` to specify the frequency in number of batches seen.\n",
      "Epoch 1/150\n"
     ]
    },
    {
     "name": "stderr",
     "output_type": "stream",
     "text": [
      "2023-02-08 10:20:36.256047: I tensorflow/stream_executor/cuda/cuda_dnn.cc:384] Loaded cuDNN version 8100\n",
      "2023-02-08 10:20:36.446762: I tensorflow/core/platform/default/subprocess.cc:304] Start cannot spawn child process: No such file or directory\n"
     ]
    },
    {
     "name": "stdout",
     "output_type": "stream",
     "text": [
      "204/204 [==============================] - ETA: 0s - loss: 3.0697 - accuracy: 0.3564 - sensitivity_at_specificity: 0.7214 - specificity_at_sensitivity: 0.7315 - recall: 0.0483 - precision: 0.2982\n",
      "Epoch 1: val_accuracy improved from -inf to 0.27500, saving model to ECG_Spectrogram_Model.h5\n",
      "204/204 [==============================] - 34s 154ms/step - loss: 3.0697 - accuracy: 0.3564 - sensitivity_at_specificity: 0.7214 - specificity_at_sensitivity: 0.7315 - recall: 0.0483 - precision: 0.2982 - val_loss: 1.4965 - val_accuracy: 0.2750 - val_sensitivity_at_specificity: 0.6469 - val_specificity_at_sensitivity: 0.6586 - val_recall: 0.0000e+00 - val_precision: 0.0000e+00\n",
      "Epoch 2/150\n",
      "204/204 [==============================] - ETA: 0s - loss: 1.3597 - accuracy: 0.4571 - sensitivity_at_specificity: 0.8189 - specificity_at_sensitivity: 0.8337 - recall: 0.1692 - precision: 0.5894\n",
      "Epoch 2: val_accuracy improved from 0.27500 to 0.38750, saving model to ECG_Spectrogram_Model.h5\n",
      "204/204 [==============================] - 31s 150ms/step - loss: 1.3597 - accuracy: 0.4571 - sensitivity_at_specificity: 0.8189 - specificity_at_sensitivity: 0.8337 - recall: 0.1692 - precision: 0.5894 - val_loss: 1.4140 - val_accuracy: 0.3875 - val_sensitivity_at_specificity: 0.7812 - val_specificity_at_sensitivity: 0.8281 - val_recall: 0.0000e+00 - val_precision: 0.0000e+00\n",
      "Epoch 3/150\n",
      "204/204 [==============================] - ETA: 0s - loss: 1.2675 - accuracy: 0.5040 - sensitivity_at_specificity: 0.8687 - specificity_at_sensitivity: 0.8778 - recall: 0.3193 - precision: 0.6136\n",
      "Epoch 3: val_accuracy did not improve from 0.38750\n",
      "204/204 [==============================] - 31s 149ms/step - loss: 1.2675 - accuracy: 0.5040 - sensitivity_at_specificity: 0.8687 - specificity_at_sensitivity: 0.8778 - recall: 0.3193 - precision: 0.6136 - val_loss: 1.6460 - val_accuracy: 0.3781 - val_sensitivity_at_specificity: 0.7594 - val_specificity_at_sensitivity: 0.7234 - val_recall: 0.3781 - val_precision: 0.3781\n",
      "Epoch 4/150\n",
      "204/204 [==============================] - ETA: 0s - loss: 1.1917 - accuracy: 0.5393 - sensitivity_at_specificity: 0.8880 - specificity_at_sensitivity: 0.9062 - recall: 0.3704 - precision: 0.6633\n",
      "Epoch 4: val_accuracy improved from 0.38750 to 0.40625, saving model to ECG_Spectrogram_Model.h5\n",
      "204/204 [==============================] - 31s 151ms/step - loss: 1.1917 - accuracy: 0.5393 - sensitivity_at_specificity: 0.8880 - specificity_at_sensitivity: 0.9062 - recall: 0.3704 - precision: 0.6633 - val_loss: 1.9842 - val_accuracy: 0.4062 - val_sensitivity_at_specificity: 0.7937 - val_specificity_at_sensitivity: 0.8117 - val_recall: 0.4031 - val_precision: 0.4202\n",
      "Epoch 5/150\n",
      "204/204 [==============================] - ETA: 0s - loss: 1.0433 - accuracy: 0.6003 - sensitivity_at_specificity: 0.9323 - specificity_at_sensitivity: 0.9430 - recall: 0.4410 - precision: 0.7345\n",
      "Epoch 5: val_accuracy improved from 0.40625 to 0.45937, saving model to ECG_Spectrogram_Model.h5\n",
      "204/204 [==============================] - 31s 151ms/step - loss: 1.0433 - accuracy: 0.6003 - sensitivity_at_specificity: 0.9323 - specificity_at_sensitivity: 0.9430 - recall: 0.4410 - precision: 0.7345 - val_loss: 1.5493 - val_accuracy: 0.4594 - val_sensitivity_at_specificity: 0.8188 - val_specificity_at_sensitivity: 0.8508 - val_recall: 0.4437 - val_precision: 0.4814\n",
      "Epoch 6/150\n",
      "204/204 [==============================] - ETA: 0s - loss: 0.8764 - accuracy: 0.6735 - sensitivity_at_specificity: 0.9620 - specificity_at_sensitivity: 0.9699 - recall: 0.5532 - precision: 0.7744\n",
      "Epoch 6: val_accuracy did not improve from 0.45937\n",
      "204/204 [==============================] - 31s 151ms/step - loss: 0.8764 - accuracy: 0.6735 - sensitivity_at_specificity: 0.9620 - specificity_at_sensitivity: 0.9699 - recall: 0.5532 - precision: 0.7744 - val_loss: 7.0784 - val_accuracy: 0.4250 - val_sensitivity_at_specificity: 0.4844 - val_specificity_at_sensitivity: 0.0000e+00 - val_recall: 0.4250 - val_precision: 0.4250\n",
      "Epoch 7/150\n",
      "204/204 [==============================] - ETA: 0s - loss: 0.7783 - accuracy: 0.7084 - sensitivity_at_specificity: 0.9758 - specificity_at_sensitivity: 0.9804 - recall: 0.6173 - precision: 0.7910\n",
      "Epoch 7: val_accuracy improved from 0.45937 to 0.46875, saving model to ECG_Spectrogram_Model.h5\n",
      "204/204 [==============================] - 31s 151ms/step - loss: 0.7783 - accuracy: 0.7084 - sensitivity_at_specificity: 0.9758 - specificity_at_sensitivity: 0.9804 - recall: 0.6173 - precision: 0.7910 - val_loss: 3.0820 - val_accuracy: 0.4688 - val_sensitivity_at_specificity: 0.8188 - val_specificity_at_sensitivity: 0.8562 - val_recall: 0.4594 - val_precision: 0.4836\n",
      "Epoch 8/150\n",
      "204/204 [==============================] - ETA: 0s - loss: 0.7113 - accuracy: 0.7363 - sensitivity_at_specificity: 0.9849 - specificity_at_sensitivity: 0.9852 - recall: 0.6518 - precision: 0.8065\n",
      "Epoch 8: val_accuracy improved from 0.46875 to 0.60625, saving model to ECG_Spectrogram_Model.h5\n",
      "204/204 [==============================] - 31s 151ms/step - loss: 0.7113 - accuracy: 0.7363 - sensitivity_at_specificity: 0.9849 - specificity_at_sensitivity: 0.9852 - recall: 0.6518 - precision: 0.8065 - val_loss: 1.5128 - val_accuracy: 0.6062 - val_sensitivity_at_specificity: 0.9281 - val_specificity_at_sensitivity: 0.9406 - val_recall: 0.5781 - val_precision: 0.6167\n",
      "Epoch 9/150\n",
      "204/204 [==============================] - ETA: 0s - loss: 0.6502 - accuracy: 0.7594 - sensitivity_at_specificity: 0.9889 - specificity_at_sensitivity: 0.9891 - recall: 0.6917 - precision: 0.8225\n",
      "Epoch 9: val_accuracy improved from 0.60625 to 0.66562, saving model to ECG_Spectrogram_Model.h5\n",
      "204/204 [==============================] - 31s 151ms/step - loss: 0.6502 - accuracy: 0.7594 - sensitivity_at_specificity: 0.9889 - specificity_at_sensitivity: 0.9891 - recall: 0.6917 - precision: 0.8225 - val_loss: 0.9498 - val_accuracy: 0.6656 - val_sensitivity_at_specificity: 0.9750 - val_specificity_at_sensitivity: 0.9789 - val_recall: 0.6438 - val_precision: 0.6799\n",
      "Epoch 10/150\n",
      "204/204 [==============================] - ETA: 0s - loss: 0.6034 - accuracy: 0.7794 - sensitivity_at_specificity: 0.9911 - specificity_at_sensitivity: 0.9919 - recall: 0.7193 - precision: 0.8365\n",
      "Epoch 10: val_accuracy did not improve from 0.66562\n",
      "204/204 [==============================] - 31s 150ms/step - loss: 0.6034 - accuracy: 0.7794 - sensitivity_at_specificity: 0.9911 - specificity_at_sensitivity: 0.9919 - recall: 0.7193 - precision: 0.8365 - val_loss: 2.0878 - val_accuracy: 0.5250 - val_sensitivity_at_specificity: 0.8375 - val_specificity_at_sensitivity: 0.8914 - val_recall: 0.5156 - val_precision: 0.5238\n",
      "Epoch 11/150\n",
      "204/204 [==============================] - ETA: 0s - loss: 0.5726 - accuracy: 0.7904 - sensitivity_at_specificity: 0.9909 - specificity_at_sensitivity: 0.9936 - recall: 0.7385 - precision: 0.8397\n",
      "Epoch 11: val_accuracy improved from 0.66562 to 0.69687, saving model to ECG_Spectrogram_Model.h5\n",
      "204/204 [==============================] - 31s 150ms/step - loss: 0.5726 - accuracy: 0.7904 - sensitivity_at_specificity: 0.9909 - specificity_at_sensitivity: 0.9936 - recall: 0.7385 - precision: 0.8397 - val_loss: 0.9166 - val_accuracy: 0.6969 - val_sensitivity_at_specificity: 0.9781 - val_specificity_at_sensitivity: 0.9937 - val_recall: 0.6594 - val_precision: 0.7430\n",
      "Epoch 12/150\n",
      "204/204 [==============================] - ETA: 0s - loss: 0.5243 - accuracy: 0.8077 - sensitivity_at_specificity: 0.9947 - specificity_at_sensitivity: 0.9955 - recall: 0.7632 - precision: 0.8529\n",
      "Epoch 12: val_accuracy improved from 0.69687 to 0.71875, saving model to ECG_Spectrogram_Model.h5\n",
      "204/204 [==============================] - 31s 151ms/step - loss: 0.5243 - accuracy: 0.8077 - sensitivity_at_specificity: 0.9947 - specificity_at_sensitivity: 0.9955 - recall: 0.7632 - precision: 0.8529 - val_loss: 0.7553 - val_accuracy: 0.7188 - val_sensitivity_at_specificity: 0.9844 - val_specificity_at_sensitivity: 0.9961 - val_recall: 0.7000 - val_precision: 0.7568\n",
      "Epoch 13/150\n"
     ]
    },
    {
     "name": "stdout",
     "output_type": "stream",
     "text": [
      "204/204 [==============================] - ETA: 0s - loss: 0.4864 - accuracy: 0.8203 - sensitivity_at_specificity: 0.9960 - specificity_at_sensitivity: 0.9965 - recall: 0.7806 - precision: 0.8639\n",
      "Epoch 13: val_accuracy improved from 0.71875 to 0.75937, saving model to ECG_Spectrogram_Model.h5\n",
      "204/204 [==============================] - 31s 151ms/step - loss: 0.4864 - accuracy: 0.8203 - sensitivity_at_specificity: 0.9960 - specificity_at_sensitivity: 0.9965 - recall: 0.7806 - precision: 0.8639 - val_loss: 0.5973 - val_accuracy: 0.7594 - val_sensitivity_at_specificity: 0.9906 - val_specificity_at_sensitivity: 0.9922 - val_recall: 0.7219 - val_precision: 0.7911\n",
      "Epoch 14/150\n",
      "204/204 [==============================] - ETA: 0s - loss: 0.4693 - accuracy: 0.8262 - sensitivity_at_specificity: 0.9964 - specificity_at_sensitivity: 0.9968 - recall: 0.7886 - precision: 0.8634\n",
      "Epoch 14: val_accuracy did not improve from 0.75937\n",
      "204/204 [==============================] - 31s 150ms/step - loss: 0.4693 - accuracy: 0.8262 - sensitivity_at_specificity: 0.9964 - specificity_at_sensitivity: 0.9968 - recall: 0.7886 - precision: 0.8634 - val_loss: 0.9007 - val_accuracy: 0.7000 - val_sensitivity_at_specificity: 0.9750 - val_specificity_at_sensitivity: 0.9789 - val_recall: 0.6844 - val_precision: 0.7134\n",
      "Epoch 15/150\n",
      "204/204 [==============================] - ETA: 0s - loss: 0.4457 - accuracy: 0.8390 - sensitivity_at_specificity: 0.9975 - specificity_at_sensitivity: 0.9974 - recall: 0.8077 - precision: 0.8734\n",
      "Epoch 15: val_accuracy improved from 0.75937 to 0.78125, saving model to ECG_Spectrogram_Model.h5\n",
      "204/204 [==============================] - 31s 151ms/step - loss: 0.4457 - accuracy: 0.8390 - sensitivity_at_specificity: 0.9975 - specificity_at_sensitivity: 0.9974 - recall: 0.8077 - precision: 0.8734 - val_loss: 0.5271 - val_accuracy: 0.7812 - val_sensitivity_at_specificity: 0.9969 - val_specificity_at_sensitivity: 0.9977 - val_recall: 0.7563 - val_precision: 0.8067\n",
      "Epoch 16/150\n",
      "204/204 [==============================] - ETA: 0s - loss: 0.4209 - accuracy: 0.8459 - sensitivity_at_specificity: 0.9985 - specificity_at_sensitivity: 0.9979 - recall: 0.8152 - precision: 0.8780\n",
      "Epoch 16: val_accuracy improved from 0.78125 to 0.86563, saving model to ECG_Spectrogram_Model.h5\n",
      "204/204 [==============================] - 31s 151ms/step - loss: 0.4209 - accuracy: 0.8459 - sensitivity_at_specificity: 0.9985 - specificity_at_sensitivity: 0.9979 - recall: 0.8152 - precision: 0.8780 - val_loss: 0.3852 - val_accuracy: 0.8656 - val_sensitivity_at_specificity: 0.9969 - val_specificity_at_sensitivity: 0.9992 - val_recall: 0.8344 - val_precision: 0.8930\n",
      "Epoch 17/150\n",
      "204/204 [==============================] - ETA: 0s - loss: 0.4099 - accuracy: 0.8485 - sensitivity_at_specificity: 0.9976 - specificity_at_sensitivity: 0.9980 - recall: 0.8229 - precision: 0.8793\n",
      "Epoch 17: val_accuracy did not improve from 0.86563\n",
      "204/204 [==============================] - 31s 150ms/step - loss: 0.4099 - accuracy: 0.8485 - sensitivity_at_specificity: 0.9976 - specificity_at_sensitivity: 0.9980 - recall: 0.8229 - precision: 0.8793 - val_loss: 1.2152 - val_accuracy: 0.6500 - val_sensitivity_at_specificity: 0.9438 - val_specificity_at_sensitivity: 0.9688 - val_recall: 0.6375 - val_precision: 0.6689\n",
      "Epoch 18/150\n",
      "204/204 [==============================] - ETA: 0s - loss: 0.3790 - accuracy: 0.8618 - sensitivity_at_specificity: 0.9981 - specificity_at_sensitivity: 0.9985 - recall: 0.8351 - precision: 0.8902\n",
      "Epoch 18: val_accuracy did not improve from 0.86563\n",
      "204/204 [==============================] - 31s 150ms/step - loss: 0.3790 - accuracy: 0.8618 - sensitivity_at_specificity: 0.9981 - specificity_at_sensitivity: 0.9985 - recall: 0.8351 - precision: 0.8902 - val_loss: 1.2572 - val_accuracy: 0.6531 - val_sensitivity_at_specificity: 0.9344 - val_specificity_at_sensitivity: 0.9797 - val_recall: 0.6438 - val_precision: 0.6688\n",
      "Epoch 19/150\n",
      "204/204 [==============================] - ETA: 0s - loss: 0.3966 - accuracy: 0.8588 - sensitivity_at_specificity: 0.9973 - specificity_at_sensitivity: 0.9982 - recall: 0.8346 - precision: 0.8853\n",
      "Epoch 19: val_accuracy did not improve from 0.86563\n",
      "204/204 [==============================] - 31s 150ms/step - loss: 0.3966 - accuracy: 0.8588 - sensitivity_at_specificity: 0.9973 - specificity_at_sensitivity: 0.9982 - recall: 0.8346 - precision: 0.8853 - val_loss: 0.6115 - val_accuracy: 0.7937 - val_sensitivity_at_specificity: 0.9844 - val_specificity_at_sensitivity: 0.9930 - val_recall: 0.7688 - val_precision: 0.8200\n",
      "Epoch 20/150\n",
      "204/204 [==============================] - ETA: 0s - loss: 0.3544 - accuracy: 0.8714 - sensitivity_at_specificity: 0.9985 - specificity_at_sensitivity: 0.9988 - recall: 0.8481 - precision: 0.8960\n",
      "Epoch 20: val_accuracy did not improve from 0.86563\n",
      "204/204 [==============================] - 31s 150ms/step - loss: 0.3544 - accuracy: 0.8714 - sensitivity_at_specificity: 0.9985 - specificity_at_sensitivity: 0.9988 - recall: 0.8481 - precision: 0.8960 - val_loss: 0.4210 - val_accuracy: 0.8344 - val_sensitivity_at_specificity: 1.0000 - val_specificity_at_sensitivity: 0.9984 - val_recall: 0.8031 - val_precision: 0.8653\n",
      "Epoch 21/150\n",
      "204/204 [==============================] - ETA: 0s - loss: 0.3586 - accuracy: 0.8706 - sensitivity_at_specificity: 0.9980 - specificity_at_sensitivity: 0.9989 - recall: 0.8482 - precision: 0.8955\n",
      "Epoch 21: val_accuracy improved from 0.86563 to 0.90000, saving model to ECG_Spectrogram_Model.h5\n",
      "204/204 [==============================] - 31s 151ms/step - loss: 0.3586 - accuracy: 0.8706 - sensitivity_at_specificity: 0.9980 - specificity_at_sensitivity: 0.9989 - recall: 0.8482 - precision: 0.8955 - val_loss: 0.2905 - val_accuracy: 0.9000 - val_sensitivity_at_specificity: 0.9969 - val_specificity_at_sensitivity: 0.9984 - val_recall: 0.8844 - val_precision: 0.9218\n",
      "Epoch 22/150\n",
      "204/204 [==============================] - ETA: 0s - loss: 0.3258 - accuracy: 0.8808 - sensitivity_at_specificity: 0.9984 - specificity_at_sensitivity: 0.9991 - recall: 0.8597 - precision: 0.9037\n",
      "Epoch 22: val_accuracy did not improve from 0.90000\n",
      "204/204 [==============================] - 31s 151ms/step - loss: 0.3258 - accuracy: 0.8808 - sensitivity_at_specificity: 0.9984 - specificity_at_sensitivity: 0.9991 - recall: 0.8597 - precision: 0.9037 - val_loss: 0.3616 - val_accuracy: 0.8469 - val_sensitivity_at_specificity: 0.9969 - val_specificity_at_sensitivity: 0.9992 - val_recall: 0.8375 - val_precision: 0.8730\n",
      "Epoch 23/150\n",
      "204/204 [==============================] - ETA: 0s - loss: 0.3235 - accuracy: 0.8818 - sensitivity_at_specificity: 0.9982 - specificity_at_sensitivity: 0.9991 - recall: 0.8639 - precision: 0.9032\n",
      "Epoch 23: val_accuracy did not improve from 0.90000\n",
      "204/204 [==============================] - 31s 150ms/step - loss: 0.3235 - accuracy: 0.8818 - sensitivity_at_specificity: 0.9982 - specificity_at_sensitivity: 0.9991 - recall: 0.8639 - precision: 0.9032 - val_loss: 0.5220 - val_accuracy: 0.8250 - val_sensitivity_at_specificity: 0.9906 - val_specificity_at_sensitivity: 0.9984 - val_recall: 0.8188 - val_precision: 0.8397\n",
      "Epoch 24/150\n",
      "204/204 [==============================] - ETA: 0s - loss: 0.3138 - accuracy: 0.8863 - sensitivity_at_specificity: 0.9986 - specificity_at_sensitivity: 0.9992 - recall: 0.8669 - precision: 0.9062\n",
      "Epoch 24: val_accuracy did not improve from 0.90000\n",
      "204/204 [==============================] - 31s 150ms/step - loss: 0.3138 - accuracy: 0.8863 - sensitivity_at_specificity: 0.9986 - specificity_at_sensitivity: 0.9992 - recall: 0.8669 - precision: 0.9062 - val_loss: 1.1659 - val_accuracy: 0.6719 - val_sensitivity_at_specificity: 0.9500 - val_specificity_at_sensitivity: 0.9688 - val_recall: 0.6687 - val_precision: 0.6837\n",
      "Epoch 25/150\n",
      "204/204 [==============================] - ETA: 0s - loss: 0.3003 - accuracy: 0.8905 - sensitivity_at_specificity: 0.9982 - specificity_at_sensitivity: 0.9996 - recall: 0.8732 - precision: 0.9089\n",
      "Epoch 25: val_accuracy did not improve from 0.90000\n",
      "204/204 [==============================] - 31s 149ms/step - loss: 0.3003 - accuracy: 0.8905 - sensitivity_at_specificity: 0.9982 - specificity_at_sensitivity: 0.9996 - recall: 0.8732 - precision: 0.9089 - val_loss: 0.3326 - val_accuracy: 0.8813 - val_sensitivity_at_specificity: 0.9937 - val_specificity_at_sensitivity: 0.9977 - val_recall: 0.8687 - val_precision: 0.8910\n"
     ]
    },
    {
     "name": "stdout",
     "output_type": "stream",
     "text": [
      "Epoch 26/150\n",
      "204/204 [==============================] - ETA: 0s - loss: 0.2989 - accuracy: 0.8885 - sensitivity_at_specificity: 0.9985 - specificity_at_sensitivity: 0.9994 - recall: 0.8722 - precision: 0.9058\n",
      "Epoch 26: val_accuracy did not improve from 0.90000\n",
      "204/204 [==============================] - 31s 150ms/step - loss: 0.2989 - accuracy: 0.8885 - sensitivity_at_specificity: 0.9985 - specificity_at_sensitivity: 0.9994 - recall: 0.8722 - precision: 0.9058 - val_loss: 0.3399 - val_accuracy: 0.8844 - val_sensitivity_at_specificity: 1.0000 - val_specificity_at_sensitivity: 0.9992 - val_recall: 0.8625 - val_precision: 0.9020\n",
      "Epoch 27/150\n",
      "204/204 [==============================] - ETA: 0s - loss: 0.2807 - accuracy: 0.8965 - sensitivity_at_specificity: 0.9985 - specificity_at_sensitivity: 0.9996 - recall: 0.8794 - precision: 0.9126\n",
      "Epoch 27: val_accuracy did not improve from 0.90000\n",
      "204/204 [==============================] - 31s 150ms/step - loss: 0.2807 - accuracy: 0.8965 - sensitivity_at_specificity: 0.9985 - specificity_at_sensitivity: 0.9996 - recall: 0.8794 - precision: 0.9126 - val_loss: 0.3193 - val_accuracy: 0.8656 - val_sensitivity_at_specificity: 1.0000 - val_specificity_at_sensitivity: 0.9992 - val_recall: 0.8594 - val_precision: 0.8987\n",
      "Epoch 28/150\n",
      "204/204 [==============================] - ETA: 0s - loss: 0.2689 - accuracy: 0.8979 - sensitivity_at_specificity: 0.9988 - specificity_at_sensitivity: 0.9996 - recall: 0.8835 - precision: 0.9163\n",
      "Epoch 28: val_accuracy did not improve from 0.90000\n",
      "204/204 [==============================] - 31s 151ms/step - loss: 0.2689 - accuracy: 0.8979 - sensitivity_at_specificity: 0.9988 - specificity_at_sensitivity: 0.9996 - recall: 0.8835 - precision: 0.9163 - val_loss: 0.3882 - val_accuracy: 0.8500 - val_sensitivity_at_specificity: 0.9906 - val_specificity_at_sensitivity: 0.9992 - val_recall: 0.8406 - val_precision: 0.8567\n"
     ]
    }
   ],
   "source": [
    "#Model Execution\n",
    "\n",
    "from keras.callbacks import ModelCheckpoint, EarlyStopping\n",
    "\n",
    "# Initializing Device Specification\n",
    "device_spec = tf.DeviceSpec(job =\"localhost\", replica = 0, device_type = \"GPU\")\n",
    " \n",
    "# Printing the DeviceSpec\n",
    "print('Device Spec: ', device_spec.to_string())\n",
    " \n",
    "# Enabling device logging\n",
    "tf.debugging.set_log_device_placement(True)\n",
    " \n",
    "# Specifying the device\n",
    "with tf.device(device_spec):\n",
    "    \n",
    "#with tf.device('/gpu:10'):\n",
    "    \n",
    "    checkpoint = ModelCheckpoint(\"ECG_Spectrogram_Model.h5\", monitor='val_accuracy', verbose=1, save_best_only=True, save_weights_only=False, mode='auto', period=1)\n",
    "    mycallback=tf.keras.callbacks.EarlyStopping(monitor=\"val_accuracy\", patience=7, mode=\"auto\")\n",
    "    \n",
    "    history = model.fit(\n",
    "          train_data,\n",
    "          #steps_per_epoch=20, \n",
    "          epochs=150,\n",
    "          verbose=1,\n",
    "          validation_data = train_data,\n",
    "          validation_steps=5, \n",
    "          callbacks = [mycallback,checkpoint]\n",
    "    ) "
   ]
  },
  {
   "cell_type": "code",
   "execution_count": 10,
   "metadata": {},
   "outputs": [
    {
     "name": "stdout",
     "output_type": "stream",
     "text": [
      "Training Accuracy:  0.8978527784347534\n",
      "Validation Accuracy:  0.8999999761581421\n",
      "Validation Specificity:  0.999218761920929\n",
      "Validation Sensitivity:  1.0\n",
      "Validation Recall:  0.8843749761581421\n",
      "Validation Precision:  0.9218240976333618\n",
      "Validation Loss:  0.290473073720932\n"
     ]
    }
   ],
   "source": [
    "Training_Accuracy=history.history['accuracy']\n",
    "Validation_Accuracy=history.history['val_accuracy']\n",
    "Validation_Specificity=history.history['val_specificity_at_sensitivity']\n",
    "Validation_Sensitivity=history.history['val_sensitivity_at_specificity']\n",
    "Validation_Recall=history.history['val_recall']\n",
    "Validation_Precision=history.history['val_precision']\n",
    "Validation_Loss=history.history['val_loss']\n",
    "\n",
    "print(\"Training Accuracy: \",max(Training_Accuracy))\n",
    "print(\"Validation Accuracy: \",max(Validation_Accuracy))\n",
    "print(\"Validation Specificity: \",max(Validation_Specificity))\n",
    "print(\"Validation Sensitivity: \",max(Validation_Sensitivity))\n",
    "print(\"Validation Recall: \",max(Validation_Recall))\n",
    "print(\"Validation Precision: \",max(Validation_Precision))\n",
    "print(\"Validation Loss: \",min(Validation_Loss))"
   ]
  },
  {
   "cell_type": "code",
   "execution_count": 11,
   "metadata": {},
   "outputs": [
    {
     "data": {
      "image/png": "[encoded data removed]",
      "text/plain": [
       "<Figure size 720x432 with 1 Axes>"
      ]
     },
     "metadata": {
      "needs_background": "light"
     },
     "output_type": "display_data"
    }
   ],
   "source": [
    "plt.figure(figsize=(10,6))\n",
    "plt.plot(history.history['accuracy'])\n",
    "plt.plot(history.history['val_accuracy'])\n",
    "plt.title('Model accuracy')\n",
    "plt.ylabel('Accuracy')\n",
    "plt.xlabel('Epoch')\n",
    "plt.legend(['Train', 'Test'], loc='upper left')\n",
    "plt.show()"
   ]
  },
  {
   "cell_type": "code",
   "execution_count": 12,
   "metadata": {},
   "outputs": [
    {
     "data": {
      "image/png": "[encoded data removed]",
      "text/plain": [
       "<Figure size 720x432 with 1 Axes>"
      ]
     },
     "metadata": {
      "needs_background": "light"
     },
     "output_type": "display_data"
    }
   ],
   "source": [
    "plt.figure(figsize=(10,6))\n",
    "plt.plot(history.history['loss'])\n",
    "plt.plot(history.history['val_loss'])\n",
    "plt.title('Model Loss')\n",
    "plt.ylabel('Loss')\n",
    "plt.xlabel('Epoch')\n",
    "plt.legend(['Train', 'Test'], loc='upper left')\n",
    "plt.show()"
   ]
  },
  {
   "cell_type": "code",
   "execution_count": null,
   "metadata": {},
   "outputs": [],
   "source": []
  },
  {
   "cell_type": "code",
   "execution_count": null,
   "metadata": {},
   "outputs": [],
   "source": []
  }
 ],
 "metadata": {
  "accelerator": "GPU",
  "colab": {
   "collapsed_sections": [
    "7e88OLey6Bgd"
   ],
   "provenance": []
  },
  "gpuClass": "standard",
  "kernelspec": {
   "display_name": "Python 3 (ipykernel)",
   "language": "python",
   "name": "python3"
  },
  "language_info": {
   "codemirror_mode": {
    "name": "ipython",
    "version": 3
   },
   "file_extension": ".py",
   "mimetype": "text/x-python",
   "name": "python",
   "nbconvert_exporter": "python",
   "pygments_lexer": "ipython3",
   "version": "3.10.6"
  }
 },
 "nbformat": 4,
 "nbformat_minor": 4
}
