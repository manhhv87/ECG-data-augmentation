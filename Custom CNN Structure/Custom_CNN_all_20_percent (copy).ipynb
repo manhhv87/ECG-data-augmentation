{
 "cells": [
  {
   "cell_type": "markdown",
   "metadata": {
    "id": "SsTzc3oi726u"
   },
   "source": [
    "# **Building a Convolutional Neural Network with Keras**"
   ]
  },
  {
   "cell_type": "code",
   "execution_count": 1,
   "metadata": {},
   "outputs": [
    {
     "name": "stdout",
     "output_type": "stream",
     "text": [
      "2.9.1\n"
     ]
    }
   ],
   "source": [
    "#Tensorflow version\n",
    "\n",
    "import tensorflow as tf\n",
    "print(tf.__version__)"
   ]
  },
  {
   "cell_type": "code",
   "execution_count": 2,
   "metadata": {},
   "outputs": [],
   "source": [
    "#Importing libraries\n",
    "\n",
    "import tensorflow as tf\n",
    "from tensorflow import keras\n",
    "from keras.layers import Input, Conv2D, Dense, Flatten, BatchNormalization, Dropout, MaxPooling2D, GlobalMaxPooling2D\n",
    "from keras.models import Model\n",
    "import matplotlib.pyplot as plt\n",
    "from keras.applications.efficientnet import EfficientNetB0\n",
    "from keras.preprocessing import image\n",
    "#from keras.preprocessing.image import load_img\n",
    "from keras.models import Sequential\n",
    "import numpy as np\n",
    "from tensorflow.keras import regularizers"
   ]
  },
  {
   "cell_type": "code",
   "execution_count": 3,
   "metadata": {},
   "outputs": [],
   "source": [
    "# 10 percent\n",
    "train_dir='/home/ubuntu/From_Laptop/multi-class-NEW/12-Lead_ECG_version_2/DA_version_3/Model_Training/20 percent/Training/'\n",
    "val_dir='/home/ubuntu/From_Laptop/multi-class-NEW/12-Lead_ECG_version_2/DA_version_3/Model_Training/20 percent/Validation/'\n"
   ]
  },
  {
   "cell_type": "code",
   "execution_count": 4,
   "metadata": {},
   "outputs": [
    {
     "name": "stdout",
     "output_type": "stream",
     "text": [
      "Found 30805 files belonging to 5 classes.\n"
     ]
    },
    {
     "name": "stderr",
     "output_type": "stream",
     "text": [
      "2023-02-09 09:42:19.849319: I tensorflow/stream_executor/cuda/cuda_gpu_executor.cc:975] successful NUMA node read from SysFS had negative value (-1), but there must be at least one NUMA node, so returning NUMA node zero\n",
      "2023-02-09 09:42:19.871932: I tensorflow/stream_executor/cuda/cuda_gpu_executor.cc:975] successful NUMA node read from SysFS had negative value (-1), but there must be at least one NUMA node, so returning NUMA node zero\n",
      "2023-02-09 09:42:19.872253: I tensorflow/stream_executor/cuda/cuda_gpu_executor.cc:975] successful NUMA node read from SysFS had negative value (-1), but there must be at least one NUMA node, so returning NUMA node zero\n",
      "2023-02-09 09:42:19.890422: I tensorflow/core/platform/cpu_feature_guard.cc:193] This TensorFlow binary is optimized with oneAPI Deep Neural Network Library (oneDNN) to use the following CPU instructions in performance-critical operations:  AVX2 FMA\n",
      "To enable them in other operations, rebuild TensorFlow with the appropriate compiler flags.\n",
      "2023-02-09 09:42:19.890875: I tensorflow/stream_executor/cuda/cuda_gpu_executor.cc:975] successful NUMA node read from SysFS had negative value (-1), but there must be at least one NUMA node, so returning NUMA node zero\n",
      "2023-02-09 09:42:19.891160: I tensorflow/stream_executor/cuda/cuda_gpu_executor.cc:975] successful NUMA node read from SysFS had negative value (-1), but there must be at least one NUMA node, so returning NUMA node zero\n",
      "2023-02-09 09:42:19.891329: I tensorflow/stream_executor/cuda/cuda_gpu_executor.cc:975] successful NUMA node read from SysFS had negative value (-1), but there must be at least one NUMA node, so returning NUMA node zero\n",
      "2023-02-09 09:42:20.309573: I tensorflow/stream_executor/cuda/cuda_gpu_executor.cc:975] successful NUMA node read from SysFS had negative value (-1), but there must be at least one NUMA node, so returning NUMA node zero\n",
      "2023-02-09 09:42:20.309779: I tensorflow/stream_executor/cuda/cuda_gpu_executor.cc:975] successful NUMA node read from SysFS had negative value (-1), but there must be at least one NUMA node, so returning NUMA node zero\n",
      "2023-02-09 09:42:20.309940: I tensorflow/stream_executor/cuda/cuda_gpu_executor.cc:975] successful NUMA node read from SysFS had negative value (-1), but there must be at least one NUMA node, so returning NUMA node zero\n",
      "2023-02-09 09:42:20.310068: I tensorflow/core/common_runtime/gpu/gpu_device.cc:1532] Created device /job:localhost/replica:0/task:0/device:GPU:0 with 7380 MB memory:  -> device: 0, name: NVIDIA GeForce GTX 1080, pci bus id: 0000:00:05.0, compute capability: 6.1\n"
     ]
    },
    {
     "name": "stdout",
     "output_type": "stream",
     "text": [
      "Found 8188 files belonging to 5 classes.\n"
     ]
    }
   ],
   "source": [
    "from tensorflow.keras import layers\n",
    "\n",
    "train_data = tf.keras.preprocessing.image_dataset_from_directory(directory=train_dir,\n",
    "                                                                 image_size=(256,256),\n",
    "                                                                 label_mode='categorical', batch_size=64, \n",
    "                                                                 )\n",
    "val_data = tf.keras.preprocessing.image_dataset_from_directory(directory=val_dir,\n",
    "                                                                 image_size=(256,256),\n",
    "                                                                 label_mode='categorical', batch_size=64,\n",
    "                                                                )"
   ]
  },
  {
   "cell_type": "code",
   "execution_count": 5,
   "metadata": {},
   "outputs": [],
   "source": [
    "#Normalization of the data\n",
    "\n",
    "nrmzln_layer = layers.experimental.preprocessing.Rescaling(1./255)\n",
    "\n",
    "train_data = train_data.map(lambda x,\n",
    "                          y: (nrmzln_layer(x), y))\n",
    "\n",
    "val_data = val_data.map(lambda x,\n",
    "                          y: (nrmzln_layer(x), y))"
   ]
  },
  {
   "cell_type": "code",
   "execution_count": 6,
   "metadata": {},
   "outputs": [],
   "source": [
    "#Custom Model Architecture\n",
    "\n",
    "from keras.layers import LeakyReLU\n",
    "model = tf.keras.models.Sequential([\n",
    "                                    \n",
    "    # First convolution layer \n",
    "    tf.keras.layers.Conv2D(32, 3, activation=LeakyReLU(alpha=0.01),padding=\"same\", input_shape=(256, 256, 3),use_bias=True),\n",
    "    tf.keras.layers.MaxPooling2D(2, 2),\n",
    "    tf.keras.layers.Dropout(0.50),\n",
    "    \n",
    "\n",
    "    # Second convolution layer \n",
    "    tf.keras.layers.Conv2D(64, 3, activation=LeakyReLU(alpha=0.01),padding=\"same\",use_bias=True),\n",
    "    tf.keras.layers.MaxPooling2D(2,2),\n",
    "    BatchNormalization(),\n",
    "    tf.keras.layers.Dropout(0.25),\n",
    "\n",
    "    \n",
    "    # Third convolution layer  \n",
    "    tf.keras.layers.Conv2D(128, 2, activation=LeakyReLU(alpha=0.01),padding=\"same\",use_bias=True),\n",
    "    tf.keras.layers.MaxPooling2D(2,2),\n",
    "    BatchNormalization(),\n",
    "    tf.keras.layers.Dropout(0.15),\n",
    "\n",
    "    # Fourth convolution layer \n",
    "    tf.keras.layers.Conv2D(64, 1, activation=LeakyReLU(alpha=0.01),padding=\"same\",use_bias=True),\n",
    "    tf.keras.layers.MaxPooling2D(2,2),\n",
    "    tf.keras.layers.Dropout(0.10),\n",
    "\n",
    "    # Flatten the pooled feature maps\n",
    "    tf.keras.layers.Flatten(),\n",
    "\n",
    "    # Fully connected hidden layer\n",
    "    tf.keras.layers.Dense(96, activation=LeakyReLU(alpha=0.01),use_bias=True),\n",
    "\n",
    "    # Output layer\n",
    "    tf.keras.layers.Dense(5, activation='softmax',activity_regularizer=regularizers.L2(0.001))  \n",
    "\n",
    "])\n"
   ]
  },
  {
   "cell_type": "code",
   "execution_count": 7,
   "metadata": {},
   "outputs": [
    {
     "name": "stdout",
     "output_type": "stream",
     "text": [
      "Model: \"sequential\"\n",
      "_________________________________________________________________\n",
      " Layer (type)                Output Shape              Param #   \n",
      "=================================================================\n",
      " conv2d (Conv2D)             (None, 256, 256, 32)      896       \n",
      "                                                                 \n",
      " max_pooling2d (MaxPooling2D  (None, 128, 128, 32)     0         \n",
      " )                                                               \n",
      "                                                                 \n",
      " dropout (Dropout)           (None, 128, 128, 32)      0         \n",
      "                                                                 \n",
      " conv2d_1 (Conv2D)           (None, 128, 128, 64)      18496     \n",
      "                                                                 \n",
      " max_pooling2d_1 (MaxPooling  (None, 64, 64, 64)       0         \n",
      " 2D)                                                             \n",
      "                                                                 \n",
      " batch_normalization (BatchN  (None, 64, 64, 64)       256       \n",
      " ormalization)                                                   \n",
      "                                                                 \n",
      " dropout_1 (Dropout)         (None, 64, 64, 64)        0         \n",
      "                                                                 \n",
      " conv2d_2 (Conv2D)           (None, 64, 64, 128)       32896     \n",
      "                                                                 \n",
      " max_pooling2d_2 (MaxPooling  (None, 32, 32, 128)      0         \n",
      " 2D)                                                             \n",
      "                                                                 \n",
      " batch_normalization_1 (Batc  (None, 32, 32, 128)      512       \n",
      " hNormalization)                                                 \n",
      "                                                                 \n",
      " dropout_2 (Dropout)         (None, 32, 32, 128)       0         \n",
      "                                                                 \n",
      " conv2d_3 (Conv2D)           (None, 32, 32, 64)        8256      \n",
      "                                                                 \n",
      " max_pooling2d_3 (MaxPooling  (None, 16, 16, 64)       0         \n",
      " 2D)                                                             \n",
      "                                                                 \n",
      " dropout_3 (Dropout)         (None, 16, 16, 64)        0         \n",
      "                                                                 \n",
      " flatten (Flatten)           (None, 16384)             0         \n",
      "                                                                 \n",
      " dense (Dense)               (None, 96)                1572960   \n",
      "                                                                 \n",
      " dense_1 (Dense)             (None, 5)                 485       \n",
      "                                                                 \n",
      "=================================================================\n",
      "Total params: 1,634,757\n",
      "Trainable params: 1,634,373\n",
      "Non-trainable params: 384\n",
      "_________________________________________________________________\n"
     ]
    }
   ],
   "source": [
    "#print model summary\n",
    "\n",
    "model.summary()"
   ]
  },
  {
   "cell_type": "code",
   "execution_count": 8,
   "metadata": {},
   "outputs": [],
   "source": [
    "#Performance evaluation Metrics delcaration \n",
    "\n",
    "from tensorflow.keras.optimizers import Adam\n",
    "from tensorflow.keras.metrics import SensitivityAtSpecificity,SpecificityAtSensitivity,Recall,Precision\n",
    "\n",
    "model.compile(loss=tf.losses.categorical_crossentropy,\n",
    "              optimizer=Adam(learning_rate=0.001),\n",
    "              metrics=['accuracy',SensitivityAtSpecificity(0.5),SpecificityAtSensitivity(0.5),Recall(0.5),Precision(0.5)]) \n"
   ]
  },
  {
   "cell_type": "code",
   "execution_count": 9,
   "metadata": {},
   "outputs": [
    {
     "name": "stdout",
     "output_type": "stream",
     "text": [
      "Device Spec:  /job:localhost/replica:0/device:GPU:*\n",
      "WARNING:tensorflow:`period` argument is deprecated. Please use `save_freq` to specify the frequency in number of batches seen.\n",
      "Epoch 1/150\n"
     ]
    },
    {
     "name": "stderr",
     "output_type": "stream",
     "text": [
      "2023-02-09 09:42:40.610281: I tensorflow/stream_executor/cuda/cuda_dnn.cc:384] Loaded cuDNN version 8100\n",
      "2023-02-09 09:42:40.828520: I tensorflow/core/platform/default/subprocess.cc:304] Start cannot spawn child process: No such file or directory\n"
     ]
    },
    {
     "name": "stdout",
     "output_type": "stream",
     "text": [
      "482/482 [==============================] - ETA: 0s - loss: 2.6599 - accuracy: 0.2399 - sensitivity_at_specificity: 0.5559 - specificity_at_sensitivity: 0.5562 - recall: 0.0189 - precision: 0.2148\n",
      "Epoch 1: val_accuracy improved from -inf to 0.20312, saving model to ECG_Spectrogram_Model.h5\n",
      "482/482 [==============================] - 75s 150ms/step - loss: 2.6599 - accuracy: 0.2399 - sensitivity_at_specificity: 0.5559 - specificity_at_sensitivity: 0.5562 - recall: 0.0189 - precision: 0.2148 - val_loss: 1.9250 - val_accuracy: 0.2031 - val_sensitivity_at_specificity: 0.4250 - val_specificity_at_sensitivity: 0.4867 - val_recall: 0.0063 - val_precision: 0.5000\n",
      "Epoch 2/150\n",
      "482/482 [==============================] - ETA: 0s - loss: 1.2269 - accuracy: 0.5046 - sensitivity_at_specificity: 0.8828 - specificity_at_sensitivity: 0.8832 - recall: 0.2612 - precision: 0.6555\n",
      "Epoch 2: val_accuracy did not improve from 0.20312\n",
      "482/482 [==============================] - 72s 148ms/step - loss: 1.2269 - accuracy: 0.5046 - sensitivity_at_specificity: 0.8828 - specificity_at_sensitivity: 0.8832 - recall: 0.2612 - precision: 0.6555 - val_loss: 2.8344 - val_accuracy: 0.1937 - val_sensitivity_at_specificity: 0.5562 - val_specificity_at_sensitivity: 0.6750 - val_recall: 0.1813 - val_precision: 0.2049\n",
      "Epoch 3/150\n",
      "482/482 [==============================] - ETA: 0s - loss: 0.8409 - accuracy: 0.6764 - sensitivity_at_specificity: 0.9716 - specificity_at_sensitivity: 0.9682 - recall: 0.5748 - precision: 0.7542\n",
      "Epoch 3: val_accuracy improved from 0.20312 to 0.64062, saving model to ECG_Spectrogram_Model.h5\n",
      "482/482 [==============================] - 72s 150ms/step - loss: 0.8409 - accuracy: 0.6764 - sensitivity_at_specificity: 0.9716 - specificity_at_sensitivity: 0.9682 - recall: 0.5748 - precision: 0.7542 - val_loss: 0.9113 - val_accuracy: 0.6406 - val_sensitivity_at_specificity: 0.9750 - val_specificity_at_sensitivity: 0.9531 - val_recall: 0.4812 - val_precision: 0.7440\n",
      "Epoch 4/150\n",
      "482/482 [==============================] - ETA: 0s - loss: 0.5810 - accuracy: 0.7856 - sensitivity_at_specificity: 0.9913 - specificity_at_sensitivity: 0.9906 - recall: 0.7368 - precision: 0.8306\n",
      "Epoch 4: val_accuracy improved from 0.64062 to 0.68750, saving model to ECG_Spectrogram_Model.h5\n",
      "482/482 [==============================] - 73s 151ms/step - loss: 0.5810 - accuracy: 0.7856 - sensitivity_at_specificity: 0.9913 - specificity_at_sensitivity: 0.9906 - recall: 0.7368 - precision: 0.8306 - val_loss: 0.7792 - val_accuracy: 0.6875 - val_sensitivity_at_specificity: 0.9875 - val_specificity_at_sensitivity: 0.9773 - val_recall: 0.6656 - val_precision: 0.7270\n",
      "Epoch 5/150\n",
      "482/482 [==============================] - ETA: 0s - loss: 0.4645 - accuracy: 0.8329 - sensitivity_at_specificity: 0.9967 - specificity_at_sensitivity: 0.9954 - recall: 0.8054 - precision: 0.8624\n",
      "Epoch 5: val_accuracy improved from 0.68750 to 0.81875, saving model to ECG_Spectrogram_Model.h5\n",
      "482/482 [==============================] - 73s 150ms/step - loss: 0.4645 - accuracy: 0.8329 - sensitivity_at_specificity: 0.9967 - specificity_at_sensitivity: 0.9954 - recall: 0.8054 - precision: 0.8624 - val_loss: 0.4601 - val_accuracy: 0.8188 - val_sensitivity_at_specificity: 0.9969 - val_specificity_at_sensitivity: 0.9969 - val_recall: 0.7969 - val_precision: 0.8333\n",
      "Epoch 6/150\n",
      "482/482 [==============================] - ETA: 0s - loss: 0.3977 - accuracy: 0.8589 - sensitivity_at_specificity: 0.9967 - specificity_at_sensitivity: 0.9973 - recall: 0.8384 - precision: 0.8802\n",
      "Epoch 6: val_accuracy did not improve from 0.81875\n",
      "482/482 [==============================] - 72s 150ms/step - loss: 0.3977 - accuracy: 0.8589 - sensitivity_at_specificity: 0.9967 - specificity_at_sensitivity: 0.9973 - recall: 0.8384 - precision: 0.8802 - val_loss: 1.5112 - val_accuracy: 0.6313 - val_sensitivity_at_specificity: 0.9375 - val_specificity_at_sensitivity: 0.9641 - val_recall: 0.6250 - val_precision: 0.6390\n",
      "Epoch 7/150\n",
      "482/482 [==============================] - ETA: 0s - loss: 0.3788 - accuracy: 0.8601 - sensitivity_at_specificity: 0.9977 - specificity_at_sensitivity: 0.9978 - recall: 0.8417 - precision: 0.8825\n",
      "Epoch 7: val_accuracy improved from 0.81875 to 0.86875, saving model to ECG_Spectrogram_Model.h5\n",
      "482/482 [==============================] - 72s 150ms/step - loss: 0.3788 - accuracy: 0.8601 - sensitivity_at_specificity: 0.9977 - specificity_at_sensitivity: 0.9978 - recall: 0.8417 - precision: 0.8825 - val_loss: 0.3943 - val_accuracy: 0.8687 - val_sensitivity_at_specificity: 0.9969 - val_specificity_at_sensitivity: 1.0000 - val_recall: 0.8594 - val_precision: 0.8871\n",
      "Epoch 8/150\n",
      "482/482 [==============================] - ETA: 0s - loss: 0.3399 - accuracy: 0.8756 - sensitivity_at_specificity: 0.9980 - specificity_at_sensitivity: 0.9987 - recall: 0.8598 - precision: 0.8947\n",
      "Epoch 8: val_accuracy improved from 0.86875 to 0.88125, saving model to ECG_Spectrogram_Model.h5\n",
      "482/482 [==============================] - 72s 150ms/step - loss: 0.3399 - accuracy: 0.8756 - sensitivity_at_specificity: 0.9980 - specificity_at_sensitivity: 0.9987 - recall: 0.8598 - precision: 0.8947 - val_loss: 0.2962 - val_accuracy: 0.8813 - val_sensitivity_at_specificity: 0.9969 - val_specificity_at_sensitivity: 0.9984 - val_recall: 0.8813 - val_precision: 0.8924\n",
      "Epoch 9/150\n",
      "482/482 [==============================] - ETA: 0s - loss: 0.3310 - accuracy: 0.8789 - sensitivity_at_specificity: 0.9979 - specificity_at_sensitivity: 0.9988 - recall: 0.8633 - precision: 0.8956\n",
      "Epoch 9: val_accuracy did not improve from 0.88125\n",
      "482/482 [==============================] - 73s 150ms/step - loss: 0.3310 - accuracy: 0.8789 - sensitivity_at_specificity: 0.9979 - specificity_at_sensitivity: 0.9988 - recall: 0.8633 - precision: 0.8956 - val_loss: 0.5242 - val_accuracy: 0.8188 - val_sensitivity_at_specificity: 0.9875 - val_specificity_at_sensitivity: 0.9930 - val_recall: 0.7906 - val_precision: 0.8350\n",
      "Epoch 10/150\n",
      "482/482 [==============================] - ETA: 0s - loss: 0.3236 - accuracy: 0.8823 - sensitivity_at_specificity: 0.9981 - specificity_at_sensitivity: 0.9990 - recall: 0.8677 - precision: 0.8991\n",
      "Epoch 10: val_accuracy did not improve from 0.88125\n",
      "482/482 [==============================] - 72s 150ms/step - loss: 0.3236 - accuracy: 0.8823 - sensitivity_at_specificity: 0.9981 - specificity_at_sensitivity: 0.9990 - recall: 0.8677 - precision: 0.8991 - val_loss: 0.4751 - val_accuracy: 0.8313 - val_sensitivity_at_specificity: 0.9875 - val_specificity_at_sensitivity: 0.9977 - val_recall: 0.8281 - val_precision: 0.8413\n",
      "Epoch 11/150\n",
      "482/482 [==============================] - ETA: 0s - loss: 0.3020 - accuracy: 0.8901 - sensitivity_at_specificity: 0.9982 - specificity_at_sensitivity: 0.9993 - recall: 0.8763 - precision: 0.9055\n",
      "Epoch 11: val_accuracy did not improve from 0.88125\n",
      "482/482 [==============================] - 72s 150ms/step - loss: 0.3020 - accuracy: 0.8901 - sensitivity_at_specificity: 0.9982 - specificity_at_sensitivity: 0.9993 - recall: 0.8763 - precision: 0.9055 - val_loss: 0.3691 - val_accuracy: 0.8781 - val_sensitivity_at_specificity: 0.9844 - val_specificity_at_sensitivity: 0.9992 - val_recall: 0.8719 - val_precision: 0.8857\n",
      "Epoch 12/150\n",
      "482/482 [==============================] - ETA: 0s - loss: 0.2938 - accuracy: 0.8925 - sensitivity_at_specificity: 0.9984 - specificity_at_sensitivity: 0.9992 - recall: 0.8798 - precision: 0.9073\n",
      "Epoch 12: val_accuracy did not improve from 0.88125\n",
      "482/482 [==============================] - 73s 150ms/step - loss: 0.2938 - accuracy: 0.8925 - sensitivity_at_specificity: 0.9984 - specificity_at_sensitivity: 0.9992 - recall: 0.8798 - precision: 0.9073 - val_loss: 0.4140 - val_accuracy: 0.8562 - val_sensitivity_at_specificity: 0.9844 - val_specificity_at_sensitivity: 0.9984 - val_recall: 0.8531 - val_precision: 0.8722\n",
      "Epoch 13/150\n",
      "482/482 [==============================] - ETA: 0s - loss: 0.2855 - accuracy: 0.8971 - sensitivity_at_specificity: 0.9988 - specificity_at_sensitivity: 0.9993 - recall: 0.8852 - precision: 0.9111\n",
      "Epoch 13: val_accuracy did not improve from 0.88125\n",
      "482/482 [==============================] - 72s 150ms/step - loss: 0.2855 - accuracy: 0.8971 - sensitivity_at_specificity: 0.9988 - specificity_at_sensitivity: 0.9993 - recall: 0.8852 - precision: 0.9111 - val_loss: 0.3488 - val_accuracy: 0.8687 - val_sensitivity_at_specificity: 0.9844 - val_specificity_at_sensitivity: 0.9977 - val_recall: 0.8687 - val_precision: 0.8770\n"
     ]
    }
   ],
   "source": [
    "#Model Execution\n",
    "\n",
    "from keras.callbacks import ModelCheckpoint, EarlyStopping\n",
    "\n",
    "# Initializing Device Specification\n",
    "device_spec = tf.DeviceSpec(job =\"localhost\", replica = 0, device_type = \"GPU\")\n",
    " \n",
    "# Printing the DeviceSpec\n",
    "print('Device Spec: ', device_spec.to_string())\n",
    " \n",
    "# Enabling device logging\n",
    "tf.debugging.set_log_device_placement(True)\n",
    " \n",
    "# Specifying the device\n",
    "with tf.device(device_spec):\n",
    "    \n",
    "#with tf.device('/gpu:10'):\n",
    "    \n",
    "    checkpoint = ModelCheckpoint(\"ECG_Spectrogram_Model.h5\", monitor='val_accuracy', verbose=1, save_best_only=True, save_weights_only=False, mode='auto', period=1)\n",
    "    mycallback=tf.keras.callbacks.EarlyStopping(monitor=\"val_accuracy\", patience=5, mode=\"auto\")\n",
    "    \n",
    "    history = model.fit(\n",
    "          train_data,\n",
    "          #steps_per_epoch=20, \n",
    "          epochs=150,\n",
    "          verbose=1,\n",
    "          validation_data = train_data,\n",
    "          validation_steps=5, \n",
    "          callbacks = [mycallback,checkpoint]\n",
    "    ) "
   ]
  },
  {
   "cell_type": "code",
   "execution_count": 13,
   "metadata": {},
   "outputs": [
    {
     "name": "stdout",
     "output_type": "stream",
     "text": [
      "Training Accuracy:  0.8970946073532104\n",
      "Validation Accuracy:  0.8812500238418579\n",
      "Validation Specificity:  1.0\n",
      "Validation Sensitivity:  0.996874988079071\n",
      "Validation Recall:  0.8812500238418579\n",
      "Validation Precision:  0.892405092716217\n",
      "Validation Loss:  0.29616203904151917\n"
     ]
    }
   ],
   "source": [
    "Training_Accuracy=history.history['accuracy']\n",
    "Validation_Accuracy=history.history['val_accuracy']\n",
    "Validation_Specificity=history.history['val_specificity_at_sensitivity']\n",
    "Validation_Sensitivity=history.history['val_sensitivity_at_specificity']\n",
    "Validation_Recall=history.history['val_recall']\n",
    "Validation_Precision=history.history['val_precision']\n",
    "Validation_Loss=history.history['val_loss']\n",
    "\n",
    "print(\"Training Accuracy: \",max(Training_Accuracy))\n",
    "print(\"Validation Accuracy: \",max(Validation_Accuracy))\n",
    "print(\"Validation Specificity: \",max(Validation_Specificity))\n",
    "print(\"Validation Sensitivity: \",max(Validation_Sensitivity))\n",
    "print(\"Validation Recall: \",max(Validation_Recall))\n",
    "print(\"Validation Precision: \",max(Validation_Precision))\n",
    "print(\"Validation Loss: \",min(Validation_Loss))"
   ]
  },
  {
   "cell_type": "code",
   "execution_count": 11,
   "metadata": {},
   "outputs": [
    {
     "data": {
      "image/png": "[encoded data removed]",
      "text/plain": [
       "<Figure size 720x432 with 1 Axes>"
      ]
     },
     "metadata": {
      "needs_background": "light"
     },
     "output_type": "display_data"
    }
   ],
   "source": [
    "plt.figure(figsize=(10,6))\n",
    "plt.plot(history.history['accuracy'])\n",
    "plt.plot(history.history['val_accuracy'])\n",
    "plt.title('Model accuracy')\n",
    "plt.ylabel('Accuracy')\n",
    "plt.xlabel('Epoch')\n",
    "plt.legend(['Train', 'Test'], loc='upper left')\n",
    "plt.show()"
   ]
  },
  {
   "cell_type": "code",
   "execution_count": 12,
   "metadata": {},
   "outputs": [
    {
     "data": {
      "image/png": "[encoded data removed]",
      "text/plain": [
       "<Figure size 720x432 with 1 Axes>"
      ]
     },
     "metadata": {
      "needs_background": "light"
     },
     "output_type": "display_data"
    }
   ],
   "source": [
    "plt.figure(figsize=(10,6))\n",
    "plt.plot(history.history['loss'])\n",
    "plt.plot(history.history['val_loss'])\n",
    "plt.title('Model Loss')\n",
    "plt.ylabel('Loss')\n",
    "plt.xlabel('Epoch')\n",
    "plt.legend(['Train', 'Test'], loc='upper left')\n",
    "plt.show()"
   ]
  },
  {
   "cell_type": "code",
   "execution_count": null,
   "metadata": {},
   "outputs": [],
   "source": []
  },
  {
   "cell_type": "code",
   "execution_count": null,
   "metadata": {},
   "outputs": [],
   "source": []
  }
 ],
 "metadata": {
  "accelerator": "GPU",
  "colab": {
   "collapsed_sections": [
    "7e88OLey6Bgd"
   ],
   "provenance": []
  },
  "gpuClass": "standard",
  "kernelspec": {
   "display_name": "Python 3 (ipykernel)",
   "language": "python",
   "name": "python3"
  },
  "language_info": {
   "codemirror_mode": {
    "name": "ipython",
    "version": 3
   },
   "file_extension": ".py",
   "mimetype": "text/x-python",
   "name": "python",
   "nbconvert_exporter": "python",
   "pygments_lexer": "ipython3",
   "version": "3.10.6"
  }
 },
 "nbformat": 4,
 "nbformat_minor": 4
}
