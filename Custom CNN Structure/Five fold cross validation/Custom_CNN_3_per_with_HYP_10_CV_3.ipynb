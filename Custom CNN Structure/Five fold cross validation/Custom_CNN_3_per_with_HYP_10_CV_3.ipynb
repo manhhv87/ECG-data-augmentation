{
 "cells": [
  {
   "cell_type": "markdown",
   "metadata": {
    "id": "SsTzc3oi726u"
   },
   "source": [
    "# **Building a Convolutional Neural Network with Keras**"
   ]
  },
  {
   "cell_type": "code",
   "execution_count": 1,
   "metadata": {},
   "outputs": [
    {
     "name": "stdout",
     "output_type": "stream",
     "text": [
      "2.9.1\n"
     ]
    }
   ],
   "source": [
    "#Tensorflow version\n",
    "\n",
    "import tensorflow as tf\n",
    "print(tf.__version__)"
   ]
  },
  {
   "cell_type": "code",
   "execution_count": 2,
   "metadata": {},
   "outputs": [],
   "source": [
    "#Importing libraries\n",
    "\n",
    "import tensorflow as tf\n",
    "from tensorflow import keras\n",
    "from keras.layers import Input, Conv2D, Dense, Flatten, BatchNormalization, Dropout, MaxPooling2D, GlobalMaxPooling2D\n",
    "from keras.models import Model\n",
    "import matplotlib.pyplot as plt\n",
    "from keras.applications.efficientnet import EfficientNetB0\n",
    "from keras.preprocessing import image\n",
    "#from keras.preprocessing.image import load_img\n",
    "from keras.models import Sequential\n",
    "import numpy as np\n",
    "from tensorflow.keras import regularizers"
   ]
  },
  {
   "cell_type": "code",
   "execution_count": 3,
   "metadata": {},
   "outputs": [],
   "source": [
    "# Cross Validation dataset links\n",
    "\n",
    "#CV-3\n",
    "train_dir=\"/home/ubuntu/From_Laptop/multi-class-NEW/12-Lead_ECG_version_2/DA_version_3/Model_Training/K-Fold Cross Validation/Fold 3/Training/\"\n",
    "val_dir=\"/home/ubuntu/From_Laptop/multi-class-NEW/12-Lead_ECG_version_2/DA_version_3/Model_Training/K-Fold Cross Validation/Fold 3/Validation/\""
   ]
  },
  {
   "cell_type": "code",
   "execution_count": 4,
   "metadata": {},
   "outputs": [
    {
     "name": "stdout",
     "output_type": "stream",
     "text": [
      "Found 31206 files belonging to 5 classes.\n"
     ]
    },
    {
     "name": "stderr",
     "output_type": "stream",
     "text": [
      "2023-02-08 14:29:30.016661: I tensorflow/stream_executor/cuda/cuda_gpu_executor.cc:975] successful NUMA node read from SysFS had negative value (-1), but there must be at least one NUMA node, so returning NUMA node zero\n",
      "2023-02-08 14:29:30.046377: I tensorflow/stream_executor/cuda/cuda_gpu_executor.cc:975] successful NUMA node read from SysFS had negative value (-1), but there must be at least one NUMA node, so returning NUMA node zero\n",
      "2023-02-08 14:29:30.046714: I tensorflow/stream_executor/cuda/cuda_gpu_executor.cc:975] successful NUMA node read from SysFS had negative value (-1), but there must be at least one NUMA node, so returning NUMA node zero\n",
      "2023-02-08 14:29:30.062390: I tensorflow/core/platform/cpu_feature_guard.cc:193] This TensorFlow binary is optimized with oneAPI Deep Neural Network Library (oneDNN) to use the following CPU instructions in performance-critical operations:  AVX2 FMA\n",
      "To enable them in other operations, rebuild TensorFlow with the appropriate compiler flags.\n",
      "2023-02-08 14:29:30.062885: I tensorflow/stream_executor/cuda/cuda_gpu_executor.cc:975] successful NUMA node read from SysFS had negative value (-1), but there must be at least one NUMA node, so returning NUMA node zero\n",
      "2023-02-08 14:29:30.063199: I tensorflow/stream_executor/cuda/cuda_gpu_executor.cc:975] successful NUMA node read from SysFS had negative value (-1), but there must be at least one NUMA node, so returning NUMA node zero\n",
      "2023-02-08 14:29:30.063358: I tensorflow/stream_executor/cuda/cuda_gpu_executor.cc:975] successful NUMA node read from SysFS had negative value (-1), but there must be at least one NUMA node, so returning NUMA node zero\n",
      "2023-02-08 14:29:30.561887: I tensorflow/stream_executor/cuda/cuda_gpu_executor.cc:975] successful NUMA node read from SysFS had negative value (-1), but there must be at least one NUMA node, so returning NUMA node zero\n",
      "2023-02-08 14:29:30.562086: I tensorflow/stream_executor/cuda/cuda_gpu_executor.cc:975] successful NUMA node read from SysFS had negative value (-1), but there must be at least one NUMA node, so returning NUMA node zero\n",
      "2023-02-08 14:29:30.562323: I tensorflow/stream_executor/cuda/cuda_gpu_executor.cc:975] successful NUMA node read from SysFS had negative value (-1), but there must be at least one NUMA node, so returning NUMA node zero\n",
      "2023-02-08 14:29:30.562447: I tensorflow/core/common_runtime/gpu/gpu_device.cc:1532] Created device /job:localhost/replica:0/task:0/device:GPU:0 with 7380 MB memory:  -> device: 0, name: NVIDIA GeForce GTX 1080, pci bus id: 0000:00:05.0, compute capability: 6.1\n"
     ]
    },
    {
     "name": "stdout",
     "output_type": "stream",
     "text": [
      "Found 7787 files belonging to 5 classes.\n"
     ]
    }
   ],
   "source": [
    "from tensorflow.keras import layers\n",
    "\n",
    "train_data = tf.keras.preprocessing.image_dataset_from_directory(directory=train_dir,\n",
    "                                                                 image_size=(256,256),\n",
    "                                                                 label_mode='categorical', batch_size=64, \n",
    "                                                                 )\n",
    "val_data = tf.keras.preprocessing.image_dataset_from_directory(directory=val_dir,\n",
    "                                                                 image_size=(256,256),\n",
    "                                                                 label_mode='categorical', batch_size=64,\n",
    "                                                                )"
   ]
  },
  {
   "cell_type": "code",
   "execution_count": 5,
   "metadata": {},
   "outputs": [],
   "source": [
    "#Normalization of the data\n",
    "\n",
    "nrmzln_layer = layers.experimental.preprocessing.Rescaling(1./255)\n",
    "\n",
    "train_data = train_data.map(lambda x,\n",
    "                          y: (nrmzln_layer(x), y))\n",
    "\n",
    "val_data = val_data.map(lambda x,\n",
    "                          y: (nrmzln_layer(x), y))"
   ]
  },
  {
   "cell_type": "code",
   "execution_count": 6,
   "metadata": {},
   "outputs": [],
   "source": [
    "#Custom Model Architecture\n",
    "\n",
    "from keras.layers import LeakyReLU\n",
    "model = tf.keras.models.Sequential([\n",
    "                                    \n",
    "    # First convolution layer \n",
    "    tf.keras.layers.Conv2D(32, 3, activation=LeakyReLU(alpha=0.01),padding=\"same\", input_shape=(256, 256, 3),use_bias=True),\n",
    "    tf.keras.layers.MaxPooling2D(2, 2),\n",
    "    tf.keras.layers.Dropout(0.50),\n",
    "    \n",
    "\n",
    "    # Second convolution layer \n",
    "    tf.keras.layers.Conv2D(64, 3, activation=LeakyReLU(alpha=0.01),padding=\"same\",use_bias=True),\n",
    "    tf.keras.layers.MaxPooling2D(2,2),\n",
    "    BatchNormalization(),\n",
    "    tf.keras.layers.Dropout(0.25),\n",
    "\n",
    "    \n",
    "    # Third convolution layer  \n",
    "    tf.keras.layers.Conv2D(128, 2, activation=LeakyReLU(alpha=0.01),padding=\"same\",use_bias=True),\n",
    "    tf.keras.layers.MaxPooling2D(2,2),\n",
    "    BatchNormalization(),\n",
    "    tf.keras.layers.Dropout(0.15),\n",
    "\n",
    "    # Fourth convolution layer \n",
    "    tf.keras.layers.Conv2D(64, 1, activation=LeakyReLU(alpha=0.01),padding=\"same\",use_bias=True),\n",
    "    tf.keras.layers.MaxPooling2D(2,2),\n",
    "    tf.keras.layers.Dropout(0.10),\n",
    "\n",
    "    # Flatten the pooled feature maps\n",
    "    tf.keras.layers.Flatten(),\n",
    "\n",
    "    # Fully connected hidden layer\n",
    "    tf.keras.layers.Dense(96, activation=LeakyReLU(alpha=0.01),use_bias=True),\n",
    "\n",
    "    # Output layer\n",
    "    tf.keras.layers.Dense(5, activation='softmax',activity_regularizer=regularizers.L2(0.001))  \n",
    "\n",
    "])\n"
   ]
  },
  {
   "cell_type": "code",
   "execution_count": 7,
   "metadata": {},
   "outputs": [
    {
     "name": "stdout",
     "output_type": "stream",
     "text": [
      "Model: \"sequential\"\n",
      "_________________________________________________________________\n",
      " Layer (type)                Output Shape              Param #   \n",
      "=================================================================\n",
      " conv2d (Conv2D)             (None, 256, 256, 32)      896       \n",
      "                                                                 \n",
      " max_pooling2d (MaxPooling2D  (None, 128, 128, 32)     0         \n",
      " )                                                               \n",
      "                                                                 \n",
      " dropout (Dropout)           (None, 128, 128, 32)      0         \n",
      "                                                                 \n",
      " conv2d_1 (Conv2D)           (None, 128, 128, 64)      18496     \n",
      "                                                                 \n",
      " max_pooling2d_1 (MaxPooling  (None, 64, 64, 64)       0         \n",
      " 2D)                                                             \n",
      "                                                                 \n",
      " batch_normalization (BatchN  (None, 64, 64, 64)       256       \n",
      " ormalization)                                                   \n",
      "                                                                 \n",
      " dropout_1 (Dropout)         (None, 64, 64, 64)        0         \n",
      "                                                                 \n",
      " conv2d_2 (Conv2D)           (None, 64, 64, 128)       32896     \n",
      "                                                                 \n",
      " max_pooling2d_2 (MaxPooling  (None, 32, 32, 128)      0         \n",
      " 2D)                                                             \n",
      "                                                                 \n",
      " batch_normalization_1 (Batc  (None, 32, 32, 128)      512       \n",
      " hNormalization)                                                 \n",
      "                                                                 \n",
      " dropout_2 (Dropout)         (None, 32, 32, 128)       0         \n",
      "                                                                 \n",
      " conv2d_3 (Conv2D)           (None, 32, 32, 64)        8256      \n",
      "                                                                 \n",
      " max_pooling2d_3 (MaxPooling  (None, 16, 16, 64)       0         \n",
      " 2D)                                                             \n",
      "                                                                 \n",
      " dropout_3 (Dropout)         (None, 16, 16, 64)        0         \n",
      "                                                                 \n",
      " flatten (Flatten)           (None, 16384)             0         \n",
      "                                                                 \n",
      " dense (Dense)               (None, 96)                1572960   \n",
      "                                                                 \n",
      " dense_1 (Dense)             (None, 5)                 485       \n",
      "                                                                 \n",
      "=================================================================\n",
      "Total params: 1,634,757\n",
      "Trainable params: 1,634,373\n",
      "Non-trainable params: 384\n",
      "_________________________________________________________________\n"
     ]
    }
   ],
   "source": [
    "#print model summary\n",
    "\n",
    "model.summary()"
   ]
  },
  {
   "cell_type": "code",
   "execution_count": 8,
   "metadata": {},
   "outputs": [],
   "source": [
    "#Performance evaluation Metrics delcaration \n",
    "\n",
    "from tensorflow.keras.optimizers import Adam\n",
    "from tensorflow.keras.metrics import SensitivityAtSpecificity,SpecificityAtSensitivity,Recall,Precision\n",
    "\n",
    "model.compile(loss=tf.losses.categorical_crossentropy,\n",
    "              optimizer=Adam(learning_rate=0.001),\n",
    "              metrics=['accuracy',SensitivityAtSpecificity(0.5),SpecificityAtSensitivity(0.5),Recall(0.5),Precision(0.5)]) \n"
   ]
  },
  {
   "cell_type": "code",
   "execution_count": 9,
   "metadata": {},
   "outputs": [
    {
     "name": "stdout",
     "output_type": "stream",
     "text": [
      "Device Spec:  /job:localhost/replica:0/device:GPU:*\n",
      "WARNING:tensorflow:`period` argument is deprecated. Please use `save_freq` to specify the frequency in number of batches seen.\n",
      "Epoch 1/150\n"
     ]
    },
    {
     "name": "stderr",
     "output_type": "stream",
     "text": [
      "2023-02-08 14:29:34.932985: I tensorflow/stream_executor/cuda/cuda_dnn.cc:384] Loaded cuDNN version 8100\n",
      "2023-02-08 14:29:35.130215: I tensorflow/core/platform/default/subprocess.cc:304] Start cannot spawn child process: No such file or directory\n"
     ]
    },
    {
     "name": "stdout",
     "output_type": "stream",
     "text": [
      "488/488 [==============================] - ETA: 0s - loss: 2.1482 - accuracy: 0.2845 - sensitivity_at_specificity: 0.6043 - specificity_at_sensitivity: 0.6120 - recall: 0.0706 - precision: 0.4830\n",
      "Epoch 1: val_accuracy improved from -inf to 0.24375, saving model to ECG_Spectrogram_Model.h5\n",
      "488/488 [==============================] - 77s 151ms/step - loss: 2.1482 - accuracy: 0.2845 - sensitivity_at_specificity: 0.6043 - specificity_at_sensitivity: 0.6120 - recall: 0.0706 - precision: 0.4830 - val_loss: 3.9312 - val_accuracy: 0.2438 - val_sensitivity_at_specificity: 0.4563 - val_specificity_at_sensitivity: 0.4320 - val_recall: 0.2438 - val_precision: 0.2438\n",
      "Epoch 2/150\n",
      "488/488 [==============================] - ETA: 0s - loss: 0.8753 - accuracy: 0.6593 - sensitivity_at_specificity: 0.9717 - specificity_at_sensitivity: 0.9666 - recall: 0.5346 - precision: 0.7657\n",
      "Epoch 2: val_accuracy improved from 0.24375 to 0.62500, saving model to ECG_Spectrogram_Model.h5\n",
      "488/488 [==============================] - 74s 152ms/step - loss: 0.8753 - accuracy: 0.6593 - sensitivity_at_specificity: 0.9717 - specificity_at_sensitivity: 0.9666 - recall: 0.5346 - precision: 0.7657 - val_loss: 0.9084 - val_accuracy: 0.6250 - val_sensitivity_at_specificity: 0.9781 - val_specificity_at_sensitivity: 0.9547 - val_recall: 0.5312 - val_precision: 0.6996\n",
      "Epoch 3/150\n",
      "488/488 [==============================] - ETA: 0s - loss: 0.6850 - accuracy: 0.7467 - sensitivity_at_specificity: 0.9875 - specificity_at_sensitivity: 0.9864 - recall: 0.6770 - precision: 0.8095\n",
      "Epoch 3: val_accuracy improved from 0.62500 to 0.73438, saving model to ECG_Spectrogram_Model.h5\n",
      "488/488 [==============================] - 74s 152ms/step - loss: 0.6850 - accuracy: 0.7467 - sensitivity_at_specificity: 0.9875 - specificity_at_sensitivity: 0.9864 - recall: 0.6770 - precision: 0.8095 - val_loss: 0.6922 - val_accuracy: 0.7344 - val_sensitivity_at_specificity: 0.9937 - val_specificity_at_sensitivity: 0.9852 - val_recall: 0.6500 - val_precision: 0.7647\n",
      "Epoch 4/150\n",
      "488/488 [==============================] - ETA: 0s - loss: 0.5796 - accuracy: 0.7906 - sensitivity_at_specificity: 0.9914 - specificity_at_sensitivity: 0.9923 - recall: 0.7410 - precision: 0.8345\n",
      "Epoch 4: val_accuracy did not improve from 0.73438\n",
      "488/488 [==============================] - 74s 150ms/step - loss: 0.5796 - accuracy: 0.7906 - sensitivity_at_specificity: 0.9914 - specificity_at_sensitivity: 0.9923 - recall: 0.7410 - precision: 0.8345 - val_loss: 0.8167 - val_accuracy: 0.7094 - val_sensitivity_at_specificity: 0.9719 - val_specificity_at_sensitivity: 0.9688 - val_recall: 0.6562 - val_precision: 0.7447\n",
      "Epoch 5/150\n",
      "488/488 [==============================] - ETA: 0s - loss: 0.5118 - accuracy: 0.8176 - sensitivity_at_specificity: 0.9933 - specificity_at_sensitivity: 0.9945 - recall: 0.7794 - precision: 0.8508\n",
      "Epoch 5: val_accuracy did not improve from 0.73438\n",
      "488/488 [==============================] - 73s 150ms/step - loss: 0.5118 - accuracy: 0.8176 - sensitivity_at_specificity: 0.9933 - specificity_at_sensitivity: 0.9945 - recall: 0.7794 - precision: 0.8508 - val_loss: 0.7803 - val_accuracy: 0.6344 - val_sensitivity_at_specificity: 1.0000 - val_specificity_at_sensitivity: 0.9461 - val_recall: 0.6125 - val_precision: 0.6426\n",
      "Epoch 6/150\n",
      "488/488 [==============================] - ETA: 0s - loss: 0.4707 - accuracy: 0.8315 - sensitivity_at_specificity: 0.9959 - specificity_at_sensitivity: 0.9960 - recall: 0.8004 - precision: 0.8619\n",
      "Epoch 6: val_accuracy improved from 0.73438 to 0.81250, saving model to ECG_Spectrogram_Model.h5\n",
      "488/488 [==============================] - 74s 151ms/step - loss: 0.4707 - accuracy: 0.8315 - sensitivity_at_specificity: 0.9959 - specificity_at_sensitivity: 0.9960 - recall: 0.8004 - precision: 0.8619 - val_loss: 0.4498 - val_accuracy: 0.8125 - val_sensitivity_at_specificity: 1.0000 - val_specificity_at_sensitivity: 0.9984 - val_recall: 0.7906 - val_precision: 0.8350\n",
      "Epoch 7/150\n",
      "488/488 [==============================] - ETA: 0s - loss: 0.4335 - accuracy: 0.8472 - sensitivity_at_specificity: 0.9964 - specificity_at_sensitivity: 0.9967 - recall: 0.8178 - precision: 0.8733\n",
      "Epoch 7: val_accuracy did not improve from 0.81250\n",
      "488/488 [==============================] - 74s 151ms/step - loss: 0.4335 - accuracy: 0.8472 - sensitivity_at_specificity: 0.9964 - specificity_at_sensitivity: 0.9967 - recall: 0.8178 - precision: 0.8733 - val_loss: 0.7117 - val_accuracy: 0.7250 - val_sensitivity_at_specificity: 0.9937 - val_specificity_at_sensitivity: 0.9828 - val_recall: 0.6969 - val_precision: 0.7433\n",
      "Epoch 8/150\n",
      "488/488 [==============================] - ETA: 0s - loss: 0.4098 - accuracy: 0.8518 - sensitivity_at_specificity: 0.9967 - specificity_at_sensitivity: 0.9976 - recall: 0.8279 - precision: 0.8773\n",
      "Epoch 8: val_accuracy improved from 0.81250 to 0.83750, saving model to ECG_Spectrogram_Model.h5\n",
      "488/488 [==============================] - 74s 152ms/step - loss: 0.4098 - accuracy: 0.8518 - sensitivity_at_specificity: 0.9967 - specificity_at_sensitivity: 0.9976 - recall: 0.8279 - precision: 0.8773 - val_loss: 0.4256 - val_accuracy: 0.8375 - val_sensitivity_at_specificity: 1.0000 - val_specificity_at_sensitivity: 0.9977 - val_recall: 0.8188 - val_precision: 0.8590\n",
      "Epoch 9/150\n",
      "488/488 [==============================] - ETA: 0s - loss: 0.3901 - accuracy: 0.8582 - sensitivity_at_specificity: 0.9974 - specificity_at_sensitivity: 0.9977 - recall: 0.8362 - precision: 0.8821\n",
      "Epoch 9: val_accuracy did not improve from 0.83750\n",
      "488/488 [==============================] - 74s 151ms/step - loss: 0.3901 - accuracy: 0.8582 - sensitivity_at_specificity: 0.9974 - specificity_at_sensitivity: 0.9977 - recall: 0.8362 - precision: 0.8821 - val_loss: 0.8952 - val_accuracy: 0.7188 - val_sensitivity_at_specificity: 0.9688 - val_specificity_at_sensitivity: 0.9789 - val_recall: 0.6844 - val_precision: 0.7604\n",
      "Epoch 10/150\n",
      "488/488 [==============================] - ETA: 0s - loss: 0.3779 - accuracy: 0.8659 - sensitivity_at_specificity: 0.9965 - specificity_at_sensitivity: 0.9980 - recall: 0.8436 - precision: 0.8869\n",
      "Epoch 10: val_accuracy improved from 0.83750 to 0.85312, saving model to ECG_Spectrogram_Model.h5\n",
      "488/488 [==============================] - 74s 151ms/step - loss: 0.3779 - accuracy: 0.8659 - sensitivity_at_specificity: 0.9965 - specificity_at_sensitivity: 0.9980 - recall: 0.8436 - precision: 0.8869 - val_loss: 0.4413 - val_accuracy: 0.8531 - val_sensitivity_at_specificity: 0.9937 - val_specificity_at_sensitivity: 0.9969 - val_recall: 0.8500 - val_precision: 0.8580\n",
      "Epoch 11/150\n",
      "488/488 [==============================] - ETA: 0s - loss: 0.3510 - accuracy: 0.8724 - sensitivity_at_specificity: 0.9970 - specificity_at_sensitivity: 0.9986 - recall: 0.8536 - precision: 0.8915\n",
      "Epoch 11: val_accuracy improved from 0.85312 to 0.86563, saving model to ECG_Spectrogram_Model.h5\n",
      "488/488 [==============================] - 74s 152ms/step - loss: 0.3510 - accuracy: 0.8724 - sensitivity_at_specificity: 0.9970 - specificity_at_sensitivity: 0.9986 - recall: 0.8536 - precision: 0.8915 - val_loss: 0.3682 - val_accuracy: 0.8656 - val_sensitivity_at_specificity: 0.9937 - val_specificity_at_sensitivity: 1.0000 - val_recall: 0.8594 - val_precision: 0.8703\n",
      "Epoch 12/150\n",
      "488/488 [==============================] - ETA: 0s - loss: 0.3410 - accuracy: 0.8773 - sensitivity_at_specificity: 0.9976 - specificity_at_sensitivity: 0.9985 - recall: 0.8600 - precision: 0.8964\n",
      "Epoch 12: val_accuracy did not improve from 0.86563\n",
      "488/488 [==============================] - 74s 151ms/step - loss: 0.3410 - accuracy: 0.8773 - sensitivity_at_specificity: 0.9976 - specificity_at_sensitivity: 0.9985 - recall: 0.8600 - precision: 0.8964 - val_loss: 0.8162 - val_accuracy: 0.7500 - val_sensitivity_at_specificity: 0.9719 - val_specificity_at_sensitivity: 0.9906 - val_recall: 0.7344 - val_precision: 0.7680\n",
      "Epoch 13/150\n",
      "488/488 [==============================] - ETA: 0s - loss: 0.3304 - accuracy: 0.8811 - sensitivity_at_specificity: 0.9978 - specificity_at_sensitivity: 0.9987 - recall: 0.8631 - precision: 0.8980\n",
      "Epoch 13: val_accuracy did not improve from 0.86563\n",
      "488/488 [==============================] - 73s 150ms/step - loss: 0.3304 - accuracy: 0.8811 - sensitivity_at_specificity: 0.9978 - specificity_at_sensitivity: 0.9987 - recall: 0.8631 - precision: 0.8980 - val_loss: 0.6201 - val_accuracy: 0.8000 - val_sensitivity_at_specificity: 0.9844 - val_specificity_at_sensitivity: 0.9945 - val_recall: 0.7812 - val_precision: 0.8117\n"
     ]
    },
    {
     "name": "stdout",
     "output_type": "stream",
     "text": [
      "Epoch 14/150\n",
      "488/488 [==============================] - ETA: 0s - loss: 0.3136 - accuracy: 0.8875 - sensitivity_at_specificity: 0.9975 - specificity_at_sensitivity: 0.9989 - recall: 0.8709 - precision: 0.9041\n",
      "Epoch 14: val_accuracy did not improve from 0.86563\n",
      "488/488 [==============================] - 73s 150ms/step - loss: 0.3136 - accuracy: 0.8875 - sensitivity_at_specificity: 0.9975 - specificity_at_sensitivity: 0.9989 - recall: 0.8709 - precision: 0.9041 - val_loss: 0.4781 - val_accuracy: 0.8344 - val_sensitivity_at_specificity: 0.9844 - val_specificity_at_sensitivity: 0.9961 - val_recall: 0.8188 - val_precision: 0.8424\n",
      "Epoch 15/150\n",
      "488/488 [==============================] - ETA: 0s - loss: 0.3065 - accuracy: 0.8910 - sensitivity_at_specificity: 0.9975 - specificity_at_sensitivity: 0.9990 - recall: 0.8755 - precision: 0.9061\n",
      "Epoch 15: val_accuracy did not improve from 0.86563\n",
      "488/488 [==============================] - 73s 150ms/step - loss: 0.3065 - accuracy: 0.8910 - sensitivity_at_specificity: 0.9975 - specificity_at_sensitivity: 0.9990 - recall: 0.8755 - precision: 0.9061 - val_loss: 0.5616 - val_accuracy: 0.8219 - val_sensitivity_at_specificity: 0.9812 - val_specificity_at_sensitivity: 0.9977 - val_recall: 0.8188 - val_precision: 0.8291\n",
      "Epoch 16/150\n",
      "488/488 [==============================] - ETA: 0s - loss: 0.2901 - accuracy: 0.8970 - sensitivity_at_specificity: 0.9977 - specificity_at_sensitivity: 0.9992 - recall: 0.8823 - precision: 0.9104\n",
      "Epoch 16: val_accuracy improved from 0.86563 to 0.88125, saving model to ECG_Spectrogram_Model.h5\n",
      "488/488 [==============================] - 73s 150ms/step - loss: 0.2901 - accuracy: 0.8970 - sensitivity_at_specificity: 0.9977 - specificity_at_sensitivity: 0.9992 - recall: 0.8823 - precision: 0.9104 - val_loss: 0.3683 - val_accuracy: 0.8813 - val_sensitivity_at_specificity: 0.9875 - val_specificity_at_sensitivity: 0.9984 - val_recall: 0.8781 - val_precision: 0.8836\n",
      "Epoch 17/150\n",
      "488/488 [==============================] - ETA: 0s - loss: 0.2759 - accuracy: 0.9022 - sensitivity_at_specificity: 0.9975 - specificity_at_sensitivity: 0.9992 - recall: 0.8881 - precision: 0.9152\n",
      "Epoch 17: val_accuracy did not improve from 0.88125\n",
      "488/488 [==============================] - 73s 150ms/step - loss: 0.2759 - accuracy: 0.9022 - sensitivity_at_specificity: 0.9975 - specificity_at_sensitivity: 0.9992 - recall: 0.8881 - precision: 0.9152 - val_loss: 0.5745 - val_accuracy: 0.8188 - val_sensitivity_at_specificity: 0.9812 - val_specificity_at_sensitivity: 0.9984 - val_recall: 0.8031 - val_precision: 0.8237\n",
      "Epoch 18/150\n",
      "488/488 [==============================] - ETA: 0s - loss: 0.2710 - accuracy: 0.9015 - sensitivity_at_specificity: 0.9979 - specificity_at_sensitivity: 0.9993 - recall: 0.8897 - precision: 0.9143\n",
      "Epoch 18: val_accuracy improved from 0.88125 to 0.90312, saving model to ECG_Spectrogram_Model.h5\n",
      "488/488 [==============================] - 74s 150ms/step - loss: 0.2710 - accuracy: 0.9015 - sensitivity_at_specificity: 0.9979 - specificity_at_sensitivity: 0.9993 - recall: 0.8897 - precision: 0.9143 - val_loss: 0.2601 - val_accuracy: 0.9031 - val_sensitivity_at_specificity: 1.0000 - val_specificity_at_sensitivity: 1.0000 - val_recall: 0.8969 - val_precision: 0.9025\n",
      "Epoch 19/150\n",
      "488/488 [==============================] - ETA: 0s - loss: 0.2636 - accuracy: 0.9030 - sensitivity_at_specificity: 0.9982 - specificity_at_sensitivity: 0.9994 - recall: 0.8921 - precision: 0.9153\n",
      "Epoch 19: val_accuracy improved from 0.90312 to 0.90938, saving model to ECG_Spectrogram_Model.h5\n",
      "488/488 [==============================] - 74s 150ms/step - loss: 0.2636 - accuracy: 0.9030 - sensitivity_at_specificity: 0.9982 - specificity_at_sensitivity: 0.9994 - recall: 0.8921 - precision: 0.9153 - val_loss: 0.2738 - val_accuracy: 0.9094 - val_sensitivity_at_specificity: 0.9937 - val_specificity_at_sensitivity: 0.9977 - val_recall: 0.9062 - val_precision: 0.9119\n",
      "Epoch 20/150\n",
      "488/488 [==============================] - ETA: 0s - loss: 0.2534 - accuracy: 0.9082 - sensitivity_at_specificity: 0.9981 - specificity_at_sensitivity: 0.9995 - recall: 0.8968 - precision: 0.9183\n",
      "Epoch 20: val_accuracy did not improve from 0.90938\n",
      "488/488 [==============================] - 73s 150ms/step - loss: 0.2534 - accuracy: 0.9082 - sensitivity_at_specificity: 0.9981 - specificity_at_sensitivity: 0.9995 - recall: 0.8968 - precision: 0.9183 - val_loss: 0.3519 - val_accuracy: 0.8625 - val_sensitivity_at_specificity: 0.9937 - val_specificity_at_sensitivity: 0.9992 - val_recall: 0.8562 - val_precision: 0.8754\n",
      "Epoch 21/150\n",
      "488/488 [==============================] - ETA: 0s - loss: 0.2460 - accuracy: 0.9104 - sensitivity_at_specificity: 0.9977 - specificity_at_sensitivity: 0.9995 - recall: 0.9000 - precision: 0.9206\n",
      "Epoch 21: val_accuracy did not improve from 0.90938\n",
      "488/488 [==============================] - 73s 150ms/step - loss: 0.2460 - accuracy: 0.9104 - sensitivity_at_specificity: 0.9977 - specificity_at_sensitivity: 0.9995 - recall: 0.9000 - precision: 0.9206 - val_loss: 0.3438 - val_accuracy: 0.8750 - val_sensitivity_at_specificity: 0.9937 - val_specificity_at_sensitivity: 0.9984 - val_recall: 0.8719 - val_precision: 0.8774\n",
      "Epoch 22/150\n",
      "488/488 [==============================] - ETA: 0s - loss: 0.2415 - accuracy: 0.9101 - sensitivity_at_specificity: 0.9985 - specificity_at_sensitivity: 0.9995 - recall: 0.9002 - precision: 0.9210\n",
      "Epoch 22: val_accuracy did not improve from 0.90938\n",
      "488/488 [==============================] - 73s 150ms/step - loss: 0.2415 - accuracy: 0.9101 - sensitivity_at_specificity: 0.9985 - specificity_at_sensitivity: 0.9995 - recall: 0.9002 - precision: 0.9210 - val_loss: 0.3942 - val_accuracy: 0.8750 - val_sensitivity_at_specificity: 0.9750 - val_specificity_at_sensitivity: 0.9984 - val_recall: 0.8719 - val_precision: 0.8857\n",
      "Epoch 23/150\n",
      "488/488 [==============================] - ETA: 0s - loss: 0.2307 - accuracy: 0.9127 - sensitivity_at_specificity: 0.9988 - specificity_at_sensitivity: 0.9997 - recall: 0.9026 - precision: 0.9225\n",
      "Epoch 23: val_accuracy did not improve from 0.90938\n",
      "488/488 [==============================] - 73s 150ms/step - loss: 0.2307 - accuracy: 0.9127 - sensitivity_at_specificity: 0.9988 - specificity_at_sensitivity: 0.9997 - recall: 0.9026 - precision: 0.9225 - val_loss: 0.3086 - val_accuracy: 0.8938 - val_sensitivity_at_specificity: 0.9906 - val_specificity_at_sensitivity: 0.9984 - val_recall: 0.8781 - val_precision: 0.9006\n",
      "Epoch 24/150\n",
      "488/488 [==============================] - ETA: 0s - loss: 0.2263 - accuracy: 0.9177 - sensitivity_at_specificity: 0.9986 - specificity_at_sensitivity: 0.9996 - recall: 0.9090 - precision: 0.9264\n",
      "Epoch 24: val_accuracy did not improve from 0.90938\n",
      "488/488 [==============================] - 73s 150ms/step - loss: 0.2263 - accuracy: 0.9177 - sensitivity_at_specificity: 0.9986 - specificity_at_sensitivity: 0.9996 - recall: 0.9090 - precision: 0.9264 - val_loss: 0.5203 - val_accuracy: 0.8313 - val_sensitivity_at_specificity: 0.9781 - val_specificity_at_sensitivity: 0.9969 - val_recall: 0.8250 - val_precision: 0.8381\n"
     ]
    }
   ],
   "source": [
    "#Model Execution\n",
    "\n",
    "from keras.callbacks import ModelCheckpoint, EarlyStopping\n",
    "\n",
    "# Initializing Device Specification\n",
    "device_spec = tf.DeviceSpec(job =\"localhost\", replica = 0, device_type = \"GPU\")\n",
    " \n",
    "# Printing the DeviceSpec\n",
    "print('Device Spec: ', device_spec.to_string())\n",
    " \n",
    "# Enabling device logging\n",
    "tf.debugging.set_log_device_placement(True)\n",
    " \n",
    "# Specifying the device\n",
    "with tf.device(device_spec):\n",
    "    \n",
    "#with tf.device('/gpu:10'):\n",
    "    \n",
    "    checkpoint = ModelCheckpoint(\"ECG_Spectrogram_Model.h5\", monitor='val_accuracy', verbose=1, save_best_only=True, save_weights_only=False, mode='auto', period=1)\n",
    "    mycallback=tf.keras.callbacks.EarlyStopping(monitor=\"val_accuracy\", patience=5, mode=\"auto\")\n",
    "    \n",
    "    history = model.fit(\n",
    "          train_data,\n",
    "          #steps_per_epoch=20, \n",
    "          epochs=150,\n",
    "          verbose=1,\n",
    "          validation_data = train_data,\n",
    "          validation_steps=5, \n",
    "          callbacks = [mycallback,checkpoint]\n",
    "    ) "
   ]
  },
  {
   "cell_type": "code",
   "execution_count": 10,
   "metadata": {},
   "outputs": [
    {
     "name": "stdout",
     "output_type": "stream",
     "text": [
      "Training Accuracy:  0.9177401661872864\n",
      "Validation Accuracy:  0.909375011920929\n",
      "Validation Specificity:  1.0\n",
      "Validation Sensitivity:  1.0\n",
      "Validation Recall:  0.90625\n",
      "Validation Precision:  0.9119496941566467\n",
      "Validation Loss:  0.26009899377822876\n"
     ]
    }
   ],
   "source": [
    "Training_Accuracy=history.history['accuracy']\n",
    "Validation_Accuracy=history.history['val_accuracy']\n",
    "Validation_Specificity=history.history['val_specificity_at_sensitivity']\n",
    "Validation_Sensitivity=history.history['val_sensitivity_at_specificity']\n",
    "Validation_Recall=history.history['val_recall']\n",
    "Validation_Precision=history.history['val_precision']\n",
    "Validation_Loss=history.history['val_loss']\n",
    "\n",
    "print(\"Training Accuracy: \",max(Training_Accuracy))\n",
    "print(\"Validation Accuracy: \",max(Validation_Accuracy))\n",
    "print(\"Validation Specificity: \",max(Validation_Specificity))\n",
    "print(\"Validation Sensitivity: \",max(Validation_Sensitivity))\n",
    "print(\"Validation Recall: \",max(Validation_Recall))\n",
    "print(\"Validation Precision: \",max(Validation_Precision))\n",
    "print(\"Validation Loss: \",min(Validation_Loss))"
   ]
  },
  {
   "cell_type": "code",
   "execution_count": 11,
   "metadata": {},
   "outputs": [
    {
     "data": {
      "image/png": "[encoded data removed]",
      "text/plain": [
       "<Figure size 720x432 with 1 Axes>"
      ]
     },
     "metadata": {
      "needs_background": "light"
     },
     "output_type": "display_data"
    }
   ],
   "source": [
    "plt.figure(figsize=(10,6))\n",
    "plt.plot(history.history['accuracy'])\n",
    "plt.plot(history.history['val_accuracy'])\n",
    "plt.title('Model accuracy')\n",
    "plt.ylabel('Accuracy')\n",
    "plt.xlabel('Epoch')\n",
    "plt.legend(['Train', 'Test'], loc='upper left')\n",
    "plt.show()"
   ]
  },
  {
   "cell_type": "code",
   "execution_count": 12,
   "metadata": {},
   "outputs": [
    {
     "data": {
      "image/png": "[encoded data removed]",
      "text/plain": [
       "<Figure size 720x432 with 1 Axes>"
      ]
     },
     "metadata": {
      "needs_background": "light"
     },
     "output_type": "display_data"
    }
   ],
   "source": [
    "plt.figure(figsize=(10,6))\n",
    "plt.plot(history.history['loss'])\n",
    "plt.plot(history.history['val_loss'])\n",
    "plt.title('Model Loss')\n",
    "plt.ylabel('Loss')\n",
    "plt.xlabel('Epoch')\n",
    "plt.legend(['Train', 'Test'], loc='upper left')\n",
    "plt.show()"
   ]
  },
  {
   "cell_type": "code",
   "execution_count": null,
   "metadata": {},
   "outputs": [],
   "source": []
  },
  {
   "cell_type": "code",
   "execution_count": null,
   "metadata": {},
   "outputs": [],
   "source": []
  }
 ],
 "metadata": {
  "accelerator": "GPU",
  "colab": {
   "collapsed_sections": [
    "7e88OLey6Bgd"
   ],
   "provenance": []
  },
  "gpuClass": "standard",
  "kernelspec": {
   "display_name": "Python 3 (ipykernel)",
   "language": "python",
   "name": "python3"
  },
  "language_info": {
   "codemirror_mode": {
    "name": "ipython",
    "version": 3
   },
   "file_extension": ".py",
   "mimetype": "text/x-python",
   "name": "python",
   "nbconvert_exporter": "python",
   "pygments_lexer": "ipython3",
   "version": "3.10.6"
  }
 },
 "nbformat": 4,
 "nbformat_minor": 4
}
