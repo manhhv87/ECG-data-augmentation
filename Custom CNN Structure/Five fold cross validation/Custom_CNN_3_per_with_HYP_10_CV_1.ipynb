{
 "cells": [
  {
   "cell_type": "markdown",
   "metadata": {
    "id": "SsTzc3oi726u"
   },
   "source": [
    "# **Building a Convolutional Neural Network with Keras**"
   ]
  },
  {
   "cell_type": "code",
   "execution_count": 1,
   "metadata": {},
   "outputs": [
    {
     "name": "stdout",
     "output_type": "stream",
     "text": [
      "2.9.1\n"
     ]
    }
   ],
   "source": [
    "#Tensorflow version\n",
    "\n",
    "import tensorflow as tf\n",
    "print(tf.__version__)"
   ]
  },
  {
   "cell_type": "code",
   "execution_count": 2,
   "metadata": {},
   "outputs": [],
   "source": [
    "#Importing libraries\n",
    "\n",
    "import tensorflow as tf\n",
    "from tensorflow import keras\n",
    "from keras.layers import Input, Conv2D, Dense, Flatten, BatchNormalization, Dropout, MaxPooling2D, GlobalMaxPooling2D\n",
    "from keras.models import Model\n",
    "import matplotlib.pyplot as plt\n",
    "from keras.applications.efficientnet import EfficientNetB0\n",
    "from keras.preprocessing import image\n",
    "#from keras.preprocessing.image import load_img\n",
    "from keras.models import Sequential\n",
    "import numpy as np\n",
    "from tensorflow.keras import regularizers"
   ]
  },
  {
   "cell_type": "code",
   "execution_count": 3,
   "metadata": {},
   "outputs": [],
   "source": [
    "# Cross Validation dataset links\n",
    "\n",
    "#CV-1\n",
    "train_dir=\"/home/ubuntu/From_Laptop/multi-class-NEW/12-Lead_ECG_version_2/DA_version_3/Model_Training/K-Fold Cross Validation/Fold 1/Training/\"\n",
    "val_dir=\"/home/ubuntu/From_Laptop/multi-class-NEW/12-Lead_ECG_version_2/DA_version_3/Model_Training/K-Fold Cross Validation/Fold 1/Validation/\"\n",
    "\n",
    "#CV-2\n",
    "#train_dir=\"/home/ubuntu/From_Laptop/multi-class-NEW/12-Lead_ECG_version_2/DA_version_3/Model_Training/K-Fold Cross Validation/Fold 2/Training/\"\n",
    "#val_dir=\"/home/ubuntu/From_Laptop/multi-class-NEW/12-Lead_ECG_version_2/DA_version_3/Model_Training/K-Fold Cross Validation/Fold 2/Validation/\"\n",
    "\n",
    "#CV-3\n",
    "#train_dir=\"/home/ubuntu/From_Laptop/multi-class-NEW/12-Lead_ECG_version_2/DA_version_3/Model_Training/K-Fold Cross Validation/Fold 3/Training/\"\n",
    "#val_dir=\"/home/ubuntu/From_Laptop/multi-class-NEW/12-Lead_ECG_version_2/DA_version_3/Model_Training/K-Fold Cross Validation/Fold 3/Validation/\"\n",
    "\n",
    "#CV-4\n",
    "#train_dir=\"/home/ubuntu/From_Laptop/multi-class-NEW/12-Lead_ECG_version_2/DA_version_3/Model_Training/K-Fold Cross Validation/Fold 4/Training/\"\n",
    "#val_dir=\"/home/ubuntu/From_Laptop/multi-class-NEW/12-Lead_ECG_version_2/DA_version_3/Model_Training/K-Fold Cross Validation/Fold 4/Validation/\"\n",
    "\n",
    "#CV-5\n",
    "#train_dir=\"/home/ubuntu/From_Laptop/multi-class-NEW/12-Lead_ECG_version_2/DA_version_3/Model_Training/K-Fold Cross Validation/Fold 5/Training/\"\n",
    "#val_dir=\"/home/ubuntu/From_Laptop/multi-class-NEW/12-Lead_ECG_version_2/DA_version_3/Model_Training/K-Fold Cross Validation/Fold 5/Validation/\""
   ]
  },
  {
   "cell_type": "code",
   "execution_count": 4,
   "metadata": {},
   "outputs": [
    {
     "name": "stdout",
     "output_type": "stream",
     "text": [
      "Found 31206 files belonging to 5 classes.\n"
     ]
    },
    {
     "name": "stderr",
     "output_type": "stream",
     "text": [
      "2023-02-08 10:42:00.094425: I tensorflow/stream_executor/cuda/cuda_gpu_executor.cc:975] successful NUMA node read from SysFS had negative value (-1), but there must be at least one NUMA node, so returning NUMA node zero\n",
      "2023-02-08 10:42:00.118256: I tensorflow/stream_executor/cuda/cuda_gpu_executor.cc:975] successful NUMA node read from SysFS had negative value (-1), but there must be at least one NUMA node, so returning NUMA node zero\n",
      "2023-02-08 10:42:00.118482: I tensorflow/stream_executor/cuda/cuda_gpu_executor.cc:975] successful NUMA node read from SysFS had negative value (-1), but there must be at least one NUMA node, so returning NUMA node zero\n",
      "2023-02-08 10:42:00.142235: I tensorflow/core/platform/cpu_feature_guard.cc:193] This TensorFlow binary is optimized with oneAPI Deep Neural Network Library (oneDNN) to use the following CPU instructions in performance-critical operations:  AVX2 FMA\n",
      "To enable them in other operations, rebuild TensorFlow with the appropriate compiler flags.\n",
      "2023-02-08 10:42:00.142634: I tensorflow/stream_executor/cuda/cuda_gpu_executor.cc:975] successful NUMA node read from SysFS had negative value (-1), but there must be at least one NUMA node, so returning NUMA node zero\n",
      "2023-02-08 10:42:00.142917: I tensorflow/stream_executor/cuda/cuda_gpu_executor.cc:975] successful NUMA node read from SysFS had negative value (-1), but there must be at least one NUMA node, so returning NUMA node zero\n",
      "2023-02-08 10:42:00.143103: I tensorflow/stream_executor/cuda/cuda_gpu_executor.cc:975] successful NUMA node read from SysFS had negative value (-1), but there must be at least one NUMA node, so returning NUMA node zero\n",
      "2023-02-08 10:42:00.571071: I tensorflow/stream_executor/cuda/cuda_gpu_executor.cc:975] successful NUMA node read from SysFS had negative value (-1), but there must be at least one NUMA node, so returning NUMA node zero\n",
      "2023-02-08 10:42:00.571269: I tensorflow/stream_executor/cuda/cuda_gpu_executor.cc:975] successful NUMA node read from SysFS had negative value (-1), but there must be at least one NUMA node, so returning NUMA node zero\n",
      "2023-02-08 10:42:00.571422: I tensorflow/stream_executor/cuda/cuda_gpu_executor.cc:975] successful NUMA node read from SysFS had negative value (-1), but there must be at least one NUMA node, so returning NUMA node zero\n",
      "2023-02-08 10:42:00.571544: I tensorflow/core/common_runtime/gpu/gpu_device.cc:1532] Created device /job:localhost/replica:0/task:0/device:GPU:0 with 7380 MB memory:  -> device: 0, name: NVIDIA GeForce GTX 1080, pci bus id: 0000:00:05.0, compute capability: 6.1\n"
     ]
    },
    {
     "name": "stdout",
     "output_type": "stream",
     "text": [
      "Found 7787 files belonging to 5 classes.\n"
     ]
    }
   ],
   "source": [
    "from tensorflow.keras import layers\n",
    "\n",
    "train_data = tf.keras.preprocessing.image_dataset_from_directory(directory=train_dir,\n",
    "                                                                 image_size=(256,256),\n",
    "                                                                 label_mode='categorical', batch_size=64, \n",
    "                                                                 )\n",
    "val_data = tf.keras.preprocessing.image_dataset_from_directory(directory=val_dir,\n",
    "                                                                 image_size=(256,256),\n",
    "                                                                 label_mode='categorical', batch_size=64,\n",
    "                                                                )"
   ]
  },
  {
   "cell_type": "code",
   "execution_count": 5,
   "metadata": {},
   "outputs": [],
   "source": [
    "#Normalization of the data\n",
    "\n",
    "nrmzln_layer = layers.experimental.preprocessing.Rescaling(1./255)\n",
    "\n",
    "train_data = train_data.map(lambda x,\n",
    "                          y: (nrmzln_layer(x), y))\n",
    "\n",
    "val_data = val_data.map(lambda x,\n",
    "                          y: (nrmzln_layer(x), y))"
   ]
  },
  {
   "cell_type": "code",
   "execution_count": 6,
   "metadata": {},
   "outputs": [],
   "source": [
    "#Custom Model Architecture\n",
    "\n",
    "from keras.layers import LeakyReLU\n",
    "model = tf.keras.models.Sequential([\n",
    "                                    \n",
    "    # First convolution layer \n",
    "    tf.keras.layers.Conv2D(32, 3, activation=LeakyReLU(alpha=0.01),padding=\"same\", input_shape=(256, 256, 3),use_bias=True),\n",
    "    tf.keras.layers.MaxPooling2D(2, 2),\n",
    "    tf.keras.layers.Dropout(0.50),\n",
    "    \n",
    "\n",
    "    # Second convolution layer \n",
    "    tf.keras.layers.Conv2D(64, 3, activation=LeakyReLU(alpha=0.01),padding=\"same\",use_bias=True),\n",
    "    tf.keras.layers.MaxPooling2D(2,2),\n",
    "    BatchNormalization(),\n",
    "    tf.keras.layers.Dropout(0.25),\n",
    "\n",
    "    \n",
    "    # Third convolution layer  \n",
    "    tf.keras.layers.Conv2D(128, 2, activation=LeakyReLU(alpha=0.01),padding=\"same\",use_bias=True),\n",
    "    tf.keras.layers.MaxPooling2D(2,2),\n",
    "    BatchNormalization(),\n",
    "    tf.keras.layers.Dropout(0.15),\n",
    "\n",
    "    # Fourth convolution layer \n",
    "    tf.keras.layers.Conv2D(64, 1, activation=LeakyReLU(alpha=0.01),padding=\"same\",use_bias=True),\n",
    "    tf.keras.layers.MaxPooling2D(2,2),\n",
    "    tf.keras.layers.Dropout(0.10),\n",
    "\n",
    "    # Flatten the pooled feature maps\n",
    "    tf.keras.layers.Flatten(),\n",
    "\n",
    "    # Fully connected hidden layer\n",
    "    tf.keras.layers.Dense(96, activation=LeakyReLU(alpha=0.01),use_bias=True),\n",
    "\n",
    "    # Output layer\n",
    "    tf.keras.layers.Dense(5, activation='softmax',activity_regularizer=regularizers.L2(0.001))  \n",
    "\n",
    "])\n"
   ]
  },
  {
   "cell_type": "code",
   "execution_count": 7,
   "metadata": {},
   "outputs": [
    {
     "name": "stdout",
     "output_type": "stream",
     "text": [
      "Model: \"sequential\"\n",
      "_________________________________________________________________\n",
      " Layer (type)                Output Shape              Param #   \n",
      "=================================================================\n",
      " conv2d (Conv2D)             (None, 256, 256, 32)      896       \n",
      "                                                                 \n",
      " max_pooling2d (MaxPooling2D  (None, 128, 128, 32)     0         \n",
      " )                                                               \n",
      "                                                                 \n",
      " dropout (Dropout)           (None, 128, 128, 32)      0         \n",
      "                                                                 \n",
      " conv2d_1 (Conv2D)           (None, 128, 128, 64)      18496     \n",
      "                                                                 \n",
      " max_pooling2d_1 (MaxPooling  (None, 64, 64, 64)       0         \n",
      " 2D)                                                             \n",
      "                                                                 \n",
      " batch_normalization (BatchN  (None, 64, 64, 64)       256       \n",
      " ormalization)                                                   \n",
      "                                                                 \n",
      " dropout_1 (Dropout)         (None, 64, 64, 64)        0         \n",
      "                                                                 \n",
      " conv2d_2 (Conv2D)           (None, 64, 64, 128)       32896     \n",
      "                                                                 \n",
      " max_pooling2d_2 (MaxPooling  (None, 32, 32, 128)      0         \n",
      " 2D)                                                             \n",
      "                                                                 \n",
      " batch_normalization_1 (Batc  (None, 32, 32, 128)      512       \n",
      " hNormalization)                                                 \n",
      "                                                                 \n",
      " dropout_2 (Dropout)         (None, 32, 32, 128)       0         \n",
      "                                                                 \n",
      " conv2d_3 (Conv2D)           (None, 32, 32, 64)        8256      \n",
      "                                                                 \n",
      " max_pooling2d_3 (MaxPooling  (None, 16, 16, 64)       0         \n",
      " 2D)                                                             \n",
      "                                                                 \n",
      " dropout_3 (Dropout)         (None, 16, 16, 64)        0         \n",
      "                                                                 \n",
      " flatten (Flatten)           (None, 16384)             0         \n",
      "                                                                 \n",
      " dense (Dense)               (None, 96)                1572960   \n",
      "                                                                 \n",
      " dense_1 (Dense)             (None, 5)                 485       \n",
      "                                                                 \n",
      "=================================================================\n",
      "Total params: 1,634,757\n",
      "Trainable params: 1,634,373\n",
      "Non-trainable params: 384\n",
      "_________________________________________________________________\n"
     ]
    }
   ],
   "source": [
    "#print model summary\n",
    "\n",
    "model.summary()"
   ]
  },
  {
   "cell_type": "code",
   "execution_count": 8,
   "metadata": {},
   "outputs": [],
   "source": [
    "#Performance evaluation Metrics delcaration \n",
    "\n",
    "from tensorflow.keras.optimizers import Adam\n",
    "from tensorflow.keras.metrics import SensitivityAtSpecificity,SpecificityAtSensitivity,Recall,Precision\n",
    "\n",
    "model.compile(loss=tf.losses.categorical_crossentropy,\n",
    "              optimizer=Adam(learning_rate=0.001),\n",
    "              metrics=['accuracy',SensitivityAtSpecificity(0.5),SpecificityAtSensitivity(0.5),Recall(0.5),Precision(0.5)]) \n"
   ]
  },
  {
   "cell_type": "code",
   "execution_count": 9,
   "metadata": {},
   "outputs": [
    {
     "name": "stdout",
     "output_type": "stream",
     "text": [
      "Device Spec:  /job:localhost/replica:0/device:GPU:*\n",
      "WARNING:tensorflow:`period` argument is deprecated. Please use `save_freq` to specify the frequency in number of batches seen.\n",
      "Epoch 1/150\n"
     ]
    },
    {
     "name": "stderr",
     "output_type": "stream",
     "text": [
      "2023-02-08 10:42:07.135243: I tensorflow/stream_executor/cuda/cuda_dnn.cc:384] Loaded cuDNN version 8100\n",
      "2023-02-08 10:42:07.319447: I tensorflow/core/platform/default/subprocess.cc:304] Start cannot spawn child process: No such file or directory\n"
     ]
    },
    {
     "name": "stdout",
     "output_type": "stream",
     "text": [
      "488/488 [==============================] - ETA: 0s - loss: 2.1570 - accuracy: 0.3083 - sensitivity_at_specificity: 0.6531 - specificity_at_sensitivity: 0.6647 - recall: 0.1047 - precision: 0.4334\n",
      "Epoch 1: val_accuracy improved from -inf to 0.20625, saving model to ECG_Spectrogram_Model.h5\n",
      "488/488 [==============================] - 76s 149ms/step - loss: 2.1570 - accuracy: 0.3083 - sensitivity_at_specificity: 0.6531 - specificity_at_sensitivity: 0.6647 - recall: 0.1047 - precision: 0.4334 - val_loss: 7.5075 - val_accuracy: 0.2062 - val_sensitivity_at_specificity: 0.3656 - val_specificity_at_sensitivity: 0.4461 - val_recall: 0.2062 - val_precision: 0.2062\n",
      "Epoch 2/150\n",
      "488/488 [==============================] - ETA: 0s - loss: 0.9600 - accuracy: 0.6254 - sensitivity_at_specificity: 0.9601 - specificity_at_sensitivity: 0.9523 - recall: 0.4797 - precision: 0.7419\n",
      "Epoch 2: val_accuracy improved from 0.20625 to 0.54062, saving model to ECG_Spectrogram_Model.h5\n",
      "488/488 [==============================] - 73s 149ms/step - loss: 0.9600 - accuracy: 0.6254 - sensitivity_at_specificity: 0.9601 - specificity_at_sensitivity: 0.9523 - recall: 0.4797 - precision: 0.7419 - val_loss: 1.1437 - val_accuracy: 0.5406 - val_sensitivity_at_specificity: 0.9187 - val_specificity_at_sensitivity: 0.9164 - val_recall: 0.4375 - val_precision: 0.6278\n",
      "Epoch 3/150\n",
      "488/488 [==============================] - ETA: 0s - loss: 0.7440 - accuracy: 0.7217 - sensitivity_at_specificity: 0.9854 - specificity_at_sensitivity: 0.9814 - recall: 0.6333 - precision: 0.7961\n",
      "Epoch 3: val_accuracy did not improve from 0.54062\n",
      "488/488 [==============================] - 73s 149ms/step - loss: 0.7440 - accuracy: 0.7217 - sensitivity_at_specificity: 0.9854 - specificity_at_sensitivity: 0.9814 - recall: 0.6333 - precision: 0.7961 - val_loss: 1.6273 - val_accuracy: 0.4938 - val_sensitivity_at_specificity: 0.8844 - val_specificity_at_sensitivity: 0.8836 - val_recall: 0.4219 - val_precision: 0.5336\n",
      "Epoch 4/150\n",
      "488/488 [==============================] - ETA: 0s - loss: 0.6401 - accuracy: 0.7637 - sensitivity_at_specificity: 0.9908 - specificity_at_sensitivity: 0.9884 - recall: 0.7029 - precision: 0.8152\n",
      "Epoch 4: val_accuracy improved from 0.54062 to 0.76250, saving model to ECG_Spectrogram_Model.h5\n",
      "488/488 [==============================] - 73s 150ms/step - loss: 0.6401 - accuracy: 0.7637 - sensitivity_at_specificity: 0.9908 - specificity_at_sensitivity: 0.9884 - recall: 0.7029 - precision: 0.8152 - val_loss: 0.6662 - val_accuracy: 0.7625 - val_sensitivity_at_specificity: 0.9875 - val_specificity_at_sensitivity: 0.9953 - val_recall: 0.6938 - val_precision: 0.8284\n",
      "Epoch 5/150\n",
      "488/488 [==============================] - ETA: 0s - loss: 0.5485 - accuracy: 0.8014 - sensitivity_at_specificity: 0.9940 - specificity_at_sensitivity: 0.9931 - recall: 0.7571 - precision: 0.8405\n",
      "Epoch 5: val_accuracy improved from 0.76250 to 0.80625, saving model to ECG_Spectrogram_Model.h5\n",
      "488/488 [==============================] - 73s 150ms/step - loss: 0.5485 - accuracy: 0.8014 - sensitivity_at_specificity: 0.9940 - specificity_at_sensitivity: 0.9931 - recall: 0.7571 - precision: 0.8405 - val_loss: 0.5286 - val_accuracy: 0.8062 - val_sensitivity_at_specificity: 0.9875 - val_specificity_at_sensitivity: 0.9945 - val_recall: 0.7781 - val_precision: 0.8527\n",
      "Epoch 6/150\n",
      "488/488 [==============================] - ETA: 0s - loss: 0.4861 - accuracy: 0.8247 - sensitivity_at_specificity: 0.9938 - specificity_at_sensitivity: 0.9954 - recall: 0.7905 - precision: 0.8568\n",
      "Epoch 6: val_accuracy did not improve from 0.80625\n",
      "488/488 [==============================] - 73s 149ms/step - loss: 0.4861 - accuracy: 0.8247 - sensitivity_at_specificity: 0.9938 - specificity_at_sensitivity: 0.9954 - recall: 0.7905 - precision: 0.8568 - val_loss: 0.9308 - val_accuracy: 0.6562 - val_sensitivity_at_specificity: 0.9750 - val_specificity_at_sensitivity: 0.9633 - val_recall: 0.6156 - val_precision: 0.6724\n",
      "Epoch 7/150\n",
      "488/488 [==============================] - ETA: 0s - loss: 0.4499 - accuracy: 0.8387 - sensitivity_at_specificity: 0.9971 - specificity_at_sensitivity: 0.9961 - recall: 0.8096 - precision: 0.8669\n",
      "Epoch 7: val_accuracy did not improve from 0.80625\n",
      "488/488 [==============================] - 73s 150ms/step - loss: 0.4499 - accuracy: 0.8387 - sensitivity_at_specificity: 0.9971 - specificity_at_sensitivity: 0.9961 - recall: 0.8096 - precision: 0.8669 - val_loss: 0.6638 - val_accuracy: 0.7437 - val_sensitivity_at_specificity: 0.9875 - val_specificity_at_sensitivity: 0.9781 - val_recall: 0.7000 - val_precision: 0.7698\n",
      "Epoch 8/150\n",
      "488/488 [==============================] - ETA: 0s - loss: 0.4113 - accuracy: 0.8524 - sensitivity_at_specificity: 0.9976 - specificity_at_sensitivity: 0.9973 - recall: 0.8272 - precision: 0.8780\n",
      "Epoch 8: val_accuracy did not improve from 0.80625\n",
      "488/488 [==============================] - 73s 150ms/step - loss: 0.4113 - accuracy: 0.8524 - sensitivity_at_specificity: 0.9976 - specificity_at_sensitivity: 0.9973 - recall: 0.8272 - precision: 0.8780 - val_loss: 0.9457 - val_accuracy: 0.7000 - val_sensitivity_at_specificity: 0.9688 - val_specificity_at_sensitivity: 0.9805 - val_recall: 0.6906 - val_precision: 0.7106\n",
      "Epoch 9/150\n",
      "488/488 [==============================] - ETA: 0s - loss: 0.3883 - accuracy: 0.8592 - sensitivity_at_specificity: 0.9975 - specificity_at_sensitivity: 0.9978 - recall: 0.8364 - precision: 0.8817\n",
      "Epoch 9: val_accuracy did not improve from 0.80625\n",
      "488/488 [==============================] - 73s 149ms/step - loss: 0.3883 - accuracy: 0.8592 - sensitivity_at_specificity: 0.9975 - specificity_at_sensitivity: 0.9978 - recall: 0.8364 - precision: 0.8817 - val_loss: 0.6760 - val_accuracy: 0.7563 - val_sensitivity_at_specificity: 0.9812 - val_specificity_at_sensitivity: 0.9930 - val_recall: 0.7344 - val_precision: 0.7705\n",
      "Epoch 10/150\n",
      "488/488 [==============================] - ETA: 0s - loss: 0.3737 - accuracy: 0.8646 - sensitivity_at_specificity: 0.9978 - specificity_at_sensitivity: 0.9981 - recall: 0.8440 - precision: 0.8865\n",
      "Epoch 10: val_accuracy improved from 0.80625 to 0.85312, saving model to ECG_Spectrogram_Model.h5\n",
      "488/488 [==============================] - 73s 149ms/step - loss: 0.3737 - accuracy: 0.8646 - sensitivity_at_specificity: 0.9978 - specificity_at_sensitivity: 0.9981 - recall: 0.8440 - precision: 0.8865 - val_loss: 0.4194 - val_accuracy: 0.8531 - val_sensitivity_at_specificity: 0.9969 - val_specificity_at_sensitivity: 0.9984 - val_recall: 0.8156 - val_precision: 0.8671\n",
      "Epoch 11/150\n",
      "488/488 [==============================] - ETA: 0s - loss: 0.3570 - accuracy: 0.8721 - sensitivity_at_specificity: 0.9980 - specificity_at_sensitivity: 0.9985 - recall: 0.8530 - precision: 0.8916\n",
      "Epoch 11: val_accuracy did not improve from 0.85312\n",
      "488/488 [==============================] - 73s 149ms/step - loss: 0.3570 - accuracy: 0.8721 - sensitivity_at_specificity: 0.9980 - specificity_at_sensitivity: 0.9985 - recall: 0.8530 - precision: 0.8916 - val_loss: 0.5884 - val_accuracy: 0.8125 - val_sensitivity_at_specificity: 0.9781 - val_specificity_at_sensitivity: 0.9937 - val_recall: 0.7844 - val_precision: 0.8311\n",
      "Epoch 12/150\n",
      "488/488 [==============================] - ETA: 0s - loss: 0.3388 - accuracy: 0.8790 - sensitivity_at_specificity: 0.9982 - specificity_at_sensitivity: 0.9984 - recall: 0.8615 - precision: 0.8971\n",
      "Epoch 12: val_accuracy improved from 0.85312 to 0.88750, saving model to ECG_Spectrogram_Model.h5\n",
      "488/488 [==============================] - 73s 150ms/step - loss: 0.3388 - accuracy: 0.8790 - sensitivity_at_specificity: 0.9982 - specificity_at_sensitivity: 0.9984 - recall: 0.8615 - precision: 0.8971 - val_loss: 0.3309 - val_accuracy: 0.8875 - val_sensitivity_at_specificity: 0.9969 - val_specificity_at_sensitivity: 0.9984 - val_recall: 0.8687 - val_precision: 0.9055\n",
      "Epoch 13/150\n",
      "488/488 [==============================] - ETA: 0s - loss: 0.3268 - accuracy: 0.8827 - sensitivity_at_specificity: 0.9980 - specificity_at_sensitivity: 0.9987 - recall: 0.8663 - precision: 0.8999\n",
      "Epoch 13: val_accuracy did not improve from 0.88750\n",
      "488/488 [==============================] - 73s 149ms/step - loss: 0.3268 - accuracy: 0.8827 - sensitivity_at_specificity: 0.9980 - specificity_at_sensitivity: 0.9987 - recall: 0.8663 - precision: 0.8999 - val_loss: 0.9481 - val_accuracy: 0.7000 - val_sensitivity_at_specificity: 0.9719 - val_specificity_at_sensitivity: 0.9797 - val_recall: 0.6844 - val_precision: 0.7157\n"
     ]
    },
    {
     "name": "stdout",
     "output_type": "stream",
     "text": [
      "Epoch 14/150\n",
      "488/488 [==============================] - ETA: 0s - loss: 0.3081 - accuracy: 0.8905 - sensitivity_at_specificity: 0.9982 - specificity_at_sensitivity: 0.9991 - recall: 0.8754 - precision: 0.9050\n",
      "Epoch 14: val_accuracy did not improve from 0.88750\n",
      "488/488 [==============================] - 73s 149ms/step - loss: 0.3081 - accuracy: 0.8905 - sensitivity_at_specificity: 0.9982 - specificity_at_sensitivity: 0.9991 - recall: 0.8754 - precision: 0.9050 - val_loss: 0.5299 - val_accuracy: 0.8188 - val_sensitivity_at_specificity: 0.9906 - val_specificity_at_sensitivity: 0.9984 - val_recall: 0.8000 - val_precision: 0.8421\n",
      "Epoch 15/150\n",
      "488/488 [==============================] - ETA: 0s - loss: 0.2989 - accuracy: 0.8927 - sensitivity_at_specificity: 0.9980 - specificity_at_sensitivity: 0.9990 - recall: 0.8777 - precision: 0.9074\n",
      "Epoch 15: val_accuracy did not improve from 0.88750\n",
      "488/488 [==============================] - 73s 149ms/step - loss: 0.2989 - accuracy: 0.8927 - sensitivity_at_specificity: 0.9980 - specificity_at_sensitivity: 0.9990 - recall: 0.8777 - precision: 0.9074 - val_loss: 0.4639 - val_accuracy: 0.8313 - val_sensitivity_at_specificity: 0.9937 - val_specificity_at_sensitivity: 0.9977 - val_recall: 0.8250 - val_precision: 0.8599\n",
      "Epoch 16/150\n",
      "488/488 [==============================] - ETA: 0s - loss: 0.2913 - accuracy: 0.8941 - sensitivity_at_specificity: 0.9980 - specificity_at_sensitivity: 0.9994 - recall: 0.8808 - precision: 0.9082\n",
      "Epoch 16: val_accuracy did not improve from 0.88750\n",
      "488/488 [==============================] - 73s 149ms/step - loss: 0.2913 - accuracy: 0.8941 - sensitivity_at_specificity: 0.9980 - specificity_at_sensitivity: 0.9994 - recall: 0.8808 - precision: 0.9082 - val_loss: 0.3187 - val_accuracy: 0.8813 - val_sensitivity_at_specificity: 0.9937 - val_specificity_at_sensitivity: 1.0000 - val_recall: 0.8781 - val_precision: 0.8836\n",
      "Epoch 17/150\n",
      "488/488 [==============================] - ETA: 0s - loss: 0.2838 - accuracy: 0.8964 - sensitivity_at_specificity: 0.9983 - specificity_at_sensitivity: 0.9992 - recall: 0.8837 - precision: 0.9096\n",
      "Epoch 17: val_accuracy did not improve from 0.88750\n",
      "488/488 [==============================] - 73s 149ms/step - loss: 0.2838 - accuracy: 0.8964 - sensitivity_at_specificity: 0.9983 - specificity_at_sensitivity: 0.9992 - recall: 0.8837 - precision: 0.9096 - val_loss: 0.6344 - val_accuracy: 0.8531 - val_sensitivity_at_specificity: 0.9625 - val_specificity_at_sensitivity: 0.9914 - val_recall: 0.8375 - val_precision: 0.8535\n"
     ]
    }
   ],
   "source": [
    "#Model Execution\n",
    "\n",
    "from keras.callbacks import ModelCheckpoint, EarlyStopping\n",
    "\n",
    "# Initializing Device Specification\n",
    "device_spec = tf.DeviceSpec(job =\"localhost\", replica = 0, device_type = \"GPU\")\n",
    " \n",
    "# Printing the DeviceSpec\n",
    "print('Device Spec: ', device_spec.to_string())\n",
    " \n",
    "# Enabling device logging\n",
    "tf.debugging.set_log_device_placement(True)\n",
    " \n",
    "# Specifying the device\n",
    "with tf.device(device_spec):\n",
    "    \n",
    "#with tf.device('/gpu:10'):\n",
    "    \n",
    "    checkpoint = ModelCheckpoint(\"ECG_Spectrogram_Model.h5\", monitor='val_accuracy', verbose=1, save_best_only=True, save_weights_only=False, mode='auto', period=1)\n",
    "    mycallback=tf.keras.callbacks.EarlyStopping(monitor=\"val_accuracy\", patience=5, mode=\"auto\")\n",
    "    \n",
    "    history = model.fit(\n",
    "          train_data,\n",
    "          #steps_per_epoch=20, \n",
    "          epochs=150,\n",
    "          verbose=1,\n",
    "          validation_data = train_data,\n",
    "          validation_steps=5, \n",
    "          callbacks = [mycallback,checkpoint]\n",
    "    ) "
   ]
  },
  {
   "cell_type": "code",
   "execution_count": 10,
   "metadata": {},
   "outputs": [
    {
     "name": "stdout",
     "output_type": "stream",
     "text": [
      "Training Accuracy:  0.89639812707901\n",
      "Validation Accuracy:  0.887499988079071\n",
      "Validation Specificity:  1.0\n",
      "Validation Sensitivity:  0.996874988079071\n",
      "Validation Recall:  0.878125011920929\n",
      "Validation Precision:  0.905537486076355\n",
      "Validation Loss:  0.31867271661758423\n"
     ]
    }
   ],
   "source": [
    "Training_Accuracy=history.history['accuracy']\n",
    "Validation_Accuracy=history.history['val_accuracy']\n",
    "Validation_Specificity=history.history['val_specificity_at_sensitivity']\n",
    "Validation_Sensitivity=history.history['val_sensitivity_at_specificity']\n",
    "Validation_Recall=history.history['val_recall']\n",
    "Validation_Precision=history.history['val_precision']\n",
    "Validation_Loss=history.history['val_loss']\n",
    "\n",
    "print(\"Training Accuracy: \",max(Training_Accuracy))\n",
    "print(\"Validation Accuracy: \",max(Validation_Accuracy))\n",
    "print(\"Validation Specificity: \",max(Validation_Specificity))\n",
    "print(\"Validation Sensitivity: \",max(Validation_Sensitivity))\n",
    "print(\"Validation Recall: \",max(Validation_Recall))\n",
    "print(\"Validation Precision: \",max(Validation_Precision))\n",
    "print(\"Validation Loss: \",min(Validation_Loss))"
   ]
  },
  {
   "cell_type": "code",
   "execution_count": 11,
   "metadata": {},
   "outputs": [
    {
     "data": {
      "image/png": "[encoded data removed]",
      "text/plain": [
       "<Figure size 720x432 with 1 Axes>"
      ]
     },
     "metadata": {
      "needs_background": "light"
     },
     "output_type": "display_data"
    }
   ],
   "source": [
    "plt.figure(figsize=(10,6))\n",
    "plt.plot(history.history['accuracy'])\n",
    "plt.plot(history.history['val_accuracy'])\n",
    "plt.title('Model accuracy')\n",
    "plt.ylabel('Accuracy')\n",
    "plt.xlabel('Epoch')\n",
    "plt.legend(['Train', 'Test'], loc='upper left')\n",
    "plt.show()"
   ]
  },
  {
   "cell_type": "code",
   "execution_count": 12,
   "metadata": {},
   "outputs": [
    {
     "data": {
      "image/png": "[encoded data removed]",
      "text/plain": [
       "<Figure size 720x432 with 1 Axes>"
      ]
     },
     "metadata": {
      "needs_background": "light"
     },
     "output_type": "display_data"
    }
   ],
   "source": [
    "plt.figure(figsize=(10,6))\n",
    "plt.plot(history.history['loss'])\n",
    "plt.plot(history.history['val_loss'])\n",
    "plt.title('Model Loss')\n",
    "plt.ylabel('Loss')\n",
    "plt.xlabel('Epoch')\n",
    "plt.legend(['Train', 'Test'], loc='upper left')\n",
    "plt.show()"
   ]
  },
  {
   "cell_type": "code",
   "execution_count": null,
   "metadata": {},
   "outputs": [],
   "source": []
  },
  {
   "cell_type": "code",
   "execution_count": null,
   "metadata": {},
   "outputs": [],
   "source": []
  }
 ],
 "metadata": {
  "accelerator": "GPU",
  "colab": {
   "collapsed_sections": [
    "7e88OLey6Bgd"
   ],
   "provenance": []
  },
  "gpuClass": "standard",
  "kernelspec": {
   "display_name": "Python 3 (ipykernel)",
   "language": "python",
   "name": "python3"
  },
  "language_info": {
   "codemirror_mode": {
    "name": "ipython",
    "version": 3
   },
   "file_extension": ".py",
   "mimetype": "text/x-python",
   "name": "python",
   "nbconvert_exporter": "python",
   "pygments_lexer": "ipython3",
   "version": "3.10.6"
  }
 },
 "nbformat": 4,
 "nbformat_minor": 4
}
